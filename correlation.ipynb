{
 "cells": [
  {
   "cell_type": "code",
   "execution_count": 2,
   "metadata": {},
   "outputs": [],
   "source": [
    "import pandas as pd\n",
    "import numpy as np\n",
    "import matplotlib\n",
    "import matplotlib.pyplot as plt\n",
    "import seaborn as sns\n",
    "import plotly.express as px\n",
    "import plotly.graph_objects as go\n",
    "from mpl_toolkits.mplot3d import Axes3D"
   ]
  },
  {
   "cell_type": "code",
   "execution_count": 3,
   "metadata": {},
   "outputs": [],
   "source": [
    "# 그래프 타이틀 한글 출력\n",
    "matplotlib.rcParams['font.family'] ='Malgun Gothic'"
   ]
  },
  {
   "cell_type": "code",
   "execution_count": 4,
   "metadata": {},
   "outputs": [],
   "source": [
    "# 컬럼명 바꾸고 필요없는 컬럼 정리\n",
    "# hme = pd.read_csv('./data/해법수학.csv')\n",
    "# hme = hme.rename(columns = {'1': '지점명', '2': '주소'})\n",
    "# hme = hme[['지점명', '주소']]\n",
    "# hme.to_csv('./data/해법수학.csv', index = False)"
   ]
  },
  {
   "cell_type": "code",
   "execution_count": 5,
   "metadata": {},
   "outputs": [],
   "source": [
    "# 시도, 시군구 컬럼 생성\n",
    "\n",
    "# hme = pd.read_csv('./data/해법수학.csv')\n",
    "\n",
    "# hme['시도'] = hme['주소'].apply(lambda x: x.split(' ')[0])\n",
    "# hme['시군구'] = hme['주소'].apply(lambda x: x.split(' ')[1])\n",
    "\n",
    "# hme.to_csv('./data/해법수학.csv', index = False)"
   ]
  },
  {
   "cell_type": "code",
   "execution_count": 6,
   "metadata": {},
   "outputs": [],
   "source": [
    "# hme['시도'] = hme['시도'].apply(lambda x: x.replace('특별자치도', ''))\n",
    "# hme['시도'] = hme['시도'].apply(lambda x: x.replace('광역시', ''))\n",
    "# hme['시도'] = hme['시도'].apply(lambda x: x.replace('특별시', ''))\n",
    "# hme['시도'] = hme['시도'].apply(lambda x: x.replace('특별자치시', ''))\n",
    "# hme['시도'] = hme['시도'].apply(lambda x: x.replace('도', ''))\n",
    "\n",
    "# hme.to_csv('./data/해법수학.csv', index = False)"
   ]
  },
  {
   "cell_type": "code",
   "execution_count": 7,
   "metadata": {},
   "outputs": [
    {
     "data": {
      "text/html": [
       "<div>\n",
       "<style scoped>\n",
       "    .dataframe tbody tr th:only-of-type {\n",
       "        vertical-align: middle;\n",
       "    }\n",
       "\n",
       "    .dataframe tbody tr th {\n",
       "        vertical-align: top;\n",
       "    }\n",
       "\n",
       "    .dataframe thead th {\n",
       "        text-align: right;\n",
       "    }\n",
       "</style>\n",
       "<table border=\"1\" class=\"dataframe\">\n",
       "  <thead>\n",
       "    <tr style=\"text-align: right;\">\n",
       "      <th></th>\n",
       "      <th>지점명</th>\n",
       "      <th>주소</th>\n",
       "      <th>시도</th>\n",
       "      <th>시군구</th>\n",
       "    </tr>\n",
       "  </thead>\n",
       "  <tbody>\n",
       "    <tr>\n",
       "      <th>0</th>\n",
       "      <td>효천점</td>\n",
       "      <td>전북 전주시 완산구 효천중앙로 57 (효자동2가, 모악빌딩)</td>\n",
       "      <td>전북</td>\n",
       "      <td>전주시</td>\n",
       "    </tr>\n",
       "    <tr>\n",
       "      <th>1</th>\n",
       "      <td>효천우미린2차점</td>\n",
       "      <td>전북 전주시 완산구 효천서로 20</td>\n",
       "      <td>전북</td>\n",
       "      <td>전주시</td>\n",
       "    </tr>\n",
       "    <tr>\n",
       "      <th>2</th>\n",
       "      <td>효천연세수학점</td>\n",
       "      <td>전북 전주시 완산구 효천서로 20</td>\n",
       "      <td>전북</td>\n",
       "      <td>전주시</td>\n",
       "    </tr>\n",
       "    <tr>\n",
       "      <th>3</th>\n",
       "      <td>효자포스코</td>\n",
       "      <td>전북 전주시 완산구 봉곡로 132</td>\n",
       "      <td>전북</td>\n",
       "      <td>전주시</td>\n",
       "    </tr>\n",
       "    <tr>\n",
       "      <th>4</th>\n",
       "      <td>효자세븐팰리스점</td>\n",
       "      <td>전북 전주시 완산구 호암로 75-11 (효자동2가, 7단지아파트상가)</td>\n",
       "      <td>전북</td>\n",
       "      <td>전주시</td>\n",
       "    </tr>\n",
       "    <tr>\n",
       "      <th>...</th>\n",
       "      <td>...</td>\n",
       "      <td>...</td>\n",
       "      <td>...</td>\n",
       "      <td>...</td>\n",
       "    </tr>\n",
       "    <tr>\n",
       "      <th>2291</th>\n",
       "      <td>sk view</td>\n",
       "      <td>서울 영등포구 여의대방로35가길 19 (신길동, 보라매 SK VIEW)</td>\n",
       "      <td>서울</td>\n",
       "      <td>영등포구</td>\n",
       "    </tr>\n",
       "    <tr>\n",
       "      <th>2292</th>\n",
       "      <td>DMC스마트해법학원</td>\n",
       "      <td>서울 서대문구 증가로 150 (남가좌동)</td>\n",
       "      <td>서울</td>\n",
       "      <td>서대문구</td>\n",
       "    </tr>\n",
       "    <tr>\n",
       "      <th>2293</th>\n",
       "      <td>스마트해법수학 왕지점</td>\n",
       "      <td>전남 순천시 연동남길 39 (조례동, 서영옥머리마당)</td>\n",
       "      <td>전남</td>\n",
       "      <td>순천시</td>\n",
       "    </tr>\n",
       "    <tr>\n",
       "      <th>2294</th>\n",
       "      <td>스마트해법 북아현점</td>\n",
       "      <td>서울 서대문구 북아현동 180-27</td>\n",
       "      <td>서울</td>\n",
       "      <td>서대문구</td>\n",
       "    </tr>\n",
       "    <tr>\n",
       "      <th>2295</th>\n",
       "      <td>수원 광교SK레이크점</td>\n",
       "      <td>경기 수원시 영통구 법조로 25 (하동, 광교 SK VIEW Lake)</td>\n",
       "      <td>경기</td>\n",
       "      <td>수원시</td>\n",
       "    </tr>\n",
       "  </tbody>\n",
       "</table>\n",
       "<p>2296 rows × 4 columns</p>\n",
       "</div>"
      ],
      "text/plain": [
       "              지점명                                       주소  시도   시군구\n",
       "0             효천점        전북 전주시 완산구 효천중앙로 57 (효자동2가, 모악빌딩)  전북   전주시\n",
       "1        효천우미린2차점                       전북 전주시 완산구 효천서로 20  전북   전주시\n",
       "2         효천연세수학점                       전북 전주시 완산구 효천서로 20  전북   전주시\n",
       "3           효자포스코                       전북 전주시 완산구 봉곡로 132  전북   전주시\n",
       "4        효자세븐팰리스점   전북 전주시 완산구 호암로 75-11 (효자동2가, 7단지아파트상가)  전북   전주시\n",
       "...           ...                                      ...  ..   ...\n",
       "2291      sk view  서울 영등포구 여의대방로35가길 19 (신길동, 보라매 SK VIEW)  서울  영등포구\n",
       "2292   DMC스마트해법학원                   서울 서대문구 증가로 150 (남가좌동)  서울  서대문구\n",
       "2293  스마트해법수학 왕지점            전남 순천시 연동남길 39 (조례동, 서영옥머리마당)  전남   순천시\n",
       "2294   스마트해법 북아현점                      서울 서대문구 북아현동 180-27  서울  서대문구\n",
       "2295  수원 광교SK레이크점  경기 수원시 영통구 법조로 25 (하동, 광교 SK VIEW Lake)  경기   수원시\n",
       "\n",
       "[2296 rows x 4 columns]"
      ]
     },
     "execution_count": 7,
     "metadata": {},
     "output_type": "execute_result"
    }
   ],
   "source": [
    "hme = pd.read_csv('./data/해법수학.csv')\n",
    "hme"
   ]
  },
  {
   "cell_type": "markdown",
   "metadata": {},
   "source": [
    "---"
   ]
  },
  {
   "cell_type": "code",
   "execution_count": 10,
   "metadata": {},
   "outputs": [],
   "source": [
    "# 2014~2021년만\n",
    "\n",
    "edu = pd.read_csv('./data/시도별__학생_1인당_월평균_사교육비.csv', encoding = 'cp949')\n",
    "\n",
    "edu = edu.drop(index = [0, 1])\n",
    "\n",
    "edu1 = edu.iloc[:, 0]\n",
    "edu2 = edu.iloc[:, 6:-1]\n",
    "\n",
    "edu = pd.concat([edu1, edu2], axis = 1)\n",
    "\n",
    "# 시도별 컬럼 띄어쓰기 없애기\n",
    "\n",
    "edu['시도별'] = edu['시도별'].apply(lambda x: x.replace(' ', ''))\n",
    "\n",
    "edu.to_csv('./data/시도별_학생_1인당_월평균_사교육비.csv', index = False)"
   ]
  },
  {
   "cell_type": "code",
   "execution_count": 12,
   "metadata": {},
   "outputs": [],
   "source": [
    "grdp = pd.read_csv('./data/시도별_1인당_개인소득.csv')\n",
    "edu = pd.read_csv('./data/시도별_학생_1인당_월평균_사교육비.csv')"
   ]
  },
  {
   "cell_type": "markdown",
   "metadata": {},
   "source": [
    "---\n",
    "#### 3차원 plot"
   ]
  },
  {
   "cell_type": "code",
   "execution_count": 16,
   "metadata": {},
   "outputs": [],
   "source": [
    "grdp1 = grdp[['시도별', '2014']].rename(columns = {'2014': 'GRDP'})\n",
    "grdp2 = grdp[['시도별', '2015']].rename(columns = {'2015': 'GRDP'})\n",
    "grdp3 = grdp[['시도별', '2016']].rename(columns = {'2016': 'GRDP'})\n",
    "grdp4 = grdp[['시도별', '2017']].rename(columns = {'2017': 'GRDP'})\n",
    "grdp5 = grdp[['시도별', '2018']].rename(columns = {'2018': 'GRDP'})\n",
    "grdp6 = grdp[['시도별', '2019']].rename(columns = {'2019': 'GRDP'})\n",
    "grdp7 = grdp[['시도별', '2020']].rename(columns = {'2020': 'GRDP'})\n",
    "grdp8 = grdp[['시도별', '2021']].rename(columns = {'2021': 'GRDP'})"
   ]
  },
  {
   "cell_type": "code",
   "execution_count": 17,
   "metadata": {},
   "outputs": [],
   "source": [
    "grdp1['year'] = 2014\n",
    "grdp2['year'] = 2015\n",
    "grdp3['year'] = 2016\n",
    "grdp4['year'] = 2017\n",
    "grdp5['year'] = 2018\n",
    "grdp6['year'] = 2019\n",
    "grdp7['year'] = 2020\n",
    "grdp8['year'] = 2021\n"
   ]
  },
  {
   "cell_type": "code",
   "execution_count": 18,
   "metadata": {},
   "outputs": [],
   "source": [
    "grdp = pd.concat([grdp1, grdp2, grdp3, grdp4, grdp5, grdp6, grdp7, grdp8])"
   ]
  },
  {
   "cell_type": "code",
   "execution_count": 19,
   "metadata": {},
   "outputs": [
    {
     "data": {
      "text/html": [
       "<div>\n",
       "<style scoped>\n",
       "    .dataframe tbody tr th:only-of-type {\n",
       "        vertical-align: middle;\n",
       "    }\n",
       "\n",
       "    .dataframe tbody tr th {\n",
       "        vertical-align: top;\n",
       "    }\n",
       "\n",
       "    .dataframe thead th {\n",
       "        text-align: right;\n",
       "    }\n",
       "</style>\n",
       "<table border=\"1\" class=\"dataframe\">\n",
       "  <thead>\n",
       "    <tr style=\"text-align: right;\">\n",
       "      <th></th>\n",
       "      <th>시도별</th>\n",
       "      <th>GRDP</th>\n",
       "      <th>year</th>\n",
       "    </tr>\n",
       "  </thead>\n",
       "  <tbody>\n",
       "    <tr>\n",
       "      <th>0</th>\n",
       "      <td>서울</td>\n",
       "      <td>19832</td>\n",
       "      <td>2014</td>\n",
       "    </tr>\n",
       "    <tr>\n",
       "      <th>1</th>\n",
       "      <td>부산</td>\n",
       "      <td>16147</td>\n",
       "      <td>2014</td>\n",
       "    </tr>\n",
       "    <tr>\n",
       "      <th>2</th>\n",
       "      <td>대구</td>\n",
       "      <td>16031</td>\n",
       "      <td>2014</td>\n",
       "    </tr>\n",
       "    <tr>\n",
       "      <th>3</th>\n",
       "      <td>인천</td>\n",
       "      <td>15507</td>\n",
       "      <td>2014</td>\n",
       "    </tr>\n",
       "    <tr>\n",
       "      <th>4</th>\n",
       "      <td>광주</td>\n",
       "      <td>16225</td>\n",
       "      <td>2014</td>\n",
       "    </tr>\n",
       "    <tr>\n",
       "      <th>...</th>\n",
       "      <td>...</td>\n",
       "      <td>...</td>\n",
       "      <td>...</td>\n",
       "    </tr>\n",
       "    <tr>\n",
       "      <th>12</th>\n",
       "      <td>전북</td>\n",
       "      <td>20862</td>\n",
       "      <td>2021</td>\n",
       "    </tr>\n",
       "    <tr>\n",
       "      <th>13</th>\n",
       "      <td>전남</td>\n",
       "      <td>20881</td>\n",
       "      <td>2021</td>\n",
       "    </tr>\n",
       "    <tr>\n",
       "      <th>14</th>\n",
       "      <td>경북</td>\n",
       "      <td>20667</td>\n",
       "      <td>2021</td>\n",
       "    </tr>\n",
       "    <tr>\n",
       "      <th>15</th>\n",
       "      <td>경남</td>\n",
       "      <td>20650</td>\n",
       "      <td>2021</td>\n",
       "    </tr>\n",
       "    <tr>\n",
       "      <th>16</th>\n",
       "      <td>제주</td>\n",
       "      <td>20475</td>\n",
       "      <td>2021</td>\n",
       "    </tr>\n",
       "  </tbody>\n",
       "</table>\n",
       "<p>136 rows × 3 columns</p>\n",
       "</div>"
      ],
      "text/plain": [
       "   시도별   GRDP  year\n",
       "0   서울  19832  2014\n",
       "1   부산  16147  2014\n",
       "2   대구  16031  2014\n",
       "3   인천  15507  2014\n",
       "4   광주  16225  2014\n",
       "..  ..    ...   ...\n",
       "12  전북  20862  2021\n",
       "13  전남  20881  2021\n",
       "14  경북  20667  2021\n",
       "15  경남  20650  2021\n",
       "16  제주  20475  2021\n",
       "\n",
       "[136 rows x 3 columns]"
      ]
     },
     "execution_count": 19,
     "metadata": {},
     "output_type": "execute_result"
    }
   ],
   "source": [
    "grdp"
   ]
  },
  {
   "cell_type": "code",
   "execution_count": 21,
   "metadata": {},
   "outputs": [],
   "source": [
    "edu1 = edu[['시도별', '2014']].rename(columns = {'2014': '1인당_사교육비(만 원)'})\n",
    "edu2 = edu[['시도별', '2015']].rename(columns = {'2015': '1인당_사교육비(만 원)'})\n",
    "edu3 = edu[['시도별', '2016']].rename(columns = {'2016': '1인당_사교육비(만 원)'})\n",
    "edu4 = edu[['시도별', '2017']].rename(columns = {'2017': '1인당_사교육비(만 원)'})\n",
    "edu5 = edu[['시도별', '2018']].rename(columns = {'2018': '1인당_사교육비(만 원)'})\n",
    "edu6 = edu[['시도별', '2019']].rename(columns = {'2019': '1인당_사교육비(만 원)'})\n",
    "edu7 = edu[['시도별', '2020']].rename(columns = {'2020': '1인당_사교육비(만 원)'})\n",
    "edu8 = edu[['시도별', '2021']].rename(columns = {'2021': '1인당_사교육비(만 원)'})"
   ]
  },
  {
   "cell_type": "code",
   "execution_count": 22,
   "metadata": {},
   "outputs": [
    {
     "data": {
      "text/plain": [
       "0     34.9\n",
       "1     26.8\n",
       "2     26.7\n",
       "3     22.6\n",
       "4     27.3\n",
       "      ... \n",
       "12    30.0\n",
       "13    25.6\n",
       "14    31.6\n",
       "15    29.8\n",
       "16    34.2\n",
       "Name: 1인당_사교육비(만 원), Length: 136, dtype: float64"
      ]
     },
     "execution_count": 22,
     "metadata": {},
     "output_type": "execute_result"
    }
   ],
   "source": [
    "edu0 = pd.concat([edu1, edu2, edu3, edu4, edu5, edu6, edu7, edu8])\n",
    "edu0['1인당_사교육비(만 원)']"
   ]
  },
  {
   "cell_type": "code",
   "execution_count": 23,
   "metadata": {},
   "outputs": [],
   "source": [
    "grdp['1인당_사교육비(만 원)'] = edu0['1인당_사교육비(만 원)']"
   ]
  },
  {
   "cell_type": "code",
   "execution_count": 24,
   "metadata": {},
   "outputs": [
    {
     "data": {
      "text/html": [
       "<div>\n",
       "<style scoped>\n",
       "    .dataframe tbody tr th:only-of-type {\n",
       "        vertical-align: middle;\n",
       "    }\n",
       "\n",
       "    .dataframe tbody tr th {\n",
       "        vertical-align: top;\n",
       "    }\n",
       "\n",
       "    .dataframe thead th {\n",
       "        text-align: right;\n",
       "    }\n",
       "</style>\n",
       "<table border=\"1\" class=\"dataframe\">\n",
       "  <thead>\n",
       "    <tr style=\"text-align: right;\">\n",
       "      <th></th>\n",
       "      <th>시도별</th>\n",
       "      <th>GRDP</th>\n",
       "      <th>year</th>\n",
       "      <th>1인당_사교육비(만 원)</th>\n",
       "    </tr>\n",
       "  </thead>\n",
       "  <tbody>\n",
       "    <tr>\n",
       "      <th>0</th>\n",
       "      <td>서울</td>\n",
       "      <td>19832</td>\n",
       "      <td>2014</td>\n",
       "      <td>34.9</td>\n",
       "    </tr>\n",
       "    <tr>\n",
       "      <th>1</th>\n",
       "      <td>부산</td>\n",
       "      <td>16147</td>\n",
       "      <td>2014</td>\n",
       "      <td>26.8</td>\n",
       "    </tr>\n",
       "    <tr>\n",
       "      <th>2</th>\n",
       "      <td>대구</td>\n",
       "      <td>16031</td>\n",
       "      <td>2014</td>\n",
       "      <td>26.7</td>\n",
       "    </tr>\n",
       "    <tr>\n",
       "      <th>3</th>\n",
       "      <td>인천</td>\n",
       "      <td>15507</td>\n",
       "      <td>2014</td>\n",
       "      <td>22.6</td>\n",
       "    </tr>\n",
       "    <tr>\n",
       "      <th>4</th>\n",
       "      <td>광주</td>\n",
       "      <td>16225</td>\n",
       "      <td>2014</td>\n",
       "      <td>27.3</td>\n",
       "    </tr>\n",
       "    <tr>\n",
       "      <th>...</th>\n",
       "      <td>...</td>\n",
       "      <td>...</td>\n",
       "      <td>...</td>\n",
       "      <td>...</td>\n",
       "    </tr>\n",
       "    <tr>\n",
       "      <th>12</th>\n",
       "      <td>전북</td>\n",
       "      <td>20862</td>\n",
       "      <td>2021</td>\n",
       "      <td>30.0</td>\n",
       "    </tr>\n",
       "    <tr>\n",
       "      <th>13</th>\n",
       "      <td>전남</td>\n",
       "      <td>20881</td>\n",
       "      <td>2021</td>\n",
       "      <td>25.6</td>\n",
       "    </tr>\n",
       "    <tr>\n",
       "      <th>14</th>\n",
       "      <td>경북</td>\n",
       "      <td>20667</td>\n",
       "      <td>2021</td>\n",
       "      <td>31.6</td>\n",
       "    </tr>\n",
       "    <tr>\n",
       "      <th>15</th>\n",
       "      <td>경남</td>\n",
       "      <td>20650</td>\n",
       "      <td>2021</td>\n",
       "      <td>29.8</td>\n",
       "    </tr>\n",
       "    <tr>\n",
       "      <th>16</th>\n",
       "      <td>제주</td>\n",
       "      <td>20475</td>\n",
       "      <td>2021</td>\n",
       "      <td>34.2</td>\n",
       "    </tr>\n",
       "  </tbody>\n",
       "</table>\n",
       "<p>136 rows × 4 columns</p>\n",
       "</div>"
      ],
      "text/plain": [
       "   시도별   GRDP  year  1인당_사교육비(만 원)\n",
       "0   서울  19832  2014           34.9\n",
       "1   부산  16147  2014           26.8\n",
       "2   대구  16031  2014           26.7\n",
       "3   인천  15507  2014           22.6\n",
       "4   광주  16225  2014           27.3\n",
       "..  ..    ...   ...            ...\n",
       "12  전북  20862  2021           30.0\n",
       "13  전남  20881  2021           25.6\n",
       "14  경북  20667  2021           31.6\n",
       "15  경남  20650  2021           29.8\n",
       "16  제주  20475  2021           34.2\n",
       "\n",
       "[136 rows x 4 columns]"
      ]
     },
     "execution_count": 24,
     "metadata": {},
     "output_type": "execute_result"
    }
   ],
   "source": [
    "grdp"
   ]
  },
  {
   "cell_type": "code",
   "execution_count": 25,
   "metadata": {},
   "outputs": [],
   "source": [
    "sido_pop = pd.read_csv('./data/시도별_인구_2015_2021_col.csv', encoding = 'cp949')"
   ]
  },
  {
   "cell_type": "code",
   "execution_count": 26,
   "metadata": {},
   "outputs": [],
   "source": [
    "sido_pop = sido_pop.drop(index = 0).reset_index(drop=True)"
   ]
  },
  {
   "cell_type": "code",
   "execution_count": 27,
   "metadata": {},
   "outputs": [],
   "source": [
    "sido2 = sido_pop[['행정구역별(읍면동)', '2015']].rename(columns = {'2015': '인구수'})\n",
    "sido3 = sido_pop[['행정구역별(읍면동)', '2016']].rename(columns = {'2016': '인구수'})\n",
    "sido4 = sido_pop[['행정구역별(읍면동)', '2017']].rename(columns = {'2017': '인구수'})\n",
    "sido5 = sido_pop[['행정구역별(읍면동)', '2018']].rename(columns = {'2018': '인구수'})\n",
    "sido6 = sido_pop[['행정구역별(읍면동)', '2019']].rename(columns = {'2019': '인구수'})\n",
    "sido7 = sido_pop[['행정구역별(읍면동)', '2020']].rename(columns = {'2020': '인구수'})\n",
    "sido8 = sido_pop[['행정구역별(읍면동)', '2021']].rename(columns = {'2021': '인구수'})"
   ]
  },
  {
   "cell_type": "code",
   "execution_count": 28,
   "metadata": {},
   "outputs": [
    {
     "data": {
      "text/plain": [
       "0     9904312\n",
       "1     3448737\n",
       "2     2466052\n",
       "3     2890451\n",
       "4     1502881\n",
       "       ...   \n",
       "12    1787053\n",
       "13    1778124\n",
       "14    2635314\n",
       "15    3305931\n",
       "16     673107\n",
       "Name: 인구수, Length: 119, dtype: object"
      ]
     },
     "execution_count": 28,
     "metadata": {},
     "output_type": "execute_result"
    }
   ],
   "source": [
    "sido0 = pd.concat([sido2, sido3, sido4, sido5, sido6, sido7, sido8])\n",
    "sido0['인구수']"
   ]
  },
  {
   "cell_type": "code",
   "execution_count": 29,
   "metadata": {},
   "outputs": [
    {
     "data": {
      "text/html": [
       "<div>\n",
       "<style scoped>\n",
       "    .dataframe tbody tr th:only-of-type {\n",
       "        vertical-align: middle;\n",
       "    }\n",
       "\n",
       "    .dataframe tbody tr th {\n",
       "        vertical-align: top;\n",
       "    }\n",
       "\n",
       "    .dataframe thead th {\n",
       "        text-align: right;\n",
       "    }\n",
       "</style>\n",
       "<table border=\"1\" class=\"dataframe\">\n",
       "  <thead>\n",
       "    <tr style=\"text-align: right;\">\n",
       "      <th></th>\n",
       "      <th>행정구역별(읍면동)</th>\n",
       "      <th>인구수</th>\n",
       "    </tr>\n",
       "  </thead>\n",
       "  <tbody>\n",
       "    <tr>\n",
       "      <th>0</th>\n",
       "      <td>서울특별시</td>\n",
       "      <td>9904312</td>\n",
       "    </tr>\n",
       "    <tr>\n",
       "      <th>1</th>\n",
       "      <td>부산광역시</td>\n",
       "      <td>3448737</td>\n",
       "    </tr>\n",
       "    <tr>\n",
       "      <th>2</th>\n",
       "      <td>대구광역시</td>\n",
       "      <td>2466052</td>\n",
       "    </tr>\n",
       "    <tr>\n",
       "      <th>3</th>\n",
       "      <td>인천광역시</td>\n",
       "      <td>2890451</td>\n",
       "    </tr>\n",
       "    <tr>\n",
       "      <th>4</th>\n",
       "      <td>광주광역시</td>\n",
       "      <td>1502881</td>\n",
       "    </tr>\n",
       "    <tr>\n",
       "      <th>...</th>\n",
       "      <td>...</td>\n",
       "      <td>...</td>\n",
       "    </tr>\n",
       "    <tr>\n",
       "      <th>12</th>\n",
       "      <td>전라북도</td>\n",
       "      <td>1787053</td>\n",
       "    </tr>\n",
       "    <tr>\n",
       "      <th>13</th>\n",
       "      <td>전라남도</td>\n",
       "      <td>1778124</td>\n",
       "    </tr>\n",
       "    <tr>\n",
       "      <th>14</th>\n",
       "      <td>경상북도</td>\n",
       "      <td>2635314</td>\n",
       "    </tr>\n",
       "    <tr>\n",
       "      <th>15</th>\n",
       "      <td>경상남도</td>\n",
       "      <td>3305931</td>\n",
       "    </tr>\n",
       "    <tr>\n",
       "      <th>16</th>\n",
       "      <td>제주특별자치도</td>\n",
       "      <td>673107</td>\n",
       "    </tr>\n",
       "  </tbody>\n",
       "</table>\n",
       "<p>119 rows × 2 columns</p>\n",
       "</div>"
      ],
      "text/plain": [
       "   행정구역별(읍면동)      인구수\n",
       "0       서울특별시  9904312\n",
       "1       부산광역시  3448737\n",
       "2       대구광역시  2466052\n",
       "3       인천광역시  2890451\n",
       "4       광주광역시  1502881\n",
       "..        ...      ...\n",
       "12       전라북도  1787053\n",
       "13       전라남도  1778124\n",
       "14       경상북도  2635314\n",
       "15       경상남도  3305931\n",
       "16    제주특별자치도   673107\n",
       "\n",
       "[119 rows x 2 columns]"
      ]
     },
     "execution_count": 29,
     "metadata": {},
     "output_type": "execute_result"
    }
   ],
   "source": [
    "sido0"
   ]
  },
  {
   "cell_type": "code",
   "execution_count": 30,
   "metadata": {},
   "outputs": [],
   "source": [
    "grdp2015 = grdp[grdp['year'] != 2014]"
   ]
  },
  {
   "cell_type": "code",
   "execution_count": 31,
   "metadata": {},
   "outputs": [
    {
     "name": "stderr",
     "output_type": "stream",
     "text": [
      "C:\\Users\\jjun\\AppData\\Local\\Temp\\ipykernel_21708\\1919877183.py:1: SettingWithCopyWarning: \n",
      "A value is trying to be set on a copy of a slice from a DataFrame.\n",
      "Try using .loc[row_indexer,col_indexer] = value instead\n",
      "\n",
      "See the caveats in the documentation: https://pandas.pydata.org/pandas-docs/stable/user_guide/indexing.html#returning-a-view-versus-a-copy\n",
      "  grdp2015['인구수'] = sido0['인구수']\n"
     ]
    }
   ],
   "source": [
    "grdp2015['인구수'] = sido0['인구수']"
   ]
  },
  {
   "cell_type": "code",
   "execution_count": 32,
   "metadata": {},
   "outputs": [
    {
     "name": "stderr",
     "output_type": "stream",
     "text": [
      "C:\\Users\\jjun\\AppData\\Local\\Temp\\ipykernel_21708\\952139711.py:1: SettingWithCopyWarning: \n",
      "A value is trying to be set on a copy of a slice from a DataFrame.\n",
      "Try using .loc[row_indexer,col_indexer] = value instead\n",
      "\n",
      "See the caveats in the documentation: https://pandas.pydata.org/pandas-docs/stable/user_guide/indexing.html#returning-a-view-versus-a-copy\n",
      "  grdp2015['인구수'] = grdp2015['인구수'].apply(lambda x: int(x))\n"
     ]
    }
   ],
   "source": [
    "grdp2015['인구수'] = grdp2015['인구수'].apply(lambda x: int(x))"
   ]
  },
  {
   "cell_type": "code",
   "execution_count": 33,
   "metadata": {},
   "outputs": [],
   "source": [
    "grdp2015.to_csv('./data/grdp2015_2021.csv', index = False)"
   ]
  },
  {
   "cell_type": "code",
   "execution_count": 268,
   "metadata": {},
   "outputs": [],
   "source": [
    "grdp = grdp.rename(columns = {'GRDP':'1인당_개인소득(원)'})"
   ]
  },
  {
   "cell_type": "code",
   "execution_count": 269,
   "metadata": {},
   "outputs": [
    {
     "data": {
      "application/vnd.plotly.v1+json": {
       "config": {
        "plotlyServerURL": "https://plot.ly"
       },
       "data": [
        {
         "hovertemplate": "시도별=서울<br>year=%{x}<br>1인당_개인소득(원)=%{y}<br>1인당_사교육비(만 원)=%{z}<extra></extra>",
         "legendgroup": "서울",
         "marker": {
          "color": "#636efa",
          "opacity": 0.7,
          "symbol": "circle"
         },
         "mode": "markers",
         "name": "서울",
         "scene": "scene",
         "showlegend": true,
         "type": "scatter3d",
         "x": [
          2014,
          2015,
          2016,
          2017,
          2018,
          2019,
          2020,
          2021
         ],
         "y": [
          19832,
          20857,
          21295,
          22237,
          23323,
          23978,
          24226,
          25256
         ],
         "z": [
          34.9,
          35.5,
          37,
          41.7,
          41.5,
          46.3,
          49.2,
          52.6
         ]
        },
        {
         "hovertemplate": "시도별=부산<br>year=%{x}<br>1인당_개인소득(원)=%{y}<br>1인당_사교육비(만 원)=%{z}<extra></extra>",
         "legendgroup": "부산",
         "marker": {
          "color": "#EF553B",
          "opacity": 0.7,
          "symbol": "circle"
         },
         "mode": "markers",
         "name": "부산",
         "scene": "scene",
         "showlegend": true,
         "type": "scatter3d",
         "x": [
          2014,
          2015,
          2016,
          2017,
          2018,
          2019,
          2020,
          2021
         ],
         "y": [
          16147,
          17044,
          17525,
          18189,
          18868,
          19723,
          20460,
          21352
         ],
         "z": [
          26.8,
          27.6,
          29.2,
          33.5,
          31.6,
          32.5,
          34,
          42.1
         ]
        },
        {
         "hovertemplate": "시도별=대구<br>year=%{x}<br>1인당_개인소득(원)=%{y}<br>1인당_사교육비(만 원)=%{z}<extra></extra>",
         "legendgroup": "대구",
         "marker": {
          "color": "#00cc96",
          "opacity": 0.7,
          "symbol": "circle"
         },
         "mode": "markers",
         "name": "대구",
         "scene": "scene",
         "showlegend": true,
         "type": "scatter3d",
         "x": [
          2014,
          2015,
          2016,
          2017,
          2018,
          2019,
          2020,
          2021
         ],
         "y": [
          16031,
          17226,
          17848,
          18350,
          18555,
          19196,
          20229,
          21046
         ],
         "z": [
          26.7,
          26.8,
          26.3,
          30.6,
          33.2,
          34.2,
          34.4,
          42.2
         ]
        },
        {
         "hovertemplate": "시도별=인천<br>year=%{x}<br>1인당_개인소득(원)=%{y}<br>1인당_사교육비(만 원)=%{z}<extra></extra>",
         "legendgroup": "인천",
         "marker": {
          "color": "#ab63fa",
          "opacity": 0.7,
          "symbol": "circle"
         },
         "mode": "markers",
         "name": "인천",
         "scene": "scene",
         "showlegend": true,
         "type": "scatter3d",
         "x": [
          2014,
          2015,
          2016,
          2017,
          2018,
          2019,
          2020,
          2021
         ],
         "y": [
          15507,
          16598,
          17222,
          17884,
          18659,
          19582,
          20310,
          21317
         ],
         "z": [
          22.6,
          22.9,
          23.6,
          22.8,
          30,
          33.4,
          32.9,
          38.9
         ]
        },
        {
         "hovertemplate": "시도별=광주<br>year=%{x}<br>1인당_개인소득(원)=%{y}<br>1인당_사교육비(만 원)=%{z}<extra></extra>",
         "legendgroup": "광주",
         "marker": {
          "color": "#FFA15A",
          "opacity": 0.7,
          "symbol": "circle"
         },
         "mode": "markers",
         "name": "광주",
         "scene": "scene",
         "showlegend": true,
         "type": "scatter3d",
         "x": [
          2014,
          2015,
          2016,
          2017,
          2018,
          2019,
          2020,
          2021
         ],
         "y": [
          16225,
          17459,
          18232,
          18926,
          19868,
          20791,
          21591,
          22472
         ],
         "z": [
          27.3,
          27.2,
          25.1,
          27.6,
          31,
          31.9,
          33.2,
          37.4
         ]
        },
        {
         "hovertemplate": "시도별=대전<br>year=%{x}<br>1인당_개인소득(원)=%{y}<br>1인당_사교육비(만 원)=%{z}<extra></extra>",
         "legendgroup": "대전",
         "marker": {
          "color": "#19d3f3",
          "opacity": 0.7,
          "symbol": "circle"
         },
         "mode": "markers",
         "name": "대전",
         "scene": "scene",
         "showlegend": true,
         "type": "scatter3d",
         "x": [
          2014,
          2015,
          2016,
          2017,
          2018,
          2019,
          2020,
          2021
         ],
         "y": [
          16946,
          18229,
          18741,
          19314,
          19649,
          20648,
          21707,
          22730
         ],
         "z": [
          27.1,
          27.3,
          29,
          24.7,
          29.3,
          31.7,
          34.9,
          35.3
         ]
        },
        {
         "hovertemplate": "시도별=울산<br>year=%{x}<br>1인당_개인소득(원)=%{y}<br>1인당_사교육비(만 원)=%{z}<extra></extra>",
         "legendgroup": "울산",
         "marker": {
          "color": "#FF6692",
          "opacity": 0.7,
          "symbol": "circle"
         },
         "mode": "markers",
         "name": "울산",
         "scene": "scene",
         "showlegend": true,
         "type": "scatter3d",
         "x": [
          2014,
          2015,
          2016,
          2017,
          2018,
          2019,
          2020,
          2021
         ],
         "y": [
          20142,
          21348,
          21422,
          21956,
          21655,
          22617,
          23863,
          25165
         ],
         "z": [
          25.4,
          26.2,
          25.5,
          26.1,
          29.1,
          30.3,
          31,
          34
         ]
        },
        {
         "hovertemplate": "시도별=세종<br>year=%{x}<br>1인당_개인소득(원)=%{y}<br>1인당_사교육비(만 원)=%{z}<extra></extra>",
         "legendgroup": "세종",
         "marker": {
          "color": "#B6E880",
          "opacity": 0.7,
          "symbol": "circle"
         },
         "mode": "markers",
         "name": "세종",
         "scene": "scene",
         "showlegend": true,
         "type": "scatter3d",
         "x": [
          2014,
          2015,
          2016,
          2017,
          2018,
          2019,
          2020,
          2021
         ],
         "y": [
          22944,
          21957,
          21000,
          21404,
          20990,
          20674,
          21407,
          22061
         ],
         "z": [
          21.5,
          22.1,
          24.1,
          32,
          33.4,
          40.2,
          37.2,
          40.6
         ]
        },
        {
         "hovertemplate": "시도별=경기<br>year=%{x}<br>1인당_개인소득(원)=%{y}<br>1인당_사교육비(만 원)=%{z}<extra></extra>",
         "legendgroup": "경기",
         "marker": {
          "color": "#FF97FF",
          "opacity": 0.7,
          "symbol": "circle"
         },
         "mode": "markers",
         "name": "경기",
         "scene": "scene",
         "showlegend": true,
         "type": "scatter3d",
         "x": [
          2014,
          2015,
          2016,
          2017,
          2018,
          2019,
          2020,
          2021
         ],
         "y": [
          16969,
          18069,
          18611,
          19375,
          19907,
          20746,
          21220,
          21937
         ],
         "z": [
          29.1,
          30,
          29.7,
          29.4,
          33.2,
          35.7,
          35.7,
          42.2
         ]
        },
        {
         "hovertemplate": "시도별=강원<br>year=%{x}<br>1인당_개인소득(원)=%{y}<br>1인당_사교육비(만 원)=%{z}<extra></extra>",
         "legendgroup": "강원",
         "marker": {
          "color": "#FECB52",
          "opacity": 0.7,
          "symbol": "circle"
         },
         "mode": "markers",
         "name": "강원",
         "scene": "scene",
         "showlegend": true,
         "type": "scatter3d",
         "x": [
          2014,
          2015,
          2016,
          2017,
          2018,
          2019,
          2020,
          2021
         ],
         "y": [
          15152,
          16311,
          16798,
          17484,
          18450,
          19174,
          20267,
          21038
         ],
         "z": [
          20.4,
          21.2,
          21.6,
          22,
          25.5,
          20.9,
          23.3,
          28.9
         ]
        },
        {
         "hovertemplate": "시도별=충북<br>year=%{x}<br>1인당_개인소득(원)=%{y}<br>1인당_사교육비(만 원)=%{z}<extra></extra>",
         "legendgroup": "충북",
         "marker": {
          "color": "#636efa",
          "opacity": 0.7,
          "symbol": "circle"
         },
         "mode": "markers",
         "name": "충북",
         "scene": "scene",
         "showlegend": true,
         "type": "scatter3d",
         "x": [
          2014,
          2015,
          2016,
          2017,
          2018,
          2019,
          2020,
          2021
         ],
         "y": [
          15558,
          16531,
          16915,
          17465,
          18440,
          18989,
          20029,
          21081
         ],
         "z": [
          21.6,
          21.4,
          22.6,
          22.1,
          29.1,
          25.9,
          25.7,
          28.7
         ]
        },
        {
         "hovertemplate": "시도별=충남<br>year=%{x}<br>1인당_개인소득(원)=%{y}<br>1인당_사교육비(만 원)=%{z}<extra></extra>",
         "legendgroup": "충남",
         "marker": {
          "color": "#EF553B",
          "opacity": 0.7,
          "symbol": "circle"
         },
         "mode": "markers",
         "name": "충남",
         "scene": "scene",
         "showlegend": true,
         "type": "scatter3d",
         "x": [
          2014,
          2015,
          2016,
          2017,
          2018,
          2019,
          2020,
          2021
         ],
         "y": [
          15509,
          16703,
          16952,
          17788,
          18458,
          19216,
          20393,
          21262
         ],
         "z": [
          20.2,
          19.9,
          18.8,
          20.2,
          20.2,
          28.1,
          21.1,
          29.2
         ]
        },
        {
         "hovertemplate": "시도별=전북<br>year=%{x}<br>1인당_개인소득(원)=%{y}<br>1인당_사교육비(만 원)=%{z}<extra></extra>",
         "legendgroup": "전북",
         "marker": {
          "color": "#00cc96",
          "opacity": 0.7,
          "symbol": "circle"
         },
         "mode": "markers",
         "name": "전북",
         "scene": "scene",
         "showlegend": true,
         "type": "scatter3d",
         "x": [
          2014,
          2015,
          2016,
          2017,
          2018,
          2019,
          2020,
          2021
         ],
         "y": [
          15548,
          16239,
          16499,
          17059,
          18141,
          18941,
          19991,
          20862
         ],
         "z": [
          23.4,
          24,
          21.4,
          25.3,
          24.5,
          27.6,
          26.3,
          30
         ]
        },
        {
         "hovertemplate": "시도별=전남<br>year=%{x}<br>1인당_개인소득(원)=%{y}<br>1인당_사교육비(만 원)=%{z}<extra></extra>",
         "legendgroup": "전남",
         "marker": {
          "color": "#ab63fa",
          "opacity": 0.7,
          "symbol": "circle"
         },
         "mode": "markers",
         "name": "전남",
         "scene": "scene",
         "showlegend": true,
         "type": "scatter3d",
         "x": [
          2014,
          2015,
          2016,
          2017,
          2018,
          2019,
          2020,
          2021
         ],
         "y": [
          15039,
          16067,
          16528,
          17043,
          18207,
          19072,
          19873,
          20881
         ],
         "z": [
          21.3,
          21.2,
          19.1,
          19.5,
          22,
          22.6,
          23,
          25.6
         ]
        },
        {
         "hovertemplate": "시도별=경북<br>year=%{x}<br>1인당_개인소득(원)=%{y}<br>1인당_사교육비(만 원)=%{z}<extra></extra>",
         "legendgroup": "경북",
         "marker": {
          "color": "#FFA15A",
          "opacity": 0.7,
          "symbol": "circle"
         },
         "mode": "markers",
         "name": "경북",
         "scene": "scene",
         "showlegend": true,
         "type": "scatter3d",
         "x": [
          2014,
          2015,
          2016,
          2017,
          2018,
          2019,
          2020,
          2021
         ],
         "y": [
          15738,
          16550,
          16894,
          17428,
          18185,
          18748,
          19798,
          20667
         ],
         "z": [
          22.5,
          22.6,
          22.5,
          26.4,
          26.4,
          25.7,
          27.2,
          31.6
         ]
        },
        {
         "hovertemplate": "시도별=경남<br>year=%{x}<br>1인당_개인소득(원)=%{y}<br>1인당_사교육비(만 원)=%{z}<extra></extra>",
         "legendgroup": "경남",
         "marker": {
          "color": "#19d3f3",
          "opacity": 0.7,
          "symbol": "circle"
         },
         "mode": "markers",
         "name": "경남",
         "scene": "scene",
         "showlegend": true,
         "type": "scatter3d",
         "x": [
          2014,
          2015,
          2016,
          2017,
          2018,
          2019,
          2020,
          2021
         ],
         "y": [
          16272,
          17411,
          17744,
          18011,
          18466,
          19078,
          19759,
          20650
         ],
         "z": [
          23.3,
          24,
          22.2,
          23.7,
          22.6,
          28.9,
          28.1,
          29.8
         ]
        },
        {
         "hovertemplate": "시도별=제주<br>year=%{x}<br>1인당_개인소득(원)=%{y}<br>1인당_사교육비(만 원)=%{z}<extra></extra>",
         "legendgroup": "제주",
         "marker": {
          "color": "#FF6692",
          "opacity": 0.7,
          "symbol": "circle"
         },
         "mode": "markers",
         "name": "제주",
         "scene": "scene",
         "showlegend": true,
         "type": "scatter3d",
         "x": [
          2014,
          2015,
          2016,
          2017,
          2018,
          2019,
          2020,
          2021
         ],
         "y": [
          15329,
          16685,
          17366,
          17816,
          18456,
          18815,
          19954,
          20475
         ],
         "z": [
          22.8,
          23.6,
          26.9,
          26,
          28.2,
          29.8,
          28.9,
          34.2
         ]
        }
       ],
       "layout": {
        "height": 480,
        "legend": {
         "title": {
          "text": "시도별"
         },
         "tracegroupgap": 0
        },
        "margin": {
         "t": 60
        },
        "scene": {
         "domain": {
          "x": [
           0,
           1
          ],
          "y": [
           0,
           1
          ]
         },
         "xaxis": {
          "title": {
           "text": "year"
          }
         },
         "yaxis": {
          "title": {
           "text": "1인당_개인소득(원)"
          }
         },
         "zaxis": {
          "title": {
           "text": "1인당_사교육비(만 원)"
          }
         }
        },
        "template": {
         "data": {
          "bar": [
           {
            "error_x": {
             "color": "#2a3f5f"
            },
            "error_y": {
             "color": "#2a3f5f"
            },
            "marker": {
             "line": {
              "color": "#E5ECF6",
              "width": 0.5
             },
             "pattern": {
              "fillmode": "overlay",
              "size": 10,
              "solidity": 0.2
             }
            },
            "type": "bar"
           }
          ],
          "barpolar": [
           {
            "marker": {
             "line": {
              "color": "#E5ECF6",
              "width": 0.5
             },
             "pattern": {
              "fillmode": "overlay",
              "size": 10,
              "solidity": 0.2
             }
            },
            "type": "barpolar"
           }
          ],
          "carpet": [
           {
            "aaxis": {
             "endlinecolor": "#2a3f5f",
             "gridcolor": "white",
             "linecolor": "white",
             "minorgridcolor": "white",
             "startlinecolor": "#2a3f5f"
            },
            "baxis": {
             "endlinecolor": "#2a3f5f",
             "gridcolor": "white",
             "linecolor": "white",
             "minorgridcolor": "white",
             "startlinecolor": "#2a3f5f"
            },
            "type": "carpet"
           }
          ],
          "choropleth": [
           {
            "colorbar": {
             "outlinewidth": 0,
             "ticks": ""
            },
            "type": "choropleth"
           }
          ],
          "contour": [
           {
            "colorbar": {
             "outlinewidth": 0,
             "ticks": ""
            },
            "colorscale": [
             [
              0,
              "#0d0887"
             ],
             [
              0.1111111111111111,
              "#46039f"
             ],
             [
              0.2222222222222222,
              "#7201a8"
             ],
             [
              0.3333333333333333,
              "#9c179e"
             ],
             [
              0.4444444444444444,
              "#bd3786"
             ],
             [
              0.5555555555555556,
              "#d8576b"
             ],
             [
              0.6666666666666666,
              "#ed7953"
             ],
             [
              0.7777777777777778,
              "#fb9f3a"
             ],
             [
              0.8888888888888888,
              "#fdca26"
             ],
             [
              1,
              "#f0f921"
             ]
            ],
            "type": "contour"
           }
          ],
          "contourcarpet": [
           {
            "colorbar": {
             "outlinewidth": 0,
             "ticks": ""
            },
            "type": "contourcarpet"
           }
          ],
          "heatmap": [
           {
            "colorbar": {
             "outlinewidth": 0,
             "ticks": ""
            },
            "colorscale": [
             [
              0,
              "#0d0887"
             ],
             [
              0.1111111111111111,
              "#46039f"
             ],
             [
              0.2222222222222222,
              "#7201a8"
             ],
             [
              0.3333333333333333,
              "#9c179e"
             ],
             [
              0.4444444444444444,
              "#bd3786"
             ],
             [
              0.5555555555555556,
              "#d8576b"
             ],
             [
              0.6666666666666666,
              "#ed7953"
             ],
             [
              0.7777777777777778,
              "#fb9f3a"
             ],
             [
              0.8888888888888888,
              "#fdca26"
             ],
             [
              1,
              "#f0f921"
             ]
            ],
            "type": "heatmap"
           }
          ],
          "heatmapgl": [
           {
            "colorbar": {
             "outlinewidth": 0,
             "ticks": ""
            },
            "colorscale": [
             [
              0,
              "#0d0887"
             ],
             [
              0.1111111111111111,
              "#46039f"
             ],
             [
              0.2222222222222222,
              "#7201a8"
             ],
             [
              0.3333333333333333,
              "#9c179e"
             ],
             [
              0.4444444444444444,
              "#bd3786"
             ],
             [
              0.5555555555555556,
              "#d8576b"
             ],
             [
              0.6666666666666666,
              "#ed7953"
             ],
             [
              0.7777777777777778,
              "#fb9f3a"
             ],
             [
              0.8888888888888888,
              "#fdca26"
             ],
             [
              1,
              "#f0f921"
             ]
            ],
            "type": "heatmapgl"
           }
          ],
          "histogram": [
           {
            "marker": {
             "pattern": {
              "fillmode": "overlay",
              "size": 10,
              "solidity": 0.2
             }
            },
            "type": "histogram"
           }
          ],
          "histogram2d": [
           {
            "colorbar": {
             "outlinewidth": 0,
             "ticks": ""
            },
            "colorscale": [
             [
              0,
              "#0d0887"
             ],
             [
              0.1111111111111111,
              "#46039f"
             ],
             [
              0.2222222222222222,
              "#7201a8"
             ],
             [
              0.3333333333333333,
              "#9c179e"
             ],
             [
              0.4444444444444444,
              "#bd3786"
             ],
             [
              0.5555555555555556,
              "#d8576b"
             ],
             [
              0.6666666666666666,
              "#ed7953"
             ],
             [
              0.7777777777777778,
              "#fb9f3a"
             ],
             [
              0.8888888888888888,
              "#fdca26"
             ],
             [
              1,
              "#f0f921"
             ]
            ],
            "type": "histogram2d"
           }
          ],
          "histogram2dcontour": [
           {
            "colorbar": {
             "outlinewidth": 0,
             "ticks": ""
            },
            "colorscale": [
             [
              0,
              "#0d0887"
             ],
             [
              0.1111111111111111,
              "#46039f"
             ],
             [
              0.2222222222222222,
              "#7201a8"
             ],
             [
              0.3333333333333333,
              "#9c179e"
             ],
             [
              0.4444444444444444,
              "#bd3786"
             ],
             [
              0.5555555555555556,
              "#d8576b"
             ],
             [
              0.6666666666666666,
              "#ed7953"
             ],
             [
              0.7777777777777778,
              "#fb9f3a"
             ],
             [
              0.8888888888888888,
              "#fdca26"
             ],
             [
              1,
              "#f0f921"
             ]
            ],
            "type": "histogram2dcontour"
           }
          ],
          "mesh3d": [
           {
            "colorbar": {
             "outlinewidth": 0,
             "ticks": ""
            },
            "type": "mesh3d"
           }
          ],
          "parcoords": [
           {
            "line": {
             "colorbar": {
              "outlinewidth": 0,
              "ticks": ""
             }
            },
            "type": "parcoords"
           }
          ],
          "pie": [
           {
            "automargin": true,
            "type": "pie"
           }
          ],
          "scatter": [
           {
            "fillpattern": {
             "fillmode": "overlay",
             "size": 10,
             "solidity": 0.2
            },
            "type": "scatter"
           }
          ],
          "scatter3d": [
           {
            "line": {
             "colorbar": {
              "outlinewidth": 0,
              "ticks": ""
             }
            },
            "marker": {
             "colorbar": {
              "outlinewidth": 0,
              "ticks": ""
             }
            },
            "type": "scatter3d"
           }
          ],
          "scattercarpet": [
           {
            "marker": {
             "colorbar": {
              "outlinewidth": 0,
              "ticks": ""
             }
            },
            "type": "scattercarpet"
           }
          ],
          "scattergeo": [
           {
            "marker": {
             "colorbar": {
              "outlinewidth": 0,
              "ticks": ""
             }
            },
            "type": "scattergeo"
           }
          ],
          "scattergl": [
           {
            "marker": {
             "colorbar": {
              "outlinewidth": 0,
              "ticks": ""
             }
            },
            "type": "scattergl"
           }
          ],
          "scattermapbox": [
           {
            "marker": {
             "colorbar": {
              "outlinewidth": 0,
              "ticks": ""
             }
            },
            "type": "scattermapbox"
           }
          ],
          "scatterpolar": [
           {
            "marker": {
             "colorbar": {
              "outlinewidth": 0,
              "ticks": ""
             }
            },
            "type": "scatterpolar"
           }
          ],
          "scatterpolargl": [
           {
            "marker": {
             "colorbar": {
              "outlinewidth": 0,
              "ticks": ""
             }
            },
            "type": "scatterpolargl"
           }
          ],
          "scatterternary": [
           {
            "marker": {
             "colorbar": {
              "outlinewidth": 0,
              "ticks": ""
             }
            },
            "type": "scatterternary"
           }
          ],
          "surface": [
           {
            "colorbar": {
             "outlinewidth": 0,
             "ticks": ""
            },
            "colorscale": [
             [
              0,
              "#0d0887"
             ],
             [
              0.1111111111111111,
              "#46039f"
             ],
             [
              0.2222222222222222,
              "#7201a8"
             ],
             [
              0.3333333333333333,
              "#9c179e"
             ],
             [
              0.4444444444444444,
              "#bd3786"
             ],
             [
              0.5555555555555556,
              "#d8576b"
             ],
             [
              0.6666666666666666,
              "#ed7953"
             ],
             [
              0.7777777777777778,
              "#fb9f3a"
             ],
             [
              0.8888888888888888,
              "#fdca26"
             ],
             [
              1,
              "#f0f921"
             ]
            ],
            "type": "surface"
           }
          ],
          "table": [
           {
            "cells": {
             "fill": {
              "color": "#EBF0F8"
             },
             "line": {
              "color": "white"
             }
            },
            "header": {
             "fill": {
              "color": "#C8D4E3"
             },
             "line": {
              "color": "white"
             }
            },
            "type": "table"
           }
          ]
         },
         "layout": {
          "annotationdefaults": {
           "arrowcolor": "#2a3f5f",
           "arrowhead": 0,
           "arrowwidth": 1
          },
          "autotypenumbers": "strict",
          "coloraxis": {
           "colorbar": {
            "outlinewidth": 0,
            "ticks": ""
           }
          },
          "colorscale": {
           "diverging": [
            [
             0,
             "#8e0152"
            ],
            [
             0.1,
             "#c51b7d"
            ],
            [
             0.2,
             "#de77ae"
            ],
            [
             0.3,
             "#f1b6da"
            ],
            [
             0.4,
             "#fde0ef"
            ],
            [
             0.5,
             "#f7f7f7"
            ],
            [
             0.6,
             "#e6f5d0"
            ],
            [
             0.7,
             "#b8e186"
            ],
            [
             0.8,
             "#7fbc41"
            ],
            [
             0.9,
             "#4d9221"
            ],
            [
             1,
             "#276419"
            ]
           ],
           "sequential": [
            [
             0,
             "#0d0887"
            ],
            [
             0.1111111111111111,
             "#46039f"
            ],
            [
             0.2222222222222222,
             "#7201a8"
            ],
            [
             0.3333333333333333,
             "#9c179e"
            ],
            [
             0.4444444444444444,
             "#bd3786"
            ],
            [
             0.5555555555555556,
             "#d8576b"
            ],
            [
             0.6666666666666666,
             "#ed7953"
            ],
            [
             0.7777777777777778,
             "#fb9f3a"
            ],
            [
             0.8888888888888888,
             "#fdca26"
            ],
            [
             1,
             "#f0f921"
            ]
           ],
           "sequentialminus": [
            [
             0,
             "#0d0887"
            ],
            [
             0.1111111111111111,
             "#46039f"
            ],
            [
             0.2222222222222222,
             "#7201a8"
            ],
            [
             0.3333333333333333,
             "#9c179e"
            ],
            [
             0.4444444444444444,
             "#bd3786"
            ],
            [
             0.5555555555555556,
             "#d8576b"
            ],
            [
             0.6666666666666666,
             "#ed7953"
            ],
            [
             0.7777777777777778,
             "#fb9f3a"
            ],
            [
             0.8888888888888888,
             "#fdca26"
            ],
            [
             1,
             "#f0f921"
            ]
           ]
          },
          "colorway": [
           "#636efa",
           "#EF553B",
           "#00cc96",
           "#ab63fa",
           "#FFA15A",
           "#19d3f3",
           "#FF6692",
           "#B6E880",
           "#FF97FF",
           "#FECB52"
          ],
          "font": {
           "color": "#2a3f5f"
          },
          "geo": {
           "bgcolor": "white",
           "lakecolor": "white",
           "landcolor": "#E5ECF6",
           "showlakes": true,
           "showland": true,
           "subunitcolor": "white"
          },
          "hoverlabel": {
           "align": "left"
          },
          "hovermode": "closest",
          "mapbox": {
           "style": "light"
          },
          "paper_bgcolor": "white",
          "plot_bgcolor": "#E5ECF6",
          "polar": {
           "angularaxis": {
            "gridcolor": "white",
            "linecolor": "white",
            "ticks": ""
           },
           "bgcolor": "#E5ECF6",
           "radialaxis": {
            "gridcolor": "white",
            "linecolor": "white",
            "ticks": ""
           }
          },
          "scene": {
           "xaxis": {
            "backgroundcolor": "#E5ECF6",
            "gridcolor": "white",
            "gridwidth": 2,
            "linecolor": "white",
            "showbackground": true,
            "ticks": "",
            "zerolinecolor": "white"
           },
           "yaxis": {
            "backgroundcolor": "#E5ECF6",
            "gridcolor": "white",
            "gridwidth": 2,
            "linecolor": "white",
            "showbackground": true,
            "ticks": "",
            "zerolinecolor": "white"
           },
           "zaxis": {
            "backgroundcolor": "#E5ECF6",
            "gridcolor": "white",
            "gridwidth": 2,
            "linecolor": "white",
            "showbackground": true,
            "ticks": "",
            "zerolinecolor": "white"
           }
          },
          "shapedefaults": {
           "line": {
            "color": "#2a3f5f"
           }
          },
          "ternary": {
           "aaxis": {
            "gridcolor": "white",
            "linecolor": "white",
            "ticks": ""
           },
           "baxis": {
            "gridcolor": "white",
            "linecolor": "white",
            "ticks": ""
           },
           "bgcolor": "#E5ECF6",
           "caxis": {
            "gridcolor": "white",
            "linecolor": "white",
            "ticks": ""
           }
          },
          "title": {
           "x": 0.05
          },
          "xaxis": {
           "automargin": true,
           "gridcolor": "white",
           "linecolor": "white",
           "ticks": "",
           "title": {
            "standoff": 15
           },
           "zerolinecolor": "white",
           "zerolinewidth": 2
          },
          "yaxis": {
           "automargin": true,
           "gridcolor": "white",
           "linecolor": "white",
           "ticks": "",
           "title": {
            "standoff": 15
           },
           "zerolinecolor": "white",
           "zerolinewidth": 2
          }
         }
        },
        "width": 640
       }
      }
     },
     "metadata": {},
     "output_type": "display_data"
    }
   ],
   "source": [
    "fig = px.scatter_3d(grdp, x='year', y='1인당_개인소득(원)', z='1인당_사교육비(만 원)', \n",
    "                    color='시도별', width=640, height=480,\n",
    "                    size_max=18, opacity=0.7)\n",
    "fig.show()"
   ]
  },
  {
   "cell_type": "code",
   "execution_count": 44,
   "metadata": {},
   "outputs": [],
   "source": [
    "# import matplotlib.pyplot as plt\n",
    "# from mpl_toolkits.mplot3d import Axes3D\n",
    "\n",
    "# # 3D 그래프 공간 설정\n",
    "# fig = plt.figure()\n",
    "# ax = Axes3D(fig)\n",
    "# fig.add_axes(ax)\n",
    "\n",
    "# # 그래프 그리기\n",
    "# ax.scatter(data=grdp, xs='year', ys='GRDP', zs='1인당_사교육비(만 원)', c='시도별')"
   ]
  },
  {
   "cell_type": "code",
   "execution_count": 270,
   "metadata": {},
   "outputs": [],
   "source": [
    "df2021 = grdp[grdp['year'] == 2021]"
   ]
  },
  {
   "cell_type": "code",
   "execution_count": 271,
   "metadata": {},
   "outputs": [],
   "source": [
    "df2021 = df2021.drop(columns = 'year')"
   ]
  },
  {
   "cell_type": "code",
   "execution_count": 272,
   "metadata": {},
   "outputs": [],
   "source": [
    "df2021_sort = df2021.sort_values(by = '시도별').reset_index(drop=True)"
   ]
  },
  {
   "cell_type": "code",
   "execution_count": 273,
   "metadata": {},
   "outputs": [
    {
     "data": {
      "text/plain": [
       "0      48\n",
       "1     861\n",
       "2     159\n",
       "3     123\n",
       "4      46\n",
       "5      85\n",
       "6      35\n",
       "7     155\n",
       "8     386\n",
       "9      25\n",
       "10     16\n",
       "11    112\n",
       "12     55\n",
       "13     59\n",
       "14     15\n",
       "15     67\n",
       "16     49\n",
       "Name: 0, dtype: int64"
      ]
     },
     "execution_count": 273,
     "metadata": {},
     "output_type": "execute_result"
    }
   ],
   "source": [
    "hme.groupby('시도').size().to_frame().reset_index()[0]"
   ]
  },
  {
   "cell_type": "code",
   "execution_count": 274,
   "metadata": {},
   "outputs": [],
   "source": [
    "df2021_sort['지점수'] = hme.groupby('시도').size().to_frame().reset_index()[0]"
   ]
  },
  {
   "cell_type": "code",
   "execution_count": 275,
   "metadata": {},
   "outputs": [
    {
     "data": {
      "text/html": [
       "<div>\n",
       "<style scoped>\n",
       "    .dataframe tbody tr th:only-of-type {\n",
       "        vertical-align: middle;\n",
       "    }\n",
       "\n",
       "    .dataframe tbody tr th {\n",
       "        vertical-align: top;\n",
       "    }\n",
       "\n",
       "    .dataframe thead th {\n",
       "        text-align: right;\n",
       "    }\n",
       "</style>\n",
       "<table border=\"1\" class=\"dataframe\">\n",
       "  <thead>\n",
       "    <tr style=\"text-align: right;\">\n",
       "      <th></th>\n",
       "      <th>시도별</th>\n",
       "      <th>1인당_개인소득(원)</th>\n",
       "      <th>1인당_사교육비(만 원)</th>\n",
       "      <th>지점수</th>\n",
       "    </tr>\n",
       "  </thead>\n",
       "  <tbody>\n",
       "    <tr>\n",
       "      <th>0</th>\n",
       "      <td>강원</td>\n",
       "      <td>21038</td>\n",
       "      <td>28.9</td>\n",
       "      <td>48</td>\n",
       "    </tr>\n",
       "    <tr>\n",
       "      <th>1</th>\n",
       "      <td>경기</td>\n",
       "      <td>21937</td>\n",
       "      <td>42.2</td>\n",
       "      <td>861</td>\n",
       "    </tr>\n",
       "    <tr>\n",
       "      <th>2</th>\n",
       "      <td>경남</td>\n",
       "      <td>20650</td>\n",
       "      <td>29.8</td>\n",
       "      <td>159</td>\n",
       "    </tr>\n",
       "    <tr>\n",
       "      <th>3</th>\n",
       "      <td>경북</td>\n",
       "      <td>20667</td>\n",
       "      <td>31.6</td>\n",
       "      <td>123</td>\n",
       "    </tr>\n",
       "    <tr>\n",
       "      <th>4</th>\n",
       "      <td>광주</td>\n",
       "      <td>22472</td>\n",
       "      <td>37.4</td>\n",
       "      <td>46</td>\n",
       "    </tr>\n",
       "    <tr>\n",
       "      <th>5</th>\n",
       "      <td>대구</td>\n",
       "      <td>21046</td>\n",
       "      <td>42.2</td>\n",
       "      <td>85</td>\n",
       "    </tr>\n",
       "    <tr>\n",
       "      <th>6</th>\n",
       "      <td>대전</td>\n",
       "      <td>22730</td>\n",
       "      <td>35.3</td>\n",
       "      <td>35</td>\n",
       "    </tr>\n",
       "    <tr>\n",
       "      <th>7</th>\n",
       "      <td>부산</td>\n",
       "      <td>21352</td>\n",
       "      <td>42.1</td>\n",
       "      <td>155</td>\n",
       "    </tr>\n",
       "    <tr>\n",
       "      <th>8</th>\n",
       "      <td>서울</td>\n",
       "      <td>25256</td>\n",
       "      <td>52.6</td>\n",
       "      <td>386</td>\n",
       "    </tr>\n",
       "    <tr>\n",
       "      <th>9</th>\n",
       "      <td>세종</td>\n",
       "      <td>22061</td>\n",
       "      <td>40.6</td>\n",
       "      <td>25</td>\n",
       "    </tr>\n",
       "    <tr>\n",
       "      <th>10</th>\n",
       "      <td>울산</td>\n",
       "      <td>25165</td>\n",
       "      <td>34.0</td>\n",
       "      <td>16</td>\n",
       "    </tr>\n",
       "    <tr>\n",
       "      <th>11</th>\n",
       "      <td>인천</td>\n",
       "      <td>21317</td>\n",
       "      <td>38.9</td>\n",
       "      <td>112</td>\n",
       "    </tr>\n",
       "    <tr>\n",
       "      <th>12</th>\n",
       "      <td>전남</td>\n",
       "      <td>20881</td>\n",
       "      <td>25.6</td>\n",
       "      <td>55</td>\n",
       "    </tr>\n",
       "    <tr>\n",
       "      <th>13</th>\n",
       "      <td>전북</td>\n",
       "      <td>20862</td>\n",
       "      <td>30.0</td>\n",
       "      <td>59</td>\n",
       "    </tr>\n",
       "    <tr>\n",
       "      <th>14</th>\n",
       "      <td>제주</td>\n",
       "      <td>20475</td>\n",
       "      <td>34.2</td>\n",
       "      <td>15</td>\n",
       "    </tr>\n",
       "    <tr>\n",
       "      <th>15</th>\n",
       "      <td>충남</td>\n",
       "      <td>21262</td>\n",
       "      <td>29.2</td>\n",
       "      <td>67</td>\n",
       "    </tr>\n",
       "    <tr>\n",
       "      <th>16</th>\n",
       "      <td>충북</td>\n",
       "      <td>21081</td>\n",
       "      <td>28.7</td>\n",
       "      <td>49</td>\n",
       "    </tr>\n",
       "  </tbody>\n",
       "</table>\n",
       "</div>"
      ],
      "text/plain": [
       "   시도별  1인당_개인소득(원)  1인당_사교육비(만 원)  지점수\n",
       "0   강원        21038           28.9   48\n",
       "1   경기        21937           42.2  861\n",
       "2   경남        20650           29.8  159\n",
       "3   경북        20667           31.6  123\n",
       "4   광주        22472           37.4   46\n",
       "5   대구        21046           42.2   85\n",
       "6   대전        22730           35.3   35\n",
       "7   부산        21352           42.1  155\n",
       "8   서울        25256           52.6  386\n",
       "9   세종        22061           40.6   25\n",
       "10  울산        25165           34.0   16\n",
       "11  인천        21317           38.9  112\n",
       "12  전남        20881           25.6   55\n",
       "13  전북        20862           30.0   59\n",
       "14  제주        20475           34.2   15\n",
       "15  충남        21262           29.2   67\n",
       "16  충북        21081           28.7   49"
      ]
     },
     "execution_count": 275,
     "metadata": {},
     "output_type": "execute_result"
    }
   ],
   "source": [
    "df2021_sort"
   ]
  },
  {
   "cell_type": "code",
   "execution_count": 276,
   "metadata": {},
   "outputs": [],
   "source": [
    "pop2022 = pd.read_csv('./data/시도별_인구_2022.csv', encoding = 'cp949')"
   ]
  },
  {
   "cell_type": "code",
   "execution_count": 277,
   "metadata": {},
   "outputs": [],
   "source": [
    "pop2022 = pop2022.drop(index = 0).reset_index(drop=True)"
   ]
  },
  {
   "cell_type": "code",
   "execution_count": 278,
   "metadata": {},
   "outputs": [],
   "source": [
    "pop2022 = pop2022.sort_values(by = '행정구역별(읍면동)').reset_index(drop=True)"
   ]
  },
  {
   "cell_type": "code",
   "execution_count": 279,
   "metadata": {},
   "outputs": [
    {
     "data": {
      "text/plain": [
       "0      1528037\n",
       "1     13717827\n",
       "2      3280829\n",
       "3      2620373\n",
       "4      1468972\n",
       "5      2366852\n",
       "6      1473662\n",
       "7      3295760\n",
       "8      9417469\n",
       "9       382589\n",
       "10     1110516\n",
       "11     2989125\n",
       "12     1771431\n",
       "13     1774248\n",
       "14      676375\n",
       "15     2193214\n",
       "16     1624993\n",
       "Name: 2022, dtype: object"
      ]
     },
     "execution_count": 279,
     "metadata": {},
     "output_type": "execute_result"
    }
   ],
   "source": [
    "pop2022['2022']"
   ]
  },
  {
   "cell_type": "code",
   "execution_count": 280,
   "metadata": {},
   "outputs": [],
   "source": [
    "df2021_sort['인구수'] = pop2022['2022']"
   ]
  },
  {
   "cell_type": "code",
   "execution_count": 281,
   "metadata": {},
   "outputs": [],
   "source": [
    "df2021_sort['인구수'] = df2021_sort['인구수'].apply(lambda x: int(x))"
   ]
  },
  {
   "cell_type": "code",
   "execution_count": 282,
   "metadata": {},
   "outputs": [
    {
     "data": {
      "text/html": [
       "<div>\n",
       "<style scoped>\n",
       "    .dataframe tbody tr th:only-of-type {\n",
       "        vertical-align: middle;\n",
       "    }\n",
       "\n",
       "    .dataframe tbody tr th {\n",
       "        vertical-align: top;\n",
       "    }\n",
       "\n",
       "    .dataframe thead th {\n",
       "        text-align: right;\n",
       "    }\n",
       "</style>\n",
       "<table border=\"1\" class=\"dataframe\">\n",
       "  <thead>\n",
       "    <tr style=\"text-align: right;\">\n",
       "      <th></th>\n",
       "      <th>시도별</th>\n",
       "      <th>1인당_개인소득(원)</th>\n",
       "      <th>1인당_사교육비(만 원)</th>\n",
       "      <th>지점수</th>\n",
       "      <th>인구수</th>\n",
       "    </tr>\n",
       "  </thead>\n",
       "  <tbody>\n",
       "    <tr>\n",
       "      <th>0</th>\n",
       "      <td>강원</td>\n",
       "      <td>21038</td>\n",
       "      <td>28.9</td>\n",
       "      <td>48</td>\n",
       "      <td>1528037</td>\n",
       "    </tr>\n",
       "    <tr>\n",
       "      <th>1</th>\n",
       "      <td>경기</td>\n",
       "      <td>21937</td>\n",
       "      <td>42.2</td>\n",
       "      <td>861</td>\n",
       "      <td>13717827</td>\n",
       "    </tr>\n",
       "    <tr>\n",
       "      <th>2</th>\n",
       "      <td>경남</td>\n",
       "      <td>20650</td>\n",
       "      <td>29.8</td>\n",
       "      <td>159</td>\n",
       "      <td>3280829</td>\n",
       "    </tr>\n",
       "    <tr>\n",
       "      <th>3</th>\n",
       "      <td>경북</td>\n",
       "      <td>20667</td>\n",
       "      <td>31.6</td>\n",
       "      <td>123</td>\n",
       "      <td>2620373</td>\n",
       "    </tr>\n",
       "    <tr>\n",
       "      <th>4</th>\n",
       "      <td>광주</td>\n",
       "      <td>22472</td>\n",
       "      <td>37.4</td>\n",
       "      <td>46</td>\n",
       "      <td>1468972</td>\n",
       "    </tr>\n",
       "    <tr>\n",
       "      <th>5</th>\n",
       "      <td>대구</td>\n",
       "      <td>21046</td>\n",
       "      <td>42.2</td>\n",
       "      <td>85</td>\n",
       "      <td>2366852</td>\n",
       "    </tr>\n",
       "    <tr>\n",
       "      <th>6</th>\n",
       "      <td>대전</td>\n",
       "      <td>22730</td>\n",
       "      <td>35.3</td>\n",
       "      <td>35</td>\n",
       "      <td>1473662</td>\n",
       "    </tr>\n",
       "    <tr>\n",
       "      <th>7</th>\n",
       "      <td>부산</td>\n",
       "      <td>21352</td>\n",
       "      <td>42.1</td>\n",
       "      <td>155</td>\n",
       "      <td>3295760</td>\n",
       "    </tr>\n",
       "    <tr>\n",
       "      <th>8</th>\n",
       "      <td>서울</td>\n",
       "      <td>25256</td>\n",
       "      <td>52.6</td>\n",
       "      <td>386</td>\n",
       "      <td>9417469</td>\n",
       "    </tr>\n",
       "    <tr>\n",
       "      <th>9</th>\n",
       "      <td>세종</td>\n",
       "      <td>22061</td>\n",
       "      <td>40.6</td>\n",
       "      <td>25</td>\n",
       "      <td>382589</td>\n",
       "    </tr>\n",
       "    <tr>\n",
       "      <th>10</th>\n",
       "      <td>울산</td>\n",
       "      <td>25165</td>\n",
       "      <td>34.0</td>\n",
       "      <td>16</td>\n",
       "      <td>1110516</td>\n",
       "    </tr>\n",
       "    <tr>\n",
       "      <th>11</th>\n",
       "      <td>인천</td>\n",
       "      <td>21317</td>\n",
       "      <td>38.9</td>\n",
       "      <td>112</td>\n",
       "      <td>2989125</td>\n",
       "    </tr>\n",
       "    <tr>\n",
       "      <th>12</th>\n",
       "      <td>전남</td>\n",
       "      <td>20881</td>\n",
       "      <td>25.6</td>\n",
       "      <td>55</td>\n",
       "      <td>1771431</td>\n",
       "    </tr>\n",
       "    <tr>\n",
       "      <th>13</th>\n",
       "      <td>전북</td>\n",
       "      <td>20862</td>\n",
       "      <td>30.0</td>\n",
       "      <td>59</td>\n",
       "      <td>1774248</td>\n",
       "    </tr>\n",
       "    <tr>\n",
       "      <th>14</th>\n",
       "      <td>제주</td>\n",
       "      <td>20475</td>\n",
       "      <td>34.2</td>\n",
       "      <td>15</td>\n",
       "      <td>676375</td>\n",
       "    </tr>\n",
       "    <tr>\n",
       "      <th>15</th>\n",
       "      <td>충남</td>\n",
       "      <td>21262</td>\n",
       "      <td>29.2</td>\n",
       "      <td>67</td>\n",
       "      <td>2193214</td>\n",
       "    </tr>\n",
       "    <tr>\n",
       "      <th>16</th>\n",
       "      <td>충북</td>\n",
       "      <td>21081</td>\n",
       "      <td>28.7</td>\n",
       "      <td>49</td>\n",
       "      <td>1624993</td>\n",
       "    </tr>\n",
       "  </tbody>\n",
       "</table>\n",
       "</div>"
      ],
      "text/plain": [
       "   시도별  1인당_개인소득(원)  1인당_사교육비(만 원)  지점수       인구수\n",
       "0   강원        21038           28.9   48   1528037\n",
       "1   경기        21937           42.2  861  13717827\n",
       "2   경남        20650           29.8  159   3280829\n",
       "3   경북        20667           31.6  123   2620373\n",
       "4   광주        22472           37.4   46   1468972\n",
       "5   대구        21046           42.2   85   2366852\n",
       "6   대전        22730           35.3   35   1473662\n",
       "7   부산        21352           42.1  155   3295760\n",
       "8   서울        25256           52.6  386   9417469\n",
       "9   세종        22061           40.6   25    382589\n",
       "10  울산        25165           34.0   16   1110516\n",
       "11  인천        21317           38.9  112   2989125\n",
       "12  전남        20881           25.6   55   1771431\n",
       "13  전북        20862           30.0   59   1774248\n",
       "14  제주        20475           34.2   15    676375\n",
       "15  충남        21262           29.2   67   2193214\n",
       "16  충북        21081           28.7   49   1624993"
      ]
     },
     "execution_count": 282,
     "metadata": {},
     "output_type": "execute_result"
    }
   ],
   "source": [
    "df2021_sort"
   ]
  },
  {
   "cell_type": "code",
   "execution_count": 283,
   "metadata": {},
   "outputs": [],
   "source": [
    "df2021_sort.to_csv('./data/df2021.csv', index = False)"
   ]
  },
  {
   "cell_type": "code",
   "execution_count": 284,
   "metadata": {},
   "outputs": [
    {
     "data": {
      "application/vnd.plotly.v1+json": {
       "config": {
        "plotlyServerURL": "https://plot.ly"
       },
       "data": [
        {
         "hovertemplate": "시도별=강원<br>인구수=%{x}<br>1인당_사교육비(만 원)=%{y}<br>지점수=%{z}<extra></extra>",
         "legendgroup": "강원",
         "marker": {
          "color": "#636efa",
          "opacity": 0.7,
          "symbol": "circle"
         },
         "mode": "markers",
         "name": "강원",
         "scene": "scene",
         "showlegend": true,
         "type": "scatter3d",
         "x": [
          1528037
         ],
         "y": [
          28.9
         ],
         "z": [
          48
         ]
        },
        {
         "hovertemplate": "시도별=경기<br>인구수=%{x}<br>1인당_사교육비(만 원)=%{y}<br>지점수=%{z}<extra></extra>",
         "legendgroup": "경기",
         "marker": {
          "color": "#EF553B",
          "opacity": 0.7,
          "symbol": "circle"
         },
         "mode": "markers",
         "name": "경기",
         "scene": "scene",
         "showlegend": true,
         "type": "scatter3d",
         "x": [
          13717827
         ],
         "y": [
          42.2
         ],
         "z": [
          861
         ]
        },
        {
         "hovertemplate": "시도별=경남<br>인구수=%{x}<br>1인당_사교육비(만 원)=%{y}<br>지점수=%{z}<extra></extra>",
         "legendgroup": "경남",
         "marker": {
          "color": "#00cc96",
          "opacity": 0.7,
          "symbol": "circle"
         },
         "mode": "markers",
         "name": "경남",
         "scene": "scene",
         "showlegend": true,
         "type": "scatter3d",
         "x": [
          3280829
         ],
         "y": [
          29.8
         ],
         "z": [
          159
         ]
        },
        {
         "hovertemplate": "시도별=경북<br>인구수=%{x}<br>1인당_사교육비(만 원)=%{y}<br>지점수=%{z}<extra></extra>",
         "legendgroup": "경북",
         "marker": {
          "color": "#ab63fa",
          "opacity": 0.7,
          "symbol": "circle"
         },
         "mode": "markers",
         "name": "경북",
         "scene": "scene",
         "showlegend": true,
         "type": "scatter3d",
         "x": [
          2620373
         ],
         "y": [
          31.6
         ],
         "z": [
          123
         ]
        },
        {
         "hovertemplate": "시도별=광주<br>인구수=%{x}<br>1인당_사교육비(만 원)=%{y}<br>지점수=%{z}<extra></extra>",
         "legendgroup": "광주",
         "marker": {
          "color": "#FFA15A",
          "opacity": 0.7,
          "symbol": "circle"
         },
         "mode": "markers",
         "name": "광주",
         "scene": "scene",
         "showlegend": true,
         "type": "scatter3d",
         "x": [
          1468972
         ],
         "y": [
          37.4
         ],
         "z": [
          46
         ]
        },
        {
         "hovertemplate": "시도별=대구<br>인구수=%{x}<br>1인당_사교육비(만 원)=%{y}<br>지점수=%{z}<extra></extra>",
         "legendgroup": "대구",
         "marker": {
          "color": "#19d3f3",
          "opacity": 0.7,
          "symbol": "circle"
         },
         "mode": "markers",
         "name": "대구",
         "scene": "scene",
         "showlegend": true,
         "type": "scatter3d",
         "x": [
          2366852
         ],
         "y": [
          42.2
         ],
         "z": [
          85
         ]
        },
        {
         "hovertemplate": "시도별=대전<br>인구수=%{x}<br>1인당_사교육비(만 원)=%{y}<br>지점수=%{z}<extra></extra>",
         "legendgroup": "대전",
         "marker": {
          "color": "#FF6692",
          "opacity": 0.7,
          "symbol": "circle"
         },
         "mode": "markers",
         "name": "대전",
         "scene": "scene",
         "showlegend": true,
         "type": "scatter3d",
         "x": [
          1473662
         ],
         "y": [
          35.3
         ],
         "z": [
          35
         ]
        },
        {
         "hovertemplate": "시도별=부산<br>인구수=%{x}<br>1인당_사교육비(만 원)=%{y}<br>지점수=%{z}<extra></extra>",
         "legendgroup": "부산",
         "marker": {
          "color": "#B6E880",
          "opacity": 0.7,
          "symbol": "circle"
         },
         "mode": "markers",
         "name": "부산",
         "scene": "scene",
         "showlegend": true,
         "type": "scatter3d",
         "x": [
          3295760
         ],
         "y": [
          42.1
         ],
         "z": [
          155
         ]
        },
        {
         "hovertemplate": "시도별=서울<br>인구수=%{x}<br>1인당_사교육비(만 원)=%{y}<br>지점수=%{z}<extra></extra>",
         "legendgroup": "서울",
         "marker": {
          "color": "#FF97FF",
          "opacity": 0.7,
          "symbol": "circle"
         },
         "mode": "markers",
         "name": "서울",
         "scene": "scene",
         "showlegend": true,
         "type": "scatter3d",
         "x": [
          9417469
         ],
         "y": [
          52.6
         ],
         "z": [
          386
         ]
        },
        {
         "hovertemplate": "시도별=세종<br>인구수=%{x}<br>1인당_사교육비(만 원)=%{y}<br>지점수=%{z}<extra></extra>",
         "legendgroup": "세종",
         "marker": {
          "color": "#FECB52",
          "opacity": 0.7,
          "symbol": "circle"
         },
         "mode": "markers",
         "name": "세종",
         "scene": "scene",
         "showlegend": true,
         "type": "scatter3d",
         "x": [
          382589
         ],
         "y": [
          40.6
         ],
         "z": [
          25
         ]
        },
        {
         "hovertemplate": "시도별=울산<br>인구수=%{x}<br>1인당_사교육비(만 원)=%{y}<br>지점수=%{z}<extra></extra>",
         "legendgroup": "울산",
         "marker": {
          "color": "#636efa",
          "opacity": 0.7,
          "symbol": "circle"
         },
         "mode": "markers",
         "name": "울산",
         "scene": "scene",
         "showlegend": true,
         "type": "scatter3d",
         "x": [
          1110516
         ],
         "y": [
          34
         ],
         "z": [
          16
         ]
        },
        {
         "hovertemplate": "시도별=인천<br>인구수=%{x}<br>1인당_사교육비(만 원)=%{y}<br>지점수=%{z}<extra></extra>",
         "legendgroup": "인천",
         "marker": {
          "color": "#EF553B",
          "opacity": 0.7,
          "symbol": "circle"
         },
         "mode": "markers",
         "name": "인천",
         "scene": "scene",
         "showlegend": true,
         "type": "scatter3d",
         "x": [
          2989125
         ],
         "y": [
          38.9
         ],
         "z": [
          112
         ]
        },
        {
         "hovertemplate": "시도별=전남<br>인구수=%{x}<br>1인당_사교육비(만 원)=%{y}<br>지점수=%{z}<extra></extra>",
         "legendgroup": "전남",
         "marker": {
          "color": "#00cc96",
          "opacity": 0.7,
          "symbol": "circle"
         },
         "mode": "markers",
         "name": "전남",
         "scene": "scene",
         "showlegend": true,
         "type": "scatter3d",
         "x": [
          1771431
         ],
         "y": [
          25.6
         ],
         "z": [
          55
         ]
        },
        {
         "hovertemplate": "시도별=전북<br>인구수=%{x}<br>1인당_사교육비(만 원)=%{y}<br>지점수=%{z}<extra></extra>",
         "legendgroup": "전북",
         "marker": {
          "color": "#ab63fa",
          "opacity": 0.7,
          "symbol": "circle"
         },
         "mode": "markers",
         "name": "전북",
         "scene": "scene",
         "showlegend": true,
         "type": "scatter3d",
         "x": [
          1774248
         ],
         "y": [
          30
         ],
         "z": [
          59
         ]
        },
        {
         "hovertemplate": "시도별=제주<br>인구수=%{x}<br>1인당_사교육비(만 원)=%{y}<br>지점수=%{z}<extra></extra>",
         "legendgroup": "제주",
         "marker": {
          "color": "#FFA15A",
          "opacity": 0.7,
          "symbol": "circle"
         },
         "mode": "markers",
         "name": "제주",
         "scene": "scene",
         "showlegend": true,
         "type": "scatter3d",
         "x": [
          676375
         ],
         "y": [
          34.2
         ],
         "z": [
          15
         ]
        },
        {
         "hovertemplate": "시도별=충남<br>인구수=%{x}<br>1인당_사교육비(만 원)=%{y}<br>지점수=%{z}<extra></extra>",
         "legendgroup": "충남",
         "marker": {
          "color": "#19d3f3",
          "opacity": 0.7,
          "symbol": "circle"
         },
         "mode": "markers",
         "name": "충남",
         "scene": "scene",
         "showlegend": true,
         "type": "scatter3d",
         "x": [
          2193214
         ],
         "y": [
          29.2
         ],
         "z": [
          67
         ]
        },
        {
         "hovertemplate": "시도별=충북<br>인구수=%{x}<br>1인당_사교육비(만 원)=%{y}<br>지점수=%{z}<extra></extra>",
         "legendgroup": "충북",
         "marker": {
          "color": "#FF6692",
          "opacity": 0.7,
          "symbol": "circle"
         },
         "mode": "markers",
         "name": "충북",
         "scene": "scene",
         "showlegend": true,
         "type": "scatter3d",
         "x": [
          1624993
         ],
         "y": [
          28.7
         ],
         "z": [
          49
         ]
        }
       ],
       "layout": {
        "height": 480,
        "legend": {
         "title": {
          "text": "시도별"
         },
         "tracegroupgap": 0
        },
        "margin": {
         "t": 60
        },
        "scene": {
         "domain": {
          "x": [
           0,
           1
          ],
          "y": [
           0,
           1
          ]
         },
         "xaxis": {
          "title": {
           "text": "인구수"
          }
         },
         "yaxis": {
          "title": {
           "text": "1인당_사교육비(만 원)"
          }
         },
         "zaxis": {
          "title": {
           "text": "지점수"
          }
         }
        },
        "template": {
         "data": {
          "bar": [
           {
            "error_x": {
             "color": "#2a3f5f"
            },
            "error_y": {
             "color": "#2a3f5f"
            },
            "marker": {
             "line": {
              "color": "#E5ECF6",
              "width": 0.5
             },
             "pattern": {
              "fillmode": "overlay",
              "size": 10,
              "solidity": 0.2
             }
            },
            "type": "bar"
           }
          ],
          "barpolar": [
           {
            "marker": {
             "line": {
              "color": "#E5ECF6",
              "width": 0.5
             },
             "pattern": {
              "fillmode": "overlay",
              "size": 10,
              "solidity": 0.2
             }
            },
            "type": "barpolar"
           }
          ],
          "carpet": [
           {
            "aaxis": {
             "endlinecolor": "#2a3f5f",
             "gridcolor": "white",
             "linecolor": "white",
             "minorgridcolor": "white",
             "startlinecolor": "#2a3f5f"
            },
            "baxis": {
             "endlinecolor": "#2a3f5f",
             "gridcolor": "white",
             "linecolor": "white",
             "minorgridcolor": "white",
             "startlinecolor": "#2a3f5f"
            },
            "type": "carpet"
           }
          ],
          "choropleth": [
           {
            "colorbar": {
             "outlinewidth": 0,
             "ticks": ""
            },
            "type": "choropleth"
           }
          ],
          "contour": [
           {
            "colorbar": {
             "outlinewidth": 0,
             "ticks": ""
            },
            "colorscale": [
             [
              0,
              "#0d0887"
             ],
             [
              0.1111111111111111,
              "#46039f"
             ],
             [
              0.2222222222222222,
              "#7201a8"
             ],
             [
              0.3333333333333333,
              "#9c179e"
             ],
             [
              0.4444444444444444,
              "#bd3786"
             ],
             [
              0.5555555555555556,
              "#d8576b"
             ],
             [
              0.6666666666666666,
              "#ed7953"
             ],
             [
              0.7777777777777778,
              "#fb9f3a"
             ],
             [
              0.8888888888888888,
              "#fdca26"
             ],
             [
              1,
              "#f0f921"
             ]
            ],
            "type": "contour"
           }
          ],
          "contourcarpet": [
           {
            "colorbar": {
             "outlinewidth": 0,
             "ticks": ""
            },
            "type": "contourcarpet"
           }
          ],
          "heatmap": [
           {
            "colorbar": {
             "outlinewidth": 0,
             "ticks": ""
            },
            "colorscale": [
             [
              0,
              "#0d0887"
             ],
             [
              0.1111111111111111,
              "#46039f"
             ],
             [
              0.2222222222222222,
              "#7201a8"
             ],
             [
              0.3333333333333333,
              "#9c179e"
             ],
             [
              0.4444444444444444,
              "#bd3786"
             ],
             [
              0.5555555555555556,
              "#d8576b"
             ],
             [
              0.6666666666666666,
              "#ed7953"
             ],
             [
              0.7777777777777778,
              "#fb9f3a"
             ],
             [
              0.8888888888888888,
              "#fdca26"
             ],
             [
              1,
              "#f0f921"
             ]
            ],
            "type": "heatmap"
           }
          ],
          "heatmapgl": [
           {
            "colorbar": {
             "outlinewidth": 0,
             "ticks": ""
            },
            "colorscale": [
             [
              0,
              "#0d0887"
             ],
             [
              0.1111111111111111,
              "#46039f"
             ],
             [
              0.2222222222222222,
              "#7201a8"
             ],
             [
              0.3333333333333333,
              "#9c179e"
             ],
             [
              0.4444444444444444,
              "#bd3786"
             ],
             [
              0.5555555555555556,
              "#d8576b"
             ],
             [
              0.6666666666666666,
              "#ed7953"
             ],
             [
              0.7777777777777778,
              "#fb9f3a"
             ],
             [
              0.8888888888888888,
              "#fdca26"
             ],
             [
              1,
              "#f0f921"
             ]
            ],
            "type": "heatmapgl"
           }
          ],
          "histogram": [
           {
            "marker": {
             "pattern": {
              "fillmode": "overlay",
              "size": 10,
              "solidity": 0.2
             }
            },
            "type": "histogram"
           }
          ],
          "histogram2d": [
           {
            "colorbar": {
             "outlinewidth": 0,
             "ticks": ""
            },
            "colorscale": [
             [
              0,
              "#0d0887"
             ],
             [
              0.1111111111111111,
              "#46039f"
             ],
             [
              0.2222222222222222,
              "#7201a8"
             ],
             [
              0.3333333333333333,
              "#9c179e"
             ],
             [
              0.4444444444444444,
              "#bd3786"
             ],
             [
              0.5555555555555556,
              "#d8576b"
             ],
             [
              0.6666666666666666,
              "#ed7953"
             ],
             [
              0.7777777777777778,
              "#fb9f3a"
             ],
             [
              0.8888888888888888,
              "#fdca26"
             ],
             [
              1,
              "#f0f921"
             ]
            ],
            "type": "histogram2d"
           }
          ],
          "histogram2dcontour": [
           {
            "colorbar": {
             "outlinewidth": 0,
             "ticks": ""
            },
            "colorscale": [
             [
              0,
              "#0d0887"
             ],
             [
              0.1111111111111111,
              "#46039f"
             ],
             [
              0.2222222222222222,
              "#7201a8"
             ],
             [
              0.3333333333333333,
              "#9c179e"
             ],
             [
              0.4444444444444444,
              "#bd3786"
             ],
             [
              0.5555555555555556,
              "#d8576b"
             ],
             [
              0.6666666666666666,
              "#ed7953"
             ],
             [
              0.7777777777777778,
              "#fb9f3a"
             ],
             [
              0.8888888888888888,
              "#fdca26"
             ],
             [
              1,
              "#f0f921"
             ]
            ],
            "type": "histogram2dcontour"
           }
          ],
          "mesh3d": [
           {
            "colorbar": {
             "outlinewidth": 0,
             "ticks": ""
            },
            "type": "mesh3d"
           }
          ],
          "parcoords": [
           {
            "line": {
             "colorbar": {
              "outlinewidth": 0,
              "ticks": ""
             }
            },
            "type": "parcoords"
           }
          ],
          "pie": [
           {
            "automargin": true,
            "type": "pie"
           }
          ],
          "scatter": [
           {
            "fillpattern": {
             "fillmode": "overlay",
             "size": 10,
             "solidity": 0.2
            },
            "type": "scatter"
           }
          ],
          "scatter3d": [
           {
            "line": {
             "colorbar": {
              "outlinewidth": 0,
              "ticks": ""
             }
            },
            "marker": {
             "colorbar": {
              "outlinewidth": 0,
              "ticks": ""
             }
            },
            "type": "scatter3d"
           }
          ],
          "scattercarpet": [
           {
            "marker": {
             "colorbar": {
              "outlinewidth": 0,
              "ticks": ""
             }
            },
            "type": "scattercarpet"
           }
          ],
          "scattergeo": [
           {
            "marker": {
             "colorbar": {
              "outlinewidth": 0,
              "ticks": ""
             }
            },
            "type": "scattergeo"
           }
          ],
          "scattergl": [
           {
            "marker": {
             "colorbar": {
              "outlinewidth": 0,
              "ticks": ""
             }
            },
            "type": "scattergl"
           }
          ],
          "scattermapbox": [
           {
            "marker": {
             "colorbar": {
              "outlinewidth": 0,
              "ticks": ""
             }
            },
            "type": "scattermapbox"
           }
          ],
          "scatterpolar": [
           {
            "marker": {
             "colorbar": {
              "outlinewidth": 0,
              "ticks": ""
             }
            },
            "type": "scatterpolar"
           }
          ],
          "scatterpolargl": [
           {
            "marker": {
             "colorbar": {
              "outlinewidth": 0,
              "ticks": ""
             }
            },
            "type": "scatterpolargl"
           }
          ],
          "scatterternary": [
           {
            "marker": {
             "colorbar": {
              "outlinewidth": 0,
              "ticks": ""
             }
            },
            "type": "scatterternary"
           }
          ],
          "surface": [
           {
            "colorbar": {
             "outlinewidth": 0,
             "ticks": ""
            },
            "colorscale": [
             [
              0,
              "#0d0887"
             ],
             [
              0.1111111111111111,
              "#46039f"
             ],
             [
              0.2222222222222222,
              "#7201a8"
             ],
             [
              0.3333333333333333,
              "#9c179e"
             ],
             [
              0.4444444444444444,
              "#bd3786"
             ],
             [
              0.5555555555555556,
              "#d8576b"
             ],
             [
              0.6666666666666666,
              "#ed7953"
             ],
             [
              0.7777777777777778,
              "#fb9f3a"
             ],
             [
              0.8888888888888888,
              "#fdca26"
             ],
             [
              1,
              "#f0f921"
             ]
            ],
            "type": "surface"
           }
          ],
          "table": [
           {
            "cells": {
             "fill": {
              "color": "#EBF0F8"
             },
             "line": {
              "color": "white"
             }
            },
            "header": {
             "fill": {
              "color": "#C8D4E3"
             },
             "line": {
              "color": "white"
             }
            },
            "type": "table"
           }
          ]
         },
         "layout": {
          "annotationdefaults": {
           "arrowcolor": "#2a3f5f",
           "arrowhead": 0,
           "arrowwidth": 1
          },
          "autotypenumbers": "strict",
          "coloraxis": {
           "colorbar": {
            "outlinewidth": 0,
            "ticks": ""
           }
          },
          "colorscale": {
           "diverging": [
            [
             0,
             "#8e0152"
            ],
            [
             0.1,
             "#c51b7d"
            ],
            [
             0.2,
             "#de77ae"
            ],
            [
             0.3,
             "#f1b6da"
            ],
            [
             0.4,
             "#fde0ef"
            ],
            [
             0.5,
             "#f7f7f7"
            ],
            [
             0.6,
             "#e6f5d0"
            ],
            [
             0.7,
             "#b8e186"
            ],
            [
             0.8,
             "#7fbc41"
            ],
            [
             0.9,
             "#4d9221"
            ],
            [
             1,
             "#276419"
            ]
           ],
           "sequential": [
            [
             0,
             "#0d0887"
            ],
            [
             0.1111111111111111,
             "#46039f"
            ],
            [
             0.2222222222222222,
             "#7201a8"
            ],
            [
             0.3333333333333333,
             "#9c179e"
            ],
            [
             0.4444444444444444,
             "#bd3786"
            ],
            [
             0.5555555555555556,
             "#d8576b"
            ],
            [
             0.6666666666666666,
             "#ed7953"
            ],
            [
             0.7777777777777778,
             "#fb9f3a"
            ],
            [
             0.8888888888888888,
             "#fdca26"
            ],
            [
             1,
             "#f0f921"
            ]
           ],
           "sequentialminus": [
            [
             0,
             "#0d0887"
            ],
            [
             0.1111111111111111,
             "#46039f"
            ],
            [
             0.2222222222222222,
             "#7201a8"
            ],
            [
             0.3333333333333333,
             "#9c179e"
            ],
            [
             0.4444444444444444,
             "#bd3786"
            ],
            [
             0.5555555555555556,
             "#d8576b"
            ],
            [
             0.6666666666666666,
             "#ed7953"
            ],
            [
             0.7777777777777778,
             "#fb9f3a"
            ],
            [
             0.8888888888888888,
             "#fdca26"
            ],
            [
             1,
             "#f0f921"
            ]
           ]
          },
          "colorway": [
           "#636efa",
           "#EF553B",
           "#00cc96",
           "#ab63fa",
           "#FFA15A",
           "#19d3f3",
           "#FF6692",
           "#B6E880",
           "#FF97FF",
           "#FECB52"
          ],
          "font": {
           "color": "#2a3f5f"
          },
          "geo": {
           "bgcolor": "white",
           "lakecolor": "white",
           "landcolor": "#E5ECF6",
           "showlakes": true,
           "showland": true,
           "subunitcolor": "white"
          },
          "hoverlabel": {
           "align": "left"
          },
          "hovermode": "closest",
          "mapbox": {
           "style": "light"
          },
          "paper_bgcolor": "white",
          "plot_bgcolor": "#E5ECF6",
          "polar": {
           "angularaxis": {
            "gridcolor": "white",
            "linecolor": "white",
            "ticks": ""
           },
           "bgcolor": "#E5ECF6",
           "radialaxis": {
            "gridcolor": "white",
            "linecolor": "white",
            "ticks": ""
           }
          },
          "scene": {
           "xaxis": {
            "backgroundcolor": "#E5ECF6",
            "gridcolor": "white",
            "gridwidth": 2,
            "linecolor": "white",
            "showbackground": true,
            "ticks": "",
            "zerolinecolor": "white"
           },
           "yaxis": {
            "backgroundcolor": "#E5ECF6",
            "gridcolor": "white",
            "gridwidth": 2,
            "linecolor": "white",
            "showbackground": true,
            "ticks": "",
            "zerolinecolor": "white"
           },
           "zaxis": {
            "backgroundcolor": "#E5ECF6",
            "gridcolor": "white",
            "gridwidth": 2,
            "linecolor": "white",
            "showbackground": true,
            "ticks": "",
            "zerolinecolor": "white"
           }
          },
          "shapedefaults": {
           "line": {
            "color": "#2a3f5f"
           }
          },
          "ternary": {
           "aaxis": {
            "gridcolor": "white",
            "linecolor": "white",
            "ticks": ""
           },
           "baxis": {
            "gridcolor": "white",
            "linecolor": "white",
            "ticks": ""
           },
           "bgcolor": "#E5ECF6",
           "caxis": {
            "gridcolor": "white",
            "linecolor": "white",
            "ticks": ""
           }
          },
          "title": {
           "x": 0.05
          },
          "xaxis": {
           "automargin": true,
           "gridcolor": "white",
           "linecolor": "white",
           "ticks": "",
           "title": {
            "standoff": 15
           },
           "zerolinecolor": "white",
           "zerolinewidth": 2
          },
          "yaxis": {
           "automargin": true,
           "gridcolor": "white",
           "linecolor": "white",
           "ticks": "",
           "title": {
            "standoff": 15
           },
           "zerolinecolor": "white",
           "zerolinewidth": 2
          }
         }
        },
        "width": 640
       }
      }
     },
     "metadata": {},
     "output_type": "display_data"
    }
   ],
   "source": [
    "fig = px.scatter_3d(df2021_sort, x='인구수', y='1인당_사교육비(만 원)', z='지점수', \n",
    "                    color='시도별', width=640, height=480,\n",
    "                    size_max=18, opacity=0.7)\n",
    "fig.show()"
   ]
  },
  {
   "cell_type": "code",
   "execution_count": 285,
   "metadata": {},
   "outputs": [
    {
     "data": {
      "application/vnd.plotly.v1+json": {
       "config": {
        "plotlyServerURL": "https://plot.ly"
       },
       "data": [
        {
         "hovertemplate": "인구수=%{x}<br>지점수=%{y}<extra></extra>",
         "legendgroup": "",
         "marker": {
          "color": "#636efa",
          "symbol": "circle"
         },
         "mode": "markers",
         "name": "",
         "orientation": "v",
         "showlegend": false,
         "type": "scatter",
         "x": [
          1528037,
          13717827,
          3280829,
          2620373,
          1468972,
          2366852,
          1473662,
          3295760,
          9417469,
          382589,
          1110516,
          2989125,
          1771431,
          1774248,
          676375,
          2193214,
          1624993
         ],
         "xaxis": "x",
         "y": [
          48,
          861,
          159,
          123,
          46,
          85,
          35,
          155,
          386,
          25,
          16,
          112,
          55,
          59,
          15,
          67,
          49
         ],
         "yaxis": "y"
        },
        {
         "hovertemplate": "<b>OLS trendline</b><br>지점수 = 5.95509e-05 * 인구수 + -46.0188<br>R<sup>2</sup>=0.958116<br><br>인구수=%{x}<br>지점수=%{y} <b>(trend)</b><extra></extra>",
         "legendgroup": "",
         "marker": {
          "color": "#636efa",
          "symbol": "circle"
         },
         "mode": "lines",
         "name": "",
         "showlegend": false,
         "type": "scatter",
         "x": [
          382589,
          676375,
          1110516,
          1468972,
          1473662,
          1528037,
          1624993,
          1771431,
          1774248,
          2193214,
          2366852,
          2620373,
          2989125,
          3280829,
          3295760,
          9417469,
          13717827
         ],
         "xaxis": "x",
         "y": [
          -23.23530307805217,
          -5.740091086116244,
          20.11338331154414,
          41.45975008797795,
          41.73904366984428,
          44.977122244253934,
          50.75093642835441,
          59.47144677832041,
          59.63920158005121,
          84.58899152039358,
          94.92928554344358,
          110.02668174138218,
          131.98618427877454,
          149.35741135867517,
          150.24656540363168,
          514.7996642849332,
          770.889725932587
         ],
         "yaxis": "y"
        }
       ],
       "layout": {
        "legend": {
         "tracegroupgap": 0
        },
        "margin": {
         "t": 60
        },
        "template": {
         "data": {
          "bar": [
           {
            "error_x": {
             "color": "#2a3f5f"
            },
            "error_y": {
             "color": "#2a3f5f"
            },
            "marker": {
             "line": {
              "color": "#E5ECF6",
              "width": 0.5
             },
             "pattern": {
              "fillmode": "overlay",
              "size": 10,
              "solidity": 0.2
             }
            },
            "type": "bar"
           }
          ],
          "barpolar": [
           {
            "marker": {
             "line": {
              "color": "#E5ECF6",
              "width": 0.5
             },
             "pattern": {
              "fillmode": "overlay",
              "size": 10,
              "solidity": 0.2
             }
            },
            "type": "barpolar"
           }
          ],
          "carpet": [
           {
            "aaxis": {
             "endlinecolor": "#2a3f5f",
             "gridcolor": "white",
             "linecolor": "white",
             "minorgridcolor": "white",
             "startlinecolor": "#2a3f5f"
            },
            "baxis": {
             "endlinecolor": "#2a3f5f",
             "gridcolor": "white",
             "linecolor": "white",
             "minorgridcolor": "white",
             "startlinecolor": "#2a3f5f"
            },
            "type": "carpet"
           }
          ],
          "choropleth": [
           {
            "colorbar": {
             "outlinewidth": 0,
             "ticks": ""
            },
            "type": "choropleth"
           }
          ],
          "contour": [
           {
            "colorbar": {
             "outlinewidth": 0,
             "ticks": ""
            },
            "colorscale": [
             [
              0,
              "#0d0887"
             ],
             [
              0.1111111111111111,
              "#46039f"
             ],
             [
              0.2222222222222222,
              "#7201a8"
             ],
             [
              0.3333333333333333,
              "#9c179e"
             ],
             [
              0.4444444444444444,
              "#bd3786"
             ],
             [
              0.5555555555555556,
              "#d8576b"
             ],
             [
              0.6666666666666666,
              "#ed7953"
             ],
             [
              0.7777777777777778,
              "#fb9f3a"
             ],
             [
              0.8888888888888888,
              "#fdca26"
             ],
             [
              1,
              "#f0f921"
             ]
            ],
            "type": "contour"
           }
          ],
          "contourcarpet": [
           {
            "colorbar": {
             "outlinewidth": 0,
             "ticks": ""
            },
            "type": "contourcarpet"
           }
          ],
          "heatmap": [
           {
            "colorbar": {
             "outlinewidth": 0,
             "ticks": ""
            },
            "colorscale": [
             [
              0,
              "#0d0887"
             ],
             [
              0.1111111111111111,
              "#46039f"
             ],
             [
              0.2222222222222222,
              "#7201a8"
             ],
             [
              0.3333333333333333,
              "#9c179e"
             ],
             [
              0.4444444444444444,
              "#bd3786"
             ],
             [
              0.5555555555555556,
              "#d8576b"
             ],
             [
              0.6666666666666666,
              "#ed7953"
             ],
             [
              0.7777777777777778,
              "#fb9f3a"
             ],
             [
              0.8888888888888888,
              "#fdca26"
             ],
             [
              1,
              "#f0f921"
             ]
            ],
            "type": "heatmap"
           }
          ],
          "heatmapgl": [
           {
            "colorbar": {
             "outlinewidth": 0,
             "ticks": ""
            },
            "colorscale": [
             [
              0,
              "#0d0887"
             ],
             [
              0.1111111111111111,
              "#46039f"
             ],
             [
              0.2222222222222222,
              "#7201a8"
             ],
             [
              0.3333333333333333,
              "#9c179e"
             ],
             [
              0.4444444444444444,
              "#bd3786"
             ],
             [
              0.5555555555555556,
              "#d8576b"
             ],
             [
              0.6666666666666666,
              "#ed7953"
             ],
             [
              0.7777777777777778,
              "#fb9f3a"
             ],
             [
              0.8888888888888888,
              "#fdca26"
             ],
             [
              1,
              "#f0f921"
             ]
            ],
            "type": "heatmapgl"
           }
          ],
          "histogram": [
           {
            "marker": {
             "pattern": {
              "fillmode": "overlay",
              "size": 10,
              "solidity": 0.2
             }
            },
            "type": "histogram"
           }
          ],
          "histogram2d": [
           {
            "colorbar": {
             "outlinewidth": 0,
             "ticks": ""
            },
            "colorscale": [
             [
              0,
              "#0d0887"
             ],
             [
              0.1111111111111111,
              "#46039f"
             ],
             [
              0.2222222222222222,
              "#7201a8"
             ],
             [
              0.3333333333333333,
              "#9c179e"
             ],
             [
              0.4444444444444444,
              "#bd3786"
             ],
             [
              0.5555555555555556,
              "#d8576b"
             ],
             [
              0.6666666666666666,
              "#ed7953"
             ],
             [
              0.7777777777777778,
              "#fb9f3a"
             ],
             [
              0.8888888888888888,
              "#fdca26"
             ],
             [
              1,
              "#f0f921"
             ]
            ],
            "type": "histogram2d"
           }
          ],
          "histogram2dcontour": [
           {
            "colorbar": {
             "outlinewidth": 0,
             "ticks": ""
            },
            "colorscale": [
             [
              0,
              "#0d0887"
             ],
             [
              0.1111111111111111,
              "#46039f"
             ],
             [
              0.2222222222222222,
              "#7201a8"
             ],
             [
              0.3333333333333333,
              "#9c179e"
             ],
             [
              0.4444444444444444,
              "#bd3786"
             ],
             [
              0.5555555555555556,
              "#d8576b"
             ],
             [
              0.6666666666666666,
              "#ed7953"
             ],
             [
              0.7777777777777778,
              "#fb9f3a"
             ],
             [
              0.8888888888888888,
              "#fdca26"
             ],
             [
              1,
              "#f0f921"
             ]
            ],
            "type": "histogram2dcontour"
           }
          ],
          "mesh3d": [
           {
            "colorbar": {
             "outlinewidth": 0,
             "ticks": ""
            },
            "type": "mesh3d"
           }
          ],
          "parcoords": [
           {
            "line": {
             "colorbar": {
              "outlinewidth": 0,
              "ticks": ""
             }
            },
            "type": "parcoords"
           }
          ],
          "pie": [
           {
            "automargin": true,
            "type": "pie"
           }
          ],
          "scatter": [
           {
            "fillpattern": {
             "fillmode": "overlay",
             "size": 10,
             "solidity": 0.2
            },
            "type": "scatter"
           }
          ],
          "scatter3d": [
           {
            "line": {
             "colorbar": {
              "outlinewidth": 0,
              "ticks": ""
             }
            },
            "marker": {
             "colorbar": {
              "outlinewidth": 0,
              "ticks": ""
             }
            },
            "type": "scatter3d"
           }
          ],
          "scattercarpet": [
           {
            "marker": {
             "colorbar": {
              "outlinewidth": 0,
              "ticks": ""
             }
            },
            "type": "scattercarpet"
           }
          ],
          "scattergeo": [
           {
            "marker": {
             "colorbar": {
              "outlinewidth": 0,
              "ticks": ""
             }
            },
            "type": "scattergeo"
           }
          ],
          "scattergl": [
           {
            "marker": {
             "colorbar": {
              "outlinewidth": 0,
              "ticks": ""
             }
            },
            "type": "scattergl"
           }
          ],
          "scattermapbox": [
           {
            "marker": {
             "colorbar": {
              "outlinewidth": 0,
              "ticks": ""
             }
            },
            "type": "scattermapbox"
           }
          ],
          "scatterpolar": [
           {
            "marker": {
             "colorbar": {
              "outlinewidth": 0,
              "ticks": ""
             }
            },
            "type": "scatterpolar"
           }
          ],
          "scatterpolargl": [
           {
            "marker": {
             "colorbar": {
              "outlinewidth": 0,
              "ticks": ""
             }
            },
            "type": "scatterpolargl"
           }
          ],
          "scatterternary": [
           {
            "marker": {
             "colorbar": {
              "outlinewidth": 0,
              "ticks": ""
             }
            },
            "type": "scatterternary"
           }
          ],
          "surface": [
           {
            "colorbar": {
             "outlinewidth": 0,
             "ticks": ""
            },
            "colorscale": [
             [
              0,
              "#0d0887"
             ],
             [
              0.1111111111111111,
              "#46039f"
             ],
             [
              0.2222222222222222,
              "#7201a8"
             ],
             [
              0.3333333333333333,
              "#9c179e"
             ],
             [
              0.4444444444444444,
              "#bd3786"
             ],
             [
              0.5555555555555556,
              "#d8576b"
             ],
             [
              0.6666666666666666,
              "#ed7953"
             ],
             [
              0.7777777777777778,
              "#fb9f3a"
             ],
             [
              0.8888888888888888,
              "#fdca26"
             ],
             [
              1,
              "#f0f921"
             ]
            ],
            "type": "surface"
           }
          ],
          "table": [
           {
            "cells": {
             "fill": {
              "color": "#EBF0F8"
             },
             "line": {
              "color": "white"
             }
            },
            "header": {
             "fill": {
              "color": "#C8D4E3"
             },
             "line": {
              "color": "white"
             }
            },
            "type": "table"
           }
          ]
         },
         "layout": {
          "annotationdefaults": {
           "arrowcolor": "#2a3f5f",
           "arrowhead": 0,
           "arrowwidth": 1
          },
          "autotypenumbers": "strict",
          "coloraxis": {
           "colorbar": {
            "outlinewidth": 0,
            "ticks": ""
           }
          },
          "colorscale": {
           "diverging": [
            [
             0,
             "#8e0152"
            ],
            [
             0.1,
             "#c51b7d"
            ],
            [
             0.2,
             "#de77ae"
            ],
            [
             0.3,
             "#f1b6da"
            ],
            [
             0.4,
             "#fde0ef"
            ],
            [
             0.5,
             "#f7f7f7"
            ],
            [
             0.6,
             "#e6f5d0"
            ],
            [
             0.7,
             "#b8e186"
            ],
            [
             0.8,
             "#7fbc41"
            ],
            [
             0.9,
             "#4d9221"
            ],
            [
             1,
             "#276419"
            ]
           ],
           "sequential": [
            [
             0,
             "#0d0887"
            ],
            [
             0.1111111111111111,
             "#46039f"
            ],
            [
             0.2222222222222222,
             "#7201a8"
            ],
            [
             0.3333333333333333,
             "#9c179e"
            ],
            [
             0.4444444444444444,
             "#bd3786"
            ],
            [
             0.5555555555555556,
             "#d8576b"
            ],
            [
             0.6666666666666666,
             "#ed7953"
            ],
            [
             0.7777777777777778,
             "#fb9f3a"
            ],
            [
             0.8888888888888888,
             "#fdca26"
            ],
            [
             1,
             "#f0f921"
            ]
           ],
           "sequentialminus": [
            [
             0,
             "#0d0887"
            ],
            [
             0.1111111111111111,
             "#46039f"
            ],
            [
             0.2222222222222222,
             "#7201a8"
            ],
            [
             0.3333333333333333,
             "#9c179e"
            ],
            [
             0.4444444444444444,
             "#bd3786"
            ],
            [
             0.5555555555555556,
             "#d8576b"
            ],
            [
             0.6666666666666666,
             "#ed7953"
            ],
            [
             0.7777777777777778,
             "#fb9f3a"
            ],
            [
             0.8888888888888888,
             "#fdca26"
            ],
            [
             1,
             "#f0f921"
            ]
           ]
          },
          "colorway": [
           "#636efa",
           "#EF553B",
           "#00cc96",
           "#ab63fa",
           "#FFA15A",
           "#19d3f3",
           "#FF6692",
           "#B6E880",
           "#FF97FF",
           "#FECB52"
          ],
          "font": {
           "color": "#2a3f5f"
          },
          "geo": {
           "bgcolor": "white",
           "lakecolor": "white",
           "landcolor": "#E5ECF6",
           "showlakes": true,
           "showland": true,
           "subunitcolor": "white"
          },
          "hoverlabel": {
           "align": "left"
          },
          "hovermode": "closest",
          "mapbox": {
           "style": "light"
          },
          "paper_bgcolor": "white",
          "plot_bgcolor": "#E5ECF6",
          "polar": {
           "angularaxis": {
            "gridcolor": "white",
            "linecolor": "white",
            "ticks": ""
           },
           "bgcolor": "#E5ECF6",
           "radialaxis": {
            "gridcolor": "white",
            "linecolor": "white",
            "ticks": ""
           }
          },
          "scene": {
           "xaxis": {
            "backgroundcolor": "#E5ECF6",
            "gridcolor": "white",
            "gridwidth": 2,
            "linecolor": "white",
            "showbackground": true,
            "ticks": "",
            "zerolinecolor": "white"
           },
           "yaxis": {
            "backgroundcolor": "#E5ECF6",
            "gridcolor": "white",
            "gridwidth": 2,
            "linecolor": "white",
            "showbackground": true,
            "ticks": "",
            "zerolinecolor": "white"
           },
           "zaxis": {
            "backgroundcolor": "#E5ECF6",
            "gridcolor": "white",
            "gridwidth": 2,
            "linecolor": "white",
            "showbackground": true,
            "ticks": "",
            "zerolinecolor": "white"
           }
          },
          "shapedefaults": {
           "line": {
            "color": "#2a3f5f"
           }
          },
          "ternary": {
           "aaxis": {
            "gridcolor": "white",
            "linecolor": "white",
            "ticks": ""
           },
           "baxis": {
            "gridcolor": "white",
            "linecolor": "white",
            "ticks": ""
           },
           "bgcolor": "#E5ECF6",
           "caxis": {
            "gridcolor": "white",
            "linecolor": "white",
            "ticks": ""
           }
          },
          "title": {
           "x": 0.05
          },
          "xaxis": {
           "automargin": true,
           "gridcolor": "white",
           "linecolor": "white",
           "ticks": "",
           "title": {
            "standoff": 15
           },
           "zerolinecolor": "white",
           "zerolinewidth": 2
          },
          "yaxis": {
           "automargin": true,
           "gridcolor": "white",
           "linecolor": "white",
           "ticks": "",
           "title": {
            "standoff": 15
           },
           "zerolinecolor": "white",
           "zerolinewidth": 2
          }
         }
        },
        "xaxis": {
         "anchor": "y",
         "domain": [
          0,
          1
         ],
         "title": {
          "text": "인구수"
         }
        },
        "yaxis": {
         "anchor": "x",
         "domain": [
          0,
          1
         ],
         "title": {
          "text": "지점수"
         }
        }
       }
      }
     },
     "metadata": {},
     "output_type": "display_data"
    }
   ],
   "source": [
    "fig = px.scatter(df2021_sort, x = '인구수', y = '지점수', trendline=\"ols\")\n",
    "\n",
    "fig.show()"
   ]
  },
  {
   "cell_type": "code",
   "execution_count": 286,
   "metadata": {},
   "outputs": [
    {
     "data": {
      "text/plain": [
       "PearsonRResult(statistic=0.9788338474034076, pvalue=9.554904954931883e-12)"
      ]
     },
     "execution_count": 286,
     "metadata": {},
     "output_type": "execute_result"
    }
   ],
   "source": [
    "import scipy.stats as stats\n",
    "stats.pearsonr(df2021_sort['인구수'],df2021_sort['지점수'])"
   ]
  },
  {
   "cell_type": "code",
   "execution_count": 287,
   "metadata": {},
   "outputs": [],
   "source": [
    "df2021_sort['인구대비_지점수'] = df2021_sort['지점수'] / (df2021_sort['인구수']/100000)"
   ]
  },
  {
   "cell_type": "code",
   "execution_count": 288,
   "metadata": {},
   "outputs": [],
   "source": [
    "df2021_sort = df2021_sort.rename(columns = {'인구대비_지점수':'10만명당_지점수'})"
   ]
  },
  {
   "cell_type": "code",
   "execution_count": 290,
   "metadata": {},
   "outputs": [
    {
     "data": {
      "application/vnd.plotly.v1+json": {
       "config": {
        "plotlyServerURL": "https://plot.ly"
       },
       "data": [
        {
         "hovertemplate": "1인당_사교육비(만 원)=%{x}<br>10만명당_지점수=%{y}<extra></extra>",
         "legendgroup": "",
         "marker": {
          "color": "#636efa",
          "symbol": "circle"
         },
         "mode": "markers",
         "name": "",
         "orientation": "v",
         "showlegend": false,
         "type": "scatter",
         "x": [
          28.9,
          42.2,
          29.8,
          31.6,
          37.4,
          42.2,
          35.3,
          42.1,
          52.6,
          40.6,
          34,
          38.9,
          25.6,
          30,
          34.2,
          29.2,
          28.7
         ],
         "xaxis": "x",
         "y": [
          3.1412851913926167,
          6.276504288908149,
          4.8463360937129,
          4.693988222287437,
          3.131441579553593,
          3.591268064078362,
          2.3750357951823418,
          4.703012355268587,
          4.098765814891453,
          6.534427283586303,
          1.4407716773103674,
          3.746915903483461,
          3.10483445304954,
          3.3253524873636606,
          2.2177046756606913,
          3.054877453818916,
          3.0153976047896824
         ],
         "yaxis": "y"
        },
        {
         "hovertemplate": "<b>OLS trendline</b><br>10만명당_지점수 = 0.0760504 * 1인당_사교육비(만 원) + 1.02451<br>R<sup>2</sup>=0.153690<br><br>1인당_사교육비(만 원)=%{x}<br>10만명당_지점수=%{y} <b>(trend)</b><extra></extra>",
         "legendgroup": "",
         "marker": {
          "color": "#636efa",
          "symbol": "circle"
         },
         "mode": "lines",
         "name": "",
         "showlegend": false,
         "type": "scatter",
         "x": [
          25.6,
          28.7,
          28.9,
          29.2,
          29.8,
          30,
          31.6,
          34,
          34.2,
          35.3,
          37.4,
          38.9,
          40.6,
          42.1,
          42.2,
          42.2,
          52.6
         ],
         "xaxis": "x",
         "y": [
          2.97140285549676,
          3.2071590615810472,
          3.222369139392937,
          3.245184256110771,
          3.2908144895464395,
          3.306024567358329,
          3.427705189853445,
          3.610226123596119,
          3.625436201408009,
          3.709091629373401,
          3.8687974463982404,
          3.9828730299874118,
          4.112158691388473,
          4.226234274977644,
          4.233839313883589,
          4.233839313883589,
          5.0247633601018435
         ],
         "yaxis": "y"
        }
       ],
       "layout": {
        "legend": {
         "tracegroupgap": 0
        },
        "margin": {
         "t": 60
        },
        "template": {
         "data": {
          "bar": [
           {
            "error_x": {
             "color": "#2a3f5f"
            },
            "error_y": {
             "color": "#2a3f5f"
            },
            "marker": {
             "line": {
              "color": "#E5ECF6",
              "width": 0.5
             },
             "pattern": {
              "fillmode": "overlay",
              "size": 10,
              "solidity": 0.2
             }
            },
            "type": "bar"
           }
          ],
          "barpolar": [
           {
            "marker": {
             "line": {
              "color": "#E5ECF6",
              "width": 0.5
             },
             "pattern": {
              "fillmode": "overlay",
              "size": 10,
              "solidity": 0.2
             }
            },
            "type": "barpolar"
           }
          ],
          "carpet": [
           {
            "aaxis": {
             "endlinecolor": "#2a3f5f",
             "gridcolor": "white",
             "linecolor": "white",
             "minorgridcolor": "white",
             "startlinecolor": "#2a3f5f"
            },
            "baxis": {
             "endlinecolor": "#2a3f5f",
             "gridcolor": "white",
             "linecolor": "white",
             "minorgridcolor": "white",
             "startlinecolor": "#2a3f5f"
            },
            "type": "carpet"
           }
          ],
          "choropleth": [
           {
            "colorbar": {
             "outlinewidth": 0,
             "ticks": ""
            },
            "type": "choropleth"
           }
          ],
          "contour": [
           {
            "colorbar": {
             "outlinewidth": 0,
             "ticks": ""
            },
            "colorscale": [
             [
              0,
              "#0d0887"
             ],
             [
              0.1111111111111111,
              "#46039f"
             ],
             [
              0.2222222222222222,
              "#7201a8"
             ],
             [
              0.3333333333333333,
              "#9c179e"
             ],
             [
              0.4444444444444444,
              "#bd3786"
             ],
             [
              0.5555555555555556,
              "#d8576b"
             ],
             [
              0.6666666666666666,
              "#ed7953"
             ],
             [
              0.7777777777777778,
              "#fb9f3a"
             ],
             [
              0.8888888888888888,
              "#fdca26"
             ],
             [
              1,
              "#f0f921"
             ]
            ],
            "type": "contour"
           }
          ],
          "contourcarpet": [
           {
            "colorbar": {
             "outlinewidth": 0,
             "ticks": ""
            },
            "type": "contourcarpet"
           }
          ],
          "heatmap": [
           {
            "colorbar": {
             "outlinewidth": 0,
             "ticks": ""
            },
            "colorscale": [
             [
              0,
              "#0d0887"
             ],
             [
              0.1111111111111111,
              "#46039f"
             ],
             [
              0.2222222222222222,
              "#7201a8"
             ],
             [
              0.3333333333333333,
              "#9c179e"
             ],
             [
              0.4444444444444444,
              "#bd3786"
             ],
             [
              0.5555555555555556,
              "#d8576b"
             ],
             [
              0.6666666666666666,
              "#ed7953"
             ],
             [
              0.7777777777777778,
              "#fb9f3a"
             ],
             [
              0.8888888888888888,
              "#fdca26"
             ],
             [
              1,
              "#f0f921"
             ]
            ],
            "type": "heatmap"
           }
          ],
          "heatmapgl": [
           {
            "colorbar": {
             "outlinewidth": 0,
             "ticks": ""
            },
            "colorscale": [
             [
              0,
              "#0d0887"
             ],
             [
              0.1111111111111111,
              "#46039f"
             ],
             [
              0.2222222222222222,
              "#7201a8"
             ],
             [
              0.3333333333333333,
              "#9c179e"
             ],
             [
              0.4444444444444444,
              "#bd3786"
             ],
             [
              0.5555555555555556,
              "#d8576b"
             ],
             [
              0.6666666666666666,
              "#ed7953"
             ],
             [
              0.7777777777777778,
              "#fb9f3a"
             ],
             [
              0.8888888888888888,
              "#fdca26"
             ],
             [
              1,
              "#f0f921"
             ]
            ],
            "type": "heatmapgl"
           }
          ],
          "histogram": [
           {
            "marker": {
             "pattern": {
              "fillmode": "overlay",
              "size": 10,
              "solidity": 0.2
             }
            },
            "type": "histogram"
           }
          ],
          "histogram2d": [
           {
            "colorbar": {
             "outlinewidth": 0,
             "ticks": ""
            },
            "colorscale": [
             [
              0,
              "#0d0887"
             ],
             [
              0.1111111111111111,
              "#46039f"
             ],
             [
              0.2222222222222222,
              "#7201a8"
             ],
             [
              0.3333333333333333,
              "#9c179e"
             ],
             [
              0.4444444444444444,
              "#bd3786"
             ],
             [
              0.5555555555555556,
              "#d8576b"
             ],
             [
              0.6666666666666666,
              "#ed7953"
             ],
             [
              0.7777777777777778,
              "#fb9f3a"
             ],
             [
              0.8888888888888888,
              "#fdca26"
             ],
             [
              1,
              "#f0f921"
             ]
            ],
            "type": "histogram2d"
           }
          ],
          "histogram2dcontour": [
           {
            "colorbar": {
             "outlinewidth": 0,
             "ticks": ""
            },
            "colorscale": [
             [
              0,
              "#0d0887"
             ],
             [
              0.1111111111111111,
              "#46039f"
             ],
             [
              0.2222222222222222,
              "#7201a8"
             ],
             [
              0.3333333333333333,
              "#9c179e"
             ],
             [
              0.4444444444444444,
              "#bd3786"
             ],
             [
              0.5555555555555556,
              "#d8576b"
             ],
             [
              0.6666666666666666,
              "#ed7953"
             ],
             [
              0.7777777777777778,
              "#fb9f3a"
             ],
             [
              0.8888888888888888,
              "#fdca26"
             ],
             [
              1,
              "#f0f921"
             ]
            ],
            "type": "histogram2dcontour"
           }
          ],
          "mesh3d": [
           {
            "colorbar": {
             "outlinewidth": 0,
             "ticks": ""
            },
            "type": "mesh3d"
           }
          ],
          "parcoords": [
           {
            "line": {
             "colorbar": {
              "outlinewidth": 0,
              "ticks": ""
             }
            },
            "type": "parcoords"
           }
          ],
          "pie": [
           {
            "automargin": true,
            "type": "pie"
           }
          ],
          "scatter": [
           {
            "fillpattern": {
             "fillmode": "overlay",
             "size": 10,
             "solidity": 0.2
            },
            "type": "scatter"
           }
          ],
          "scatter3d": [
           {
            "line": {
             "colorbar": {
              "outlinewidth": 0,
              "ticks": ""
             }
            },
            "marker": {
             "colorbar": {
              "outlinewidth": 0,
              "ticks": ""
             }
            },
            "type": "scatter3d"
           }
          ],
          "scattercarpet": [
           {
            "marker": {
             "colorbar": {
              "outlinewidth": 0,
              "ticks": ""
             }
            },
            "type": "scattercarpet"
           }
          ],
          "scattergeo": [
           {
            "marker": {
             "colorbar": {
              "outlinewidth": 0,
              "ticks": ""
             }
            },
            "type": "scattergeo"
           }
          ],
          "scattergl": [
           {
            "marker": {
             "colorbar": {
              "outlinewidth": 0,
              "ticks": ""
             }
            },
            "type": "scattergl"
           }
          ],
          "scattermapbox": [
           {
            "marker": {
             "colorbar": {
              "outlinewidth": 0,
              "ticks": ""
             }
            },
            "type": "scattermapbox"
           }
          ],
          "scatterpolar": [
           {
            "marker": {
             "colorbar": {
              "outlinewidth": 0,
              "ticks": ""
             }
            },
            "type": "scatterpolar"
           }
          ],
          "scatterpolargl": [
           {
            "marker": {
             "colorbar": {
              "outlinewidth": 0,
              "ticks": ""
             }
            },
            "type": "scatterpolargl"
           }
          ],
          "scatterternary": [
           {
            "marker": {
             "colorbar": {
              "outlinewidth": 0,
              "ticks": ""
             }
            },
            "type": "scatterternary"
           }
          ],
          "surface": [
           {
            "colorbar": {
             "outlinewidth": 0,
             "ticks": ""
            },
            "colorscale": [
             [
              0,
              "#0d0887"
             ],
             [
              0.1111111111111111,
              "#46039f"
             ],
             [
              0.2222222222222222,
              "#7201a8"
             ],
             [
              0.3333333333333333,
              "#9c179e"
             ],
             [
              0.4444444444444444,
              "#bd3786"
             ],
             [
              0.5555555555555556,
              "#d8576b"
             ],
             [
              0.6666666666666666,
              "#ed7953"
             ],
             [
              0.7777777777777778,
              "#fb9f3a"
             ],
             [
              0.8888888888888888,
              "#fdca26"
             ],
             [
              1,
              "#f0f921"
             ]
            ],
            "type": "surface"
           }
          ],
          "table": [
           {
            "cells": {
             "fill": {
              "color": "#EBF0F8"
             },
             "line": {
              "color": "white"
             }
            },
            "header": {
             "fill": {
              "color": "#C8D4E3"
             },
             "line": {
              "color": "white"
             }
            },
            "type": "table"
           }
          ]
         },
         "layout": {
          "annotationdefaults": {
           "arrowcolor": "#2a3f5f",
           "arrowhead": 0,
           "arrowwidth": 1
          },
          "autotypenumbers": "strict",
          "coloraxis": {
           "colorbar": {
            "outlinewidth": 0,
            "ticks": ""
           }
          },
          "colorscale": {
           "diverging": [
            [
             0,
             "#8e0152"
            ],
            [
             0.1,
             "#c51b7d"
            ],
            [
             0.2,
             "#de77ae"
            ],
            [
             0.3,
             "#f1b6da"
            ],
            [
             0.4,
             "#fde0ef"
            ],
            [
             0.5,
             "#f7f7f7"
            ],
            [
             0.6,
             "#e6f5d0"
            ],
            [
             0.7,
             "#b8e186"
            ],
            [
             0.8,
             "#7fbc41"
            ],
            [
             0.9,
             "#4d9221"
            ],
            [
             1,
             "#276419"
            ]
           ],
           "sequential": [
            [
             0,
             "#0d0887"
            ],
            [
             0.1111111111111111,
             "#46039f"
            ],
            [
             0.2222222222222222,
             "#7201a8"
            ],
            [
             0.3333333333333333,
             "#9c179e"
            ],
            [
             0.4444444444444444,
             "#bd3786"
            ],
            [
             0.5555555555555556,
             "#d8576b"
            ],
            [
             0.6666666666666666,
             "#ed7953"
            ],
            [
             0.7777777777777778,
             "#fb9f3a"
            ],
            [
             0.8888888888888888,
             "#fdca26"
            ],
            [
             1,
             "#f0f921"
            ]
           ],
           "sequentialminus": [
            [
             0,
             "#0d0887"
            ],
            [
             0.1111111111111111,
             "#46039f"
            ],
            [
             0.2222222222222222,
             "#7201a8"
            ],
            [
             0.3333333333333333,
             "#9c179e"
            ],
            [
             0.4444444444444444,
             "#bd3786"
            ],
            [
             0.5555555555555556,
             "#d8576b"
            ],
            [
             0.6666666666666666,
             "#ed7953"
            ],
            [
             0.7777777777777778,
             "#fb9f3a"
            ],
            [
             0.8888888888888888,
             "#fdca26"
            ],
            [
             1,
             "#f0f921"
            ]
           ]
          },
          "colorway": [
           "#636efa",
           "#EF553B",
           "#00cc96",
           "#ab63fa",
           "#FFA15A",
           "#19d3f3",
           "#FF6692",
           "#B6E880",
           "#FF97FF",
           "#FECB52"
          ],
          "font": {
           "color": "#2a3f5f"
          },
          "geo": {
           "bgcolor": "white",
           "lakecolor": "white",
           "landcolor": "#E5ECF6",
           "showlakes": true,
           "showland": true,
           "subunitcolor": "white"
          },
          "hoverlabel": {
           "align": "left"
          },
          "hovermode": "closest",
          "mapbox": {
           "style": "light"
          },
          "paper_bgcolor": "white",
          "plot_bgcolor": "#E5ECF6",
          "polar": {
           "angularaxis": {
            "gridcolor": "white",
            "linecolor": "white",
            "ticks": ""
           },
           "bgcolor": "#E5ECF6",
           "radialaxis": {
            "gridcolor": "white",
            "linecolor": "white",
            "ticks": ""
           }
          },
          "scene": {
           "xaxis": {
            "backgroundcolor": "#E5ECF6",
            "gridcolor": "white",
            "gridwidth": 2,
            "linecolor": "white",
            "showbackground": true,
            "ticks": "",
            "zerolinecolor": "white"
           },
           "yaxis": {
            "backgroundcolor": "#E5ECF6",
            "gridcolor": "white",
            "gridwidth": 2,
            "linecolor": "white",
            "showbackground": true,
            "ticks": "",
            "zerolinecolor": "white"
           },
           "zaxis": {
            "backgroundcolor": "#E5ECF6",
            "gridcolor": "white",
            "gridwidth": 2,
            "linecolor": "white",
            "showbackground": true,
            "ticks": "",
            "zerolinecolor": "white"
           }
          },
          "shapedefaults": {
           "line": {
            "color": "#2a3f5f"
           }
          },
          "ternary": {
           "aaxis": {
            "gridcolor": "white",
            "linecolor": "white",
            "ticks": ""
           },
           "baxis": {
            "gridcolor": "white",
            "linecolor": "white",
            "ticks": ""
           },
           "bgcolor": "#E5ECF6",
           "caxis": {
            "gridcolor": "white",
            "linecolor": "white",
            "ticks": ""
           }
          },
          "title": {
           "x": 0.05
          },
          "xaxis": {
           "automargin": true,
           "gridcolor": "white",
           "linecolor": "white",
           "ticks": "",
           "title": {
            "standoff": 15
           },
           "zerolinecolor": "white",
           "zerolinewidth": 2
          },
          "yaxis": {
           "automargin": true,
           "gridcolor": "white",
           "linecolor": "white",
           "ticks": "",
           "title": {
            "standoff": 15
           },
           "zerolinecolor": "white",
           "zerolinewidth": 2
          }
         }
        },
        "xaxis": {
         "anchor": "y",
         "domain": [
          0,
          1
         ],
         "title": {
          "text": "1인당_사교육비(만 원)"
         }
        },
        "yaxis": {
         "anchor": "x",
         "domain": [
          0,
          1
         ],
         "title": {
          "text": "10만명당_지점수"
         }
        }
       }
      }
     },
     "metadata": {},
     "output_type": "display_data"
    }
   ],
   "source": [
    "fig = px.scatter(df2021_sort, x = '1인당_사교육비(만 원)', y = '10만명당_지점수', trendline=\"ols\")\n",
    "\n",
    "fig.show()"
   ]
  },
  {
   "cell_type": "code",
   "execution_count": 291,
   "metadata": {},
   "outputs": [
    {
     "data": {
      "text/plain": [
       "PearsonRResult(statistic=0.48612188198374817, pvalue=0.04787058049338256)"
      ]
     },
     "execution_count": 291,
     "metadata": {},
     "output_type": "execute_result"
    }
   ],
   "source": [
    "import scipy.stats as stats\n",
    "stats.pearsonr(df2021_sort['1인당_사교육비(만 원)'],df2021_sort['지점수'])"
   ]
  },
  {
   "cell_type": "code",
   "execution_count": 292,
   "metadata": {},
   "outputs": [
    {
     "data": {
      "text/plain": [
       "PearsonRResult(statistic=0.3920329639085506, pvalue=0.11962701770282531)"
      ]
     },
     "execution_count": 292,
     "metadata": {},
     "output_type": "execute_result"
    }
   ],
   "source": [
    "import scipy.stats as stats\n",
    "stats.pearsonr(df2021_sort['1인당_사교육비(만 원)'],df2021_sort['10만명당_지점수'])"
   ]
  },
  {
   "cell_type": "code",
   "execution_count": 293,
   "metadata": {},
   "outputs": [
    {
     "data": {
      "application/vnd.plotly.v1+json": {
       "config": {
        "plotlyServerURL": "https://plot.ly"
       },
       "data": [
        {
         "hovertemplate": "1인당_개인소득(원)=%{x}<br>10만명당_지점수=%{y}<extra></extra>",
         "legendgroup": "",
         "marker": {
          "color": "#636efa",
          "symbol": "circle"
         },
         "mode": "markers",
         "name": "",
         "orientation": "v",
         "showlegend": false,
         "type": "scatter",
         "x": [
          21038,
          21937,
          20650,
          20667,
          22472,
          21046,
          22730,
          21352,
          25256,
          22061,
          25165,
          21317,
          20881,
          20862,
          20475,
          21262,
          21081
         ],
         "xaxis": "x",
         "y": [
          3.1412851913926167,
          6.276504288908149,
          4.8463360937129,
          4.693988222287437,
          3.131441579553593,
          3.591268064078362,
          2.3750357951823418,
          4.703012355268587,
          4.098765814891453,
          6.534427283586303,
          1.4407716773103674,
          3.746915903483461,
          3.10483445304954,
          3.3253524873636606,
          2.2177046756606913,
          3.054877453818916,
          3.0153976047896824
         ],
         "yaxis": "y"
        },
        {
         "hovertemplate": "<b>OLS trendline</b><br>10만명당_지점수 = -0.000164294 * 1인당_개인소득(원) + 7.30166<br>R<sup>2</sup>=0.030617<br><br>1인당_개인소득(원)=%{x}<br>10만명당_지점수=%{y} <b>(trend)</b><extra></extra>",
         "legendgroup": "",
         "marker": {
          "color": "#636efa",
          "symbol": "circle"
         },
         "mode": "lines",
         "name": "",
         "showlegend": false,
         "type": "scatter",
         "x": [
          20475,
          20650,
          20667,
          20862,
          20881,
          21038,
          21046,
          21081,
          21262,
          21317,
          21352,
          21937,
          22061,
          22472,
          22730,
          25165,
          25256
         ],
         "xaxis": "x",
         "y": [
          3.9377338336644216,
          3.908982319036993,
          3.9061893147588997,
          3.8741519127454787,
          3.8710303197287863,
          3.8452361037487504,
          3.8439217487943536,
          3.8381714458688676,
          3.8084341650256412,
          3.7993979747141635,
          3.7936476717886776,
          3.697535465748415,
          3.6771629639552654,
          3.609637978173132,
          3.567250030893837,
          3.1671932416493247,
          3.152242454043062
         ],
         "yaxis": "y"
        }
       ],
       "layout": {
        "legend": {
         "tracegroupgap": 0
        },
        "margin": {
         "t": 60
        },
        "template": {
         "data": {
          "bar": [
           {
            "error_x": {
             "color": "#2a3f5f"
            },
            "error_y": {
             "color": "#2a3f5f"
            },
            "marker": {
             "line": {
              "color": "#E5ECF6",
              "width": 0.5
             },
             "pattern": {
              "fillmode": "overlay",
              "size": 10,
              "solidity": 0.2
             }
            },
            "type": "bar"
           }
          ],
          "barpolar": [
           {
            "marker": {
             "line": {
              "color": "#E5ECF6",
              "width": 0.5
             },
             "pattern": {
              "fillmode": "overlay",
              "size": 10,
              "solidity": 0.2
             }
            },
            "type": "barpolar"
           }
          ],
          "carpet": [
           {
            "aaxis": {
             "endlinecolor": "#2a3f5f",
             "gridcolor": "white",
             "linecolor": "white",
             "minorgridcolor": "white",
             "startlinecolor": "#2a3f5f"
            },
            "baxis": {
             "endlinecolor": "#2a3f5f",
             "gridcolor": "white",
             "linecolor": "white",
             "minorgridcolor": "white",
             "startlinecolor": "#2a3f5f"
            },
            "type": "carpet"
           }
          ],
          "choropleth": [
           {
            "colorbar": {
             "outlinewidth": 0,
             "ticks": ""
            },
            "type": "choropleth"
           }
          ],
          "contour": [
           {
            "colorbar": {
             "outlinewidth": 0,
             "ticks": ""
            },
            "colorscale": [
             [
              0,
              "#0d0887"
             ],
             [
              0.1111111111111111,
              "#46039f"
             ],
             [
              0.2222222222222222,
              "#7201a8"
             ],
             [
              0.3333333333333333,
              "#9c179e"
             ],
             [
              0.4444444444444444,
              "#bd3786"
             ],
             [
              0.5555555555555556,
              "#d8576b"
             ],
             [
              0.6666666666666666,
              "#ed7953"
             ],
             [
              0.7777777777777778,
              "#fb9f3a"
             ],
             [
              0.8888888888888888,
              "#fdca26"
             ],
             [
              1,
              "#f0f921"
             ]
            ],
            "type": "contour"
           }
          ],
          "contourcarpet": [
           {
            "colorbar": {
             "outlinewidth": 0,
             "ticks": ""
            },
            "type": "contourcarpet"
           }
          ],
          "heatmap": [
           {
            "colorbar": {
             "outlinewidth": 0,
             "ticks": ""
            },
            "colorscale": [
             [
              0,
              "#0d0887"
             ],
             [
              0.1111111111111111,
              "#46039f"
             ],
             [
              0.2222222222222222,
              "#7201a8"
             ],
             [
              0.3333333333333333,
              "#9c179e"
             ],
             [
              0.4444444444444444,
              "#bd3786"
             ],
             [
              0.5555555555555556,
              "#d8576b"
             ],
             [
              0.6666666666666666,
              "#ed7953"
             ],
             [
              0.7777777777777778,
              "#fb9f3a"
             ],
             [
              0.8888888888888888,
              "#fdca26"
             ],
             [
              1,
              "#f0f921"
             ]
            ],
            "type": "heatmap"
           }
          ],
          "heatmapgl": [
           {
            "colorbar": {
             "outlinewidth": 0,
             "ticks": ""
            },
            "colorscale": [
             [
              0,
              "#0d0887"
             ],
             [
              0.1111111111111111,
              "#46039f"
             ],
             [
              0.2222222222222222,
              "#7201a8"
             ],
             [
              0.3333333333333333,
              "#9c179e"
             ],
             [
              0.4444444444444444,
              "#bd3786"
             ],
             [
              0.5555555555555556,
              "#d8576b"
             ],
             [
              0.6666666666666666,
              "#ed7953"
             ],
             [
              0.7777777777777778,
              "#fb9f3a"
             ],
             [
              0.8888888888888888,
              "#fdca26"
             ],
             [
              1,
              "#f0f921"
             ]
            ],
            "type": "heatmapgl"
           }
          ],
          "histogram": [
           {
            "marker": {
             "pattern": {
              "fillmode": "overlay",
              "size": 10,
              "solidity": 0.2
             }
            },
            "type": "histogram"
           }
          ],
          "histogram2d": [
           {
            "colorbar": {
             "outlinewidth": 0,
             "ticks": ""
            },
            "colorscale": [
             [
              0,
              "#0d0887"
             ],
             [
              0.1111111111111111,
              "#46039f"
             ],
             [
              0.2222222222222222,
              "#7201a8"
             ],
             [
              0.3333333333333333,
              "#9c179e"
             ],
             [
              0.4444444444444444,
              "#bd3786"
             ],
             [
              0.5555555555555556,
              "#d8576b"
             ],
             [
              0.6666666666666666,
              "#ed7953"
             ],
             [
              0.7777777777777778,
              "#fb9f3a"
             ],
             [
              0.8888888888888888,
              "#fdca26"
             ],
             [
              1,
              "#f0f921"
             ]
            ],
            "type": "histogram2d"
           }
          ],
          "histogram2dcontour": [
           {
            "colorbar": {
             "outlinewidth": 0,
             "ticks": ""
            },
            "colorscale": [
             [
              0,
              "#0d0887"
             ],
             [
              0.1111111111111111,
              "#46039f"
             ],
             [
              0.2222222222222222,
              "#7201a8"
             ],
             [
              0.3333333333333333,
              "#9c179e"
             ],
             [
              0.4444444444444444,
              "#bd3786"
             ],
             [
              0.5555555555555556,
              "#d8576b"
             ],
             [
              0.6666666666666666,
              "#ed7953"
             ],
             [
              0.7777777777777778,
              "#fb9f3a"
             ],
             [
              0.8888888888888888,
              "#fdca26"
             ],
             [
              1,
              "#f0f921"
             ]
            ],
            "type": "histogram2dcontour"
           }
          ],
          "mesh3d": [
           {
            "colorbar": {
             "outlinewidth": 0,
             "ticks": ""
            },
            "type": "mesh3d"
           }
          ],
          "parcoords": [
           {
            "line": {
             "colorbar": {
              "outlinewidth": 0,
              "ticks": ""
             }
            },
            "type": "parcoords"
           }
          ],
          "pie": [
           {
            "automargin": true,
            "type": "pie"
           }
          ],
          "scatter": [
           {
            "fillpattern": {
             "fillmode": "overlay",
             "size": 10,
             "solidity": 0.2
            },
            "type": "scatter"
           }
          ],
          "scatter3d": [
           {
            "line": {
             "colorbar": {
              "outlinewidth": 0,
              "ticks": ""
             }
            },
            "marker": {
             "colorbar": {
              "outlinewidth": 0,
              "ticks": ""
             }
            },
            "type": "scatter3d"
           }
          ],
          "scattercarpet": [
           {
            "marker": {
             "colorbar": {
              "outlinewidth": 0,
              "ticks": ""
             }
            },
            "type": "scattercarpet"
           }
          ],
          "scattergeo": [
           {
            "marker": {
             "colorbar": {
              "outlinewidth": 0,
              "ticks": ""
             }
            },
            "type": "scattergeo"
           }
          ],
          "scattergl": [
           {
            "marker": {
             "colorbar": {
              "outlinewidth": 0,
              "ticks": ""
             }
            },
            "type": "scattergl"
           }
          ],
          "scattermapbox": [
           {
            "marker": {
             "colorbar": {
              "outlinewidth": 0,
              "ticks": ""
             }
            },
            "type": "scattermapbox"
           }
          ],
          "scatterpolar": [
           {
            "marker": {
             "colorbar": {
              "outlinewidth": 0,
              "ticks": ""
             }
            },
            "type": "scatterpolar"
           }
          ],
          "scatterpolargl": [
           {
            "marker": {
             "colorbar": {
              "outlinewidth": 0,
              "ticks": ""
             }
            },
            "type": "scatterpolargl"
           }
          ],
          "scatterternary": [
           {
            "marker": {
             "colorbar": {
              "outlinewidth": 0,
              "ticks": ""
             }
            },
            "type": "scatterternary"
           }
          ],
          "surface": [
           {
            "colorbar": {
             "outlinewidth": 0,
             "ticks": ""
            },
            "colorscale": [
             [
              0,
              "#0d0887"
             ],
             [
              0.1111111111111111,
              "#46039f"
             ],
             [
              0.2222222222222222,
              "#7201a8"
             ],
             [
              0.3333333333333333,
              "#9c179e"
             ],
             [
              0.4444444444444444,
              "#bd3786"
             ],
             [
              0.5555555555555556,
              "#d8576b"
             ],
             [
              0.6666666666666666,
              "#ed7953"
             ],
             [
              0.7777777777777778,
              "#fb9f3a"
             ],
             [
              0.8888888888888888,
              "#fdca26"
             ],
             [
              1,
              "#f0f921"
             ]
            ],
            "type": "surface"
           }
          ],
          "table": [
           {
            "cells": {
             "fill": {
              "color": "#EBF0F8"
             },
             "line": {
              "color": "white"
             }
            },
            "header": {
             "fill": {
              "color": "#C8D4E3"
             },
             "line": {
              "color": "white"
             }
            },
            "type": "table"
           }
          ]
         },
         "layout": {
          "annotationdefaults": {
           "arrowcolor": "#2a3f5f",
           "arrowhead": 0,
           "arrowwidth": 1
          },
          "autotypenumbers": "strict",
          "coloraxis": {
           "colorbar": {
            "outlinewidth": 0,
            "ticks": ""
           }
          },
          "colorscale": {
           "diverging": [
            [
             0,
             "#8e0152"
            ],
            [
             0.1,
             "#c51b7d"
            ],
            [
             0.2,
             "#de77ae"
            ],
            [
             0.3,
             "#f1b6da"
            ],
            [
             0.4,
             "#fde0ef"
            ],
            [
             0.5,
             "#f7f7f7"
            ],
            [
             0.6,
             "#e6f5d0"
            ],
            [
             0.7,
             "#b8e186"
            ],
            [
             0.8,
             "#7fbc41"
            ],
            [
             0.9,
             "#4d9221"
            ],
            [
             1,
             "#276419"
            ]
           ],
           "sequential": [
            [
             0,
             "#0d0887"
            ],
            [
             0.1111111111111111,
             "#46039f"
            ],
            [
             0.2222222222222222,
             "#7201a8"
            ],
            [
             0.3333333333333333,
             "#9c179e"
            ],
            [
             0.4444444444444444,
             "#bd3786"
            ],
            [
             0.5555555555555556,
             "#d8576b"
            ],
            [
             0.6666666666666666,
             "#ed7953"
            ],
            [
             0.7777777777777778,
             "#fb9f3a"
            ],
            [
             0.8888888888888888,
             "#fdca26"
            ],
            [
             1,
             "#f0f921"
            ]
           ],
           "sequentialminus": [
            [
             0,
             "#0d0887"
            ],
            [
             0.1111111111111111,
             "#46039f"
            ],
            [
             0.2222222222222222,
             "#7201a8"
            ],
            [
             0.3333333333333333,
             "#9c179e"
            ],
            [
             0.4444444444444444,
             "#bd3786"
            ],
            [
             0.5555555555555556,
             "#d8576b"
            ],
            [
             0.6666666666666666,
             "#ed7953"
            ],
            [
             0.7777777777777778,
             "#fb9f3a"
            ],
            [
             0.8888888888888888,
             "#fdca26"
            ],
            [
             1,
             "#f0f921"
            ]
           ]
          },
          "colorway": [
           "#636efa",
           "#EF553B",
           "#00cc96",
           "#ab63fa",
           "#FFA15A",
           "#19d3f3",
           "#FF6692",
           "#B6E880",
           "#FF97FF",
           "#FECB52"
          ],
          "font": {
           "color": "#2a3f5f"
          },
          "geo": {
           "bgcolor": "white",
           "lakecolor": "white",
           "landcolor": "#E5ECF6",
           "showlakes": true,
           "showland": true,
           "subunitcolor": "white"
          },
          "hoverlabel": {
           "align": "left"
          },
          "hovermode": "closest",
          "mapbox": {
           "style": "light"
          },
          "paper_bgcolor": "white",
          "plot_bgcolor": "#E5ECF6",
          "polar": {
           "angularaxis": {
            "gridcolor": "white",
            "linecolor": "white",
            "ticks": ""
           },
           "bgcolor": "#E5ECF6",
           "radialaxis": {
            "gridcolor": "white",
            "linecolor": "white",
            "ticks": ""
           }
          },
          "scene": {
           "xaxis": {
            "backgroundcolor": "#E5ECF6",
            "gridcolor": "white",
            "gridwidth": 2,
            "linecolor": "white",
            "showbackground": true,
            "ticks": "",
            "zerolinecolor": "white"
           },
           "yaxis": {
            "backgroundcolor": "#E5ECF6",
            "gridcolor": "white",
            "gridwidth": 2,
            "linecolor": "white",
            "showbackground": true,
            "ticks": "",
            "zerolinecolor": "white"
           },
           "zaxis": {
            "backgroundcolor": "#E5ECF6",
            "gridcolor": "white",
            "gridwidth": 2,
            "linecolor": "white",
            "showbackground": true,
            "ticks": "",
            "zerolinecolor": "white"
           }
          },
          "shapedefaults": {
           "line": {
            "color": "#2a3f5f"
           }
          },
          "ternary": {
           "aaxis": {
            "gridcolor": "white",
            "linecolor": "white",
            "ticks": ""
           },
           "baxis": {
            "gridcolor": "white",
            "linecolor": "white",
            "ticks": ""
           },
           "bgcolor": "#E5ECF6",
           "caxis": {
            "gridcolor": "white",
            "linecolor": "white",
            "ticks": ""
           }
          },
          "title": {
           "x": 0.05
          },
          "xaxis": {
           "automargin": true,
           "gridcolor": "white",
           "linecolor": "white",
           "ticks": "",
           "title": {
            "standoff": 15
           },
           "zerolinecolor": "white",
           "zerolinewidth": 2
          },
          "yaxis": {
           "automargin": true,
           "gridcolor": "white",
           "linecolor": "white",
           "ticks": "",
           "title": {
            "standoff": 15
           },
           "zerolinecolor": "white",
           "zerolinewidth": 2
          }
         }
        },
        "xaxis": {
         "anchor": "y",
         "domain": [
          0,
          1
         ],
         "title": {
          "text": "1인당_개인소득(원)"
         }
        },
        "yaxis": {
         "anchor": "x",
         "domain": [
          0,
          1
         ],
         "title": {
          "text": "10만명당_지점수"
         }
        }
       }
      }
     },
     "metadata": {},
     "output_type": "display_data"
    }
   ],
   "source": [
    "fig = px.scatter(df2021_sort, x = '1인당_개인소득(원)', y = '10만명당_지점수', trendline=\"ols\")\n",
    "\n",
    "fig.show()"
   ]
  },
  {
   "cell_type": "code",
   "execution_count": 294,
   "metadata": {},
   "outputs": [
    {
     "data": {
      "text/plain": [
       "PearsonRResult(statistic=0.18462104417150726, pvalue=0.4780978708031802)"
      ]
     },
     "execution_count": 294,
     "metadata": {},
     "output_type": "execute_result"
    }
   ],
   "source": [
    "import scipy.stats as stats\n",
    "stats.pearsonr(df2021_sort['1인당_개인소득(원)'],df2021_sort['지점수'])"
   ]
  },
  {
   "cell_type": "code",
   "execution_count": 295,
   "metadata": {},
   "outputs": [
    {
     "data": {
      "text/plain": [
       "PearsonRResult(statistic=-0.17497815815349096, pvalue=0.5017668188364592)"
      ]
     },
     "execution_count": 295,
     "metadata": {},
     "output_type": "execute_result"
    }
   ],
   "source": [
    "import scipy.stats as stats\n",
    "stats.pearsonr(df2021_sort['1인당_개인소득(원)'],df2021_sort['10만명당_지점수'])"
   ]
  },
  {
   "cell_type": "code",
   "execution_count": null,
   "metadata": {},
   "outputs": [],
   "source": []
  },
  {
   "cell_type": "markdown",
   "metadata": {},
   "source": [
    "---\n",
    "#### 지역별 1인당 생산과 지점수의 관계가 있을까"
   ]
  },
  {
   "cell_type": "code",
   "execution_count": 66,
   "metadata": {},
   "outputs": [],
   "source": [
    "서울 = pd.read_csv('./data/시군구/서울_시군구_총생산(당해년).csv', encoding = 'cp949').drop(index = (0))\n",
    "부산 = pd.read_csv('./data/시군구/부산_시군구_총생산(당해년).csv', encoding = 'cp949').drop(index = (0))\n",
    "대구 = pd.read_csv('./data/시군구/대구_시군구_총생산(실질).csv', encoding = 'cp949').drop(index = (0))\n",
    "인천 = pd.read_csv('./data/시군구/인천_시군구_총생산(당해년).csv', encoding = 'cp949').drop(index = (0))\n",
    "광주 = pd.read_csv('./data/시군구/광주_시군구_총생산(당해년).csv', encoding = 'cp949').drop(index = (0))\n",
    "대전 = pd.read_csv('./data/시군구/대전_시군구_총생산(당해년).csv', encoding = 'cp949').drop(index = (0))\n",
    "울산 = pd.read_csv('./data/시군구/울산_시군구_총생산(당해년).csv', encoding = 'cp949').drop(index = (0))\n",
    "경기 = pd.read_csv('./data/시군구/경기_시군구_총생산(당해년).csv', encoding = 'cp949').drop(index = (0))\n",
    "강원 = pd.read_csv('./data/시군구/강원_시군구_총생산(당해년).csv', encoding = 'cp949').drop(index = (0))\n",
    "충북 = pd.read_csv('./data/시군구/충북_시군구_총생산(당해년).csv', encoding = 'cp949').drop(index = (0))\n",
    "충남 = pd.read_csv('./data/시군구/충남_시군구_총생산(당해년).csv', encoding = 'cp949').drop(index = (0))\n",
    "전북 = pd.read_csv('./data/시군구/전북_시군구_총생산(당해년).csv', encoding = 'cp949').drop(index = (0))\n",
    "전남 = pd.read_csv('./data/시군구/전남_시군구_총생산(당해년).csv', encoding = 'cp949').drop(index = (0))\n",
    "경북 = pd.read_csv('./data/시군구/경북_시군구_총생산(당해년).csv', encoding = 'cp949').drop(index = (0))\n",
    "경남 = pd.read_csv('./data/시군구/경남_시군구_총생산(당해년).csv', encoding = 'cp949').drop(index = (0))\n",
    "제주 = pd.read_csv('./data/시군구/제주_시군구_총생산(당해년).csv', encoding = 'cp949').drop(index = (0))"
   ]
  },
  {
   "cell_type": "code",
   "execution_count": 67,
   "metadata": {},
   "outputs": [],
   "source": [
    "대구 = 대구[['시군구별(1)', '시점', '지역내총생산(시장가격)']]"
   ]
  },
  {
   "cell_type": "code",
   "execution_count": 68,
   "metadata": {},
   "outputs": [],
   "source": [
    "target = [서울, 부산, 대구, 인천, 광주, 대전, 울산, 경기, 강원, 충북, 충남, 전북, 전남, 경북, 경남, 제주]\n",
    "target2 = ['서울', '부산', '대구', '인천', '광주', '대전', '울산', '경기', \n",
    "          '강원', '충북', '충남', '전북', '전남', '경북', '경남', '제주']"
   ]
  },
  {
   "cell_type": "code",
   "execution_count": 69,
   "metadata": {},
   "outputs": [],
   "source": [
    "# 시군구에 시도 정보 넣기\n",
    "\n",
    "j = 0\n",
    "k = 0\n",
    "for i in target:\n",
    "    target[j] = i.rename(columns = {f'{i.columns[0]}': '시군구별'})\n",
    "    target[j]['시도별'] = f'{target2[k]}'\n",
    "    j += 1\n",
    "    k += 1"
   ]
  },
  {
   "cell_type": "code",
   "execution_count": 70,
   "metadata": {},
   "outputs": [],
   "source": [
    "grdp_gungu = pd.DataFrame()\n"
   ]
  },
  {
   "cell_type": "code",
   "execution_count": 71,
   "metadata": {},
   "outputs": [],
   "source": [
    "for i in range(len(target)):\n",
    "    grdp_gungu = pd.concat([grdp_gungu, target[i]])"
   ]
  },
  {
   "cell_type": "code",
   "execution_count": 72,
   "metadata": {},
   "outputs": [
    {
     "data": {
      "text/html": [
       "<div>\n",
       "<style scoped>\n",
       "    .dataframe tbody tr th:only-of-type {\n",
       "        vertical-align: middle;\n",
       "    }\n",
       "\n",
       "    .dataframe tbody tr th {\n",
       "        vertical-align: top;\n",
       "    }\n",
       "\n",
       "    .dataframe thead th {\n",
       "        text-align: right;\n",
       "    }\n",
       "</style>\n",
       "<table border=\"1\" class=\"dataframe\">\n",
       "  <thead>\n",
       "    <tr style=\"text-align: right;\">\n",
       "      <th></th>\n",
       "      <th>시군구별</th>\n",
       "      <th>시점</th>\n",
       "      <th>지역내총생산(시장가격)</th>\n",
       "      <th>시도별</th>\n",
       "    </tr>\n",
       "  </thead>\n",
       "  <tbody>\n",
       "    <tr>\n",
       "      <th>1</th>\n",
       "      <td>종로구</td>\n",
       "      <td>2015</td>\n",
       "      <td>29331069</td>\n",
       "      <td>서울</td>\n",
       "    </tr>\n",
       "    <tr>\n",
       "      <th>2</th>\n",
       "      <td>종로구</td>\n",
       "      <td>2016</td>\n",
       "      <td>30190706</td>\n",
       "      <td>서울</td>\n",
       "    </tr>\n",
       "    <tr>\n",
       "      <th>3</th>\n",
       "      <td>종로구</td>\n",
       "      <td>2017</td>\n",
       "      <td>31416328</td>\n",
       "      <td>서울</td>\n",
       "    </tr>\n",
       "    <tr>\n",
       "      <th>4</th>\n",
       "      <td>종로구</td>\n",
       "      <td>2018</td>\n",
       "      <td>31868698</td>\n",
       "      <td>서울</td>\n",
       "    </tr>\n",
       "    <tr>\n",
       "      <th>5</th>\n",
       "      <td>종로구</td>\n",
       "      <td>2019</td>\n",
       "      <td>33780610</td>\n",
       "      <td>서울</td>\n",
       "    </tr>\n",
       "    <tr>\n",
       "      <th>...</th>\n",
       "      <td>...</td>\n",
       "      <td>...</td>\n",
       "      <td>...</td>\n",
       "      <td>...</td>\n",
       "    </tr>\n",
       "    <tr>\n",
       "      <th>6</th>\n",
       "      <td>서귀포시</td>\n",
       "      <td>2015</td>\n",
       "      <td>4768246</td>\n",
       "      <td>제주</td>\n",
       "    </tr>\n",
       "    <tr>\n",
       "      <th>7</th>\n",
       "      <td>서귀포시</td>\n",
       "      <td>2016</td>\n",
       "      <td>5255821</td>\n",
       "      <td>제주</td>\n",
       "    </tr>\n",
       "    <tr>\n",
       "      <th>8</th>\n",
       "      <td>서귀포시</td>\n",
       "      <td>2017</td>\n",
       "      <td>5936937</td>\n",
       "      <td>제주</td>\n",
       "    </tr>\n",
       "    <tr>\n",
       "      <th>9</th>\n",
       "      <td>서귀포시</td>\n",
       "      <td>2018</td>\n",
       "      <td>5707401</td>\n",
       "      <td>제주</td>\n",
       "    </tr>\n",
       "    <tr>\n",
       "      <th>10</th>\n",
       "      <td>서귀포시</td>\n",
       "      <td>2019</td>\n",
       "      <td>5449232</td>\n",
       "      <td>제주</td>\n",
       "    </tr>\n",
       "  </tbody>\n",
       "</table>\n",
       "<p>1140 rows × 4 columns</p>\n",
       "</div>"
      ],
      "text/plain": [
       "    시군구별    시점 지역내총생산(시장가격) 시도별\n",
       "1    종로구  2015     29331069  서울\n",
       "2    종로구  2016     30190706  서울\n",
       "3    종로구  2017     31416328  서울\n",
       "4    종로구  2018     31868698  서울\n",
       "5    종로구  2019     33780610  서울\n",
       "..   ...   ...          ...  ..\n",
       "6   서귀포시  2015      4768246  제주\n",
       "7   서귀포시  2016      5255821  제주\n",
       "8   서귀포시  2017      5936937  제주\n",
       "9   서귀포시  2018      5707401  제주\n",
       "10  서귀포시  2019      5449232  제주\n",
       "\n",
       "[1140 rows x 4 columns]"
      ]
     },
     "execution_count": 72,
     "metadata": {},
     "output_type": "execute_result"
    }
   ],
   "source": [
    "grdp_gungu"
   ]
  },
  {
   "cell_type": "code",
   "execution_count": 73,
   "metadata": {},
   "outputs": [],
   "source": [
    "grdp_gungu['지역'] = grdp_gungu['시도별'] + ' ' + grdp_gungu['시군구별']"
   ]
  },
  {
   "cell_type": "code",
   "execution_count": null,
   "metadata": {},
   "outputs": [],
   "source": [
    "# grdp_gungu에 시군구별 인구 컬럼 만들기\n",
    "\n",
    "pop = pd.read_csv('./data/시군구/시군구_인구.csv', encoding = 'cp949')"
   ]
  },
  {
   "cell_type": "code",
   "execution_count": 74,
   "metadata": {},
   "outputs": [
    {
     "data": {
      "text/html": [
       "<div>\n",
       "<style scoped>\n",
       "    .dataframe tbody tr th:only-of-type {\n",
       "        vertical-align: middle;\n",
       "    }\n",
       "\n",
       "    .dataframe tbody tr th {\n",
       "        vertical-align: top;\n",
       "    }\n",
       "\n",
       "    .dataframe thead th {\n",
       "        text-align: right;\n",
       "    }\n",
       "</style>\n",
       "<table border=\"1\" class=\"dataframe\">\n",
       "  <thead>\n",
       "    <tr style=\"text-align: right;\">\n",
       "      <th></th>\n",
       "      <th>행정구역별(읍면동)</th>\n",
       "      <th>시점</th>\n",
       "      <th>총인구 (명)</th>\n",
       "    </tr>\n",
       "  </thead>\n",
       "  <tbody>\n",
       "    <tr>\n",
       "      <th>0</th>\n",
       "      <td>종로구</td>\n",
       "      <td>2015</td>\n",
       "      <td>161521</td>\n",
       "    </tr>\n",
       "    <tr>\n",
       "      <th>1</th>\n",
       "      <td>종로구</td>\n",
       "      <td>2016</td>\n",
       "      <td>154398</td>\n",
       "    </tr>\n",
       "    <tr>\n",
       "      <th>2</th>\n",
       "      <td>종로구</td>\n",
       "      <td>2017</td>\n",
       "      <td>157277</td>\n",
       "    </tr>\n",
       "    <tr>\n",
       "      <th>3</th>\n",
       "      <td>종로구</td>\n",
       "      <td>2018</td>\n",
       "      <td>157967</td>\n",
       "    </tr>\n",
       "    <tr>\n",
       "      <th>4</th>\n",
       "      <td>종로구</td>\n",
       "      <td>2019</td>\n",
       "      <td>154969</td>\n",
       "    </tr>\n",
       "    <tr>\n",
       "      <th>...</th>\n",
       "      <td>...</td>\n",
       "      <td>...</td>\n",
       "      <td>...</td>\n",
       "    </tr>\n",
       "    <tr>\n",
       "      <th>1135</th>\n",
       "      <td>서귀포시</td>\n",
       "      <td>2015</td>\n",
       "      <td>153861</td>\n",
       "    </tr>\n",
       "    <tr>\n",
       "      <th>1136</th>\n",
       "      <td>서귀포시</td>\n",
       "      <td>2016</td>\n",
       "      <td>161046</td>\n",
       "    </tr>\n",
       "    <tr>\n",
       "      <th>1137</th>\n",
       "      <td>서귀포시</td>\n",
       "      <td>2017</td>\n",
       "      <td>169358</td>\n",
       "    </tr>\n",
       "    <tr>\n",
       "      <th>1138</th>\n",
       "      <td>서귀포시</td>\n",
       "      <td>2018</td>\n",
       "      <td>175350</td>\n",
       "    </tr>\n",
       "    <tr>\n",
       "      <th>1139</th>\n",
       "      <td>서귀포시</td>\n",
       "      <td>2019</td>\n",
       "      <td>177360</td>\n",
       "    </tr>\n",
       "  </tbody>\n",
       "</table>\n",
       "<p>1140 rows × 3 columns</p>\n",
       "</div>"
      ],
      "text/plain": [
       "     행정구역별(읍면동)    시점  총인구 (명)\n",
       "0           종로구  2015   161521\n",
       "1           종로구  2016   154398\n",
       "2           종로구  2017   157277\n",
       "3           종로구  2018   157967\n",
       "4           종로구  2019   154969\n",
       "...         ...   ...      ...\n",
       "1135       서귀포시  2015   153861\n",
       "1136       서귀포시  2016   161046\n",
       "1137       서귀포시  2017   169358\n",
       "1138       서귀포시  2018   175350\n",
       "1139       서귀포시  2019   177360\n",
       "\n",
       "[1140 rows x 3 columns]"
      ]
     },
     "execution_count": 74,
     "metadata": {},
     "output_type": "execute_result"
    }
   ],
   "source": [
    "pop"
   ]
  },
  {
   "cell_type": "code",
   "execution_count": 76,
   "metadata": {},
   "outputs": [
    {
     "data": {
      "text/html": [
       "<div>\n",
       "<style scoped>\n",
       "    .dataframe tbody tr th:only-of-type {\n",
       "        vertical-align: middle;\n",
       "    }\n",
       "\n",
       "    .dataframe tbody tr th {\n",
       "        vertical-align: top;\n",
       "    }\n",
       "\n",
       "    .dataframe thead th {\n",
       "        text-align: right;\n",
       "    }\n",
       "</style>\n",
       "<table border=\"1\" class=\"dataframe\">\n",
       "  <thead>\n",
       "    <tr style=\"text-align: right;\">\n",
       "      <th></th>\n",
       "      <th>행정구역별(읍면동)</th>\n",
       "      <th>시점</th>\n",
       "      <th>총인구 (명)</th>\n",
       "    </tr>\n",
       "  </thead>\n",
       "  <tbody>\n",
       "    <tr>\n",
       "      <th>0</th>\n",
       "      <td>가평군</td>\n",
       "      <td>2015</td>\n",
       "      <td>58909</td>\n",
       "    </tr>\n",
       "    <tr>\n",
       "      <th>1</th>\n",
       "      <td>가평군</td>\n",
       "      <td>2016</td>\n",
       "      <td>59391</td>\n",
       "    </tr>\n",
       "    <tr>\n",
       "      <th>2</th>\n",
       "      <td>가평군</td>\n",
       "      <td>2017</td>\n",
       "      <td>59548</td>\n",
       "    </tr>\n",
       "    <tr>\n",
       "      <th>3</th>\n",
       "      <td>가평군</td>\n",
       "      <td>2018</td>\n",
       "      <td>59957</td>\n",
       "    </tr>\n",
       "    <tr>\n",
       "      <th>4</th>\n",
       "      <td>가평군</td>\n",
       "      <td>2019</td>\n",
       "      <td>59823</td>\n",
       "    </tr>\n",
       "    <tr>\n",
       "      <th>...</th>\n",
       "      <td>...</td>\n",
       "      <td>...</td>\n",
       "      <td>...</td>\n",
       "    </tr>\n",
       "    <tr>\n",
       "      <th>1135</th>\n",
       "      <td>횡성군</td>\n",
       "      <td>2015</td>\n",
       "      <td>42669</td>\n",
       "    </tr>\n",
       "    <tr>\n",
       "      <th>1136</th>\n",
       "      <td>횡성군</td>\n",
       "      <td>2016</td>\n",
       "      <td>42927</td>\n",
       "    </tr>\n",
       "    <tr>\n",
       "      <th>1137</th>\n",
       "      <td>횡성군</td>\n",
       "      <td>2017</td>\n",
       "      <td>43211</td>\n",
       "    </tr>\n",
       "    <tr>\n",
       "      <th>1138</th>\n",
       "      <td>횡성군</td>\n",
       "      <td>2018</td>\n",
       "      <td>44116</td>\n",
       "    </tr>\n",
       "    <tr>\n",
       "      <th>1139</th>\n",
       "      <td>횡성군</td>\n",
       "      <td>2019</td>\n",
       "      <td>44431</td>\n",
       "    </tr>\n",
       "  </tbody>\n",
       "</table>\n",
       "<p>1140 rows × 3 columns</p>\n",
       "</div>"
      ],
      "text/plain": [
       "     행정구역별(읍면동)    시점  총인구 (명)\n",
       "0           가평군  2015    58909\n",
       "1           가평군  2016    59391\n",
       "2           가평군  2017    59548\n",
       "3           가평군  2018    59957\n",
       "4           가평군  2019    59823\n",
       "...         ...   ...      ...\n",
       "1135        횡성군  2015    42669\n",
       "1136        횡성군  2016    42927\n",
       "1137        횡성군  2017    43211\n",
       "1138        횡성군  2018    44116\n",
       "1139        횡성군  2019    44431\n",
       "\n",
       "[1140 rows x 3 columns]"
      ]
     },
     "execution_count": 76,
     "metadata": {},
     "output_type": "execute_result"
    }
   ],
   "source": [
    "pop_sort = pop.sort_values(by = ['행정구역별(읍면동)', '시점']).reset_index(drop=True)\n",
    "\n",
    "pop_sort"
   ]
  },
  {
   "cell_type": "code",
   "execution_count": 77,
   "metadata": {},
   "outputs": [],
   "source": [
    "gungu_sort = grdp_gungu.sort_values(by = ['시군구별', '시점']).reset_index(drop=True)"
   ]
  },
  {
   "cell_type": "code",
   "execution_count": 78,
   "metadata": {},
   "outputs": [
    {
     "data": {
      "text/html": [
       "<div>\n",
       "<style scoped>\n",
       "    .dataframe tbody tr th:only-of-type {\n",
       "        vertical-align: middle;\n",
       "    }\n",
       "\n",
       "    .dataframe tbody tr th {\n",
       "        vertical-align: top;\n",
       "    }\n",
       "\n",
       "    .dataframe thead th {\n",
       "        text-align: right;\n",
       "    }\n",
       "</style>\n",
       "<table border=\"1\" class=\"dataframe\">\n",
       "  <thead>\n",
       "    <tr style=\"text-align: right;\">\n",
       "      <th></th>\n",
       "      <th>시군구별</th>\n",
       "      <th>시점</th>\n",
       "      <th>지역내총생산(시장가격)</th>\n",
       "      <th>시도별</th>\n",
       "      <th>지역</th>\n",
       "    </tr>\n",
       "  </thead>\n",
       "  <tbody>\n",
       "    <tr>\n",
       "      <th>0</th>\n",
       "      <td>가평군</td>\n",
       "      <td>2015</td>\n",
       "      <td>1494257</td>\n",
       "      <td>경기</td>\n",
       "      <td>경기 가평군</td>\n",
       "    </tr>\n",
       "    <tr>\n",
       "      <th>1</th>\n",
       "      <td>가평군</td>\n",
       "      <td>2016</td>\n",
       "      <td>1601945</td>\n",
       "      <td>경기</td>\n",
       "      <td>경기 가평군</td>\n",
       "    </tr>\n",
       "    <tr>\n",
       "      <th>2</th>\n",
       "      <td>가평군</td>\n",
       "      <td>2017</td>\n",
       "      <td>1698550</td>\n",
       "      <td>경기</td>\n",
       "      <td>경기 가평군</td>\n",
       "    </tr>\n",
       "    <tr>\n",
       "      <th>3</th>\n",
       "      <td>가평군</td>\n",
       "      <td>2018</td>\n",
       "      <td>1831625</td>\n",
       "      <td>경기</td>\n",
       "      <td>경기 가평군</td>\n",
       "    </tr>\n",
       "    <tr>\n",
       "      <th>4</th>\n",
       "      <td>가평군</td>\n",
       "      <td>2019</td>\n",
       "      <td>1814241</td>\n",
       "      <td>경기</td>\n",
       "      <td>경기 가평군</td>\n",
       "    </tr>\n",
       "    <tr>\n",
       "      <th>...</th>\n",
       "      <td>...</td>\n",
       "      <td>...</td>\n",
       "      <td>...</td>\n",
       "      <td>...</td>\n",
       "      <td>...</td>\n",
       "    </tr>\n",
       "    <tr>\n",
       "      <th>1135</th>\n",
       "      <td>횡성군</td>\n",
       "      <td>2015</td>\n",
       "      <td>1519023</td>\n",
       "      <td>강원</td>\n",
       "      <td>강원 횡성군</td>\n",
       "    </tr>\n",
       "    <tr>\n",
       "      <th>1136</th>\n",
       "      <td>횡성군</td>\n",
       "      <td>2016</td>\n",
       "      <td>1557368</td>\n",
       "      <td>강원</td>\n",
       "      <td>강원 횡성군</td>\n",
       "    </tr>\n",
       "    <tr>\n",
       "      <th>1137</th>\n",
       "      <td>횡성군</td>\n",
       "      <td>2017</td>\n",
       "      <td>1595133</td>\n",
       "      <td>강원</td>\n",
       "      <td>강원 횡성군</td>\n",
       "    </tr>\n",
       "    <tr>\n",
       "      <th>1138</th>\n",
       "      <td>횡성군</td>\n",
       "      <td>2018</td>\n",
       "      <td>1667936</td>\n",
       "      <td>강원</td>\n",
       "      <td>강원 횡성군</td>\n",
       "    </tr>\n",
       "    <tr>\n",
       "      <th>1139</th>\n",
       "      <td>횡성군</td>\n",
       "      <td>2019</td>\n",
       "      <td>1730581</td>\n",
       "      <td>강원</td>\n",
       "      <td>강원 횡성군</td>\n",
       "    </tr>\n",
       "  </tbody>\n",
       "</table>\n",
       "<p>1140 rows × 5 columns</p>\n",
       "</div>"
      ],
      "text/plain": [
       "     시군구별    시점 지역내총생산(시장가격) 시도별      지역\n",
       "0     가평군  2015      1494257  경기  경기 가평군\n",
       "1     가평군  2016      1601945  경기  경기 가평군\n",
       "2     가평군  2017      1698550  경기  경기 가평군\n",
       "3     가평군  2018      1831625  경기  경기 가평군\n",
       "4     가평군  2019      1814241  경기  경기 가평군\n",
       "...   ...   ...          ...  ..     ...\n",
       "1135  횡성군  2015      1519023  강원  강원 횡성군\n",
       "1136  횡성군  2016      1557368  강원  강원 횡성군\n",
       "1137  횡성군  2017      1595133  강원  강원 횡성군\n",
       "1138  횡성군  2018      1667936  강원  강원 횡성군\n",
       "1139  횡성군  2019      1730581  강원  강원 횡성군\n",
       "\n",
       "[1140 rows x 5 columns]"
      ]
     },
     "execution_count": 78,
     "metadata": {},
     "output_type": "execute_result"
    }
   ],
   "source": [
    "gungu_sort"
   ]
  },
  {
   "cell_type": "code",
   "execution_count": 79,
   "metadata": {},
   "outputs": [],
   "source": [
    "gungu_sort = gungu_sort.rename(columns = {'지역내총생산(시장가격)': '지역내총생산(백만원)'})"
   ]
  },
  {
   "cell_type": "code",
   "execution_count": 80,
   "metadata": {},
   "outputs": [],
   "source": [
    "gungu_sort['총인구(명)'] = pop_sort['총인구 (명)']"
   ]
  },
  {
   "cell_type": "code",
   "execution_count": 81,
   "metadata": {},
   "outputs": [
    {
     "data": {
      "text/html": [
       "<div>\n",
       "<style scoped>\n",
       "    .dataframe tbody tr th:only-of-type {\n",
       "        vertical-align: middle;\n",
       "    }\n",
       "\n",
       "    .dataframe tbody tr th {\n",
       "        vertical-align: top;\n",
       "    }\n",
       "\n",
       "    .dataframe thead th {\n",
       "        text-align: right;\n",
       "    }\n",
       "</style>\n",
       "<table border=\"1\" class=\"dataframe\">\n",
       "  <thead>\n",
       "    <tr style=\"text-align: right;\">\n",
       "      <th></th>\n",
       "      <th>시군구별</th>\n",
       "      <th>시점</th>\n",
       "      <th>지역내총생산(백만원)</th>\n",
       "      <th>시도별</th>\n",
       "      <th>지역</th>\n",
       "      <th>총인구(명)</th>\n",
       "    </tr>\n",
       "  </thead>\n",
       "  <tbody>\n",
       "    <tr>\n",
       "      <th>796</th>\n",
       "      <td>울릉군</td>\n",
       "      <td>2016</td>\n",
       "      <td>271259</td>\n",
       "      <td>경북</td>\n",
       "      <td>경북 울릉군</td>\n",
       "      <td>8490</td>\n",
       "    </tr>\n",
       "    <tr>\n",
       "      <th>797</th>\n",
       "      <td>울릉군</td>\n",
       "      <td>2017</td>\n",
       "      <td>287017</td>\n",
       "      <td>경북</td>\n",
       "      <td>경북 울릉군</td>\n",
       "      <td>8702</td>\n",
       "    </tr>\n",
       "    <tr>\n",
       "      <th>799</th>\n",
       "      <td>울릉군</td>\n",
       "      <td>2019</td>\n",
       "      <td>299708</td>\n",
       "      <td>경북</td>\n",
       "      <td>경북 울릉군</td>\n",
       "      <td>8704</td>\n",
       "    </tr>\n",
       "    <tr>\n",
       "      <th>798</th>\n",
       "      <td>울릉군</td>\n",
       "      <td>2018</td>\n",
       "      <td>318439</td>\n",
       "      <td>경북</td>\n",
       "      <td>경북 울릉군</td>\n",
       "      <td>8729</td>\n",
       "    </tr>\n",
       "    <tr>\n",
       "      <th>795</th>\n",
       "      <td>울릉군</td>\n",
       "      <td>2015</td>\n",
       "      <td>280227</td>\n",
       "      <td>경북</td>\n",
       "      <td>경북 울릉군</td>\n",
       "      <td>8770</td>\n",
       "    </tr>\n",
       "    <tr>\n",
       "      <th>...</th>\n",
       "      <td>...</td>\n",
       "      <td>...</td>\n",
       "      <td>...</td>\n",
       "      <td>...</td>\n",
       "      <td>...</td>\n",
       "      <td>...</td>\n",
       "    </tr>\n",
       "    <tr>\n",
       "      <th>595</th>\n",
       "      <td>수원시</td>\n",
       "      <td>2015</td>\n",
       "      <td>30963276</td>\n",
       "      <td>경기</td>\n",
       "      <td>경기 수원시</td>\n",
       "      <td>1194313</td>\n",
       "    </tr>\n",
       "    <tr>\n",
       "      <th>596</th>\n",
       "      <td>수원시</td>\n",
       "      <td>2016</td>\n",
       "      <td>31802827</td>\n",
       "      <td>경기</td>\n",
       "      <td>경기 수원시</td>\n",
       "      <td>1207032</td>\n",
       "    </tr>\n",
       "    <tr>\n",
       "      <th>599</th>\n",
       "      <td>수원시</td>\n",
       "      <td>2019</td>\n",
       "      <td>36621012</td>\n",
       "      <td>경기</td>\n",
       "      <td>경기 수원시</td>\n",
       "      <td>1214986</td>\n",
       "    </tr>\n",
       "    <tr>\n",
       "      <th>597</th>\n",
       "      <td>수원시</td>\n",
       "      <td>2017</td>\n",
       "      <td>33949983</td>\n",
       "      <td>경기</td>\n",
       "      <td>경기 수원시</td>\n",
       "      <td>1216996</td>\n",
       "    </tr>\n",
       "    <tr>\n",
       "      <th>598</th>\n",
       "      <td>수원시</td>\n",
       "      <td>2018</td>\n",
       "      <td>35441134</td>\n",
       "      <td>경기</td>\n",
       "      <td>경기 수원시</td>\n",
       "      <td>1218843</td>\n",
       "    </tr>\n",
       "  </tbody>\n",
       "</table>\n",
       "<p>1140 rows × 6 columns</p>\n",
       "</div>"
      ],
      "text/plain": [
       "    시군구별    시점 지역내총생산(백만원) 시도별      지역   총인구(명)\n",
       "796  울릉군  2016      271259  경북  경북 울릉군     8490\n",
       "797  울릉군  2017      287017  경북  경북 울릉군     8702\n",
       "799  울릉군  2019      299708  경북  경북 울릉군     8704\n",
       "798  울릉군  2018      318439  경북  경북 울릉군     8729\n",
       "795  울릉군  2015      280227  경북  경북 울릉군     8770\n",
       "..   ...   ...         ...  ..     ...      ...\n",
       "595  수원시  2015    30963276  경기  경기 수원시  1194313\n",
       "596  수원시  2016    31802827  경기  경기 수원시  1207032\n",
       "599  수원시  2019    36621012  경기  경기 수원시  1214986\n",
       "597  수원시  2017    33949983  경기  경기 수원시  1216996\n",
       "598  수원시  2018    35441134  경기  경기 수원시  1218843\n",
       "\n",
       "[1140 rows x 6 columns]"
      ]
     },
     "execution_count": 81,
     "metadata": {},
     "output_type": "execute_result"
    }
   ],
   "source": [
    "gungu_sort.sort_values(by = '총인구(명)')"
   ]
  },
  {
   "cell_type": "code",
   "execution_count": 82,
   "metadata": {},
   "outputs": [],
   "source": [
    "gungu_sort['지역내총생산(백만원)'] = gungu_sort['지역내총생산(백만원)'].apply(lambda x: int(x))"
   ]
  },
  {
   "cell_type": "code",
   "execution_count": 83,
   "metadata": {},
   "outputs": [],
   "source": [
    "gungu_sort['1인당_총생산'] = gungu_sort['지역내총생산(백만원)'] / gungu_sort['총인구(명)']"
   ]
  },
  {
   "cell_type": "code",
   "execution_count": 84,
   "metadata": {},
   "outputs": [],
   "source": [
    "gungu_sort = gungu_sort[['시도별','시군구별','지역','지역내총생산(백만원)','총인구(명)','1인당_총생산','시점']]"
   ]
  },
  {
   "cell_type": "code",
   "execution_count": 85,
   "metadata": {},
   "outputs": [],
   "source": [
    "hme_2 = hme[hme['시도'] != '세종']"
   ]
  },
  {
   "cell_type": "code",
   "execution_count": 86,
   "metadata": {},
   "outputs": [
    {
     "data": {
      "text/plain": [
       "array(['전주시', '화천군', '강서구', '화성시', '안성시', '홍성군', '해운대구', '연제구', '동래구',\n",
       "       '함안군', '수원시', '하남시', '노원구', '포항시', '평택시', '안양시', '구로구', '파주시',\n",
       "       '통영시', '칠곡군', '충주시', '청주시', '진천군', '영동군', '보은군', '음성군', '청양군',\n",
       "       '예산군', '부여군', '당진시', '논산시', '금산군', '계룡시', '춘천시', '강진군', '광명시',\n",
       "       '천안시', '창원시', '창녕군', '진주시', '중랑구', '수성구', '중구', '종로구', '제천시',\n",
       "       '제주시', '서귀포시', '옥천군', '기장군', '진안군', '임실군', '익산시', '완주군', '남원시',\n",
       "       '나주시', '해남군', '목포시', '무안군', '영암군', '화순군', '완도군', '미추홀구', '연수구',\n",
       "       '서구', '남동구', '동구', '부평구', '계양구', '안산시', '이천시', '의정부시', '의왕시',\n",
       "       '은평구', '원주시', '울주군', '북구', '남구', '용인시', '용산구', '양주시', '오산시', '양천구',\n",
       "       '안동시', '영천시', '영주시', '영등포구', '영덕군', '여주시', '양평군', '양산시', '성남시',\n",
       "       '경산시', '예천군', '아산시', '시흥시', '서대문구', '부천시', '포천시', '광양시', '순천시',\n",
       "       '여수시', '보성군', '고흥군', '고양시', '대덕구', '수영구', '송파구', '속초시', '사하구',\n",
       "       '성북구', '성동구', '서초구', '달성군', '서산시', '상주시', '사천시', '동작구', '부산진구',\n",
       "       '사상구', '영도구', '밀양시', '문경시', '마포구', '동해시', '동대문구', '도봉구', '유성구',\n",
       "       '달서구', '청도군', '담양군', '남양주시', '김해시', '김포시', '김천시', '금천구', '금정구',\n",
       "       '군포시', '군산시', '구미시', '구리시', '광진구', '광주시', '광산구', '영광군', '관악구',\n",
       "       '과천시', '고령군', '경주시', '청송군', '성주군', '군위군', '의령군', '산청군', '남해군',\n",
       "       '고성군', '거창군', '거제시', '횡성군', '홍천군', '강릉시', '평창군', '영월군', '철원군',\n",
       "       '강북구', '강동구', '강남구'], dtype=object)"
      ]
     },
     "execution_count": 86,
     "metadata": {},
     "output_type": "execute_result"
    }
   ],
   "source": [
    "hme_2['시군구'].unique()"
   ]
  },
  {
   "cell_type": "code",
   "execution_count": 87,
   "metadata": {},
   "outputs": [
    {
     "name": "stderr",
     "output_type": "stream",
     "text": [
      "C:\\Users\\jjun\\AppData\\Local\\Temp\\ipykernel_21708\\3338240354.py:1: SettingWithCopyWarning:\n",
      "\n",
      "\n",
      "A value is trying to be set on a copy of a slice from a DataFrame.\n",
      "Try using .loc[row_indexer,col_indexer] = value instead\n",
      "\n",
      "See the caveats in the documentation: https://pandas.pydata.org/pandas-docs/stable/user_guide/indexing.html#returning-a-view-versus-a-copy\n",
      "\n"
     ]
    }
   ],
   "source": [
    "hme_2['지역'] = hme_2['시도'] + ' ' + hme_2['시군구']"
   ]
  },
  {
   "cell_type": "code",
   "execution_count": 88,
   "metadata": {},
   "outputs": [
    {
     "data": {
      "text/html": [
       "<div>\n",
       "<style scoped>\n",
       "    .dataframe tbody tr th:only-of-type {\n",
       "        vertical-align: middle;\n",
       "    }\n",
       "\n",
       "    .dataframe tbody tr th {\n",
       "        vertical-align: top;\n",
       "    }\n",
       "\n",
       "    .dataframe thead th {\n",
       "        text-align: right;\n",
       "    }\n",
       "</style>\n",
       "<table border=\"1\" class=\"dataframe\">\n",
       "  <thead>\n",
       "    <tr style=\"text-align: right;\">\n",
       "      <th></th>\n",
       "      <th>지점명</th>\n",
       "      <th>주소</th>\n",
       "      <th>시도</th>\n",
       "      <th>시군구</th>\n",
       "      <th>지역</th>\n",
       "    </tr>\n",
       "  </thead>\n",
       "  <tbody>\n",
       "    <tr>\n",
       "      <th>0</th>\n",
       "      <td>효천점</td>\n",
       "      <td>전북 전주시 완산구 효천중앙로 57 (효자동2가, 모악빌딩)</td>\n",
       "      <td>전북</td>\n",
       "      <td>전주시</td>\n",
       "      <td>전북 전주시</td>\n",
       "    </tr>\n",
       "    <tr>\n",
       "      <th>1</th>\n",
       "      <td>효천우미린2차점</td>\n",
       "      <td>전북 전주시 완산구 효천서로 20</td>\n",
       "      <td>전북</td>\n",
       "      <td>전주시</td>\n",
       "      <td>전북 전주시</td>\n",
       "    </tr>\n",
       "    <tr>\n",
       "      <th>2</th>\n",
       "      <td>효천연세수학점</td>\n",
       "      <td>전북 전주시 완산구 효천서로 20</td>\n",
       "      <td>전북</td>\n",
       "      <td>전주시</td>\n",
       "      <td>전북 전주시</td>\n",
       "    </tr>\n",
       "    <tr>\n",
       "      <th>3</th>\n",
       "      <td>효자포스코</td>\n",
       "      <td>전북 전주시 완산구 봉곡로 132</td>\n",
       "      <td>전북</td>\n",
       "      <td>전주시</td>\n",
       "      <td>전북 전주시</td>\n",
       "    </tr>\n",
       "    <tr>\n",
       "      <th>4</th>\n",
       "      <td>효자세븐팰리스점</td>\n",
       "      <td>전북 전주시 완산구 호암로 75-11 (효자동2가, 7단지아파트상가)</td>\n",
       "      <td>전북</td>\n",
       "      <td>전주시</td>\n",
       "      <td>전북 전주시</td>\n",
       "    </tr>\n",
       "    <tr>\n",
       "      <th>...</th>\n",
       "      <td>...</td>\n",
       "      <td>...</td>\n",
       "      <td>...</td>\n",
       "      <td>...</td>\n",
       "      <td>...</td>\n",
       "    </tr>\n",
       "    <tr>\n",
       "      <th>2291</th>\n",
       "      <td>sk view</td>\n",
       "      <td>서울 영등포구 여의대방로35가길 19 (신길동, 보라매 SK VIEW)</td>\n",
       "      <td>서울</td>\n",
       "      <td>영등포구</td>\n",
       "      <td>서울 영등포구</td>\n",
       "    </tr>\n",
       "    <tr>\n",
       "      <th>2292</th>\n",
       "      <td>DMC스마트해법학원</td>\n",
       "      <td>서울 서대문구 증가로 150 (남가좌동)</td>\n",
       "      <td>서울</td>\n",
       "      <td>서대문구</td>\n",
       "      <td>서울 서대문구</td>\n",
       "    </tr>\n",
       "    <tr>\n",
       "      <th>2293</th>\n",
       "      <td>스마트해법수학 왕지점</td>\n",
       "      <td>전남 순천시 연동남길 39 (조례동, 서영옥머리마당)</td>\n",
       "      <td>전남</td>\n",
       "      <td>순천시</td>\n",
       "      <td>전남 순천시</td>\n",
       "    </tr>\n",
       "    <tr>\n",
       "      <th>2294</th>\n",
       "      <td>스마트해법 북아현점</td>\n",
       "      <td>서울 서대문구 북아현동 180-27</td>\n",
       "      <td>서울</td>\n",
       "      <td>서대문구</td>\n",
       "      <td>서울 서대문구</td>\n",
       "    </tr>\n",
       "    <tr>\n",
       "      <th>2295</th>\n",
       "      <td>수원 광교SK레이크점</td>\n",
       "      <td>경기 수원시 영통구 법조로 25 (하동, 광교 SK VIEW Lake)</td>\n",
       "      <td>경기</td>\n",
       "      <td>수원시</td>\n",
       "      <td>경기 수원시</td>\n",
       "    </tr>\n",
       "  </tbody>\n",
       "</table>\n",
       "<p>2271 rows × 5 columns</p>\n",
       "</div>"
      ],
      "text/plain": [
       "              지점명                                       주소  시도   시군구       지역\n",
       "0             효천점        전북 전주시 완산구 효천중앙로 57 (효자동2가, 모악빌딩)  전북   전주시   전북 전주시\n",
       "1        효천우미린2차점                       전북 전주시 완산구 효천서로 20  전북   전주시   전북 전주시\n",
       "2         효천연세수학점                       전북 전주시 완산구 효천서로 20  전북   전주시   전북 전주시\n",
       "3           효자포스코                       전북 전주시 완산구 봉곡로 132  전북   전주시   전북 전주시\n",
       "4        효자세븐팰리스점   전북 전주시 완산구 호암로 75-11 (효자동2가, 7단지아파트상가)  전북   전주시   전북 전주시\n",
       "...           ...                                      ...  ..   ...      ...\n",
       "2291      sk view  서울 영등포구 여의대방로35가길 19 (신길동, 보라매 SK VIEW)  서울  영등포구  서울 영등포구\n",
       "2292   DMC스마트해법학원                   서울 서대문구 증가로 150 (남가좌동)  서울  서대문구  서울 서대문구\n",
       "2293  스마트해법수학 왕지점            전남 순천시 연동남길 39 (조례동, 서영옥머리마당)  전남   순천시   전남 순천시\n",
       "2294   스마트해법 북아현점                      서울 서대문구 북아현동 180-27  서울  서대문구  서울 서대문구\n",
       "2295  수원 광교SK레이크점  경기 수원시 영통구 법조로 25 (하동, 광교 SK VIEW Lake)  경기   수원시   경기 수원시\n",
       "\n",
       "[2271 rows x 5 columns]"
      ]
     },
     "execution_count": 88,
     "metadata": {},
     "output_type": "execute_result"
    }
   ],
   "source": [
    "hme_2"
   ]
  },
  {
   "cell_type": "code",
   "execution_count": 89,
   "metadata": {},
   "outputs": [],
   "source": [
    "gungu2019 = gungu_sort[gungu_sort['시점'] == '2019'].reset_index(drop=True)"
   ]
  },
  {
   "cell_type": "code",
   "execution_count": 90,
   "metadata": {},
   "outputs": [
    {
     "data": {
      "text/html": [
       "<div>\n",
       "<style scoped>\n",
       "    .dataframe tbody tr th:only-of-type {\n",
       "        vertical-align: middle;\n",
       "    }\n",
       "\n",
       "    .dataframe tbody tr th {\n",
       "        vertical-align: top;\n",
       "    }\n",
       "\n",
       "    .dataframe thead th {\n",
       "        text-align: right;\n",
       "    }\n",
       "</style>\n",
       "<table border=\"1\" class=\"dataframe\">\n",
       "  <thead>\n",
       "    <tr style=\"text-align: right;\">\n",
       "      <th></th>\n",
       "      <th>시도별</th>\n",
       "      <th>시군구별</th>\n",
       "      <th>지역</th>\n",
       "      <th>지역내총생산(백만원)</th>\n",
       "      <th>총인구(명)</th>\n",
       "      <th>1인당_총생산</th>\n",
       "      <th>시점</th>\n",
       "    </tr>\n",
       "  </thead>\n",
       "  <tbody>\n",
       "    <tr>\n",
       "      <th>0</th>\n",
       "      <td>경기</td>\n",
       "      <td>가평군</td>\n",
       "      <td>경기 가평군</td>\n",
       "      <td>1814241</td>\n",
       "      <td>59823</td>\n",
       "      <td>30.326814</td>\n",
       "      <td>2019</td>\n",
       "    </tr>\n",
       "    <tr>\n",
       "      <th>1</th>\n",
       "      <td>서울</td>\n",
       "      <td>강남구</td>\n",
       "      <td>서울 강남구</td>\n",
       "      <td>71852681</td>\n",
       "      <td>509199</td>\n",
       "      <td>141.109234</td>\n",
       "      <td>2019</td>\n",
       "    </tr>\n",
       "    <tr>\n",
       "      <th>2</th>\n",
       "      <td>서울</td>\n",
       "      <td>강동구</td>\n",
       "      <td>서울 강동구</td>\n",
       "      <td>9348668</td>\n",
       "      <td>415287</td>\n",
       "      <td>22.511343</td>\n",
       "      <td>2019</td>\n",
       "    </tr>\n",
       "    <tr>\n",
       "      <th>3</th>\n",
       "      <td>강원</td>\n",
       "      <td>강릉시</td>\n",
       "      <td>강원 강릉시</td>\n",
       "      <td>5651552</td>\n",
       "      <td>216357</td>\n",
       "      <td>26.121420</td>\n",
       "      <td>2019</td>\n",
       "    </tr>\n",
       "    <tr>\n",
       "      <th>4</th>\n",
       "      <td>서울</td>\n",
       "      <td>강북구</td>\n",
       "      <td>서울 강북구</td>\n",
       "      <td>3283572</td>\n",
       "      <td>303871</td>\n",
       "      <td>10.805809</td>\n",
       "      <td>2019</td>\n",
       "    </tr>\n",
       "    <tr>\n",
       "      <th>...</th>\n",
       "      <td>...</td>\n",
       "      <td>...</td>\n",
       "      <td>...</td>\n",
       "      <td>...</td>\n",
       "      <td>...</td>\n",
       "      <td>...</td>\n",
       "      <td>...</td>\n",
       "    </tr>\n",
       "    <tr>\n",
       "      <th>223</th>\n",
       "      <td>강원</td>\n",
       "      <td>홍천군</td>\n",
       "      <td>강원 홍천군</td>\n",
       "      <td>2471133</td>\n",
       "      <td>66634</td>\n",
       "      <td>37.085167</td>\n",
       "      <td>2019</td>\n",
       "    </tr>\n",
       "    <tr>\n",
       "      <th>224</th>\n",
       "      <td>경기</td>\n",
       "      <td>화성시</td>\n",
       "      <td>경기 화성시</td>\n",
       "      <td>74532143</td>\n",
       "      <td>838635</td>\n",
       "      <td>88.873161</td>\n",
       "      <td>2019</td>\n",
       "    </tr>\n",
       "    <tr>\n",
       "      <th>225</th>\n",
       "      <td>전남</td>\n",
       "      <td>화순군</td>\n",
       "      <td>전남 화순군</td>\n",
       "      <td>1760151</td>\n",
       "      <td>59671</td>\n",
       "      <td>29.497595</td>\n",
       "      <td>2019</td>\n",
       "    </tr>\n",
       "    <tr>\n",
       "      <th>226</th>\n",
       "      <td>강원</td>\n",
       "      <td>화천군</td>\n",
       "      <td>강원 화천군</td>\n",
       "      <td>1418076</td>\n",
       "      <td>23425</td>\n",
       "      <td>60.536862</td>\n",
       "      <td>2019</td>\n",
       "    </tr>\n",
       "    <tr>\n",
       "      <th>227</th>\n",
       "      <td>강원</td>\n",
       "      <td>횡성군</td>\n",
       "      <td>강원 횡성군</td>\n",
       "      <td>1730581</td>\n",
       "      <td>44431</td>\n",
       "      <td>38.949855</td>\n",
       "      <td>2019</td>\n",
       "    </tr>\n",
       "  </tbody>\n",
       "</table>\n",
       "<p>228 rows × 7 columns</p>\n",
       "</div>"
      ],
      "text/plain": [
       "    시도별 시군구별      지역  지역내총생산(백만원)  총인구(명)     1인당_총생산    시점\n",
       "0    경기  가평군  경기 가평군      1814241   59823   30.326814  2019\n",
       "1    서울  강남구  서울 강남구     71852681  509199  141.109234  2019\n",
       "2    서울  강동구  서울 강동구      9348668  415287   22.511343  2019\n",
       "3    강원  강릉시  강원 강릉시      5651552  216357   26.121420  2019\n",
       "4    서울  강북구  서울 강북구      3283572  303871   10.805809  2019\n",
       "..   ..  ...     ...          ...     ...         ...   ...\n",
       "223  강원  홍천군  강원 홍천군      2471133   66634   37.085167  2019\n",
       "224  경기  화성시  경기 화성시     74532143  838635   88.873161  2019\n",
       "225  전남  화순군  전남 화순군      1760151   59671   29.497595  2019\n",
       "226  강원  화천군  강원 화천군      1418076   23425   60.536862  2019\n",
       "227  강원  횡성군  강원 횡성군      1730581   44431   38.949855  2019\n",
       "\n",
       "[228 rows x 7 columns]"
      ]
     },
     "execution_count": 90,
     "metadata": {},
     "output_type": "execute_result"
    }
   ],
   "source": [
    "gungu2019"
   ]
  },
  {
   "cell_type": "code",
   "execution_count": 91,
   "metadata": {},
   "outputs": [
    {
     "data": {
      "text/plain": [
       "False"
      ]
     },
     "execution_count": 91,
     "metadata": {},
     "output_type": "execute_result"
    }
   ],
   "source": [
    "hme_2.iloc[0,4] == gungu2019.iloc[0,2]"
   ]
  },
  {
   "cell_type": "code",
   "execution_count": 92,
   "metadata": {},
   "outputs": [],
   "source": [
    "gungu2019['지점수'] = 0"
   ]
  },
  {
   "cell_type": "code",
   "execution_count": 93,
   "metadata": {},
   "outputs": [
    {
     "data": {
      "text/html": [
       "<div>\n",
       "<style scoped>\n",
       "    .dataframe tbody tr th:only-of-type {\n",
       "        vertical-align: middle;\n",
       "    }\n",
       "\n",
       "    .dataframe tbody tr th {\n",
       "        vertical-align: top;\n",
       "    }\n",
       "\n",
       "    .dataframe thead th {\n",
       "        text-align: right;\n",
       "    }\n",
       "</style>\n",
       "<table border=\"1\" class=\"dataframe\">\n",
       "  <thead>\n",
       "    <tr style=\"text-align: right;\">\n",
       "      <th></th>\n",
       "      <th>시도별</th>\n",
       "      <th>시군구별</th>\n",
       "      <th>지역</th>\n",
       "      <th>지역내총생산(백만원)</th>\n",
       "      <th>총인구(명)</th>\n",
       "      <th>1인당_총생산</th>\n",
       "      <th>시점</th>\n",
       "      <th>지점수</th>\n",
       "    </tr>\n",
       "  </thead>\n",
       "  <tbody>\n",
       "    <tr>\n",
       "      <th>0</th>\n",
       "      <td>경기</td>\n",
       "      <td>가평군</td>\n",
       "      <td>경기 가평군</td>\n",
       "      <td>1814241</td>\n",
       "      <td>59823</td>\n",
       "      <td>30.326814</td>\n",
       "      <td>2019</td>\n",
       "      <td>0</td>\n",
       "    </tr>\n",
       "    <tr>\n",
       "      <th>1</th>\n",
       "      <td>서울</td>\n",
       "      <td>강남구</td>\n",
       "      <td>서울 강남구</td>\n",
       "      <td>71852681</td>\n",
       "      <td>509199</td>\n",
       "      <td>141.109234</td>\n",
       "      <td>2019</td>\n",
       "      <td>0</td>\n",
       "    </tr>\n",
       "    <tr>\n",
       "      <th>2</th>\n",
       "      <td>서울</td>\n",
       "      <td>강동구</td>\n",
       "      <td>서울 강동구</td>\n",
       "      <td>9348668</td>\n",
       "      <td>415287</td>\n",
       "      <td>22.511343</td>\n",
       "      <td>2019</td>\n",
       "      <td>0</td>\n",
       "    </tr>\n",
       "    <tr>\n",
       "      <th>3</th>\n",
       "      <td>강원</td>\n",
       "      <td>강릉시</td>\n",
       "      <td>강원 강릉시</td>\n",
       "      <td>5651552</td>\n",
       "      <td>216357</td>\n",
       "      <td>26.121420</td>\n",
       "      <td>2019</td>\n",
       "      <td>0</td>\n",
       "    </tr>\n",
       "    <tr>\n",
       "      <th>4</th>\n",
       "      <td>서울</td>\n",
       "      <td>강북구</td>\n",
       "      <td>서울 강북구</td>\n",
       "      <td>3283572</td>\n",
       "      <td>303871</td>\n",
       "      <td>10.805809</td>\n",
       "      <td>2019</td>\n",
       "      <td>0</td>\n",
       "    </tr>\n",
       "    <tr>\n",
       "      <th>...</th>\n",
       "      <td>...</td>\n",
       "      <td>...</td>\n",
       "      <td>...</td>\n",
       "      <td>...</td>\n",
       "      <td>...</td>\n",
       "      <td>...</td>\n",
       "      <td>...</td>\n",
       "      <td>...</td>\n",
       "    </tr>\n",
       "    <tr>\n",
       "      <th>223</th>\n",
       "      <td>강원</td>\n",
       "      <td>홍천군</td>\n",
       "      <td>강원 홍천군</td>\n",
       "      <td>2471133</td>\n",
       "      <td>66634</td>\n",
       "      <td>37.085167</td>\n",
       "      <td>2019</td>\n",
       "      <td>0</td>\n",
       "    </tr>\n",
       "    <tr>\n",
       "      <th>224</th>\n",
       "      <td>경기</td>\n",
       "      <td>화성시</td>\n",
       "      <td>경기 화성시</td>\n",
       "      <td>74532143</td>\n",
       "      <td>838635</td>\n",
       "      <td>88.873161</td>\n",
       "      <td>2019</td>\n",
       "      <td>0</td>\n",
       "    </tr>\n",
       "    <tr>\n",
       "      <th>225</th>\n",
       "      <td>전남</td>\n",
       "      <td>화순군</td>\n",
       "      <td>전남 화순군</td>\n",
       "      <td>1760151</td>\n",
       "      <td>59671</td>\n",
       "      <td>29.497595</td>\n",
       "      <td>2019</td>\n",
       "      <td>0</td>\n",
       "    </tr>\n",
       "    <tr>\n",
       "      <th>226</th>\n",
       "      <td>강원</td>\n",
       "      <td>화천군</td>\n",
       "      <td>강원 화천군</td>\n",
       "      <td>1418076</td>\n",
       "      <td>23425</td>\n",
       "      <td>60.536862</td>\n",
       "      <td>2019</td>\n",
       "      <td>0</td>\n",
       "    </tr>\n",
       "    <tr>\n",
       "      <th>227</th>\n",
       "      <td>강원</td>\n",
       "      <td>횡성군</td>\n",
       "      <td>강원 횡성군</td>\n",
       "      <td>1730581</td>\n",
       "      <td>44431</td>\n",
       "      <td>38.949855</td>\n",
       "      <td>2019</td>\n",
       "      <td>0</td>\n",
       "    </tr>\n",
       "  </tbody>\n",
       "</table>\n",
       "<p>228 rows × 8 columns</p>\n",
       "</div>"
      ],
      "text/plain": [
       "    시도별 시군구별      지역  지역내총생산(백만원)  총인구(명)     1인당_총생산    시점  지점수\n",
       "0    경기  가평군  경기 가평군      1814241   59823   30.326814  2019    0\n",
       "1    서울  강남구  서울 강남구     71852681  509199  141.109234  2019    0\n",
       "2    서울  강동구  서울 강동구      9348668  415287   22.511343  2019    0\n",
       "3    강원  강릉시  강원 강릉시      5651552  216357   26.121420  2019    0\n",
       "4    서울  강북구  서울 강북구      3283572  303871   10.805809  2019    0\n",
       "..   ..  ...     ...          ...     ...         ...   ...  ...\n",
       "223  강원  홍천군  강원 홍천군      2471133   66634   37.085167  2019    0\n",
       "224  경기  화성시  경기 화성시     74532143  838635   88.873161  2019    0\n",
       "225  전남  화순군  전남 화순군      1760151   59671   29.497595  2019    0\n",
       "226  강원  화천군  강원 화천군      1418076   23425   60.536862  2019    0\n",
       "227  강원  횡성군  강원 횡성군      1730581   44431   38.949855  2019    0\n",
       "\n",
       "[228 rows x 8 columns]"
      ]
     },
     "execution_count": 93,
     "metadata": {},
     "output_type": "execute_result"
    }
   ],
   "source": [
    "gungu2019"
   ]
  },
  {
   "cell_type": "code",
   "execution_count": 94,
   "metadata": {},
   "outputs": [],
   "source": [
    "for i in range(len(hme_2)):\n",
    "    for j in range(len(gungu2019)):\n",
    "        if hme_2.iloc[i,4] == gungu2019.iloc[j,2]:\n",
    "            gungu2019.iloc[j, 7] += 1"
   ]
  },
  {
   "cell_type": "code",
   "execution_count": 95,
   "metadata": {},
   "outputs": [
    {
     "data": {
      "text/html": [
       "<div>\n",
       "<style scoped>\n",
       "    .dataframe tbody tr th:only-of-type {\n",
       "        vertical-align: middle;\n",
       "    }\n",
       "\n",
       "    .dataframe tbody tr th {\n",
       "        vertical-align: top;\n",
       "    }\n",
       "\n",
       "    .dataframe thead th {\n",
       "        text-align: right;\n",
       "    }\n",
       "</style>\n",
       "<table border=\"1\" class=\"dataframe\">\n",
       "  <thead>\n",
       "    <tr style=\"text-align: right;\">\n",
       "      <th></th>\n",
       "      <th>시도별</th>\n",
       "      <th>시군구별</th>\n",
       "      <th>지역</th>\n",
       "      <th>지역내총생산(백만원)</th>\n",
       "      <th>총인구(명)</th>\n",
       "      <th>1인당_총생산</th>\n",
       "      <th>시점</th>\n",
       "      <th>지점수</th>\n",
       "    </tr>\n",
       "  </thead>\n",
       "  <tbody>\n",
       "    <tr>\n",
       "      <th>0</th>\n",
       "      <td>경기</td>\n",
       "      <td>가평군</td>\n",
       "      <td>경기 가평군</td>\n",
       "      <td>1814241</td>\n",
       "      <td>59823</td>\n",
       "      <td>30.326814</td>\n",
       "      <td>2019</td>\n",
       "      <td>0</td>\n",
       "    </tr>\n",
       "    <tr>\n",
       "      <th>1</th>\n",
       "      <td>서울</td>\n",
       "      <td>강남구</td>\n",
       "      <td>서울 강남구</td>\n",
       "      <td>71852681</td>\n",
       "      <td>509199</td>\n",
       "      <td>141.109234</td>\n",
       "      <td>2019</td>\n",
       "      <td>23</td>\n",
       "    </tr>\n",
       "    <tr>\n",
       "      <th>2</th>\n",
       "      <td>서울</td>\n",
       "      <td>강동구</td>\n",
       "      <td>서울 강동구</td>\n",
       "      <td>9348668</td>\n",
       "      <td>415287</td>\n",
       "      <td>22.511343</td>\n",
       "      <td>2019</td>\n",
       "      <td>16</td>\n",
       "    </tr>\n",
       "    <tr>\n",
       "      <th>3</th>\n",
       "      <td>강원</td>\n",
       "      <td>강릉시</td>\n",
       "      <td>강원 강릉시</td>\n",
       "      <td>5651552</td>\n",
       "      <td>216357</td>\n",
       "      <td>26.121420</td>\n",
       "      <td>2019</td>\n",
       "      <td>1</td>\n",
       "    </tr>\n",
       "    <tr>\n",
       "      <th>4</th>\n",
       "      <td>서울</td>\n",
       "      <td>강북구</td>\n",
       "      <td>서울 강북구</td>\n",
       "      <td>3283572</td>\n",
       "      <td>303871</td>\n",
       "      <td>10.805809</td>\n",
       "      <td>2019</td>\n",
       "      <td>8</td>\n",
       "    </tr>\n",
       "    <tr>\n",
       "      <th>...</th>\n",
       "      <td>...</td>\n",
       "      <td>...</td>\n",
       "      <td>...</td>\n",
       "      <td>...</td>\n",
       "      <td>...</td>\n",
       "      <td>...</td>\n",
       "      <td>...</td>\n",
       "      <td>...</td>\n",
       "    </tr>\n",
       "    <tr>\n",
       "      <th>223</th>\n",
       "      <td>강원</td>\n",
       "      <td>홍천군</td>\n",
       "      <td>강원 홍천군</td>\n",
       "      <td>2471133</td>\n",
       "      <td>66634</td>\n",
       "      <td>37.085167</td>\n",
       "      <td>2019</td>\n",
       "      <td>1</td>\n",
       "    </tr>\n",
       "    <tr>\n",
       "      <th>224</th>\n",
       "      <td>경기</td>\n",
       "      <td>화성시</td>\n",
       "      <td>경기 화성시</td>\n",
       "      <td>74532143</td>\n",
       "      <td>838635</td>\n",
       "      <td>88.873161</td>\n",
       "      <td>2019</td>\n",
       "      <td>105</td>\n",
       "    </tr>\n",
       "    <tr>\n",
       "      <th>225</th>\n",
       "      <td>전남</td>\n",
       "      <td>화순군</td>\n",
       "      <td>전남 화순군</td>\n",
       "      <td>1760151</td>\n",
       "      <td>59671</td>\n",
       "      <td>29.497595</td>\n",
       "      <td>2019</td>\n",
       "      <td>1</td>\n",
       "    </tr>\n",
       "    <tr>\n",
       "      <th>226</th>\n",
       "      <td>강원</td>\n",
       "      <td>화천군</td>\n",
       "      <td>강원 화천군</td>\n",
       "      <td>1418076</td>\n",
       "      <td>23425</td>\n",
       "      <td>60.536862</td>\n",
       "      <td>2019</td>\n",
       "      <td>1</td>\n",
       "    </tr>\n",
       "    <tr>\n",
       "      <th>227</th>\n",
       "      <td>강원</td>\n",
       "      <td>횡성군</td>\n",
       "      <td>강원 횡성군</td>\n",
       "      <td>1730581</td>\n",
       "      <td>44431</td>\n",
       "      <td>38.949855</td>\n",
       "      <td>2019</td>\n",
       "      <td>2</td>\n",
       "    </tr>\n",
       "  </tbody>\n",
       "</table>\n",
       "<p>228 rows × 8 columns</p>\n",
       "</div>"
      ],
      "text/plain": [
       "    시도별 시군구별      지역  지역내총생산(백만원)  총인구(명)     1인당_총생산    시점  지점수\n",
       "0    경기  가평군  경기 가평군      1814241   59823   30.326814  2019    0\n",
       "1    서울  강남구  서울 강남구     71852681  509199  141.109234  2019   23\n",
       "2    서울  강동구  서울 강동구      9348668  415287   22.511343  2019   16\n",
       "3    강원  강릉시  강원 강릉시      5651552  216357   26.121420  2019    1\n",
       "4    서울  강북구  서울 강북구      3283572  303871   10.805809  2019    8\n",
       "..   ..  ...     ...          ...     ...         ...   ...  ...\n",
       "223  강원  홍천군  강원 홍천군      2471133   66634   37.085167  2019    1\n",
       "224  경기  화성시  경기 화성시     74532143  838635   88.873161  2019  105\n",
       "225  전남  화순군  전남 화순군      1760151   59671   29.497595  2019    1\n",
       "226  강원  화천군  강원 화천군      1418076   23425   60.536862  2019    1\n",
       "227  강원  횡성군  강원 횡성군      1730581   44431   38.949855  2019    2\n",
       "\n",
       "[228 rows x 8 columns]"
      ]
     },
     "execution_count": 95,
     "metadata": {},
     "output_type": "execute_result"
    }
   ],
   "source": [
    "gungu2019"
   ]
  },
  {
   "cell_type": "code",
   "execution_count": 96,
   "metadata": {},
   "outputs": [],
   "source": [
    "gungu2019['1인당_총생산_log2'] = gungu2019['1인당_총생산'].apply(lambda x: np.log2(x))\n",
    "gungu2019['지점수_log2'] = gungu2019['지점수'].apply(lambda x: np.log2(x))"
   ]
  },
  {
   "cell_type": "code",
   "execution_count": 97,
   "metadata": {},
   "outputs": [
    {
     "data": {
      "text/html": [
       "<div>\n",
       "<style scoped>\n",
       "    .dataframe tbody tr th:only-of-type {\n",
       "        vertical-align: middle;\n",
       "    }\n",
       "\n",
       "    .dataframe tbody tr th {\n",
       "        vertical-align: top;\n",
       "    }\n",
       "\n",
       "    .dataframe thead th {\n",
       "        text-align: right;\n",
       "    }\n",
       "</style>\n",
       "<table border=\"1\" class=\"dataframe\">\n",
       "  <thead>\n",
       "    <tr style=\"text-align: right;\">\n",
       "      <th></th>\n",
       "      <th>시도별</th>\n",
       "      <th>시군구별</th>\n",
       "      <th>지역</th>\n",
       "      <th>지역내총생산(백만원)</th>\n",
       "      <th>총인구(명)</th>\n",
       "      <th>1인당_총생산</th>\n",
       "      <th>시점</th>\n",
       "      <th>지점수</th>\n",
       "      <th>1인당_총생산_log2</th>\n",
       "      <th>지점수_log2</th>\n",
       "    </tr>\n",
       "  </thead>\n",
       "  <tbody>\n",
       "    <tr>\n",
       "      <th>0</th>\n",
       "      <td>경기</td>\n",
       "      <td>가평군</td>\n",
       "      <td>경기 가평군</td>\n",
       "      <td>1814241</td>\n",
       "      <td>59823</td>\n",
       "      <td>30.326814</td>\n",
       "      <td>2019</td>\n",
       "      <td>0</td>\n",
       "      <td>4.922522</td>\n",
       "      <td>-inf</td>\n",
       "    </tr>\n",
       "    <tr>\n",
       "      <th>1</th>\n",
       "      <td>서울</td>\n",
       "      <td>강남구</td>\n",
       "      <td>서울 강남구</td>\n",
       "      <td>71852681</td>\n",
       "      <td>509199</td>\n",
       "      <td>141.109234</td>\n",
       "      <td>2019</td>\n",
       "      <td>23</td>\n",
       "      <td>7.140669</td>\n",
       "      <td>4.523562</td>\n",
       "    </tr>\n",
       "    <tr>\n",
       "      <th>2</th>\n",
       "      <td>서울</td>\n",
       "      <td>강동구</td>\n",
       "      <td>서울 강동구</td>\n",
       "      <td>9348668</td>\n",
       "      <td>415287</td>\n",
       "      <td>22.511343</td>\n",
       "      <td>2019</td>\n",
       "      <td>16</td>\n",
       "      <td>4.492580</td>\n",
       "      <td>4.000000</td>\n",
       "    </tr>\n",
       "    <tr>\n",
       "      <th>3</th>\n",
       "      <td>강원</td>\n",
       "      <td>강릉시</td>\n",
       "      <td>강원 강릉시</td>\n",
       "      <td>5651552</td>\n",
       "      <td>216357</td>\n",
       "      <td>26.121420</td>\n",
       "      <td>2019</td>\n",
       "      <td>1</td>\n",
       "      <td>4.707161</td>\n",
       "      <td>0.000000</td>\n",
       "    </tr>\n",
       "    <tr>\n",
       "      <th>4</th>\n",
       "      <td>서울</td>\n",
       "      <td>강북구</td>\n",
       "      <td>서울 강북구</td>\n",
       "      <td>3283572</td>\n",
       "      <td>303871</td>\n",
       "      <td>10.805809</td>\n",
       "      <td>2019</td>\n",
       "      <td>8</td>\n",
       "      <td>3.433735</td>\n",
       "      <td>3.000000</td>\n",
       "    </tr>\n",
       "    <tr>\n",
       "      <th>...</th>\n",
       "      <td>...</td>\n",
       "      <td>...</td>\n",
       "      <td>...</td>\n",
       "      <td>...</td>\n",
       "      <td>...</td>\n",
       "      <td>...</td>\n",
       "      <td>...</td>\n",
       "      <td>...</td>\n",
       "      <td>...</td>\n",
       "      <td>...</td>\n",
       "    </tr>\n",
       "    <tr>\n",
       "      <th>223</th>\n",
       "      <td>강원</td>\n",
       "      <td>홍천군</td>\n",
       "      <td>강원 홍천군</td>\n",
       "      <td>2471133</td>\n",
       "      <td>66634</td>\n",
       "      <td>37.085167</td>\n",
       "      <td>2019</td>\n",
       "      <td>1</td>\n",
       "      <td>5.212770</td>\n",
       "      <td>0.000000</td>\n",
       "    </tr>\n",
       "    <tr>\n",
       "      <th>224</th>\n",
       "      <td>경기</td>\n",
       "      <td>화성시</td>\n",
       "      <td>경기 화성시</td>\n",
       "      <td>74532143</td>\n",
       "      <td>838635</td>\n",
       "      <td>88.873161</td>\n",
       "      <td>2019</td>\n",
       "      <td>105</td>\n",
       "      <td>6.473676</td>\n",
       "      <td>6.714246</td>\n",
       "    </tr>\n",
       "    <tr>\n",
       "      <th>225</th>\n",
       "      <td>전남</td>\n",
       "      <td>화순군</td>\n",
       "      <td>전남 화순군</td>\n",
       "      <td>1760151</td>\n",
       "      <td>59671</td>\n",
       "      <td>29.497595</td>\n",
       "      <td>2019</td>\n",
       "      <td>1</td>\n",
       "      <td>4.882525</td>\n",
       "      <td>0.000000</td>\n",
       "    </tr>\n",
       "    <tr>\n",
       "      <th>226</th>\n",
       "      <td>강원</td>\n",
       "      <td>화천군</td>\n",
       "      <td>강원 화천군</td>\n",
       "      <td>1418076</td>\n",
       "      <td>23425</td>\n",
       "      <td>60.536862</td>\n",
       "      <td>2019</td>\n",
       "      <td>1</td>\n",
       "      <td>5.919742</td>\n",
       "      <td>0.000000</td>\n",
       "    </tr>\n",
       "    <tr>\n",
       "      <th>227</th>\n",
       "      <td>강원</td>\n",
       "      <td>횡성군</td>\n",
       "      <td>강원 횡성군</td>\n",
       "      <td>1730581</td>\n",
       "      <td>44431</td>\n",
       "      <td>38.949855</td>\n",
       "      <td>2019</td>\n",
       "      <td>2</td>\n",
       "      <td>5.283546</td>\n",
       "      <td>1.000000</td>\n",
       "    </tr>\n",
       "  </tbody>\n",
       "</table>\n",
       "<p>228 rows × 10 columns</p>\n",
       "</div>"
      ],
      "text/plain": [
       "    시도별 시군구별      지역  지역내총생산(백만원)  총인구(명)     1인당_총생산    시점  지점수  \\\n",
       "0    경기  가평군  경기 가평군      1814241   59823   30.326814  2019    0   \n",
       "1    서울  강남구  서울 강남구     71852681  509199  141.109234  2019   23   \n",
       "2    서울  강동구  서울 강동구      9348668  415287   22.511343  2019   16   \n",
       "3    강원  강릉시  강원 강릉시      5651552  216357   26.121420  2019    1   \n",
       "4    서울  강북구  서울 강북구      3283572  303871   10.805809  2019    8   \n",
       "..   ..  ...     ...          ...     ...         ...   ...  ...   \n",
       "223  강원  홍천군  강원 홍천군      2471133   66634   37.085167  2019    1   \n",
       "224  경기  화성시  경기 화성시     74532143  838635   88.873161  2019  105   \n",
       "225  전남  화순군  전남 화순군      1760151   59671   29.497595  2019    1   \n",
       "226  강원  화천군  강원 화천군      1418076   23425   60.536862  2019    1   \n",
       "227  강원  횡성군  강원 횡성군      1730581   44431   38.949855  2019    2   \n",
       "\n",
       "     1인당_총생산_log2  지점수_log2  \n",
       "0        4.922522      -inf  \n",
       "1        7.140669  4.523562  \n",
       "2        4.492580  4.000000  \n",
       "3        4.707161  0.000000  \n",
       "4        3.433735  3.000000  \n",
       "..            ...       ...  \n",
       "223      5.212770  0.000000  \n",
       "224      6.473676  6.714246  \n",
       "225      4.882525  0.000000  \n",
       "226      5.919742  0.000000  \n",
       "227      5.283546  1.000000  \n",
       "\n",
       "[228 rows x 10 columns]"
      ]
     },
     "execution_count": 97,
     "metadata": {},
     "output_type": "execute_result"
    }
   ],
   "source": [
    "gungu2019"
   ]
  },
  {
   "cell_type": "code",
   "execution_count": 98,
   "metadata": {},
   "outputs": [
    {
     "data": {
      "text/html": [
       "<div>\n",
       "<style scoped>\n",
       "    .dataframe tbody tr th:only-of-type {\n",
       "        vertical-align: middle;\n",
       "    }\n",
       "\n",
       "    .dataframe tbody tr th {\n",
       "        vertical-align: top;\n",
       "    }\n",
       "\n",
       "    .dataframe thead th {\n",
       "        text-align: right;\n",
       "    }\n",
       "</style>\n",
       "<table border=\"1\" class=\"dataframe\">\n",
       "  <thead>\n",
       "    <tr style=\"text-align: right;\">\n",
       "      <th></th>\n",
       "      <th>시도별</th>\n",
       "      <th>시군구별</th>\n",
       "      <th>지역</th>\n",
       "      <th>지역내총생산(백만원)</th>\n",
       "      <th>총인구(명)</th>\n",
       "      <th>1인당_총생산</th>\n",
       "      <th>시점</th>\n",
       "      <th>지점수</th>\n",
       "      <th>1인당_총생산_log2</th>\n",
       "      <th>지점수_log2</th>\n",
       "    </tr>\n",
       "  </thead>\n",
       "  <tbody>\n",
       "    <tr>\n",
       "      <th>0</th>\n",
       "      <td>경기</td>\n",
       "      <td>가평군</td>\n",
       "      <td>경기 가평군</td>\n",
       "      <td>1814241</td>\n",
       "      <td>59823</td>\n",
       "      <td>30.326814</td>\n",
       "      <td>2019</td>\n",
       "      <td>0</td>\n",
       "      <td>4.922522</td>\n",
       "      <td>-inf</td>\n",
       "    </tr>\n",
       "    <tr>\n",
       "      <th>31</th>\n",
       "      <td>전남</td>\n",
       "      <td>구례군</td>\n",
       "      <td>전남 구례군</td>\n",
       "      <td>575442</td>\n",
       "      <td>23836</td>\n",
       "      <td>24.141718</td>\n",
       "      <td>2019</td>\n",
       "      <td>0</td>\n",
       "      <td>4.593456</td>\n",
       "      <td>-inf</td>\n",
       "    </tr>\n",
       "    <tr>\n",
       "      <th>179</th>\n",
       "      <td>전북</td>\n",
       "      <td>정읍시</td>\n",
       "      <td>전북 정읍시</td>\n",
       "      <td>3056405</td>\n",
       "      <td>107348</td>\n",
       "      <td>28.471932</td>\n",
       "      <td>2019</td>\n",
       "      <td>0</td>\n",
       "      <td>4.831469</td>\n",
       "      <td>-inf</td>\n",
       "    </tr>\n",
       "    <tr>\n",
       "      <th>178</th>\n",
       "      <td>강원</td>\n",
       "      <td>정선군</td>\n",
       "      <td>강원 정선군</td>\n",
       "      <td>1381354</td>\n",
       "      <td>35255</td>\n",
       "      <td>39.181790</td>\n",
       "      <td>2019</td>\n",
       "      <td>0</td>\n",
       "      <td>5.292111</td>\n",
       "      <td>-inf</td>\n",
       "    </tr>\n",
       "    <tr>\n",
       "      <th>176</th>\n",
       "      <td>전남</td>\n",
       "      <td>장흥군</td>\n",
       "      <td>전남 장흥군</td>\n",
       "      <td>1011194</td>\n",
       "      <td>35494</td>\n",
       "      <td>28.489153</td>\n",
       "      <td>2019</td>\n",
       "      <td>0</td>\n",
       "      <td>4.832341</td>\n",
       "      <td>-inf</td>\n",
       "    </tr>\n",
       "    <tr>\n",
       "      <th>...</th>\n",
       "      <td>...</td>\n",
       "      <td>...</td>\n",
       "      <td>...</td>\n",
       "      <td>...</td>\n",
       "      <td>...</td>\n",
       "      <td>...</td>\n",
       "      <td>...</td>\n",
       "      <td>...</td>\n",
       "      <td>...</td>\n",
       "      <td>...</td>\n",
       "    </tr>\n",
       "    <tr>\n",
       "      <th>52</th>\n",
       "      <td>경기</td>\n",
       "      <td>남양주시</td>\n",
       "      <td>경기 남양주시</td>\n",
       "      <td>11526940</td>\n",
       "      <td>641589</td>\n",
       "      <td>17.966237</td>\n",
       "      <td>2019</td>\n",
       "      <td>56</td>\n",
       "      <td>4.167216</td>\n",
       "      <td>5.807355</td>\n",
       "    </tr>\n",
       "    <tr>\n",
       "      <th>158</th>\n",
       "      <td>경기</td>\n",
       "      <td>용인시</td>\n",
       "      <td>경기 용인시</td>\n",
       "      <td>30181677</td>\n",
       "      <td>1052529</td>\n",
       "      <td>28.675388</td>\n",
       "      <td>2019</td>\n",
       "      <td>59</td>\n",
       "      <td>4.841741</td>\n",
       "      <td>5.882643</td>\n",
       "    </tr>\n",
       "    <tr>\n",
       "      <th>196</th>\n",
       "      <td>경남</td>\n",
       "      <td>창원시</td>\n",
       "      <td>경남 창원시</td>\n",
       "      <td>39860038</td>\n",
       "      <td>1036862</td>\n",
       "      <td>38.442954</td>\n",
       "      <td>2019</td>\n",
       "      <td>63</td>\n",
       "      <td>5.264647</td>\n",
       "      <td>5.977280</td>\n",
       "    </tr>\n",
       "    <tr>\n",
       "      <th>224</th>\n",
       "      <td>경기</td>\n",
       "      <td>화성시</td>\n",
       "      <td>경기 화성시</td>\n",
       "      <td>74532143</td>\n",
       "      <td>838635</td>\n",
       "      <td>88.873161</td>\n",
       "      <td>2019</td>\n",
       "      <td>105</td>\n",
       "      <td>6.473676</td>\n",
       "      <td>6.714246</td>\n",
       "    </tr>\n",
       "    <tr>\n",
       "      <th>119</th>\n",
       "      <td>경기</td>\n",
       "      <td>수원시</td>\n",
       "      <td>경기 수원시</td>\n",
       "      <td>36621012</td>\n",
       "      <td>1214986</td>\n",
       "      <td>30.141098</td>\n",
       "      <td>2019</td>\n",
       "      <td>134</td>\n",
       "      <td>4.913660</td>\n",
       "      <td>7.066089</td>\n",
       "    </tr>\n",
       "  </tbody>\n",
       "</table>\n",
       "<p>228 rows × 10 columns</p>\n",
       "</div>"
      ],
      "text/plain": [
       "    시도별  시군구별       지역  지역내총생산(백만원)   총인구(명)    1인당_총생산    시점  지점수  \\\n",
       "0    경기   가평군   경기 가평군      1814241    59823  30.326814  2019    0   \n",
       "31   전남   구례군   전남 구례군       575442    23836  24.141718  2019    0   \n",
       "179  전북   정읍시   전북 정읍시      3056405   107348  28.471932  2019    0   \n",
       "178  강원   정선군   강원 정선군      1381354    35255  39.181790  2019    0   \n",
       "176  전남   장흥군   전남 장흥군      1011194    35494  28.489153  2019    0   \n",
       "..   ..   ...      ...          ...      ...        ...   ...  ...   \n",
       "52   경기  남양주시  경기 남양주시     11526940   641589  17.966237  2019   56   \n",
       "158  경기   용인시   경기 용인시     30181677  1052529  28.675388  2019   59   \n",
       "196  경남   창원시   경남 창원시     39860038  1036862  38.442954  2019   63   \n",
       "224  경기   화성시   경기 화성시     74532143   838635  88.873161  2019  105   \n",
       "119  경기   수원시   경기 수원시     36621012  1214986  30.141098  2019  134   \n",
       "\n",
       "     1인당_총생산_log2  지점수_log2  \n",
       "0        4.922522      -inf  \n",
       "31       4.593456      -inf  \n",
       "179      4.831469      -inf  \n",
       "178      5.292111      -inf  \n",
       "176      4.832341      -inf  \n",
       "..            ...       ...  \n",
       "52       4.167216  5.807355  \n",
       "158      4.841741  5.882643  \n",
       "196      5.264647  5.977280  \n",
       "224      6.473676  6.714246  \n",
       "119      4.913660  7.066089  \n",
       "\n",
       "[228 rows x 10 columns]"
      ]
     },
     "execution_count": 98,
     "metadata": {},
     "output_type": "execute_result"
    }
   ],
   "source": [
    "gungu2019.sort_values(by = '지점수')"
   ]
  },
  {
   "cell_type": "code",
   "execution_count": 99,
   "metadata": {},
   "outputs": [],
   "source": [
    "gungu2019['지점수(시도별)'] = 0"
   ]
  },
  {
   "cell_type": "code",
   "execution_count": 100,
   "metadata": {},
   "outputs": [
    {
     "data": {
      "text/html": [
       "<div>\n",
       "<style scoped>\n",
       "    .dataframe tbody tr th:only-of-type {\n",
       "        vertical-align: middle;\n",
       "    }\n",
       "\n",
       "    .dataframe tbody tr th {\n",
       "        vertical-align: top;\n",
       "    }\n",
       "\n",
       "    .dataframe thead th {\n",
       "        text-align: right;\n",
       "    }\n",
       "</style>\n",
       "<table border=\"1\" class=\"dataframe\">\n",
       "  <thead>\n",
       "    <tr style=\"text-align: right;\">\n",
       "      <th></th>\n",
       "      <th>시도별</th>\n",
       "      <th>시군구별</th>\n",
       "      <th>지역</th>\n",
       "      <th>지역내총생산(백만원)</th>\n",
       "      <th>총인구(명)</th>\n",
       "      <th>1인당_총생산</th>\n",
       "      <th>시점</th>\n",
       "      <th>지점수</th>\n",
       "      <th>1인당_총생산_log2</th>\n",
       "      <th>지점수_log2</th>\n",
       "      <th>지점수(시도별)</th>\n",
       "    </tr>\n",
       "  </thead>\n",
       "  <tbody>\n",
       "    <tr>\n",
       "      <th>0</th>\n",
       "      <td>경기</td>\n",
       "      <td>가평군</td>\n",
       "      <td>경기 가평군</td>\n",
       "      <td>1814241</td>\n",
       "      <td>59823</td>\n",
       "      <td>30.326814</td>\n",
       "      <td>2019</td>\n",
       "      <td>0</td>\n",
       "      <td>4.922522</td>\n",
       "      <td>-inf</td>\n",
       "      <td>0</td>\n",
       "    </tr>\n",
       "    <tr>\n",
       "      <th>1</th>\n",
       "      <td>서울</td>\n",
       "      <td>강남구</td>\n",
       "      <td>서울 강남구</td>\n",
       "      <td>71852681</td>\n",
       "      <td>509199</td>\n",
       "      <td>141.109234</td>\n",
       "      <td>2019</td>\n",
       "      <td>23</td>\n",
       "      <td>7.140669</td>\n",
       "      <td>4.523562</td>\n",
       "      <td>0</td>\n",
       "    </tr>\n",
       "    <tr>\n",
       "      <th>2</th>\n",
       "      <td>서울</td>\n",
       "      <td>강동구</td>\n",
       "      <td>서울 강동구</td>\n",
       "      <td>9348668</td>\n",
       "      <td>415287</td>\n",
       "      <td>22.511343</td>\n",
       "      <td>2019</td>\n",
       "      <td>16</td>\n",
       "      <td>4.492580</td>\n",
       "      <td>4.000000</td>\n",
       "      <td>0</td>\n",
       "    </tr>\n",
       "    <tr>\n",
       "      <th>3</th>\n",
       "      <td>강원</td>\n",
       "      <td>강릉시</td>\n",
       "      <td>강원 강릉시</td>\n",
       "      <td>5651552</td>\n",
       "      <td>216357</td>\n",
       "      <td>26.121420</td>\n",
       "      <td>2019</td>\n",
       "      <td>1</td>\n",
       "      <td>4.707161</td>\n",
       "      <td>0.000000</td>\n",
       "      <td>0</td>\n",
       "    </tr>\n",
       "    <tr>\n",
       "      <th>4</th>\n",
       "      <td>서울</td>\n",
       "      <td>강북구</td>\n",
       "      <td>서울 강북구</td>\n",
       "      <td>3283572</td>\n",
       "      <td>303871</td>\n",
       "      <td>10.805809</td>\n",
       "      <td>2019</td>\n",
       "      <td>8</td>\n",
       "      <td>3.433735</td>\n",
       "      <td>3.000000</td>\n",
       "      <td>0</td>\n",
       "    </tr>\n",
       "    <tr>\n",
       "      <th>...</th>\n",
       "      <td>...</td>\n",
       "      <td>...</td>\n",
       "      <td>...</td>\n",
       "      <td>...</td>\n",
       "      <td>...</td>\n",
       "      <td>...</td>\n",
       "      <td>...</td>\n",
       "      <td>...</td>\n",
       "      <td>...</td>\n",
       "      <td>...</td>\n",
       "      <td>...</td>\n",
       "    </tr>\n",
       "    <tr>\n",
       "      <th>223</th>\n",
       "      <td>강원</td>\n",
       "      <td>홍천군</td>\n",
       "      <td>강원 홍천군</td>\n",
       "      <td>2471133</td>\n",
       "      <td>66634</td>\n",
       "      <td>37.085167</td>\n",
       "      <td>2019</td>\n",
       "      <td>1</td>\n",
       "      <td>5.212770</td>\n",
       "      <td>0.000000</td>\n",
       "      <td>0</td>\n",
       "    </tr>\n",
       "    <tr>\n",
       "      <th>224</th>\n",
       "      <td>경기</td>\n",
       "      <td>화성시</td>\n",
       "      <td>경기 화성시</td>\n",
       "      <td>74532143</td>\n",
       "      <td>838635</td>\n",
       "      <td>88.873161</td>\n",
       "      <td>2019</td>\n",
       "      <td>105</td>\n",
       "      <td>6.473676</td>\n",
       "      <td>6.714246</td>\n",
       "      <td>0</td>\n",
       "    </tr>\n",
       "    <tr>\n",
       "      <th>225</th>\n",
       "      <td>전남</td>\n",
       "      <td>화순군</td>\n",
       "      <td>전남 화순군</td>\n",
       "      <td>1760151</td>\n",
       "      <td>59671</td>\n",
       "      <td>29.497595</td>\n",
       "      <td>2019</td>\n",
       "      <td>1</td>\n",
       "      <td>4.882525</td>\n",
       "      <td>0.000000</td>\n",
       "      <td>0</td>\n",
       "    </tr>\n",
       "    <tr>\n",
       "      <th>226</th>\n",
       "      <td>강원</td>\n",
       "      <td>화천군</td>\n",
       "      <td>강원 화천군</td>\n",
       "      <td>1418076</td>\n",
       "      <td>23425</td>\n",
       "      <td>60.536862</td>\n",
       "      <td>2019</td>\n",
       "      <td>1</td>\n",
       "      <td>5.919742</td>\n",
       "      <td>0.000000</td>\n",
       "      <td>0</td>\n",
       "    </tr>\n",
       "    <tr>\n",
       "      <th>227</th>\n",
       "      <td>강원</td>\n",
       "      <td>횡성군</td>\n",
       "      <td>강원 횡성군</td>\n",
       "      <td>1730581</td>\n",
       "      <td>44431</td>\n",
       "      <td>38.949855</td>\n",
       "      <td>2019</td>\n",
       "      <td>2</td>\n",
       "      <td>5.283546</td>\n",
       "      <td>1.000000</td>\n",
       "      <td>0</td>\n",
       "    </tr>\n",
       "  </tbody>\n",
       "</table>\n",
       "<p>228 rows × 11 columns</p>\n",
       "</div>"
      ],
      "text/plain": [
       "    시도별 시군구별      지역  지역내총생산(백만원)  총인구(명)     1인당_총생산    시점  지점수  \\\n",
       "0    경기  가평군  경기 가평군      1814241   59823   30.326814  2019    0   \n",
       "1    서울  강남구  서울 강남구     71852681  509199  141.109234  2019   23   \n",
       "2    서울  강동구  서울 강동구      9348668  415287   22.511343  2019   16   \n",
       "3    강원  강릉시  강원 강릉시      5651552  216357   26.121420  2019    1   \n",
       "4    서울  강북구  서울 강북구      3283572  303871   10.805809  2019    8   \n",
       "..   ..  ...     ...          ...     ...         ...   ...  ...   \n",
       "223  강원  홍천군  강원 홍천군      2471133   66634   37.085167  2019    1   \n",
       "224  경기  화성시  경기 화성시     74532143  838635   88.873161  2019  105   \n",
       "225  전남  화순군  전남 화순군      1760151   59671   29.497595  2019    1   \n",
       "226  강원  화천군  강원 화천군      1418076   23425   60.536862  2019    1   \n",
       "227  강원  횡성군  강원 횡성군      1730581   44431   38.949855  2019    2   \n",
       "\n",
       "     1인당_총생산_log2  지점수_log2  지점수(시도별)  \n",
       "0        4.922522      -inf         0  \n",
       "1        7.140669  4.523562         0  \n",
       "2        4.492580  4.000000         0  \n",
       "3        4.707161  0.000000         0  \n",
       "4        3.433735  3.000000         0  \n",
       "..            ...       ...       ...  \n",
       "223      5.212770  0.000000         0  \n",
       "224      6.473676  6.714246         0  \n",
       "225      4.882525  0.000000         0  \n",
       "226      5.919742  0.000000         0  \n",
       "227      5.283546  1.000000         0  \n",
       "\n",
       "[228 rows x 11 columns]"
      ]
     },
     "execution_count": 100,
     "metadata": {},
     "output_type": "execute_result"
    }
   ],
   "source": [
    "gungu2019"
   ]
  },
  {
   "cell_type": "code",
   "execution_count": 101,
   "metadata": {},
   "outputs": [],
   "source": [
    "for i in range(len(hme_2)):\n",
    "    for j in range(len(gungu2019)):\n",
    "        if hme_2.iloc[i,2] == gungu2019.iloc[j,0]:\n",
    "            gungu2019.iloc[j, 10] += 1"
   ]
  },
  {
   "cell_type": "code",
   "execution_count": 102,
   "metadata": {},
   "outputs": [
    {
     "data": {
      "text/html": [
       "<div>\n",
       "<style scoped>\n",
       "    .dataframe tbody tr th:only-of-type {\n",
       "        vertical-align: middle;\n",
       "    }\n",
       "\n",
       "    .dataframe tbody tr th {\n",
       "        vertical-align: top;\n",
       "    }\n",
       "\n",
       "    .dataframe thead th {\n",
       "        text-align: right;\n",
       "    }\n",
       "</style>\n",
       "<table border=\"1\" class=\"dataframe\">\n",
       "  <thead>\n",
       "    <tr style=\"text-align: right;\">\n",
       "      <th></th>\n",
       "      <th>시도별</th>\n",
       "      <th>시군구별</th>\n",
       "      <th>지역</th>\n",
       "      <th>지역내총생산(백만원)</th>\n",
       "      <th>총인구(명)</th>\n",
       "      <th>1인당_총생산</th>\n",
       "      <th>시점</th>\n",
       "      <th>지점수</th>\n",
       "      <th>1인당_총생산_log2</th>\n",
       "      <th>지점수_log2</th>\n",
       "      <th>지점수(시도별)</th>\n",
       "    </tr>\n",
       "  </thead>\n",
       "  <tbody>\n",
       "    <tr>\n",
       "      <th>0</th>\n",
       "      <td>경기</td>\n",
       "      <td>가평군</td>\n",
       "      <td>경기 가평군</td>\n",
       "      <td>1814241</td>\n",
       "      <td>59823</td>\n",
       "      <td>30.326814</td>\n",
       "      <td>2019</td>\n",
       "      <td>0</td>\n",
       "      <td>4.922522</td>\n",
       "      <td>-inf</td>\n",
       "      <td>861</td>\n",
       "    </tr>\n",
       "    <tr>\n",
       "      <th>1</th>\n",
       "      <td>서울</td>\n",
       "      <td>강남구</td>\n",
       "      <td>서울 강남구</td>\n",
       "      <td>71852681</td>\n",
       "      <td>509199</td>\n",
       "      <td>141.109234</td>\n",
       "      <td>2019</td>\n",
       "      <td>23</td>\n",
       "      <td>7.140669</td>\n",
       "      <td>4.523562</td>\n",
       "      <td>386</td>\n",
       "    </tr>\n",
       "    <tr>\n",
       "      <th>2</th>\n",
       "      <td>서울</td>\n",
       "      <td>강동구</td>\n",
       "      <td>서울 강동구</td>\n",
       "      <td>9348668</td>\n",
       "      <td>415287</td>\n",
       "      <td>22.511343</td>\n",
       "      <td>2019</td>\n",
       "      <td>16</td>\n",
       "      <td>4.492580</td>\n",
       "      <td>4.000000</td>\n",
       "      <td>386</td>\n",
       "    </tr>\n",
       "    <tr>\n",
       "      <th>3</th>\n",
       "      <td>강원</td>\n",
       "      <td>강릉시</td>\n",
       "      <td>강원 강릉시</td>\n",
       "      <td>5651552</td>\n",
       "      <td>216357</td>\n",
       "      <td>26.121420</td>\n",
       "      <td>2019</td>\n",
       "      <td>1</td>\n",
       "      <td>4.707161</td>\n",
       "      <td>0.000000</td>\n",
       "      <td>48</td>\n",
       "    </tr>\n",
       "    <tr>\n",
       "      <th>4</th>\n",
       "      <td>서울</td>\n",
       "      <td>강북구</td>\n",
       "      <td>서울 강북구</td>\n",
       "      <td>3283572</td>\n",
       "      <td>303871</td>\n",
       "      <td>10.805809</td>\n",
       "      <td>2019</td>\n",
       "      <td>8</td>\n",
       "      <td>3.433735</td>\n",
       "      <td>3.000000</td>\n",
       "      <td>386</td>\n",
       "    </tr>\n",
       "    <tr>\n",
       "      <th>...</th>\n",
       "      <td>...</td>\n",
       "      <td>...</td>\n",
       "      <td>...</td>\n",
       "      <td>...</td>\n",
       "      <td>...</td>\n",
       "      <td>...</td>\n",
       "      <td>...</td>\n",
       "      <td>...</td>\n",
       "      <td>...</td>\n",
       "      <td>...</td>\n",
       "      <td>...</td>\n",
       "    </tr>\n",
       "    <tr>\n",
       "      <th>223</th>\n",
       "      <td>강원</td>\n",
       "      <td>홍천군</td>\n",
       "      <td>강원 홍천군</td>\n",
       "      <td>2471133</td>\n",
       "      <td>66634</td>\n",
       "      <td>37.085167</td>\n",
       "      <td>2019</td>\n",
       "      <td>1</td>\n",
       "      <td>5.212770</td>\n",
       "      <td>0.000000</td>\n",
       "      <td>48</td>\n",
       "    </tr>\n",
       "    <tr>\n",
       "      <th>224</th>\n",
       "      <td>경기</td>\n",
       "      <td>화성시</td>\n",
       "      <td>경기 화성시</td>\n",
       "      <td>74532143</td>\n",
       "      <td>838635</td>\n",
       "      <td>88.873161</td>\n",
       "      <td>2019</td>\n",
       "      <td>105</td>\n",
       "      <td>6.473676</td>\n",
       "      <td>6.714246</td>\n",
       "      <td>861</td>\n",
       "    </tr>\n",
       "    <tr>\n",
       "      <th>225</th>\n",
       "      <td>전남</td>\n",
       "      <td>화순군</td>\n",
       "      <td>전남 화순군</td>\n",
       "      <td>1760151</td>\n",
       "      <td>59671</td>\n",
       "      <td>29.497595</td>\n",
       "      <td>2019</td>\n",
       "      <td>1</td>\n",
       "      <td>4.882525</td>\n",
       "      <td>0.000000</td>\n",
       "      <td>55</td>\n",
       "    </tr>\n",
       "    <tr>\n",
       "      <th>226</th>\n",
       "      <td>강원</td>\n",
       "      <td>화천군</td>\n",
       "      <td>강원 화천군</td>\n",
       "      <td>1418076</td>\n",
       "      <td>23425</td>\n",
       "      <td>60.536862</td>\n",
       "      <td>2019</td>\n",
       "      <td>1</td>\n",
       "      <td>5.919742</td>\n",
       "      <td>0.000000</td>\n",
       "      <td>48</td>\n",
       "    </tr>\n",
       "    <tr>\n",
       "      <th>227</th>\n",
       "      <td>강원</td>\n",
       "      <td>횡성군</td>\n",
       "      <td>강원 횡성군</td>\n",
       "      <td>1730581</td>\n",
       "      <td>44431</td>\n",
       "      <td>38.949855</td>\n",
       "      <td>2019</td>\n",
       "      <td>2</td>\n",
       "      <td>5.283546</td>\n",
       "      <td>1.000000</td>\n",
       "      <td>48</td>\n",
       "    </tr>\n",
       "  </tbody>\n",
       "</table>\n",
       "<p>228 rows × 11 columns</p>\n",
       "</div>"
      ],
      "text/plain": [
       "    시도별 시군구별      지역  지역내총생산(백만원)  총인구(명)     1인당_총생산    시점  지점수  \\\n",
       "0    경기  가평군  경기 가평군      1814241   59823   30.326814  2019    0   \n",
       "1    서울  강남구  서울 강남구     71852681  509199  141.109234  2019   23   \n",
       "2    서울  강동구  서울 강동구      9348668  415287   22.511343  2019   16   \n",
       "3    강원  강릉시  강원 강릉시      5651552  216357   26.121420  2019    1   \n",
       "4    서울  강북구  서울 강북구      3283572  303871   10.805809  2019    8   \n",
       "..   ..  ...     ...          ...     ...         ...   ...  ...   \n",
       "223  강원  홍천군  강원 홍천군      2471133   66634   37.085167  2019    1   \n",
       "224  경기  화성시  경기 화성시     74532143  838635   88.873161  2019  105   \n",
       "225  전남  화순군  전남 화순군      1760151   59671   29.497595  2019    1   \n",
       "226  강원  화천군  강원 화천군      1418076   23425   60.536862  2019    1   \n",
       "227  강원  횡성군  강원 횡성군      1730581   44431   38.949855  2019    2   \n",
       "\n",
       "     1인당_총생산_log2  지점수_log2  지점수(시도별)  \n",
       "0        4.922522      -inf       861  \n",
       "1        7.140669  4.523562       386  \n",
       "2        4.492580  4.000000       386  \n",
       "3        4.707161  0.000000        48  \n",
       "4        3.433735  3.000000       386  \n",
       "..            ...       ...       ...  \n",
       "223      5.212770  0.000000        48  \n",
       "224      6.473676  6.714246       861  \n",
       "225      4.882525  0.000000        55  \n",
       "226      5.919742  0.000000        48  \n",
       "227      5.283546  1.000000        48  \n",
       "\n",
       "[228 rows x 11 columns]"
      ]
     },
     "execution_count": 102,
     "metadata": {},
     "output_type": "execute_result"
    }
   ],
   "source": [
    "gungu2019"
   ]
  },
  {
   "cell_type": "code",
   "execution_count": null,
   "metadata": {},
   "outputs": [],
   "source": []
  },
  {
   "cell_type": "code",
   "execution_count": 103,
   "metadata": {},
   "outputs": [
    {
     "data": {
      "application/vnd.plotly.v1+json": {
       "config": {
        "plotlyServerURL": "https://plot.ly"
       },
       "data": [
        {
         "hovertemplate": "시도별=경기<br>1인당_총생산=%{x}<br>지점수=%{y}<extra></extra>",
         "legendgroup": "경기",
         "marker": {
          "color": "#636efa",
          "symbol": "circle"
         },
         "mode": "markers",
         "name": "경기",
         "orientation": "v",
         "showlegend": true,
         "type": "scatter",
         "x": [
          30.32681410159972,
          21.180363930922418,
          88.80938138584432,
          24.743375592575816,
          26.027220057670064,
          18.715311801113018,
          27.38830255057168,
          31.54232688356551,
          17.966236952316827,
          18.441825095057034,
          20.987765775003556,
          47.92501535501334,
          30.141097922115975,
          31.84006848170709,
          36.05704890505842,
          46.495501374305434,
          34.00720566836342,
          30.089374410282886,
          18.145114274473336,
          36.81493289040105,
          40.7859896567936,
          24.448790160599664,
          28.675387566518356,
          25.835771950765597,
          16.970900882692906,
          96.6511132536604,
          45.34682652180803,
          61.44050908337363,
          42.98656416735994,
          26.556692919430116,
          88.87316055256458
         ],
         "xaxis": "x",
         "y": [
          0,
          44,
          2,
          24,
          14,
          12,
          15,
          34,
          56,
          0,
          41,
          38,
          134,
          29,
          32,
          8,
          36,
          15,
          2,
          3,
          0,
          16,
          59,
          18,
          26,
          13,
          41,
          23,
          1,
          20,
          105
         ],
         "yaxis": "y"
        },
        {
         "hovertemplate": "시도별=서울<br>1인당_총생산=%{x}<br>지점수=%{y}<extra></extra>",
         "legendgroup": "서울",
         "marker": {
          "color": "#EF553B",
          "symbol": "circle"
         },
         "mode": "markers",
         "name": "서울",
         "orientation": "v",
         "showlegend": true,
         "type": "scatter",
         "x": [
          141.10923430721584,
          22.511342758140756,
          10.805809043969315,
          30.411108227355307,
          11.743678962168293,
          18.30931494360223,
          32.34951786206263,
          70.52986822664536,
          11.920118108818551,
          10.111128598791371,
          20.991409560059456,
          16.153149407537196,
          53.16154416194401,
          27.089397421366712,
          87.83667028842355,
          40.60172579482662,
          13.791934915242058,
          46.195695343817455,
          16.18087720334095,
          91.59364144101623,
          55.88282470805217,
          10.659577925595302,
          217.9830159580303,
          410.99916002962806,
          12.27377300811998
         ],
         "xaxis": "x",
         "y": [
          23,
          16,
          8,
          19,
          12,
          11,
          18,
          10,
          53,
          16,
          10,
          13,
          8,
          13,
          16,
          14,
          19,
          22,
          22,
          15,
          4,
          23,
          2,
          3,
          16
         ],
         "yaxis": "y"
        },
        {
         "hovertemplate": "시도별=강원<br>1인당_총생산=%{x}<br>지점수=%{y}<extra></extra>",
         "legendgroup": "강원",
         "marker": {
          "color": "#00cc96",
          "symbol": "circle"
         },
         "mode": "markers",
         "name": "강원",
         "orientation": "v",
         "showlegend": true,
         "type": "scatter",
         "x": [
          26.121419690603954,
          44.00497347480106,
          36.300590883197245,
          38.762386549620594,
          24.566051651132334,
          46.732920110192836,
          40.76594368340944,
          36.76200044038313,
          27.669889127130215,
          53.6017655062556,
          39.181789817047225,
          43.446300551470586,
          28.350788226989707,
          26.082238545933983,
          35.586252111859196,
          37.085166731698536,
          60.53686232657417,
          38.949854831086405
         ],
         "xaxis": "x",
         "y": [
          1,
          0,
          6,
          0,
          1,
          0,
          0,
          1,
          27,
          0,
          0,
          1,
          6,
          0,
          1,
          1,
          1,
          2
         ],
         "yaxis": "y"
        },
        {
         "hovertemplate": "시도별=부산<br>1인당_총생산=%{x}<br>지점수=%{y}<extra></extra>",
         "legendgroup": "부산",
         "marker": {
          "color": "#ab63fa",
          "symbol": "circle"
         },
         "mode": "markers",
         "name": "부산",
         "orientation": "v",
         "showlegend": true,
         "type": "scatter",
         "x": [
          112.4299078480541,
          18.90596422121066,
          34.99111564591992,
          37.62830708976101,
          47.74832281966557,
          15.636800048844895,
          25.218289395272283,
          10.930094213217911,
          29.50291979983649,
          22.481236789774503,
          28.128005517397753,
          16.37010456887345,
          33.73667746949142,
          23.159224815401963,
          74.34868201534869,
          24.191673072908976
         ],
         "xaxis": "x",
         "y": [
          9,
          6,
          15,
          8,
          3,
          11,
          27,
          16,
          7,
          17,
          2,
          8,
          11,
          2,
          2,
          11
         ],
         "yaxis": "y"
        },
        {
         "hovertemplate": "시도별=전남<br>1인당_총생산=%{x}<br>지점수=%{y}<extra></extra>",
         "legendgroup": "전남",
         "marker": {
          "color": "#FFA15A",
          "symbol": "circle"
         },
         "mode": "markers",
         "name": "전남",
         "orientation": "v",
         "showlegend": true,
         "type": "scatter",
         "x": [
          27.19634202103338,
          24.368776105549294,
          35.828307846938046,
          70.0303990087431,
          24.141718409129048,
          43.74462315233584,
          32.735563776741195,
          19.07708308770275,
          39.58387057086614,
          25.986828034116694,
          22.66827040510433,
          29.576089410702192,
          95.71694853172416,
          37.417706583473326,
          56.3502331407892,
          23.275420750113717,
          44.017206645652124,
          28.489153096297965,
          30.379689366786142,
          31.47610943840817,
          32.526781741465285,
          29.49759514672119
         ],
         "xaxis": "x",
         "y": [
          2,
          1,
          0,
          5,
          0,
          4,
          1,
          16,
          5,
          1,
          13,
          0,
          2,
          1,
          1,
          1,
          0,
          0,
          0,
          0,
          1,
          1
         ],
         "yaxis": "y"
        },
        {
         "hovertemplate": "시도별=인천<br>1인당_총생산=%{x}<br>지점수=%{y}<extra></extra>",
         "legendgroup": "인천",
         "marker": {
          "color": "#19d3f3",
          "symbol": "circle"
         },
         "mode": "markers",
         "name": "인천",
         "orientation": "v",
         "showlegend": true,
         "type": "scatter",
         "x": [
          26.21716869778493,
          16.43894189594262,
          30.70471264172239,
          20.780294864424643,
          17.320964889264648,
          20.126018449216055,
          34.85166326030463,
          31.679124389377506,
          37.861449579831934,
          112.22738751583083
         ],
         "xaxis": "x",
         "y": [
          0,
          6,
          11,
          2,
          15,
          16,
          35,
          17,
          0,
          10
         ],
         "yaxis": "y"
        },
        {
         "hovertemplate": "시도별=경남<br>1인당_총생산=%{x}<br>지점수=%{y}<extra></extra>",
         "legendgroup": "경남",
         "marker": {
          "color": "#FF6692",
          "symbol": "circle"
         },
         "mode": "markers",
         "name": "경남",
         "orientation": "v",
         "showlegend": true,
         "type": "scatter",
         "x": [
          37.95770342241647,
          26.711728559978628,
          44.206791518462474,
          29.232500987564876,
          25.795629820051413,
          30.567271426084602,
          41.57283772837729,
          31.454152893177284,
          31.544592636966083,
          36.7031490015361,
          24.40568264599086,
          44.678050344717015,
          38.442953835708124,
          23.83001747081143,
          50.29737219078036,
          60.100163636636594,
          28.118820885940508,
          26.523286767650593
         ],
         "xaxis": "x",
         "y": [
          13,
          1,
          2,
          44,
          1,
          2,
          1,
          1,
          12,
          2,
          8,
          2,
          63,
          5,
          0,
          2,
          0,
          0
         ],
         "yaxis": "y"
        },
        {
         "hovertemplate": "시도별=경북<br>1인당_총생산=%{x}<br>지점수=%{y}<extra></extra>",
         "legendgroup": "경북",
         "marker": {
          "color": "#B6E880",
          "symbol": "circle"
         },
         "mode": "markers",
         "name": "경북",
         "orientation": "v",
         "showlegend": true,
         "type": "scatter",
         "x": [
          29.62724069937398,
          39.91646299477137,
          45.79105961293529,
          68.84974031628359,
          36.16027199855895,
          39.010371545796346,
          23.05674427771052,
          36.473802296423386,
          24.711664821349117,
          43.047344725758826,
          34.233915830963426,
          23.827175375644764,
          25.301498823237953,
          29.50098351308975,
          37.52064446147263,
          21.937400980761975,
          34.43336397058823,
          46.63874839982372,
          27.293853709804555,
          25.410824767379548,
          33.567117455547205,
          36.07395563505657,
          38.433353118327545
         ],
         "xaxis": "x",
         "y": [
          10,
          12,
          2,
          12,
          1,
          9,
          2,
          0,
          5,
          1,
          13,
          1,
          0,
          8,
          2,
          4,
          0,
          0,
          0,
          1,
          1,
          6,
          33
         ],
         "yaxis": "y"
        },
        {
         "hovertemplate": "시도별=충남<br>1인당_총생산=%{x}<br>지점수=%{y}<extra></extra>",
         "legendgroup": "충남",
         "marker": {
          "color": "#FF97FF",
          "symbol": "circle"
         },
         "mode": "markers",
         "name": "충남",
         "orientation": "v",
         "showlegend": true,
         "type": "scatter",
         "x": [
          36.636672903555024,
          33.79042929821528,
          41.865195988391314,
          32.85504259190673,
          68.56315532723451,
          42.63247080144986,
          29.46661156771814,
          103.52989657770371,
          45.589839076911204,
          83.48412538324996,
          42.092853614984236,
          35.53221585216766,
          38.59789494201345,
          47.23850499211771,
          32.584438326312615
         ],
         "xaxis": "x",
         "y": [
          4,
          0,
          1,
          2,
          4,
          0,
          1,
          6,
          0,
          21,
          1,
          24,
          1,
          0,
          2
         ],
         "yaxis": "y"
        },
        {
         "hovertemplate": "시도별=전북<br>1인당_총생산=%{x}<br>지점수=%{y}<extra></extra>",
         "legendgroup": "전북",
         "marker": {
          "color": "#FECB52",
          "symbol": "circle"
         },
         "mode": "markers",
         "name": "전북",
         "orientation": "v",
         "showlegend": true,
         "type": "scatter",
         "x": [
          31.870878708223806,
          34.06249376466459,
          36.41307105021014,
          22.02279084869374,
          29.89048380820615,
          29.79414071139887,
          28.569777043765484,
          50.1952147341288,
          27.165466584401575,
          28.49483629130967,
          24.761931631165655,
          23.849628296021965,
          28.471932406751872,
          27.21692087081215
         ],
         "xaxis": "x",
         "y": [
          0,
          14,
          0,
          1,
          0,
          0,
          0,
          1,
          1,
          1,
          0,
          40,
          0,
          1
         ],
         "yaxis": "y"
        },
        {
         "hovertemplate": "시도별=광주<br>1인당_총생산=%{x}<br>지점수=%{y}<extra></extra>",
         "legendgroup": "광주",
         "marker": {
          "color": "#636efa",
          "symbol": "circle"
         },
         "mode": "markers",
         "name": "광주",
         "orientation": "v",
         "showlegend": true,
         "type": "scatter",
         "x": [
          31.936873685951195,
          10.08172218304377,
          42.612118170252,
          23.417240367974816,
          35.52526398083434
         ],
         "xaxis": "x",
         "y": [
          19,
          9,
          3,
          11,
          4
         ],
         "yaxis": "y"
        },
        {
         "hovertemplate": "시도별=충북<br>1인당_총생산=%{x}<br>지점수=%{y}<extra></extra>",
         "legendgroup": "충북",
         "marker": {
          "color": "#EF553B",
          "symbol": "circle"
         },
         "mode": "markers",
         "name": "충북",
         "orientation": "v",
         "showlegend": true,
         "type": "scatter",
         "x": [
          35.507910740053596,
          40.673262463600324,
          34.698603168650976,
          22.472814765436215,
          30.215994462202495,
          77.93014891769936,
          23.9867810982196,
          29.45661856879951,
          86.99265352756355,
          41.09074574175792,
          37.383966439666246
         ],
         "xaxis": "x",
         "y": [
          0,
          0,
          1,
          1,
          1,
          1,
          5,
          0,
          4,
          31,
          5
         ],
         "yaxis": "y"
        },
        {
         "hovertemplate": "시도별=대구<br>1인당_총생산=%{x}<br>지점수=%{y}<extra></extra>",
         "legendgroup": "대구",
         "marker": {
          "color": "#00cc96",
          "symbol": "circle"
         },
         "mode": "markers",
         "name": "대구",
         "orientation": "v",
         "showlegend": true,
         "type": "scatter",
         "x": [
          13.848172260691527,
          19.26355291748548,
          32.93697832264731,
          30.924668242750645,
          22.15946866943168,
          19.429997203882607,
          18.166171020725624,
          67.10608647318061
         ],
         "xaxis": "x",
         "y": [
          4,
          20,
          10,
          6,
          20,
          5,
          18,
          2
         ],
         "yaxis": "y"
        },
        {
         "hovertemplate": "시도별=울산<br>1인당_총생산=%{x}<br>지점수=%{y}<extra></extra>",
         "legendgroup": "울산",
         "marker": {
          "color": "#ab63fa",
          "symbol": "circle"
         },
         "mode": "markers",
         "name": "울산",
         "orientation": "v",
         "showlegend": true,
         "type": "scatter",
         "x": [
          102.8564061553027,
          134.0150945193086,
          65.39147824132182,
          82.54660685824787,
          22.19557212388574
         ],
         "xaxis": "x",
         "y": [
          5,
          0,
          6,
          2,
          3
         ],
         "yaxis": "y"
        },
        {
         "hovertemplate": "시도별=대전<br>1인당_총생산=%{x}<br>지점수=%{y}<extra></extra>",
         "legendgroup": "대전",
         "marker": {
          "color": "#FFA15A",
          "symbol": "circle"
         },
         "mode": "markers",
         "name": "대전",
         "orientation": "v",
         "showlegend": true,
         "type": "scatter",
         "x": [
          39.01015727054855,
          10.924688610385877,
          26.438463777759296,
          38.24900694050373,
          21.642413668375923
         ],
         "xaxis": "x",
         "y": [
          5,
          6,
          9,
          10,
          5
         ],
         "yaxis": "y"
        },
        {
         "hovertemplate": "시도별=제주<br>1인당_총생산=%{x}<br>지점수=%{y}<extra></extra>",
         "legendgroup": "제주",
         "marker": {
          "color": "#19d3f3",
          "symbol": "circle"
         },
         "mode": "markers",
         "name": "제주",
         "orientation": "v",
         "showlegend": true,
         "type": "scatter",
         "x": [
          30.724131709517366,
          30.469285690851528
         ],
         "xaxis": "x",
         "y": [
          5,
          10
         ],
         "yaxis": "y"
        }
       ],
       "layout": {
        "legend": {
         "title": {
          "text": "시도별"
         },
         "tracegroupgap": 0
        },
        "margin": {
         "t": 60
        },
        "template": {
         "data": {
          "bar": [
           {
            "error_x": {
             "color": "#2a3f5f"
            },
            "error_y": {
             "color": "#2a3f5f"
            },
            "marker": {
             "line": {
              "color": "#E5ECF6",
              "width": 0.5
             },
             "pattern": {
              "fillmode": "overlay",
              "size": 10,
              "solidity": 0.2
             }
            },
            "type": "bar"
           }
          ],
          "barpolar": [
           {
            "marker": {
             "line": {
              "color": "#E5ECF6",
              "width": 0.5
             },
             "pattern": {
              "fillmode": "overlay",
              "size": 10,
              "solidity": 0.2
             }
            },
            "type": "barpolar"
           }
          ],
          "carpet": [
           {
            "aaxis": {
             "endlinecolor": "#2a3f5f",
             "gridcolor": "white",
             "linecolor": "white",
             "minorgridcolor": "white",
             "startlinecolor": "#2a3f5f"
            },
            "baxis": {
             "endlinecolor": "#2a3f5f",
             "gridcolor": "white",
             "linecolor": "white",
             "minorgridcolor": "white",
             "startlinecolor": "#2a3f5f"
            },
            "type": "carpet"
           }
          ],
          "choropleth": [
           {
            "colorbar": {
             "outlinewidth": 0,
             "ticks": ""
            },
            "type": "choropleth"
           }
          ],
          "contour": [
           {
            "colorbar": {
             "outlinewidth": 0,
             "ticks": ""
            },
            "colorscale": [
             [
              0,
              "#0d0887"
             ],
             [
              0.1111111111111111,
              "#46039f"
             ],
             [
              0.2222222222222222,
              "#7201a8"
             ],
             [
              0.3333333333333333,
              "#9c179e"
             ],
             [
              0.4444444444444444,
              "#bd3786"
             ],
             [
              0.5555555555555556,
              "#d8576b"
             ],
             [
              0.6666666666666666,
              "#ed7953"
             ],
             [
              0.7777777777777778,
              "#fb9f3a"
             ],
             [
              0.8888888888888888,
              "#fdca26"
             ],
             [
              1,
              "#f0f921"
             ]
            ],
            "type": "contour"
           }
          ],
          "contourcarpet": [
           {
            "colorbar": {
             "outlinewidth": 0,
             "ticks": ""
            },
            "type": "contourcarpet"
           }
          ],
          "heatmap": [
           {
            "colorbar": {
             "outlinewidth": 0,
             "ticks": ""
            },
            "colorscale": [
             [
              0,
              "#0d0887"
             ],
             [
              0.1111111111111111,
              "#46039f"
             ],
             [
              0.2222222222222222,
              "#7201a8"
             ],
             [
              0.3333333333333333,
              "#9c179e"
             ],
             [
              0.4444444444444444,
              "#bd3786"
             ],
             [
              0.5555555555555556,
              "#d8576b"
             ],
             [
              0.6666666666666666,
              "#ed7953"
             ],
             [
              0.7777777777777778,
              "#fb9f3a"
             ],
             [
              0.8888888888888888,
              "#fdca26"
             ],
             [
              1,
              "#f0f921"
             ]
            ],
            "type": "heatmap"
           }
          ],
          "heatmapgl": [
           {
            "colorbar": {
             "outlinewidth": 0,
             "ticks": ""
            },
            "colorscale": [
             [
              0,
              "#0d0887"
             ],
             [
              0.1111111111111111,
              "#46039f"
             ],
             [
              0.2222222222222222,
              "#7201a8"
             ],
             [
              0.3333333333333333,
              "#9c179e"
             ],
             [
              0.4444444444444444,
              "#bd3786"
             ],
             [
              0.5555555555555556,
              "#d8576b"
             ],
             [
              0.6666666666666666,
              "#ed7953"
             ],
             [
              0.7777777777777778,
              "#fb9f3a"
             ],
             [
              0.8888888888888888,
              "#fdca26"
             ],
             [
              1,
              "#f0f921"
             ]
            ],
            "type": "heatmapgl"
           }
          ],
          "histogram": [
           {
            "marker": {
             "pattern": {
              "fillmode": "overlay",
              "size": 10,
              "solidity": 0.2
             }
            },
            "type": "histogram"
           }
          ],
          "histogram2d": [
           {
            "colorbar": {
             "outlinewidth": 0,
             "ticks": ""
            },
            "colorscale": [
             [
              0,
              "#0d0887"
             ],
             [
              0.1111111111111111,
              "#46039f"
             ],
             [
              0.2222222222222222,
              "#7201a8"
             ],
             [
              0.3333333333333333,
              "#9c179e"
             ],
             [
              0.4444444444444444,
              "#bd3786"
             ],
             [
              0.5555555555555556,
              "#d8576b"
             ],
             [
              0.6666666666666666,
              "#ed7953"
             ],
             [
              0.7777777777777778,
              "#fb9f3a"
             ],
             [
              0.8888888888888888,
              "#fdca26"
             ],
             [
              1,
              "#f0f921"
             ]
            ],
            "type": "histogram2d"
           }
          ],
          "histogram2dcontour": [
           {
            "colorbar": {
             "outlinewidth": 0,
             "ticks": ""
            },
            "colorscale": [
             [
              0,
              "#0d0887"
             ],
             [
              0.1111111111111111,
              "#46039f"
             ],
             [
              0.2222222222222222,
              "#7201a8"
             ],
             [
              0.3333333333333333,
              "#9c179e"
             ],
             [
              0.4444444444444444,
              "#bd3786"
             ],
             [
              0.5555555555555556,
              "#d8576b"
             ],
             [
              0.6666666666666666,
              "#ed7953"
             ],
             [
              0.7777777777777778,
              "#fb9f3a"
             ],
             [
              0.8888888888888888,
              "#fdca26"
             ],
             [
              1,
              "#f0f921"
             ]
            ],
            "type": "histogram2dcontour"
           }
          ],
          "mesh3d": [
           {
            "colorbar": {
             "outlinewidth": 0,
             "ticks": ""
            },
            "type": "mesh3d"
           }
          ],
          "parcoords": [
           {
            "line": {
             "colorbar": {
              "outlinewidth": 0,
              "ticks": ""
             }
            },
            "type": "parcoords"
           }
          ],
          "pie": [
           {
            "automargin": true,
            "type": "pie"
           }
          ],
          "scatter": [
           {
            "fillpattern": {
             "fillmode": "overlay",
             "size": 10,
             "solidity": 0.2
            },
            "type": "scatter"
           }
          ],
          "scatter3d": [
           {
            "line": {
             "colorbar": {
              "outlinewidth": 0,
              "ticks": ""
             }
            },
            "marker": {
             "colorbar": {
              "outlinewidth": 0,
              "ticks": ""
             }
            },
            "type": "scatter3d"
           }
          ],
          "scattercarpet": [
           {
            "marker": {
             "colorbar": {
              "outlinewidth": 0,
              "ticks": ""
             }
            },
            "type": "scattercarpet"
           }
          ],
          "scattergeo": [
           {
            "marker": {
             "colorbar": {
              "outlinewidth": 0,
              "ticks": ""
             }
            },
            "type": "scattergeo"
           }
          ],
          "scattergl": [
           {
            "marker": {
             "colorbar": {
              "outlinewidth": 0,
              "ticks": ""
             }
            },
            "type": "scattergl"
           }
          ],
          "scattermapbox": [
           {
            "marker": {
             "colorbar": {
              "outlinewidth": 0,
              "ticks": ""
             }
            },
            "type": "scattermapbox"
           }
          ],
          "scatterpolar": [
           {
            "marker": {
             "colorbar": {
              "outlinewidth": 0,
              "ticks": ""
             }
            },
            "type": "scatterpolar"
           }
          ],
          "scatterpolargl": [
           {
            "marker": {
             "colorbar": {
              "outlinewidth": 0,
              "ticks": ""
             }
            },
            "type": "scatterpolargl"
           }
          ],
          "scatterternary": [
           {
            "marker": {
             "colorbar": {
              "outlinewidth": 0,
              "ticks": ""
             }
            },
            "type": "scatterternary"
           }
          ],
          "surface": [
           {
            "colorbar": {
             "outlinewidth": 0,
             "ticks": ""
            },
            "colorscale": [
             [
              0,
              "#0d0887"
             ],
             [
              0.1111111111111111,
              "#46039f"
             ],
             [
              0.2222222222222222,
              "#7201a8"
             ],
             [
              0.3333333333333333,
              "#9c179e"
             ],
             [
              0.4444444444444444,
              "#bd3786"
             ],
             [
              0.5555555555555556,
              "#d8576b"
             ],
             [
              0.6666666666666666,
              "#ed7953"
             ],
             [
              0.7777777777777778,
              "#fb9f3a"
             ],
             [
              0.8888888888888888,
              "#fdca26"
             ],
             [
              1,
              "#f0f921"
             ]
            ],
            "type": "surface"
           }
          ],
          "table": [
           {
            "cells": {
             "fill": {
              "color": "#EBF0F8"
             },
             "line": {
              "color": "white"
             }
            },
            "header": {
             "fill": {
              "color": "#C8D4E3"
             },
             "line": {
              "color": "white"
             }
            },
            "type": "table"
           }
          ]
         },
         "layout": {
          "annotationdefaults": {
           "arrowcolor": "#2a3f5f",
           "arrowhead": 0,
           "arrowwidth": 1
          },
          "autotypenumbers": "strict",
          "coloraxis": {
           "colorbar": {
            "outlinewidth": 0,
            "ticks": ""
           }
          },
          "colorscale": {
           "diverging": [
            [
             0,
             "#8e0152"
            ],
            [
             0.1,
             "#c51b7d"
            ],
            [
             0.2,
             "#de77ae"
            ],
            [
             0.3,
             "#f1b6da"
            ],
            [
             0.4,
             "#fde0ef"
            ],
            [
             0.5,
             "#f7f7f7"
            ],
            [
             0.6,
             "#e6f5d0"
            ],
            [
             0.7,
             "#b8e186"
            ],
            [
             0.8,
             "#7fbc41"
            ],
            [
             0.9,
             "#4d9221"
            ],
            [
             1,
             "#276419"
            ]
           ],
           "sequential": [
            [
             0,
             "#0d0887"
            ],
            [
             0.1111111111111111,
             "#46039f"
            ],
            [
             0.2222222222222222,
             "#7201a8"
            ],
            [
             0.3333333333333333,
             "#9c179e"
            ],
            [
             0.4444444444444444,
             "#bd3786"
            ],
            [
             0.5555555555555556,
             "#d8576b"
            ],
            [
             0.6666666666666666,
             "#ed7953"
            ],
            [
             0.7777777777777778,
             "#fb9f3a"
            ],
            [
             0.8888888888888888,
             "#fdca26"
            ],
            [
             1,
             "#f0f921"
            ]
           ],
           "sequentialminus": [
            [
             0,
             "#0d0887"
            ],
            [
             0.1111111111111111,
             "#46039f"
            ],
            [
             0.2222222222222222,
             "#7201a8"
            ],
            [
             0.3333333333333333,
             "#9c179e"
            ],
            [
             0.4444444444444444,
             "#bd3786"
            ],
            [
             0.5555555555555556,
             "#d8576b"
            ],
            [
             0.6666666666666666,
             "#ed7953"
            ],
            [
             0.7777777777777778,
             "#fb9f3a"
            ],
            [
             0.8888888888888888,
             "#fdca26"
            ],
            [
             1,
             "#f0f921"
            ]
           ]
          },
          "colorway": [
           "#636efa",
           "#EF553B",
           "#00cc96",
           "#ab63fa",
           "#FFA15A",
           "#19d3f3",
           "#FF6692",
           "#B6E880",
           "#FF97FF",
           "#FECB52"
          ],
          "font": {
           "color": "#2a3f5f"
          },
          "geo": {
           "bgcolor": "white",
           "lakecolor": "white",
           "landcolor": "#E5ECF6",
           "showlakes": true,
           "showland": true,
           "subunitcolor": "white"
          },
          "hoverlabel": {
           "align": "left"
          },
          "hovermode": "closest",
          "mapbox": {
           "style": "light"
          },
          "paper_bgcolor": "white",
          "plot_bgcolor": "#E5ECF6",
          "polar": {
           "angularaxis": {
            "gridcolor": "white",
            "linecolor": "white",
            "ticks": ""
           },
           "bgcolor": "#E5ECF6",
           "radialaxis": {
            "gridcolor": "white",
            "linecolor": "white",
            "ticks": ""
           }
          },
          "scene": {
           "xaxis": {
            "backgroundcolor": "#E5ECF6",
            "gridcolor": "white",
            "gridwidth": 2,
            "linecolor": "white",
            "showbackground": true,
            "ticks": "",
            "zerolinecolor": "white"
           },
           "yaxis": {
            "backgroundcolor": "#E5ECF6",
            "gridcolor": "white",
            "gridwidth": 2,
            "linecolor": "white",
            "showbackground": true,
            "ticks": "",
            "zerolinecolor": "white"
           },
           "zaxis": {
            "backgroundcolor": "#E5ECF6",
            "gridcolor": "white",
            "gridwidth": 2,
            "linecolor": "white",
            "showbackground": true,
            "ticks": "",
            "zerolinecolor": "white"
           }
          },
          "shapedefaults": {
           "line": {
            "color": "#2a3f5f"
           }
          },
          "ternary": {
           "aaxis": {
            "gridcolor": "white",
            "linecolor": "white",
            "ticks": ""
           },
           "baxis": {
            "gridcolor": "white",
            "linecolor": "white",
            "ticks": ""
           },
           "bgcolor": "#E5ECF6",
           "caxis": {
            "gridcolor": "white",
            "linecolor": "white",
            "ticks": ""
           }
          },
          "title": {
           "x": 0.05
          },
          "xaxis": {
           "automargin": true,
           "gridcolor": "white",
           "linecolor": "white",
           "ticks": "",
           "title": {
            "standoff": 15
           },
           "zerolinecolor": "white",
           "zerolinewidth": 2
          },
          "yaxis": {
           "automargin": true,
           "gridcolor": "white",
           "linecolor": "white",
           "ticks": "",
           "title": {
            "standoff": 15
           },
           "zerolinecolor": "white",
           "zerolinewidth": 2
          }
         }
        },
        "xaxis": {
         "anchor": "y",
         "domain": [
          0,
          1
         ],
         "title": {
          "text": "1인당_총생산"
         }
        },
        "yaxis": {
         "anchor": "x",
         "domain": [
          0,
          1
         ],
         "title": {
          "text": "지점수"
         }
        }
       }
      }
     },
     "metadata": {},
     "output_type": "display_data"
    }
   ],
   "source": [
    "# 시군구별 인당 총생산과 지점수 그래프\n",
    "\n",
    "fig = px.scatter(gungu2019, x = '1인당_총생산', y = '지점수', color = '시도별')\n",
    "fig.show()"
   ]
  },
  {
   "cell_type": "code",
   "execution_count": 104,
   "metadata": {},
   "outputs": [
    {
     "data": {
      "application/vnd.plotly.v1+json": {
       "config": {
        "plotlyServerURL": "https://plot.ly"
       },
       "data": [
        {
         "hovertemplate": "시도별=경기<br>1인당_총생산_log2=%{x}<br>지점수_log2=%{y}<extra></extra>",
         "legendgroup": "경기",
         "marker": {
          "color": "#636efa",
          "symbol": "circle"
         },
         "mode": "markers",
         "name": "경기",
         "orientation": "v",
         "showlegend": true,
         "type": "scatter",
         "x": [
          4.922522042528343,
          4.404655473491749,
          6.472640178714447,
          4.628970426990844,
          4.701949321988958,
          4.226147178934604,
          4.77548794954844,
          4.97921718683427,
          4.167216361345729,
          4.2049095340219385,
          4.391476689488708,
          5.582706989015489,
          4.91366006450866,
          4.992771533724733,
          5.1722094188827485,
          5.5390192313457955,
          5.0877685612678265,
          4.911182206724289,
          4.181509237551777,
          5.202219166524892,
          5.350001753851809,
          4.611691170597044,
          4.841741080222288,
          4.691298085787861,
          4.084991245772434,
          6.594714444771213,
          5.502929685962032,
          5.941118264869214,
          5.425813898002206,
          4.731003595269619,
          6.473675889825818
         ],
         "xaxis": "x",
         "y": [
          null,
          5.459431618637297,
          1,
          4.584962500721156,
          3.807354922057604,
          3.584962500721156,
          3.9068905956085187,
          5.087462841250339,
          5.807354922057604,
          null,
          5.357552004618084,
          5.247927513443585,
          7.066089190457772,
          4.857980995127572,
          5,
          3,
          5.169925001442312,
          3.9068905956085187,
          1,
          1.584962500721156,
          null,
          4,
          5.882643049361842,
          4.169925001442312,
          4.700439718141092,
          3.700439718141092,
          5.357552004618084,
          4.523561956057013,
          0,
          4.321928094887363,
          6.714245517666122
         ],
         "yaxis": "y"
        },
        {
         "hovertemplate": "시도별=서울<br>1인당_총생산_log2=%{x}<br>지점수_log2=%{y}<extra></extra>",
         "legendgroup": "서울",
         "marker": {
          "color": "#EF553B",
          "symbol": "circle"
         },
         "mode": "markers",
         "name": "서울",
         "orientation": "v",
         "showlegend": true,
         "type": "scatter",
         "x": [
          7.140668591978548,
          4.492580208220293,
          3.433735187448163,
          4.9265264862306655,
          3.5538125296577605,
          4.194505907543253,
          5.015672305306237,
          6.140162439165696,
          3.5753266254997387,
          3.337872133968581,
          4.391727140842335,
          4.013743571984067,
          5.732311105491372,
          4.7596563973651,
          6.45675146059855,
          5.343469146010185,
          3.785752966300628,
          5.529686518055406,
          4.016217916660528,
          6.5171755427737414,
          5.804333041355976,
          3.4140784094660823,
          7.7680719222647205,
          8.682991635208865,
          3.61750690243519
         ],
         "xaxis": "x",
         "y": [
          4.523561956057013,
          4,
          3,
          4.247927513443585,
          3.584962500721156,
          3.4594316186372973,
          4.169925001442312,
          3.321928094887362,
          5.727920454563199,
          4,
          3.321928094887362,
          3.700439718141092,
          3,
          3.700439718141092,
          4,
          3.807354922057604,
          4.247927513443585,
          4.459431618637297,
          4.459431618637297,
          3.9068905956085187,
          2,
          4.523561956057013,
          1,
          1.584962500721156,
          4
         ],
         "yaxis": "y"
        },
        {
         "hovertemplate": "시도별=강원<br>1인당_총생산_log2=%{x}<br>지점수_log2=%{y}<extra></extra>",
         "legendgroup": "강원",
         "marker": {
          "color": "#00cc96",
          "symbol": "circle"
         },
         "mode": "markers",
         "name": "강원",
         "orientation": "v",
         "showlegend": true,
         "type": "scatter",
         "x": [
          4.707161403905471,
          5.45959468231781,
          5.181921126781126,
          5.276585493228278,
          4.6185940958080725,
          5.546367281819839,
          5.3492925069758845,
          5.200143369318879,
          4.790244957987385,
          5.744208615069885,
          5.292111396045719,
          5.441161431805726,
          4.825316941355071,
          4.704995791163556,
          5.153248093361471,
          5.212770350148687,
          5.9197419959662225,
          5.283546046156027
         ],
         "xaxis": "x",
         "y": [
          0,
          null,
          2.584962500721156,
          null,
          0,
          null,
          null,
          0,
          4.754887502163468,
          null,
          null,
          0,
          2.584962500721156,
          null,
          0,
          0,
          0,
          1
         ],
         "yaxis": "y"
        },
        {
         "hovertemplate": "시도별=부산<br>1인당_총생산_log2=%{x}<br>지점수_log2=%{y}<extra></extra>",
         "legendgroup": "부산",
         "marker": {
          "color": "#ab63fa",
          "symbol": "circle"
         },
         "mode": "markers",
         "name": "부산",
         "orientation": "v",
         "showlegend": true,
         "type": "scatter",
         "x": [
          6.812882052420794,
          4.240769524835902,
          5.1289167586413695,
          5.233746478416282,
          5.577378153643153,
          3.966873401266548,
          4.656398513112724,
          3.450233931428422,
          4.8827858348633795,
          4.490649501504568,
          4.8139353534705664,
          4.032991632369149,
          5.0762459928069354,
          4.533515059194999,
          6.216235262628756,
          4.5964386430609725
         ],
         "xaxis": "x",
         "y": [
          3.169925001442312,
          2.584962500721156,
          3.9068905956085187,
          3,
          1.584962500721156,
          3.4594316186372973,
          4.754887502163468,
          4,
          2.807354922057604,
          4.087462841250339,
          1,
          3,
          3.4594316186372973,
          1,
          1,
          3.4594316186372973
         ],
         "yaxis": "y"
        },
        {
         "hovertemplate": "시도별=전남<br>1인당_총생산_log2=%{x}<br>지점수_log2=%{y}<extra></extra>",
         "legendgroup": "전남",
         "marker": {
          "color": "#FFA15A",
          "symbol": "circle"
         },
         "mode": "markers",
         "name": "전남",
         "orientation": "v",
         "showlegend": true,
         "type": "scatter",
         "x": [
          4.765340713164174,
          4.60696189002764,
          5.163028002279725,
          6.1299094023607195,
          4.593456465764635,
          5.451033794616916,
          5.032786920336011,
          4.253768693033172,
          5.306840783078156,
          4.699708643329112,
          4.502602412160526,
          4.886359404905386,
          6.580702499198774,
          5.2256492301083215,
          5.816349674235428,
          4.540735342526038,
          5.459995688859812,
          4.8323408298544415,
          4.925035213203714,
          4.976185324398976,
          5.023556181474447,
          4.882525435418673
         ],
         "xaxis": "x",
         "y": [
          1,
          0,
          null,
          2.321928094887362,
          null,
          2,
          0,
          4,
          2.321928094887362,
          0,
          3.700439718141092,
          null,
          1,
          0,
          0,
          0,
          null,
          null,
          null,
          null,
          0,
          0
         ],
         "yaxis": "y"
        },
        {
         "hovertemplate": "시도별=인천<br>1인당_총생산_log2=%{x}<br>지점수_log2=%{y}<extra></extra>",
         "legendgroup": "인천",
         "marker": {
          "color": "#19d3f3",
          "symbol": "circle"
         },
         "mode": "markers",
         "name": "인천",
         "orientation": "v",
         "showlegend": true,
         "type": "scatter",
         "x": [
          4.712439986159491,
          4.039045536814313,
          4.940388196185052,
          4.377144220564762,
          4.114447394593084,
          4.330989885541029,
          5.123155603782599,
          4.985460554782138,
          5.2426577426326295,
          6.810280978125402
         ],
         "xaxis": "x",
         "y": [
          null,
          2.584962500721156,
          3.4594316186372973,
          1,
          3.9068905956085187,
          4,
          5.129283016944966,
          4.087462841250339,
          null,
          3.321928094887362
         ],
         "yaxis": "y"
        },
        {
         "hovertemplate": "시도별=경남<br>1인당_총생산_log2=%{x}<br>지점수_log2=%{y}<extra></extra>",
         "legendgroup": "경남",
         "marker": {
          "color": "#FF6692",
          "symbol": "circle"
         },
         "mode": "markers",
         "name": "경남",
         "orientation": "v",
         "showlegend": true,
         "type": "scatter",
         "x": [
          5.246320801647838,
          4.739401433055026,
          5.466196123719541,
          4.869501359132407,
          4.689054766311936,
          4.933915871327287,
          5.37756932341083,
          4.975178603656637,
          4.979320815010162,
          5.197831941443738,
          4.609145200489562,
          5.48149432593288,
          5.26464728740912,
          4.574708104117761,
          5.6524111226246765,
          5.909297013901074,
          4.813464193648018,
          4.729187660291695
         ],
         "xaxis": "x",
         "y": [
          3.700439718141092,
          0,
          1,
          5.459431618637297,
          0,
          1,
          0,
          0,
          3.584962500721156,
          1,
          3,
          1,
          5.977279923499917,
          2.321928094887362,
          null,
          1,
          null,
          null
         ],
         "yaxis": "y"
        },
        {
         "hovertemplate": "시도별=경북<br>1인당_총생산_log2=%{x}<br>지점수_log2=%{y}<extra></extra>",
         "legendgroup": "경북",
         "marker": {
          "color": "#B6E880",
          "symbol": "circle"
         },
         "mode": "markers",
         "name": "경북",
         "orientation": "v",
         "showlegend": true,
         "type": "scatter",
         "x": [
          4.888852363619942,
          5.31891198374948,
          5.516994044494579,
          6.105379307778954,
          5.176333624672992,
          5.285785833950304,
          4.527116906836008,
          5.188788699503995,
          4.627120302988178,
          5.4278523460025605,
          5.097354418692911,
          4.574536030339905,
          4.661150945451385,
          4.882691147185738,
          5.22961270294816,
          4.455320708400923,
          5.105735226902119,
          5.543457167696872,
          4.77050420278294,
          4.667371297059341,
          5.068976747170327,
          5.172885723230044,
          5.264286944724234
         ],
         "xaxis": "x",
         "y": [
          3.321928094887362,
          3.584962500721156,
          1,
          3.584962500721156,
          0,
          3.169925001442312,
          1,
          null,
          2.321928094887362,
          0,
          3.700439718141092,
          0,
          null,
          3,
          1,
          2,
          null,
          null,
          null,
          0,
          0,
          2.584962500721156,
          5.044394119358453
         ],
         "yaxis": "y"
        },
        {
         "hovertemplate": "시도별=충남<br>1인당_총생산_log2=%{x}<br>지점수_log2=%{y}<extra></extra>",
         "legendgroup": "충남",
         "marker": {
          "color": "#FF97FF",
          "symbol": "circle"
         },
         "mode": "markers",
         "name": "충남",
         "orientation": "v",
         "showlegend": true,
         "type": "scatter",
         "x": [
          5.19521658840174,
          5.0785427745536795,
          5.387679473883713,
          5.038042907262394,
          6.099361599760832,
          5.41388076524203,
          4.881009266122706,
          6.6939036281870425,
          5.510640411671705,
          6.383429988184615,
          5.395503412991946,
          5.15105575539023,
          5.27045026260011,
          5.561891401819989,
          5.026111221625398
         ],
         "xaxis": "x",
         "y": [
          2,
          null,
          0,
          1,
          2,
          null,
          0,
          2.584962500721156,
          null,
          4.392317422778761,
          0,
          4.584962500721156,
          0,
          null,
          1
         ],
         "yaxis": "y"
        },
        {
         "hovertemplate": "시도별=전북<br>1인당_총생산_log2=%{x}<br>지점수_log2=%{y}<extra></extra>",
         "legendgroup": "전북",
         "marker": {
          "color": "#FECB52",
          "symbol": "circle"
         },
         "mode": "markers",
         "name": "전북",
         "orientation": "v",
         "showlegend": true,
         "type": "scatter",
         "x": [
          4.994166890925651,
          5.090112155570687,
          5.186384516583469,
          4.460925401593432,
          4.901614343594601,
          4.89695673437515,
          4.836417872529902,
          5.649477929015484,
          4.763701921326803,
          4.832628599011185,
          4.63005195572411,
          4.575894876436195,
          4.831468507849117,
          4.766431954687312
         ],
         "xaxis": "x",
         "y": [
          null,
          3.807354922057604,
          null,
          0,
          null,
          null,
          null,
          0,
          0,
          0,
          null,
          5.321928094887363,
          null,
          0
         ],
         "yaxis": "y"
        },
        {
         "hovertemplate": "시도별=광주<br>1인당_총생산_log2=%{x}<br>지점수_log2=%{y}<extra></extra>",
         "legendgroup": "광주",
         "marker": {
          "color": "#636efa",
          "symbol": "circle"
         },
         "mode": "markers",
         "name": "광주",
         "orientation": "v",
         "showlegend": true,
         "type": "scatter",
         "x": [
          4.997151188521739,
          3.333670199272156,
          5.413191861910796,
          4.549499164662481,
          5.150773464761487
         ],
         "xaxis": "x",
         "y": [
          4.247927513443585,
          3.169925001442312,
          1.584962500721156,
          3.4594316186372973,
          2
         ],
         "yaxis": "y"
        },
        {
         "hovertemplate": "시도별=충북<br>1인당_총생산_log2=%{x}<br>지점수_log2=%{y}<extra></extra>",
         "legendgroup": "충북",
         "marker": {
          "color": "#EF553B",
          "symbol": "circle"
         },
         "mode": "markers",
         "name": "충북",
         "orientation": "v",
         "showlegend": true,
         "type": "scatter",
         "x": [
          5.150068570604239,
          5.346008811069382,
          5.11680568154618,
          4.490108931190263,
          4.917240519370033,
          6.284109668095432,
          4.584167663305913,
          4.88051992261291,
          6.442821666344511,
          5.3607416086047355,
          5.224347742067125
         ],
         "xaxis": "x",
         "y": [
          null,
          null,
          0,
          0,
          0,
          0,
          2.321928094887362,
          null,
          2,
          4.954196310386875,
          2.321928094887362
         ],
         "yaxis": "y"
        },
        {
         "hovertemplate": "시도별=대구<br>1인당_총생산_log2=%{x}<br>지점수_log2=%{y}<extra></extra>",
         "legendgroup": "대구",
         "marker": {
          "color": "#00cc96",
          "symbol": "circle"
         },
         "mode": "markers",
         "name": "대구",
         "orientation": "v",
         "showlegend": true,
         "type": "scatter",
         "x": [
          3.7916236708411564,
          4.267801909372772,
          5.041636301472816,
          4.950686213060528,
          4.469851384344595,
          4.280213788196364,
          4.183182462090851,
          6.06837171863697
         ],
         "xaxis": "x",
         "y": [
          2,
          4.321928094887363,
          3.321928094887362,
          2.584962500721156,
          4.321928094887363,
          2.321928094887362,
          4.169925001442312,
          1
         ],
         "yaxis": "y"
        },
        {
         "hovertemplate": "시도별=울산<br>1인당_총생산_log2=%{x}<br>지점수_log2=%{y}<extra></extra>",
         "legendgroup": "울산",
         "marker": {
          "color": "#ab63fa",
          "symbol": "circle"
         },
         "mode": "markers",
         "name": "울산",
         "orientation": "v",
         "showlegend": true,
         "type": "scatter",
         "x": [
          6.684487841106399,
          7.066251694649659,
          6.031030732139147,
          6.367137008155643,
          4.472199991640239
         ],
         "xaxis": "x",
         "y": [
          2.321928094887362,
          null,
          2.584962500721156,
          1,
          1.584962500721156
         ],
         "yaxis": "y"
        },
        {
         "hovertemplate": "시도별=대전<br>1인당_총생산_log2=%{x}<br>지점수_log2=%{y}<extra></extra>",
         "legendgroup": "대전",
         "marker": {
          "color": "#FFA15A",
          "symbol": "circle"
         },
         "mode": "markers",
         "name": "대전",
         "orientation": "v",
         "showlegend": true,
         "type": "scatter",
         "x": [
          5.285777909527281,
          3.449520253638002,
          4.724566445537929,
          5.257350386467586,
          4.435789499468623
         ],
         "xaxis": "x",
         "y": [
          2.321928094887362,
          2.584962500721156,
          3.169925001442312,
          3.321928094887362,
          2.321928094887362
         ],
         "yaxis": "y"
        },
        {
         "hovertemplate": "시도별=제주<br>1인당_총생산_log2=%{x}<br>지점수_log2=%{y}<extra></extra>",
         "legendgroup": "제주",
         "marker": {
          "color": "#19d3f3",
          "symbol": "circle"
         },
         "mode": "markers",
         "name": "제주",
         "orientation": "v",
         "showlegend": true,
         "type": "scatter",
         "x": [
          4.941300334254247,
          4.929283773371041
         ],
         "xaxis": "x",
         "y": [
          2.321928094887362,
          3.321928094887362
         ],
         "yaxis": "y"
        }
       ],
       "layout": {
        "legend": {
         "title": {
          "text": "시도별"
         },
         "tracegroupgap": 0
        },
        "margin": {
         "t": 60
        },
        "template": {
         "data": {
          "bar": [
           {
            "error_x": {
             "color": "#2a3f5f"
            },
            "error_y": {
             "color": "#2a3f5f"
            },
            "marker": {
             "line": {
              "color": "#E5ECF6",
              "width": 0.5
             },
             "pattern": {
              "fillmode": "overlay",
              "size": 10,
              "solidity": 0.2
             }
            },
            "type": "bar"
           }
          ],
          "barpolar": [
           {
            "marker": {
             "line": {
              "color": "#E5ECF6",
              "width": 0.5
             },
             "pattern": {
              "fillmode": "overlay",
              "size": 10,
              "solidity": 0.2
             }
            },
            "type": "barpolar"
           }
          ],
          "carpet": [
           {
            "aaxis": {
             "endlinecolor": "#2a3f5f",
             "gridcolor": "white",
             "linecolor": "white",
             "minorgridcolor": "white",
             "startlinecolor": "#2a3f5f"
            },
            "baxis": {
             "endlinecolor": "#2a3f5f",
             "gridcolor": "white",
             "linecolor": "white",
             "minorgridcolor": "white",
             "startlinecolor": "#2a3f5f"
            },
            "type": "carpet"
           }
          ],
          "choropleth": [
           {
            "colorbar": {
             "outlinewidth": 0,
             "ticks": ""
            },
            "type": "choropleth"
           }
          ],
          "contour": [
           {
            "colorbar": {
             "outlinewidth": 0,
             "ticks": ""
            },
            "colorscale": [
             [
              0,
              "#0d0887"
             ],
             [
              0.1111111111111111,
              "#46039f"
             ],
             [
              0.2222222222222222,
              "#7201a8"
             ],
             [
              0.3333333333333333,
              "#9c179e"
             ],
             [
              0.4444444444444444,
              "#bd3786"
             ],
             [
              0.5555555555555556,
              "#d8576b"
             ],
             [
              0.6666666666666666,
              "#ed7953"
             ],
             [
              0.7777777777777778,
              "#fb9f3a"
             ],
             [
              0.8888888888888888,
              "#fdca26"
             ],
             [
              1,
              "#f0f921"
             ]
            ],
            "type": "contour"
           }
          ],
          "contourcarpet": [
           {
            "colorbar": {
             "outlinewidth": 0,
             "ticks": ""
            },
            "type": "contourcarpet"
           }
          ],
          "heatmap": [
           {
            "colorbar": {
             "outlinewidth": 0,
             "ticks": ""
            },
            "colorscale": [
             [
              0,
              "#0d0887"
             ],
             [
              0.1111111111111111,
              "#46039f"
             ],
             [
              0.2222222222222222,
              "#7201a8"
             ],
             [
              0.3333333333333333,
              "#9c179e"
             ],
             [
              0.4444444444444444,
              "#bd3786"
             ],
             [
              0.5555555555555556,
              "#d8576b"
             ],
             [
              0.6666666666666666,
              "#ed7953"
             ],
             [
              0.7777777777777778,
              "#fb9f3a"
             ],
             [
              0.8888888888888888,
              "#fdca26"
             ],
             [
              1,
              "#f0f921"
             ]
            ],
            "type": "heatmap"
           }
          ],
          "heatmapgl": [
           {
            "colorbar": {
             "outlinewidth": 0,
             "ticks": ""
            },
            "colorscale": [
             [
              0,
              "#0d0887"
             ],
             [
              0.1111111111111111,
              "#46039f"
             ],
             [
              0.2222222222222222,
              "#7201a8"
             ],
             [
              0.3333333333333333,
              "#9c179e"
             ],
             [
              0.4444444444444444,
              "#bd3786"
             ],
             [
              0.5555555555555556,
              "#d8576b"
             ],
             [
              0.6666666666666666,
              "#ed7953"
             ],
             [
              0.7777777777777778,
              "#fb9f3a"
             ],
             [
              0.8888888888888888,
              "#fdca26"
             ],
             [
              1,
              "#f0f921"
             ]
            ],
            "type": "heatmapgl"
           }
          ],
          "histogram": [
           {
            "marker": {
             "pattern": {
              "fillmode": "overlay",
              "size": 10,
              "solidity": 0.2
             }
            },
            "type": "histogram"
           }
          ],
          "histogram2d": [
           {
            "colorbar": {
             "outlinewidth": 0,
             "ticks": ""
            },
            "colorscale": [
             [
              0,
              "#0d0887"
             ],
             [
              0.1111111111111111,
              "#46039f"
             ],
             [
              0.2222222222222222,
              "#7201a8"
             ],
             [
              0.3333333333333333,
              "#9c179e"
             ],
             [
              0.4444444444444444,
              "#bd3786"
             ],
             [
              0.5555555555555556,
              "#d8576b"
             ],
             [
              0.6666666666666666,
              "#ed7953"
             ],
             [
              0.7777777777777778,
              "#fb9f3a"
             ],
             [
              0.8888888888888888,
              "#fdca26"
             ],
             [
              1,
              "#f0f921"
             ]
            ],
            "type": "histogram2d"
           }
          ],
          "histogram2dcontour": [
           {
            "colorbar": {
             "outlinewidth": 0,
             "ticks": ""
            },
            "colorscale": [
             [
              0,
              "#0d0887"
             ],
             [
              0.1111111111111111,
              "#46039f"
             ],
             [
              0.2222222222222222,
              "#7201a8"
             ],
             [
              0.3333333333333333,
              "#9c179e"
             ],
             [
              0.4444444444444444,
              "#bd3786"
             ],
             [
              0.5555555555555556,
              "#d8576b"
             ],
             [
              0.6666666666666666,
              "#ed7953"
             ],
             [
              0.7777777777777778,
              "#fb9f3a"
             ],
             [
              0.8888888888888888,
              "#fdca26"
             ],
             [
              1,
              "#f0f921"
             ]
            ],
            "type": "histogram2dcontour"
           }
          ],
          "mesh3d": [
           {
            "colorbar": {
             "outlinewidth": 0,
             "ticks": ""
            },
            "type": "mesh3d"
           }
          ],
          "parcoords": [
           {
            "line": {
             "colorbar": {
              "outlinewidth": 0,
              "ticks": ""
             }
            },
            "type": "parcoords"
           }
          ],
          "pie": [
           {
            "automargin": true,
            "type": "pie"
           }
          ],
          "scatter": [
           {
            "fillpattern": {
             "fillmode": "overlay",
             "size": 10,
             "solidity": 0.2
            },
            "type": "scatter"
           }
          ],
          "scatter3d": [
           {
            "line": {
             "colorbar": {
              "outlinewidth": 0,
              "ticks": ""
             }
            },
            "marker": {
             "colorbar": {
              "outlinewidth": 0,
              "ticks": ""
             }
            },
            "type": "scatter3d"
           }
          ],
          "scattercarpet": [
           {
            "marker": {
             "colorbar": {
              "outlinewidth": 0,
              "ticks": ""
             }
            },
            "type": "scattercarpet"
           }
          ],
          "scattergeo": [
           {
            "marker": {
             "colorbar": {
              "outlinewidth": 0,
              "ticks": ""
             }
            },
            "type": "scattergeo"
           }
          ],
          "scattergl": [
           {
            "marker": {
             "colorbar": {
              "outlinewidth": 0,
              "ticks": ""
             }
            },
            "type": "scattergl"
           }
          ],
          "scattermapbox": [
           {
            "marker": {
             "colorbar": {
              "outlinewidth": 0,
              "ticks": ""
             }
            },
            "type": "scattermapbox"
           }
          ],
          "scatterpolar": [
           {
            "marker": {
             "colorbar": {
              "outlinewidth": 0,
              "ticks": ""
             }
            },
            "type": "scatterpolar"
           }
          ],
          "scatterpolargl": [
           {
            "marker": {
             "colorbar": {
              "outlinewidth": 0,
              "ticks": ""
             }
            },
            "type": "scatterpolargl"
           }
          ],
          "scatterternary": [
           {
            "marker": {
             "colorbar": {
              "outlinewidth": 0,
              "ticks": ""
             }
            },
            "type": "scatterternary"
           }
          ],
          "surface": [
           {
            "colorbar": {
             "outlinewidth": 0,
             "ticks": ""
            },
            "colorscale": [
             [
              0,
              "#0d0887"
             ],
             [
              0.1111111111111111,
              "#46039f"
             ],
             [
              0.2222222222222222,
              "#7201a8"
             ],
             [
              0.3333333333333333,
              "#9c179e"
             ],
             [
              0.4444444444444444,
              "#bd3786"
             ],
             [
              0.5555555555555556,
              "#d8576b"
             ],
             [
              0.6666666666666666,
              "#ed7953"
             ],
             [
              0.7777777777777778,
              "#fb9f3a"
             ],
             [
              0.8888888888888888,
              "#fdca26"
             ],
             [
              1,
              "#f0f921"
             ]
            ],
            "type": "surface"
           }
          ],
          "table": [
           {
            "cells": {
             "fill": {
              "color": "#EBF0F8"
             },
             "line": {
              "color": "white"
             }
            },
            "header": {
             "fill": {
              "color": "#C8D4E3"
             },
             "line": {
              "color": "white"
             }
            },
            "type": "table"
           }
          ]
         },
         "layout": {
          "annotationdefaults": {
           "arrowcolor": "#2a3f5f",
           "arrowhead": 0,
           "arrowwidth": 1
          },
          "autotypenumbers": "strict",
          "coloraxis": {
           "colorbar": {
            "outlinewidth": 0,
            "ticks": ""
           }
          },
          "colorscale": {
           "diverging": [
            [
             0,
             "#8e0152"
            ],
            [
             0.1,
             "#c51b7d"
            ],
            [
             0.2,
             "#de77ae"
            ],
            [
             0.3,
             "#f1b6da"
            ],
            [
             0.4,
             "#fde0ef"
            ],
            [
             0.5,
             "#f7f7f7"
            ],
            [
             0.6,
             "#e6f5d0"
            ],
            [
             0.7,
             "#b8e186"
            ],
            [
             0.8,
             "#7fbc41"
            ],
            [
             0.9,
             "#4d9221"
            ],
            [
             1,
             "#276419"
            ]
           ],
           "sequential": [
            [
             0,
             "#0d0887"
            ],
            [
             0.1111111111111111,
             "#46039f"
            ],
            [
             0.2222222222222222,
             "#7201a8"
            ],
            [
             0.3333333333333333,
             "#9c179e"
            ],
            [
             0.4444444444444444,
             "#bd3786"
            ],
            [
             0.5555555555555556,
             "#d8576b"
            ],
            [
             0.6666666666666666,
             "#ed7953"
            ],
            [
             0.7777777777777778,
             "#fb9f3a"
            ],
            [
             0.8888888888888888,
             "#fdca26"
            ],
            [
             1,
             "#f0f921"
            ]
           ],
           "sequentialminus": [
            [
             0,
             "#0d0887"
            ],
            [
             0.1111111111111111,
             "#46039f"
            ],
            [
             0.2222222222222222,
             "#7201a8"
            ],
            [
             0.3333333333333333,
             "#9c179e"
            ],
            [
             0.4444444444444444,
             "#bd3786"
            ],
            [
             0.5555555555555556,
             "#d8576b"
            ],
            [
             0.6666666666666666,
             "#ed7953"
            ],
            [
             0.7777777777777778,
             "#fb9f3a"
            ],
            [
             0.8888888888888888,
             "#fdca26"
            ],
            [
             1,
             "#f0f921"
            ]
           ]
          },
          "colorway": [
           "#636efa",
           "#EF553B",
           "#00cc96",
           "#ab63fa",
           "#FFA15A",
           "#19d3f3",
           "#FF6692",
           "#B6E880",
           "#FF97FF",
           "#FECB52"
          ],
          "font": {
           "color": "#2a3f5f"
          },
          "geo": {
           "bgcolor": "white",
           "lakecolor": "white",
           "landcolor": "#E5ECF6",
           "showlakes": true,
           "showland": true,
           "subunitcolor": "white"
          },
          "hoverlabel": {
           "align": "left"
          },
          "hovermode": "closest",
          "mapbox": {
           "style": "light"
          },
          "paper_bgcolor": "white",
          "plot_bgcolor": "#E5ECF6",
          "polar": {
           "angularaxis": {
            "gridcolor": "white",
            "linecolor": "white",
            "ticks": ""
           },
           "bgcolor": "#E5ECF6",
           "radialaxis": {
            "gridcolor": "white",
            "linecolor": "white",
            "ticks": ""
           }
          },
          "scene": {
           "xaxis": {
            "backgroundcolor": "#E5ECF6",
            "gridcolor": "white",
            "gridwidth": 2,
            "linecolor": "white",
            "showbackground": true,
            "ticks": "",
            "zerolinecolor": "white"
           },
           "yaxis": {
            "backgroundcolor": "#E5ECF6",
            "gridcolor": "white",
            "gridwidth": 2,
            "linecolor": "white",
            "showbackground": true,
            "ticks": "",
            "zerolinecolor": "white"
           },
           "zaxis": {
            "backgroundcolor": "#E5ECF6",
            "gridcolor": "white",
            "gridwidth": 2,
            "linecolor": "white",
            "showbackground": true,
            "ticks": "",
            "zerolinecolor": "white"
           }
          },
          "shapedefaults": {
           "line": {
            "color": "#2a3f5f"
           }
          },
          "ternary": {
           "aaxis": {
            "gridcolor": "white",
            "linecolor": "white",
            "ticks": ""
           },
           "baxis": {
            "gridcolor": "white",
            "linecolor": "white",
            "ticks": ""
           },
           "bgcolor": "#E5ECF6",
           "caxis": {
            "gridcolor": "white",
            "linecolor": "white",
            "ticks": ""
           }
          },
          "title": {
           "x": 0.05
          },
          "xaxis": {
           "automargin": true,
           "gridcolor": "white",
           "linecolor": "white",
           "ticks": "",
           "title": {
            "standoff": 15
           },
           "zerolinecolor": "white",
           "zerolinewidth": 2
          },
          "yaxis": {
           "automargin": true,
           "gridcolor": "white",
           "linecolor": "white",
           "ticks": "",
           "title": {
            "standoff": 15
           },
           "zerolinecolor": "white",
           "zerolinewidth": 2
          }
         }
        },
        "xaxis": {
         "anchor": "y",
         "domain": [
          0,
          1
         ],
         "title": {
          "text": "1인당_총생산_log2"
         }
        },
        "yaxis": {
         "anchor": "x",
         "domain": [
          0,
          1
         ],
         "title": {
          "text": "지점수_log2"
         }
        }
       }
      }
     },
     "metadata": {},
     "output_type": "display_data"
    }
   ],
   "source": [
    "# 시군구별 인당 총생산과 지점수 log2 그래프\n",
    "\n",
    "fig = px.scatter(gungu2019, x = '1인당_총생산_log2', y = '지점수_log2', color = '시도별')\n",
    "fig.show()"
   ]
  },
  {
   "cell_type": "code",
   "execution_count": 105,
   "metadata": {},
   "outputs": [],
   "source": [
    "gungu2019.to_csv('./data/gungu2019.csv', index = False)"
   ]
  },
  {
   "cell_type": "code",
   "execution_count": 109,
   "metadata": {},
   "outputs": [
    {
     "data": {
      "text/html": [
       "<div>\n",
       "<style scoped>\n",
       "    .dataframe tbody tr th:only-of-type {\n",
       "        vertical-align: middle;\n",
       "    }\n",
       "\n",
       "    .dataframe tbody tr th {\n",
       "        vertical-align: top;\n",
       "    }\n",
       "\n",
       "    .dataframe thead th {\n",
       "        text-align: right;\n",
       "    }\n",
       "</style>\n",
       "<table border=\"1\" class=\"dataframe\">\n",
       "  <thead>\n",
       "    <tr style=\"text-align: right;\">\n",
       "      <th></th>\n",
       "      <th>행정구역(시군구)별</th>\n",
       "      <th>2022</th>\n",
       "    </tr>\n",
       "  </thead>\n",
       "  <tbody>\n",
       "    <tr>\n",
       "      <th>0</th>\n",
       "      <td>행정구역(시군구)별</td>\n",
       "      <td>계</td>\n",
       "    </tr>\n",
       "    <tr>\n",
       "      <th>1</th>\n",
       "      <td>행정구역(시군구)별</td>\n",
       "      <td>계</td>\n",
       "    </tr>\n",
       "    <tr>\n",
       "      <th>2</th>\n",
       "      <td>종로구</td>\n",
       "      <td>140477</td>\n",
       "    </tr>\n",
       "    <tr>\n",
       "      <th>3</th>\n",
       "      <td>중구</td>\n",
       "      <td>119206.5</td>\n",
       "    </tr>\n",
       "    <tr>\n",
       "      <th>4</th>\n",
       "      <td>용산구</td>\n",
       "      <td>215891</td>\n",
       "    </tr>\n",
       "    <tr>\n",
       "      <th>...</th>\n",
       "      <td>...</td>\n",
       "      <td>...</td>\n",
       "    </tr>\n",
       "    <tr>\n",
       "      <th>258</th>\n",
       "      <td>함양군</td>\n",
       "      <td>37851</td>\n",
       "    </tr>\n",
       "    <tr>\n",
       "      <th>259</th>\n",
       "      <td>거창군</td>\n",
       "      <td>60550.5</td>\n",
       "    </tr>\n",
       "    <tr>\n",
       "      <th>260</th>\n",
       "      <td>합천군</td>\n",
       "      <td>42252.5</td>\n",
       "    </tr>\n",
       "    <tr>\n",
       "      <th>261</th>\n",
       "      <td>제주시</td>\n",
       "      <td>490397</td>\n",
       "    </tr>\n",
       "    <tr>\n",
       "      <th>262</th>\n",
       "      <td>서귀포시</td>\n",
       "      <td>183317</td>\n",
       "    </tr>\n",
       "  </tbody>\n",
       "</table>\n",
       "<p>263 rows × 2 columns</p>\n",
       "</div>"
      ],
      "text/plain": [
       "     행정구역(시군구)별      2022\n",
       "0    행정구역(시군구)별         계\n",
       "1    행정구역(시군구)별         계\n",
       "2           종로구    140477\n",
       "3            중구  119206.5\n",
       "4           용산구    215891\n",
       "..          ...       ...\n",
       "258         함양군     37851\n",
       "259         거창군   60550.5\n",
       "260         합천군   42252.5\n",
       "261         제주시    490397\n",
       "262        서귀포시    183317\n",
       "\n",
       "[263 rows x 2 columns]"
      ]
     },
     "execution_count": 109,
     "metadata": {},
     "output_type": "execute_result"
    }
   ],
   "source": [
    "gungu_pop = pd.read_csv('./data/시군구/시군구_인구_2022.csv', encoding = 'cp949')\n",
    "gungu_pop"
   ]
  },
  {
   "cell_type": "code",
   "execution_count": 110,
   "metadata": {},
   "outputs": [],
   "source": [
    "gungu_pop = gungu_pop.drop(index = [0,1]).reset_index(drop=True)\n",
    "gungu_pop['2022'] = gungu_pop['2022'].apply(lambda x: round(float(x)))\n",
    "gungu_pop.to_csv('./data/시군구/시군구_인구_2022(2).csv', index = False)"
   ]
  },
  {
   "cell_type": "markdown",
   "metadata": {},
   "source": [
    "---"
   ]
  },
  {
   "cell_type": "markdown",
   "metadata": {},
   "source": [
    "#### 2022년"
   ]
  },
  {
   "cell_type": "code",
   "execution_count": null,
   "metadata": {},
   "outputs": [
    {
     "data": {
      "text/html": [
       "<div>\n",
       "<style scoped>\n",
       "    .dataframe tbody tr th:only-of-type {\n",
       "        vertical-align: middle;\n",
       "    }\n",
       "\n",
       "    .dataframe tbody tr th {\n",
       "        vertical-align: top;\n",
       "    }\n",
       "\n",
       "    .dataframe thead th {\n",
       "        text-align: right;\n",
       "    }\n",
       "</style>\n",
       "<table border=\"1\" class=\"dataframe\">\n",
       "  <thead>\n",
       "    <tr style=\"text-align: right;\">\n",
       "      <th></th>\n",
       "      <th>행정구역(시군구)별</th>\n",
       "      <th>2022</th>\n",
       "    </tr>\n",
       "  </thead>\n",
       "  <tbody>\n",
       "    <tr>\n",
       "      <th>0</th>\n",
       "      <td>종로구</td>\n",
       "      <td>140477</td>\n",
       "    </tr>\n",
       "    <tr>\n",
       "      <th>1</th>\n",
       "      <td>중구</td>\n",
       "      <td>119206.5</td>\n",
       "    </tr>\n",
       "    <tr>\n",
       "      <th>2</th>\n",
       "      <td>용산구</td>\n",
       "      <td>215891</td>\n",
       "    </tr>\n",
       "    <tr>\n",
       "      <th>3</th>\n",
       "      <td>성동구</td>\n",
       "      <td>280685</td>\n",
       "    </tr>\n",
       "    <tr>\n",
       "      <th>4</th>\n",
       "      <td>광진구</td>\n",
       "      <td>335712.5</td>\n",
       "    </tr>\n",
       "    <tr>\n",
       "      <th>...</th>\n",
       "      <td>...</td>\n",
       "      <td>...</td>\n",
       "    </tr>\n",
       "    <tr>\n",
       "      <th>224</th>\n",
       "      <td>함양군</td>\n",
       "      <td>37851</td>\n",
       "    </tr>\n",
       "    <tr>\n",
       "      <th>225</th>\n",
       "      <td>거창군</td>\n",
       "      <td>60550.5</td>\n",
       "    </tr>\n",
       "    <tr>\n",
       "      <th>226</th>\n",
       "      <td>합천군</td>\n",
       "      <td>42252.5</td>\n",
       "    </tr>\n",
       "    <tr>\n",
       "      <th>227</th>\n",
       "      <td>제주시</td>\n",
       "      <td>490397</td>\n",
       "    </tr>\n",
       "    <tr>\n",
       "      <th>228</th>\n",
       "      <td>서귀포시</td>\n",
       "      <td>183317</td>\n",
       "    </tr>\n",
       "  </tbody>\n",
       "</table>\n",
       "<p>229 rows × 2 columns</p>\n",
       "</div>"
      ],
      "text/plain": [
       "    행정구역(시군구)별      2022\n",
       "0          종로구    140477\n",
       "1           중구  119206.5\n",
       "2          용산구    215891\n",
       "3          성동구    280685\n",
       "4          광진구  335712.5\n",
       "..         ...       ...\n",
       "224        함양군     37851\n",
       "225        거창군   60550.5\n",
       "226        합천군   42252.5\n",
       "227        제주시    490397\n",
       "228       서귀포시    183317\n",
       "\n",
       "[229 rows x 2 columns]"
      ]
     },
     "metadata": {},
     "output_type": "display_data"
    }
   ],
   "source": [
    "pop_2022 = pd.read_csv('./data/시군구/시군구_인구_2022(4).csv', encoding = 'cp949').drop(index = [0,1]).reset_index(drop=True)\n",
    "pop_2022"
   ]
  },
  {
   "cell_type": "code",
   "execution_count": null,
   "metadata": {},
   "outputs": [],
   "source": [
    "pop_2022['시도'] = 0"
   ]
  },
  {
   "cell_type": "code",
   "execution_count": null,
   "metadata": {},
   "outputs": [
    {
     "name": "stderr",
     "output_type": "stream",
     "text": [
      "C:\\Users\\jjun\\AppData\\Local\\Temp\\ipykernel_21708\\1173582414.py:1: SettingWithCopyWarning:\n",
      "\n",
      "\n",
      "A value is trying to be set on a copy of a slice from a DataFrame\n",
      "\n",
      "See the caveats in the documentation: https://pandas.pydata.org/pandas-docs/stable/user_guide/indexing.html#returning-a-view-versus-a-copy\n",
      "\n"
     ]
    }
   ],
   "source": [
    "pop_2022['시도'][:25] = '서울'\n",
    "pop_2022['시도'][25:41] = '부산'\n",
    "pop_2022['시도'][41:49] = '대구'\n",
    "pop_2022['시도'][49:59] = '인천'\n",
    "pop_2022['시도'][59:64] = '광주'\n",
    "pop_2022['시도'][64:69] = '대전'\n",
    "pop_2022['시도'][69:74] = '울산'\n",
    "pop_2022['시도'][74:75] = '세종'\n",
    "pop_2022['시도'][75:106] = '경기'\n",
    "pop_2022['시도'][106:124] = '강원'\n",
    "pop_2022['시도'][124:135] = '충북'\n",
    "pop_2022['시도'][135:150] = '충남'\n",
    "pop_2022['시도'][150:164] = '전북'\n",
    "pop_2022['시도'][164:186] = '전남'\n",
    "pop_2022['시도'][186:209] = '경북'\n",
    "pop_2022['시도'][209:227] = '경남'\n",
    "pop_2022['시도'][227:] = '제주'\n"
   ]
  },
  {
   "cell_type": "code",
   "execution_count": null,
   "metadata": {},
   "outputs": [],
   "source": [
    "pop_2022['행정구역(시군구)별'] = pop_2022['행정구역(시군구)별'].apply(lambda x: '창원시' if x == '통합창원시' else  x)"
   ]
  },
  {
   "cell_type": "code",
   "execution_count": null,
   "metadata": {},
   "outputs": [],
   "source": [
    "pop_2022 = pop_2022.rename(columns = {'행정구역(시군구)별':'시군구', '2022': '인구'})"
   ]
  },
  {
   "cell_type": "code",
   "execution_count": null,
   "metadata": {},
   "outputs": [],
   "source": [
    "pop_2022['지역'] = pop_2022['시도'] + ' ' + pop_2022['시군구']"
   ]
  },
  {
   "cell_type": "code",
   "execution_count": null,
   "metadata": {},
   "outputs": [],
   "source": [
    "pop_2022 = pop_2022[['시도','시군구','지역','인구']]\n",
    "pop_2022['인구'] = pop_2022['인구'].apply(lambda x: round(float(x)))"
   ]
  },
  {
   "cell_type": "code",
   "execution_count": null,
   "metadata": {},
   "outputs": [],
   "source": [
    "hme2 = hme.copy()"
   ]
  },
  {
   "cell_type": "code",
   "execution_count": null,
   "metadata": {},
   "outputs": [],
   "source": [
    "for i in range(len(hme2)):\n",
    "    if hme2['시도'][i] == '세종':\n",
    "        hme2['시군구'][i] = '세종시'\n",
    "    else:\n",
    "        pass"
   ]
  },
  {
   "cell_type": "code",
   "execution_count": null,
   "metadata": {},
   "outputs": [
    {
     "data": {
      "text/html": [
       "<div>\n",
       "<style scoped>\n",
       "    .dataframe tbody tr th:only-of-type {\n",
       "        vertical-align: middle;\n",
       "    }\n",
       "\n",
       "    .dataframe tbody tr th {\n",
       "        vertical-align: top;\n",
       "    }\n",
       "\n",
       "    .dataframe thead th {\n",
       "        text-align: right;\n",
       "    }\n",
       "</style>\n",
       "<table border=\"1\" class=\"dataframe\">\n",
       "  <thead>\n",
       "    <tr style=\"text-align: right;\">\n",
       "      <th></th>\n",
       "      <th>지점명</th>\n",
       "      <th>주소</th>\n",
       "      <th>시도</th>\n",
       "      <th>시군구</th>\n",
       "      <th>지역</th>\n",
       "    </tr>\n",
       "  </thead>\n",
       "  <tbody>\n",
       "    <tr>\n",
       "      <th>0</th>\n",
       "      <td>효천점</td>\n",
       "      <td>전북 전주시 완산구 효천중앙로 57 (효자동2가, 모악빌딩)</td>\n",
       "      <td>전북</td>\n",
       "      <td>전주시</td>\n",
       "      <td>전북 전주시</td>\n",
       "    </tr>\n",
       "    <tr>\n",
       "      <th>1</th>\n",
       "      <td>효천우미린2차점</td>\n",
       "      <td>전북 전주시 완산구 효천서로 20</td>\n",
       "      <td>전북</td>\n",
       "      <td>전주시</td>\n",
       "      <td>전북 전주시</td>\n",
       "    </tr>\n",
       "    <tr>\n",
       "      <th>2</th>\n",
       "      <td>효천연세수학점</td>\n",
       "      <td>전북 전주시 완산구 효천서로 20</td>\n",
       "      <td>전북</td>\n",
       "      <td>전주시</td>\n",
       "      <td>전북 전주시</td>\n",
       "    </tr>\n",
       "    <tr>\n",
       "      <th>3</th>\n",
       "      <td>효자포스코</td>\n",
       "      <td>전북 전주시 완산구 봉곡로 132</td>\n",
       "      <td>전북</td>\n",
       "      <td>전주시</td>\n",
       "      <td>전북 전주시</td>\n",
       "    </tr>\n",
       "    <tr>\n",
       "      <th>4</th>\n",
       "      <td>효자세븐팰리스점</td>\n",
       "      <td>전북 전주시 완산구 호암로 75-11 (효자동2가, 7단지아파트상가)</td>\n",
       "      <td>전북</td>\n",
       "      <td>전주시</td>\n",
       "      <td>전북 전주시</td>\n",
       "    </tr>\n",
       "    <tr>\n",
       "      <th>...</th>\n",
       "      <td>...</td>\n",
       "      <td>...</td>\n",
       "      <td>...</td>\n",
       "      <td>...</td>\n",
       "      <td>...</td>\n",
       "    </tr>\n",
       "    <tr>\n",
       "      <th>2291</th>\n",
       "      <td>sk view</td>\n",
       "      <td>서울 영등포구 여의대방로35가길 19 (신길동, 보라매 SK VIEW)</td>\n",
       "      <td>서울</td>\n",
       "      <td>영등포구</td>\n",
       "      <td>서울 영등포구</td>\n",
       "    </tr>\n",
       "    <tr>\n",
       "      <th>2292</th>\n",
       "      <td>DMC스마트해법학원</td>\n",
       "      <td>서울 서대문구 증가로 150 (남가좌동)</td>\n",
       "      <td>서울</td>\n",
       "      <td>서대문구</td>\n",
       "      <td>서울 서대문구</td>\n",
       "    </tr>\n",
       "    <tr>\n",
       "      <th>2293</th>\n",
       "      <td>스마트해법수학 왕지점</td>\n",
       "      <td>전남 순천시 연동남길 39 (조례동, 서영옥머리마당)</td>\n",
       "      <td>전남</td>\n",
       "      <td>순천시</td>\n",
       "      <td>전남 순천시</td>\n",
       "    </tr>\n",
       "    <tr>\n",
       "      <th>2294</th>\n",
       "      <td>스마트해법 북아현점</td>\n",
       "      <td>서울 서대문구 북아현동 180-27</td>\n",
       "      <td>서울</td>\n",
       "      <td>서대문구</td>\n",
       "      <td>서울 서대문구</td>\n",
       "    </tr>\n",
       "    <tr>\n",
       "      <th>2295</th>\n",
       "      <td>수원 광교SK레이크점</td>\n",
       "      <td>경기 수원시 영통구 법조로 25 (하동, 광교 SK VIEW Lake)</td>\n",
       "      <td>경기</td>\n",
       "      <td>수원시</td>\n",
       "      <td>경기 수원시</td>\n",
       "    </tr>\n",
       "  </tbody>\n",
       "</table>\n",
       "<p>2296 rows × 5 columns</p>\n",
       "</div>"
      ],
      "text/plain": [
       "              지점명                                       주소  시도   시군구       지역\n",
       "0             효천점        전북 전주시 완산구 효천중앙로 57 (효자동2가, 모악빌딩)  전북   전주시   전북 전주시\n",
       "1        효천우미린2차점                       전북 전주시 완산구 효천서로 20  전북   전주시   전북 전주시\n",
       "2         효천연세수학점                       전북 전주시 완산구 효천서로 20  전북   전주시   전북 전주시\n",
       "3           효자포스코                       전북 전주시 완산구 봉곡로 132  전북   전주시   전북 전주시\n",
       "4        효자세븐팰리스점   전북 전주시 완산구 호암로 75-11 (효자동2가, 7단지아파트상가)  전북   전주시   전북 전주시\n",
       "...           ...                                      ...  ..   ...      ...\n",
       "2291      sk view  서울 영등포구 여의대방로35가길 19 (신길동, 보라매 SK VIEW)  서울  영등포구  서울 영등포구\n",
       "2292   DMC스마트해법학원                   서울 서대문구 증가로 150 (남가좌동)  서울  서대문구  서울 서대문구\n",
       "2293  스마트해법수학 왕지점            전남 순천시 연동남길 39 (조례동, 서영옥머리마당)  전남   순천시   전남 순천시\n",
       "2294   스마트해법 북아현점                      서울 서대문구 북아현동 180-27  서울  서대문구  서울 서대문구\n",
       "2295  수원 광교SK레이크점  경기 수원시 영통구 법조로 25 (하동, 광교 SK VIEW Lake)  경기   수원시   경기 수원시\n",
       "\n",
       "[2296 rows x 5 columns]"
      ]
     },
     "metadata": {},
     "output_type": "display_data"
    }
   ],
   "source": [
    "hme2['지역'] = hme2['시도'] + ' ' + hme2['시군구']\n",
    "hme2"
   ]
  },
  {
   "cell_type": "code",
   "execution_count": null,
   "metadata": {},
   "outputs": [],
   "source": [
    "pop_2022['해법수학_지점수'] = 0"
   ]
  },
  {
   "cell_type": "code",
   "execution_count": null,
   "metadata": {},
   "outputs": [],
   "source": [
    "for i in range(len(hme2)):\n",
    "    for j in range(len(pop_2022)):\n",
    "        if hme2.iloc[i,4] == pop_2022.iloc[j,2]:\n",
    "            pop_2022.iloc[j, 4] += 1"
   ]
  },
  {
   "cell_type": "code",
   "execution_count": null,
   "metadata": {},
   "outputs": [],
   "source": [
    "pop_2022['웅진_지점수'] = 0"
   ]
  },
  {
   "cell_type": "code",
   "execution_count": null,
   "metadata": {},
   "outputs": [
    {
     "data": {
      "text/html": [
       "<div>\n",
       "<style scoped>\n",
       "    .dataframe tbody tr th:only-of-type {\n",
       "        vertical-align: middle;\n",
       "    }\n",
       "\n",
       "    .dataframe tbody tr th {\n",
       "        vertical-align: top;\n",
       "    }\n",
       "\n",
       "    .dataframe thead th {\n",
       "        text-align: right;\n",
       "    }\n",
       "</style>\n",
       "<table border=\"1\" class=\"dataframe\">\n",
       "  <thead>\n",
       "    <tr style=\"text-align: right;\">\n",
       "      <th></th>\n",
       "      <th>시도</th>\n",
       "      <th>시군구</th>\n",
       "      <th>지역</th>\n",
       "      <th>인구</th>\n",
       "      <th>해법수학_지점수</th>\n",
       "      <th>웅진_지점수</th>\n",
       "    </tr>\n",
       "  </thead>\n",
       "  <tbody>\n",
       "    <tr>\n",
       "      <th>0</th>\n",
       "      <td>서울</td>\n",
       "      <td>종로구</td>\n",
       "      <td>서울 종로구</td>\n",
       "      <td>140477</td>\n",
       "      <td>2</td>\n",
       "      <td>0</td>\n",
       "    </tr>\n",
       "    <tr>\n",
       "      <th>1</th>\n",
       "      <td>서울</td>\n",
       "      <td>중구</td>\n",
       "      <td>서울 중구</td>\n",
       "      <td>119206</td>\n",
       "      <td>3</td>\n",
       "      <td>0</td>\n",
       "    </tr>\n",
       "    <tr>\n",
       "      <th>2</th>\n",
       "      <td>서울</td>\n",
       "      <td>용산구</td>\n",
       "      <td>서울 용산구</td>\n",
       "      <td>215891</td>\n",
       "      <td>4</td>\n",
       "      <td>0</td>\n",
       "    </tr>\n",
       "    <tr>\n",
       "      <th>3</th>\n",
       "      <td>서울</td>\n",
       "      <td>성동구</td>\n",
       "      <td>서울 성동구</td>\n",
       "      <td>280685</td>\n",
       "      <td>14</td>\n",
       "      <td>0</td>\n",
       "    </tr>\n",
       "    <tr>\n",
       "      <th>4</th>\n",
       "      <td>서울</td>\n",
       "      <td>광진구</td>\n",
       "      <td>서울 광진구</td>\n",
       "      <td>335712</td>\n",
       "      <td>11</td>\n",
       "      <td>0</td>\n",
       "    </tr>\n",
       "    <tr>\n",
       "      <th>...</th>\n",
       "      <td>...</td>\n",
       "      <td>...</td>\n",
       "      <td>...</td>\n",
       "      <td>...</td>\n",
       "      <td>...</td>\n",
       "      <td>...</td>\n",
       "    </tr>\n",
       "    <tr>\n",
       "      <th>224</th>\n",
       "      <td>경남</td>\n",
       "      <td>함양군</td>\n",
       "      <td>경남 함양군</td>\n",
       "      <td>37851</td>\n",
       "      <td>0</td>\n",
       "      <td>0</td>\n",
       "    </tr>\n",
       "    <tr>\n",
       "      <th>225</th>\n",
       "      <td>경남</td>\n",
       "      <td>거창군</td>\n",
       "      <td>경남 거창군</td>\n",
       "      <td>60550</td>\n",
       "      <td>1</td>\n",
       "      <td>0</td>\n",
       "    </tr>\n",
       "    <tr>\n",
       "      <th>226</th>\n",
       "      <td>경남</td>\n",
       "      <td>합천군</td>\n",
       "      <td>경남 합천군</td>\n",
       "      <td>42252</td>\n",
       "      <td>0</td>\n",
       "      <td>0</td>\n",
       "    </tr>\n",
       "    <tr>\n",
       "      <th>227</th>\n",
       "      <td>제주</td>\n",
       "      <td>제주시</td>\n",
       "      <td>제주 제주시</td>\n",
       "      <td>490397</td>\n",
       "      <td>10</td>\n",
       "      <td>0</td>\n",
       "    </tr>\n",
       "    <tr>\n",
       "      <th>228</th>\n",
       "      <td>제주</td>\n",
       "      <td>서귀포시</td>\n",
       "      <td>제주 서귀포시</td>\n",
       "      <td>183317</td>\n",
       "      <td>5</td>\n",
       "      <td>0</td>\n",
       "    </tr>\n",
       "  </tbody>\n",
       "</table>\n",
       "<p>229 rows × 6 columns</p>\n",
       "</div>"
      ],
      "text/plain": [
       "     시도   시군구       지역      인구  해법수학_지점수  웅진_지점수\n",
       "0    서울   종로구   서울 종로구  140477         2       0\n",
       "1    서울    중구    서울 중구  119206         3       0\n",
       "2    서울   용산구   서울 용산구  215891         4       0\n",
       "3    서울   성동구   서울 성동구  280685        14       0\n",
       "4    서울   광진구   서울 광진구  335712        11       0\n",
       "..   ..   ...      ...     ...       ...     ...\n",
       "224  경남   함양군   경남 함양군   37851         0       0\n",
       "225  경남   거창군   경남 거창군   60550         1       0\n",
       "226  경남   합천군   경남 합천군   42252         0       0\n",
       "227  제주   제주시   제주 제주시  490397        10       0\n",
       "228  제주  서귀포시  제주 서귀포시  183317         5       0\n",
       "\n",
       "[229 rows x 6 columns]"
      ]
     },
     "metadata": {},
     "output_type": "display_data"
    }
   ],
   "source": [
    "pop_2022"
   ]
  },
  {
   "cell_type": "markdown",
   "metadata": {},
   "source": [
    "- 웅진"
   ]
  },
  {
   "cell_type": "code",
   "execution_count": null,
   "metadata": {},
   "outputs": [],
   "source": [
    "woongjin = pd.read_csv('./data/woongjin.csv')"
   ]
  },
  {
   "cell_type": "code",
   "execution_count": null,
   "metadata": {},
   "outputs": [],
   "source": [
    "woongjin = woongjin.drop(columns = 'Unnamed: 0')"
   ]
  },
  {
   "cell_type": "code",
   "execution_count": null,
   "metadata": {},
   "outputs": [],
   "source": [
    "woongjin = woongjin.rename(columns = {'woongjin' : '주소'})"
   ]
  },
  {
   "cell_type": "code",
   "execution_count": null,
   "metadata": {},
   "outputs": [
    {
     "data": {
      "text/html": [
       "<div>\n",
       "<style scoped>\n",
       "    .dataframe tbody tr th:only-of-type {\n",
       "        vertical-align: middle;\n",
       "    }\n",
       "\n",
       "    .dataframe tbody tr th {\n",
       "        vertical-align: top;\n",
       "    }\n",
       "\n",
       "    .dataframe thead th {\n",
       "        text-align: right;\n",
       "    }\n",
       "</style>\n",
       "<table border=\"1\" class=\"dataframe\">\n",
       "  <thead>\n",
       "    <tr style=\"text-align: right;\">\n",
       "      <th></th>\n",
       "      <th>주소</th>\n",
       "    </tr>\n",
       "  </thead>\n",
       "  <tbody>\n",
       "    <tr>\n",
       "      <th>0</th>\n",
       "      <td>충청북도 청주시 흥덕구 서현로32, 가경자이프라자 401호</td>\n",
       "    </tr>\n",
       "    <tr>\n",
       "      <th>1</th>\n",
       "      <td>충청북도 청주시 흥덕구 가경로 123 한국빌딩 501호</td>\n",
       "    </tr>\n",
       "    <tr>\n",
       "      <th>2</th>\n",
       "      <td>대전광역시 서구 가수원로 83, 모아드림아파트 상가동 105호</td>\n",
       "    </tr>\n",
       "    <tr>\n",
       "      <th>3</th>\n",
       "      <td>대전광역시 동구 동구청로 89-16 유미빌딩 3층</td>\n",
       "    </tr>\n",
       "    <tr>\n",
       "      <th>4</th>\n",
       "      <td>경상남도 창원시 성산구 대정로 36 가음정종합상가 제3층 5호</td>\n",
       "    </tr>\n",
       "    <tr>\n",
       "      <th>...</th>\n",
       "      <td>...</td>\n",
       "    </tr>\n",
       "    <tr>\n",
       "      <th>628</th>\n",
       "      <td>경상북도 포항시 효성로 18 (효자동575) , 포산빌딩2층</td>\n",
       "    </tr>\n",
       "    <tr>\n",
       "      <th>629</th>\n",
       "      <td>전라북도 전주시 완산구 효천중앙로 55, 201호 일부</td>\n",
       "    </tr>\n",
       "    <tr>\n",
       "      <th>630</th>\n",
       "      <td>서울특별시 용산구 효창원로64길 7 청강빌딩 2층 전체</td>\n",
       "    </tr>\n",
       "    <tr>\n",
       "      <th>631</th>\n",
       "      <td>강원도 춘천시 백령로 178(후평동 67-14) 301호</td>\n",
       "    </tr>\n",
       "    <tr>\n",
       "      <th>632</th>\n",
       "      <td>경기도 용인시 기흥구 흥덕2로 115(영덕동974-7) 미래도프라자 403호</td>\n",
       "    </tr>\n",
       "  </tbody>\n",
       "</table>\n",
       "<p>633 rows × 1 columns</p>\n",
       "</div>"
      ],
      "text/plain": [
       "                                             주소\n",
       "0              충청북도 청주시 흥덕구 서현로32, 가경자이프라자 401호\n",
       "1                충청북도 청주시 흥덕구 가경로 123 한국빌딩 501호\n",
       "2            대전광역시 서구 가수원로 83, 모아드림아파트 상가동 105호\n",
       "3                   대전광역시 동구 동구청로 89-16 유미빌딩 3층\n",
       "4            경상남도 창원시 성산구 대정로 36 가음정종합상가 제3층 5호\n",
       "..                                          ...\n",
       "628           경상북도 포항시 효성로 18 (효자동575) , 포산빌딩2층\n",
       "629              전라북도 전주시 완산구 효천중앙로 55, 201호 일부\n",
       "630              서울특별시 용산구 효창원로64길 7 청강빌딩 2층 전체\n",
       "631             강원도 춘천시 백령로 178(후평동 67-14) 301호\n",
       "632  경기도 용인시 기흥구 흥덕2로 115(영덕동974-7) 미래도프라자 403호\n",
       "\n",
       "[633 rows x 1 columns]"
      ]
     },
     "metadata": {},
     "output_type": "display_data"
    }
   ],
   "source": [
    "woongjin"
   ]
  },
  {
   "cell_type": "code",
   "execution_count": null,
   "metadata": {},
   "outputs": [],
   "source": [
    "woongjin['시도'] = woongjin['주소'].apply(lambda x: x.split(' ')[0])\n",
    "woongjin['시군구'] = woongjin['주소'].apply(lambda x: x.split(' ')[1])\n"
   ]
  },
  {
   "cell_type": "code",
   "execution_count": null,
   "metadata": {},
   "outputs": [
    {
     "data": {
      "text/plain": [
       "array(['충청북도', '대전광역시', '경상남도', '세종특별자치시', '서울특별시', '인천광역시', '경상북도',\n",
       "       '강원도', '경기도', '대구광역시', '충청남도', '전라북도', '부산광역시', '전라남도', '광주광역시',\n",
       "       '제주특별자치도', '울산광역시'], dtype=object)"
      ]
     },
     "metadata": {},
     "output_type": "display_data"
    }
   ],
   "source": [
    "woongjin['시도'].unique()"
   ]
  },
  {
   "cell_type": "code",
   "execution_count": null,
   "metadata": {},
   "outputs": [],
   "source": [
    "woongjin2 = woongjin.copy()"
   ]
  },
  {
   "cell_type": "code",
   "execution_count": null,
   "metadata": {},
   "outputs": [],
   "source": [
    "def nambuk(x):\n",
    "    if x == '충청북도':\n",
    "        return '충북'\n",
    "    elif x == '충청남도':\n",
    "        return '충남'\n",
    "    elif x == '전라북도':\n",
    "        return '전북'\n",
    "    elif x == '전라남도':\n",
    "        return '전남'\n",
    "    elif x == '경상북도':\n",
    "        return '경북'\n",
    "    elif x == '경상남도':\n",
    "        return '경남'\n",
    "    else:\n",
    "        return x"
   ]
  },
  {
   "cell_type": "code",
   "execution_count": null,
   "metadata": {},
   "outputs": [],
   "source": [
    "woongjin2['시도'] = woongjin2['시도'].apply(lambda x: nambuk(x))"
   ]
  },
  {
   "cell_type": "code",
   "execution_count": null,
   "metadata": {},
   "outputs": [],
   "source": [
    "woongjin2['시도'] = woongjin2['시도'].apply(lambda x: x[:2])"
   ]
  },
  {
   "cell_type": "code",
   "execution_count": null,
   "metadata": {},
   "outputs": [
    {
     "data": {
      "text/plain": [
       "array(['충북', '대전', '경남', '세종', '서울', '인천', '경북', '강원', '경기', '대구', '충남',\n",
       "       '전북', '부산', '전남', '광주', '제주', '울산'], dtype=object)"
      ]
     },
     "metadata": {},
     "output_type": "display_data"
    }
   ],
   "source": [
    "woongjin2['시도'].unique()"
   ]
  },
  {
   "cell_type": "code",
   "execution_count": null,
   "metadata": {},
   "outputs": [],
   "source": [
    "for i in range(len(woongjin2)):\n",
    "    if woongjin2['시도'][i] == '세종':\n",
    "        woongjin2['시군구'][i] = '세종시'\n",
    "    else:\n",
    "        pass"
   ]
  },
  {
   "cell_type": "code",
   "execution_count": null,
   "metadata": {},
   "outputs": [
    {
     "data": {
      "text/html": [
       "<div>\n",
       "<style scoped>\n",
       "    .dataframe tbody tr th:only-of-type {\n",
       "        vertical-align: middle;\n",
       "    }\n",
       "\n",
       "    .dataframe tbody tr th {\n",
       "        vertical-align: top;\n",
       "    }\n",
       "\n",
       "    .dataframe thead th {\n",
       "        text-align: right;\n",
       "    }\n",
       "</style>\n",
       "<table border=\"1\" class=\"dataframe\">\n",
       "  <thead>\n",
       "    <tr style=\"text-align: right;\">\n",
       "      <th></th>\n",
       "      <th>주소</th>\n",
       "      <th>시도</th>\n",
       "      <th>시군구</th>\n",
       "    </tr>\n",
       "  </thead>\n",
       "  <tbody>\n",
       "    <tr>\n",
       "      <th>92</th>\n",
       "      <td>제주특별자치도 수덕7길 21 노성빌주상복합상가 103호</td>\n",
       "      <td>제주</td>\n",
       "      <td>수덕7길</td>\n",
       "    </tr>\n",
       "  </tbody>\n",
       "</table>\n",
       "</div>"
      ],
      "text/plain": [
       "                                주소  시도   시군구\n",
       "92  제주특별자치도 수덕7길 21 노성빌주상복합상가 103호  제주  수덕7길"
      ]
     },
     "metadata": {},
     "output_type": "display_data"
    }
   ],
   "source": [
    "woongjin2[woongjin2['시군구'] == '수덕7길']"
   ]
  },
  {
   "cell_type": "code",
   "execution_count": null,
   "metadata": {},
   "outputs": [],
   "source": [
    "woongjin2.iloc[92, 2] = '제주시'"
   ]
  },
  {
   "cell_type": "code",
   "execution_count": null,
   "metadata": {},
   "outputs": [
    {
     "data": {
      "text/plain": [
       "array(['충북 청주시', '대전 서구', '대전 동구', '경남 창원시', '세종 세종시', '서울 서대문구', '인천 서구',\n",
       "       '경남 진주시', '경북 영주시', '인천 남동구', '강원 홍천군', '경기 구리시', '인천 부평구',\n",
       "       '서울 은평구', '대구 달서구', '경기 김포시', '충남 논산시', '서울 강서구', '서울 강남구',\n",
       "       '전북 김제시', '경남 김해시', '경남 거제시', '서울 강동구', '서울 구로구', '서울 노원구',\n",
       "       '충남 공주시', '경기 안산시', '경기 안양시', '대전 유성구', '경기 광명시', '부산 수영구',\n",
       "       '전남 광양시', '광주 북구', '서울 광진구', '부산 사하구', '강원 속초시', '경기 파주시',\n",
       "       '경기 용인시', '경기 수원시', '경기 오산시', '인천 계양구', '대전 중구', '경기 의정부시',\n",
       "       '서울 금천구', '광주 서구', '충남 당진시', '전북 군산시', '전북 남원시', '제주 제주시', '울산 남구',\n",
       "       '대구 중구', '전남 무안군', '충남 홍성군', '부산 해운대구', '전남 완도군', '경기 화성시',\n",
       "       '대구 달성군', '경기 남양주시', '강원 원주시', '전남 담양군', '경기 안성시', '경남 양산시',\n",
       "       '서울 동작구', '울산 동구', '부산 서구', '경기 시흥시', '경기 고양시', '충북 진천군', '경기 양주시',\n",
       "       '전북 전주시', '경기 하남시', '경북 구미시', '인천 남구', '전남 여수시', '대구 동구', '충남 보령시',\n",
       "       '충북 음성군', '강원 철원군', '대구 북구', '강원 동해시', '제주 서귀포시', '충남 천안시',\n",
       "       '전북 완주군', '서울 송파구', '서울 중랑구', '울산 북구', '전북 익산시', '서울 양천구',\n",
       "       '서울 종로구', '경북 포항시', '경남 밀양시', '서울 강북구', '충남 아산시', '광주 남구',\n",
       "       '울산 울주군', '대구 수성구', '부산 금정구', '부산 연제구', '부산 남구', '충남 부여군',\n",
       "       '경기 성남시', '대전 대덕구', '광주 광산구', '경기 평택시', '전남 나주시', '경남 사천시',\n",
       "       '경북 경산시', '부산 동래구', '경기 군포시', '충남 예산군', '경기 광주시', '전남 영암군',\n",
       "       '전북 정읍시', '경남 거창군', '충남 서천군', '강원 춘천시', '전남 목포시', '경기 가평군',\n",
       "       '서울 성북구', '서울 마포구', '충남 서산시', '경북 성주군', '서울 관악구', '광주 동구',\n",
       "       '인천 연수구', '경기 포천시', '전남 순천시', '경북 김천시', '경기 이천시', '서울 도봉구',\n",
       "       '강원 양구군', '경기 양평군', '충남 계룡시', '경기 부천시', '충북 충주시', '전남 영광군',\n",
       "       '충북 영동군', '서울 영등포구', '경기 의왕시', '경북 안동시', '부산 기장군', '인천 미추홀구',\n",
       "       '경북 경주시', '서울 서초구', '경북 울진군', '강원 인제군', '울산 중구', '강원 강릉시',\n",
       "       '충북 제천시', '서울 동대문구', '충북 옥천군', '강원 삼척시', '경남 통영시', '부산 강서구',\n",
       "       '경기 동두천시', '전남 진도군', '대구 서구', '인천 중구', '경남 합천군', '전남 해남군',\n",
       "       '경북 예천군', '경남 함안군', '부산 북구', '전남 화순군', '강원 태백시', '강원 횡성군',\n",
       "       '서울 용산구'], dtype=object)"
      ]
     },
     "metadata": {},
     "output_type": "display_data"
    }
   ],
   "source": [
    "woongjin2['지역'] = woongjin2['시도'] + ' ' + woongjin2['시군구']\n",
    "woongjin2['지역'].unique()"
   ]
  },
  {
   "cell_type": "code",
   "execution_count": null,
   "metadata": {},
   "outputs": [],
   "source": [
    "pop_2022['웅진_지점수'] = 0"
   ]
  },
  {
   "cell_type": "code",
   "execution_count": null,
   "metadata": {},
   "outputs": [],
   "source": [
    "for i in range(len(woongjin2)):\n",
    "    for j in range(len(pop_2022)):\n",
    "        if woongjin2.iloc[i, 3] == pop_2022.iloc[j, 2]:\n",
    "            pop_2022.iloc[j, 5] += 1"
   ]
  },
  {
   "cell_type": "code",
   "execution_count": null,
   "metadata": {},
   "outputs": [
    {
     "data": {
      "text/plain": [
       "632"
      ]
     },
     "metadata": {},
     "output_type": "display_data"
    }
   ],
   "source": [
    "pop_2022['웅진_지점수'].sum()"
   ]
  },
  {
   "cell_type": "code",
   "execution_count": null,
   "metadata": {},
   "outputs": [
    {
     "data": {
      "text/html": [
       "<div>\n",
       "<style scoped>\n",
       "    .dataframe tbody tr th:only-of-type {\n",
       "        vertical-align: middle;\n",
       "    }\n",
       "\n",
       "    .dataframe tbody tr th {\n",
       "        vertical-align: top;\n",
       "    }\n",
       "\n",
       "    .dataframe thead th {\n",
       "        text-align: right;\n",
       "    }\n",
       "</style>\n",
       "<table border=\"1\" class=\"dataframe\">\n",
       "  <thead>\n",
       "    <tr style=\"text-align: right;\">\n",
       "      <th></th>\n",
       "      <th>시도</th>\n",
       "      <th>시군구</th>\n",
       "      <th>지역</th>\n",
       "      <th>인구</th>\n",
       "      <th>해법수학_지점수</th>\n",
       "      <th>웅진_지점수</th>\n",
       "    </tr>\n",
       "  </thead>\n",
       "  <tbody>\n",
       "    <tr>\n",
       "      <th>0</th>\n",
       "      <td>서울</td>\n",
       "      <td>종로구</td>\n",
       "      <td>서울 종로구</td>\n",
       "      <td>140477</td>\n",
       "      <td>2</td>\n",
       "      <td>1</td>\n",
       "    </tr>\n",
       "    <tr>\n",
       "      <th>1</th>\n",
       "      <td>서울</td>\n",
       "      <td>중구</td>\n",
       "      <td>서울 중구</td>\n",
       "      <td>119206</td>\n",
       "      <td>3</td>\n",
       "      <td>0</td>\n",
       "    </tr>\n",
       "    <tr>\n",
       "      <th>2</th>\n",
       "      <td>서울</td>\n",
       "      <td>용산구</td>\n",
       "      <td>서울 용산구</td>\n",
       "      <td>215891</td>\n",
       "      <td>4</td>\n",
       "      <td>1</td>\n",
       "    </tr>\n",
       "    <tr>\n",
       "      <th>3</th>\n",
       "      <td>서울</td>\n",
       "      <td>성동구</td>\n",
       "      <td>서울 성동구</td>\n",
       "      <td>280685</td>\n",
       "      <td>14</td>\n",
       "      <td>0</td>\n",
       "    </tr>\n",
       "    <tr>\n",
       "      <th>4</th>\n",
       "      <td>서울</td>\n",
       "      <td>광진구</td>\n",
       "      <td>서울 광진구</td>\n",
       "      <td>335712</td>\n",
       "      <td>11</td>\n",
       "      <td>5</td>\n",
       "    </tr>\n",
       "    <tr>\n",
       "      <th>...</th>\n",
       "      <td>...</td>\n",
       "      <td>...</td>\n",
       "      <td>...</td>\n",
       "      <td>...</td>\n",
       "      <td>...</td>\n",
       "      <td>...</td>\n",
       "    </tr>\n",
       "    <tr>\n",
       "      <th>224</th>\n",
       "      <td>경남</td>\n",
       "      <td>함양군</td>\n",
       "      <td>경남 함양군</td>\n",
       "      <td>37851</td>\n",
       "      <td>0</td>\n",
       "      <td>0</td>\n",
       "    </tr>\n",
       "    <tr>\n",
       "      <th>225</th>\n",
       "      <td>경남</td>\n",
       "      <td>거창군</td>\n",
       "      <td>경남 거창군</td>\n",
       "      <td>60550</td>\n",
       "      <td>1</td>\n",
       "      <td>1</td>\n",
       "    </tr>\n",
       "    <tr>\n",
       "      <th>226</th>\n",
       "      <td>경남</td>\n",
       "      <td>합천군</td>\n",
       "      <td>경남 합천군</td>\n",
       "      <td>42252</td>\n",
       "      <td>0</td>\n",
       "      <td>1</td>\n",
       "    </tr>\n",
       "    <tr>\n",
       "      <th>227</th>\n",
       "      <td>제주</td>\n",
       "      <td>제주시</td>\n",
       "      <td>제주 제주시</td>\n",
       "      <td>490397</td>\n",
       "      <td>10</td>\n",
       "      <td>13</td>\n",
       "    </tr>\n",
       "    <tr>\n",
       "      <th>228</th>\n",
       "      <td>제주</td>\n",
       "      <td>서귀포시</td>\n",
       "      <td>제주 서귀포시</td>\n",
       "      <td>183317</td>\n",
       "      <td>5</td>\n",
       "      <td>2</td>\n",
       "    </tr>\n",
       "  </tbody>\n",
       "</table>\n",
       "<p>229 rows × 6 columns</p>\n",
       "</div>"
      ],
      "text/plain": [
       "     시도   시군구       지역      인구  해법수학_지점수  웅진_지점수\n",
       "0    서울   종로구   서울 종로구  140477         2       1\n",
       "1    서울    중구    서울 중구  119206         3       0\n",
       "2    서울   용산구   서울 용산구  215891         4       1\n",
       "3    서울   성동구   서울 성동구  280685        14       0\n",
       "4    서울   광진구   서울 광진구  335712        11       5\n",
       "..   ..   ...      ...     ...       ...     ...\n",
       "224  경남   함양군   경남 함양군   37851         0       0\n",
       "225  경남   거창군   경남 거창군   60550         1       1\n",
       "226  경남   합천군   경남 합천군   42252         0       1\n",
       "227  제주   제주시   제주 제주시  490397        10      13\n",
       "228  제주  서귀포시  제주 서귀포시  183317         5       2\n",
       "\n",
       "[229 rows x 6 columns]"
      ]
     },
     "metadata": {},
     "output_type": "display_data"
    }
   ],
   "source": [
    "pop_2022"
   ]
  },
  {
   "cell_type": "code",
   "execution_count": null,
   "metadata": {},
   "outputs": [],
   "source": [
    "pop_hme0 = pop_2022[(pop_2022['해법수학_지점수']==0) & (pop_2022['웅진_지점수']!=0)]"
   ]
  },
  {
   "cell_type": "code",
   "execution_count": null,
   "metadata": {},
   "outputs": [],
   "source": [
    "pop_hme0.to_csv('./data/해법수학_지점없음.csv', index = False)"
   ]
  },
  {
   "cell_type": "code",
   "execution_count": null,
   "metadata": {},
   "outputs": [
    {
     "data": {
      "text/plain": [
       "42"
      ]
     },
     "metadata": {},
     "output_type": "display_data"
    }
   ],
   "source": [
    "(pop_2022['해법수학_지점수'] == 0).sum()"
   ]
  },
  {
   "cell_type": "code",
   "execution_count": null,
   "metadata": {},
   "outputs": [
    {
     "data": {
      "text/plain": [
       "63"
      ]
     },
     "metadata": {},
     "output_type": "display_data"
    }
   ],
   "source": [
    "(pop_2022['웅진_지점수'] == 0).sum()"
   ]
  },
  {
   "cell_type": "code",
   "execution_count": null,
   "metadata": {},
   "outputs": [
    {
     "data": {
      "application/vnd.plotly.v1+json": {
       "config": {
        "plotlyServerURL": "https://plot.ly"
       },
       "data": [
        {
         "hovertemplate": "인구=%{x}<br>해법수학_지점수=%{y}<extra></extra>",
         "legendgroup": "",
         "marker": {
          "color": "#636efa",
          "symbol": "circle"
         },
         "mode": "markers",
         "name": "",
         "orientation": "v",
         "showlegend": false,
         "type": "scatter",
         "x": [
          140477,
          119206,
          215891,
          280685,
          335712,
          334024,
          383496,
          426764,
          293602,
          312180,
          504265,
          465728,
          302244,
          362720,
          440982,
          567898,
          393518,
          228374,
          372626,
          379738,
          482092,
          402936,
          522782,
          652994,
          457679,
          39734,
          104485,
          86265,
          108697,
          352436,
          268753,
          257800,
          280029,
          389108,
          302684,
          223598,
          142668,
          204390,
          173736,
          204934,
          177388,
          76684,
          338868,
          161058,
          141242,
          432522,
          412676,
          539138,
          262299,
          147138,
          59796,
          403480,
          385694,
          509400,
          484592,
          290546,
          569508,
          69430,
          20380,
          103780,
          288220,
          213383,
          424456,
          401428,
          219914,
          227508,
          469884,
          352588,
          173089,
          209778,
          310899,
          152418,
          218318,
          221188,
          376991,
          1181368,
          919911,
          460405,
          544560,
          793102,
          288700,
          568006,
          91671,
          642907,
          1070526,
          75160,
          189163,
          731726,
          229009,
          509794,
          266050,
          160902,
          321762,
          1070700,
          486840,
          222132,
          188317,
          483284,
          896463,
          387644,
          238671,
          147046,
          112243,
          42122,
          61879,
          121104,
          284382,
          357782,
          211365,
          89356,
          39892,
          82390,
          63242,
          67962,
          46308,
          37633,
          40850,
          35153,
          42672,
          23728,
          21516,
          32134,
          27177,
          27771,
          846245,
          208139,
          130843,
          31548,
          49679,
          45257,
          85414,
          37473,
          91701,
          27971,
          36734,
          655464,
          102482,
          97494,
          328357,
          176045,
          113202,
          43778,
          167154,
          50136,
          62872,
          50170,
          30276,
          98407,
          76830,
          61190,
          652438,
          262800,
          274636,
          105364,
          78485,
          80950,
          91540,
          24704,
          23570,
          21488,
          26527,
          26724,
          52692,
          50232,
          216968,
          275012,
          279395,
          116332,
          151054,
          45842,
          27194,
          24888,
          62118,
          38826,
          62106,
          35974,
          33354,
          66318,
          52470,
          90679,
          30925,
          51921,
          43125,
          47970,
          29712,
          37887,
          498464,
          249810,
          139392,
          155411,
          409004,
          101078,
          101226,
          94970,
          70399,
          266990,
          23076,
          50225,
          24374,
          16138,
          34823,
          41604,
          30405,
          42564,
          112699,
          55638,
          30274,
          47338,
          8842,
          344624,
          123573,
          109256,
          534782,
          102735,
          238017,
          353290,
          1022645,
          26134,
          61789,
          59047,
          50329,
          41800,
          42786,
          34064,
          37851,
          60550,
          42252,
          490397,
          183317
         ],
         "xaxis": "x",
         "y": [
          2,
          3,
          4,
          14,
          11,
          10,
          16,
          19,
          8,
          16,
          53,
          23,
          13,
          8,
          22,
          19,
          18,
          10,
          15,
          13,
          12,
          16,
          23,
          22,
          16,
          2,
          2,
          3,
          2,
          27,
          11,
          8,
          16,
          11,
          17,
          6,
          9,
          11,
          8,
          7,
          15,
          2,
          6,
          5,
          4,
          20,
          18,
          20,
          10,
          10,
          2,
          15,
          17,
          11,
          16,
          6,
          35,
          0,
          0,
          3,
          4,
          9,
          11,
          19,
          6,
          5,
          9,
          10,
          5,
          3,
          5,
          0,
          6,
          2,
          25,
          134,
          38,
          26,
          36,
          41,
          24,
          23,
          0,
          32,
          44,
          2,
          12,
          56,
          16,
          29,
          15,
          18,
          20,
          59,
          41,
          13,
          8,
          34,
          105,
          14,
          15,
          1,
          3,
          0,
          0,
          2,
          6,
          27,
          1,
          6,
          0,
          1,
          0,
          1,
          2,
          1,
          1,
          0,
          1,
          1,
          0,
          0,
          0,
          0,
          31,
          5,
          5,
          1,
          1,
          1,
          4,
          0,
          1,
          0,
          0,
          24,
          0,
          0,
          21,
          6,
          2,
          4,
          4,
          1,
          1,
          0,
          1,
          2,
          1,
          0,
          40,
          14,
          1,
          0,
          1,
          0,
          1,
          1,
          0,
          0,
          1,
          0,
          0,
          0,
          16,
          2,
          13,
          4,
          5,
          1,
          0,
          0,
          1,
          1,
          1,
          0,
          2,
          1,
          1,
          5,
          0,
          1,
          0,
          1,
          0,
          0,
          33,
          12,
          9,
          13,
          12,
          8,
          2,
          5,
          2,
          10,
          1,
          0,
          1,
          0,
          1,
          1,
          2,
          1,
          6,
          4,
          0,
          0,
          0,
          8,
          5,
          1,
          44,
          2,
          13,
          12,
          63,
          2,
          2,
          2,
          2,
          1,
          0,
          1,
          0,
          1,
          0,
          10,
          5
         ],
         "yaxis": "y"
        },
        {
         "hovertemplate": "<b>OLS trendline</b><br>해법수학_지점수 = 6.10863e-05 * 인구 + -3.6473<br>R<sup>2</sup>=0.739565<br><br>인구=%{x}<br>해법수학_지점수=%{y} <b>(trend)</b><extra></extra>",
         "legendgroup": "",
         "marker": {
          "color": "#636efa",
          "symbol": "circle"
         },
         "mode": "lines",
         "name": "",
         "showlegend": false,
         "type": "scatter",
         "x": [
          8842,
          16138,
          20380,
          21488,
          21516,
          23076,
          23570,
          23728,
          24374,
          24704,
          24888,
          26134,
          26527,
          26724,
          27177,
          27194,
          27771,
          27971,
          29712,
          30274,
          30276,
          30405,
          30925,
          31548,
          32134,
          33354,
          34064,
          34823,
          35153,
          35974,
          36734,
          37473,
          37633,
          37851,
          37887,
          38826,
          39734,
          39892,
          40850,
          41604,
          41800,
          42122,
          42252,
          42564,
          42672,
          42786,
          43125,
          43778,
          45257,
          45842,
          46308,
          47338,
          47970,
          49679,
          50136,
          50170,
          50225,
          50232,
          50329,
          51921,
          52470,
          52692,
          55638,
          59047,
          59796,
          60550,
          61190,
          61789,
          61879,
          62106,
          62118,
          62872,
          63242,
          66318,
          67962,
          69430,
          70399,
          75160,
          76684,
          76830,
          78485,
          80950,
          82390,
          85414,
          86265,
          89356,
          90679,
          91540,
          91671,
          91701,
          94970,
          97494,
          98407,
          101078,
          101226,
          102482,
          102735,
          103780,
          104485,
          105364,
          108697,
          109256,
          112243,
          112699,
          113202,
          116332,
          119206,
          121104,
          123573,
          130843,
          139392,
          140477,
          141242,
          142668,
          147046,
          147138,
          151054,
          152418,
          155411,
          160902,
          161058,
          167154,
          173089,
          173736,
          176045,
          177388,
          183317,
          188317,
          189163,
          204390,
          204934,
          208139,
          209778,
          211365,
          213383,
          215891,
          216968,
          218318,
          219914,
          221188,
          222132,
          223598,
          227508,
          228374,
          229009,
          238017,
          238671,
          249810,
          257800,
          262299,
          262800,
          266050,
          266990,
          268753,
          274636,
          275012,
          279395,
          280029,
          280685,
          284382,
          288220,
          288700,
          290546,
          293602,
          302244,
          302684,
          310899,
          312180,
          321762,
          328357,
          334024,
          335712,
          338868,
          344624,
          352436,
          352588,
          353290,
          357782,
          362720,
          372626,
          376991,
          379738,
          383496,
          385694,
          387644,
          389108,
          393518,
          401428,
          402936,
          403480,
          409004,
          412676,
          424456,
          426764,
          432522,
          440982,
          457679,
          460405,
          465728,
          469884,
          482092,
          483284,
          484592,
          486840,
          490397,
          498464,
          504265,
          509400,
          509794,
          522782,
          534782,
          539138,
          544560,
          567898,
          568006,
          569508,
          642907,
          652438,
          652994,
          655464,
          731726,
          793102,
          846245,
          896463,
          919911,
          1022645,
          1070526,
          1070700,
          1181368
         ],
         "xaxis": "x",
         "y": [
          -3.1071745268769266,
          -2.66148894913879,
          -2.402360903529528,
          -2.3346772933138134,
          -2.332966877171178,
          -2.237672263510063,
          -2.20749563585071,
          -2.1978440019029817,
          -2.158382258040751,
          -2.1382237820739767,
          -2.12698390456523,
          -2.0508703862179547,
          -2.026863473930251,
          -2.0148294746409947,
          -1.9871573849047863,
          -1.9861189179610435,
          -1.9508721281645927,
          -1.9386548700029114,
          -1.8323036377054749,
          -1.7979731422711502,
          -1.7978509696895335,
          -1.789970838175249,
          -1.7582059669548775,
          -1.72014920778124,
          -1.6843526413675136,
          -1.609827366581257,
          -1.5664561001072883,
          -1.5200916053837075,
          -1.4999331294169331,
          -1.449781284663231,
          -1.4033557036488418,
          -1.3582129347414291,
          -1.348439128212084,
          -1.3351223168158515,
          -1.3329232103467485,
          -1.2755631832776548,
          -1.2200968312236213,
          -1.210445197275893,
          -1.1519245306814394,
          -1.1058654674119004,
          -1.0938925544134528,
          -1.0742227687731458,
          -1.0662815509680525,
          -1.0472226282358297,
          -1.0406253088285218,
          -1.0336614716763637,
          -1.0129532190923136,
          -0.973063871194424,
          -0.8827172470887903,
          -0.8469817669658721,
          -0.8185155554491543,
          -0.7555966759164954,
          -0.7169901401255823,
          -0.6125936691340148,
          -0.5846772342345732,
          -0.582600300347087,
          -0.5792405543526247,
          -0.5788129503169661,
          -0.5728875801085502,
          -0.47563820514156685,
          -0.4421018314877512,
          -0.4285406749282852,
          -0.24858046220671826,
          -0.040337296840859516,
          0.005416334974637227,
          0.05147539824417624,
          0.09057062436155672,
          0.12716131255579244,
          0.13265907872854887,
          0.14652566674205714,
          0.1472587022317584,
          0.19331776550129698,
          0.2159196931004077,
          0.40382112362706746,
          0.5042469857160876,
          0.5939216606228293,
          0.6531142764161757,
          0.9439461069550008,
          1.0370416141470127,
          1.0459602126050402,
          1.1470580238929537,
          1.297635730735676,
          1.3855999894997826,
          1.5703249329044047,
          1.6223093663823587,
          1.8111270912711444,
          1.8919442540106672,
          1.944539550396705,
          1.9525418544926065,
          1.9543744432168584,
          2.154065527869541,
          2.30824732586996,
          2.3640191093780354,
          2.52718059212729,
          2.536221363166934,
          2.6129457444222934,
          2.62840057599682,
          2.692235749891605,
          2.7353015849115323,
          2.7889964345321214,
          2.992597041796542,
          3.026744278358441,
          3.2092090290031523,
          3.2370643776117864,
          3.267790781888415,
          3.4589908721187284,
          3.6345528719020894,
          3.750494651856446,
          3.9013167038624026,
          4.345414038039521,
          4.86764073816059,
          4.933919363687712,
          4.980650376156143,
          5.067759426848932,
          5.3351952080081375,
          5.340815146762511,
          5.580029061568231,
          5.663350762230898,
          5.8461820306204615,
          6.1816068534494235,
          6.191136314815534,
          6.563518343583583,
          6.926065479531477,
          6.965588309684517,
          7.106636555161128,
          7.188675443716818,
          7.550856061919863,
          7.856287515961897,
          7.907966517985809,
          8.838127468125421,
          8.871358410325195,
          9.067139972366139,
          9.167260403001118,
          9.26420434651406,
          9.387476481365423,
          9.540680898712909,
          9.606470833913562,
          9.688937326504911,
          9.78643104663513,
          9.86425498112504,
          9.921920439648176,
          10.0114729419733,
          10.250320339034172,
          10.30322106687425,
          10.34201086153759,
          10.892276169139718,
          10.932226603328417,
          11.61266679664326,
          12.100746260202431,
          12.375573482549456,
          12.406177714244468,
          12.60470815937179,
          12.66212927273169,
          12.769824403426913,
          13.129195052252769,
          13.152163497596732,
          13.419904710209977,
          13.458633418582508,
          13.498706025352824,
          13.724542042471505,
          13.958991226594168,
          13.988312646182205,
          14.101077939014523,
          14.287757643725016,
          14.815665368891267,
          14.842543336846965,
          15.34436721583803,
          15.422618754363597,
          16.007947592889753,
          16.410811680771197,
          16.756987690782438,
          16.86010134966703,
          17.05288968345836,
          17.40450237335155,
          17.881708477146827,
          17.8909935933497,
          17.933876169497204,
          18.208275787808567,
          18.50991989182048,
          19.11504068856856,
          19.381682347947255,
          19.54948638879795,
          19.779048669655943,
          19.91331633685282,
          20.032434603929214,
          20.12186493367272,
          20.391255476137797,
          20.874448036432295,
          20.96656616297137,
          20.999797105171144,
          21.337237775596783,
          21.561546635445254,
          22.28114314116829,
          22.42213030035409,
          22.773865162828898,
          23.29065518306802,
          24.31061298069599,
          24.477134209439708,
          24.802296535412857,
          25.056171160012596,
          25.801912598201625,
          25.874727456845246,
          25.954628325222643,
          26.09195030695994,
          26.309234243365445,
          26.802017351316863,
          27.156378924296433,
          27.4700570275976,
          27.494125026176114,
          28.2875137711957,
          29.020549260896587,
          29.286641143658002,
          29.617851012421184,
          31.043482867307787,
          31.050080186715093,
          31.14183179550932,
          35.625504454555575,
          36.20771789225051,
          36.24168186993998,
          36.392565008236744,
          41.051127717867466,
          44.80035990252425,
          48.04666865495542,
          51.11430000677199,
          52.54665135364751,
          58.82229035355839,
          61.74716304375572,
          61.75779205835639,
          68.51808968954116
         ],
         "yaxis": "y"
        }
       ],
       "layout": {
        "legend": {
         "tracegroupgap": 0
        },
        "margin": {
         "t": 60
        },
        "template": {
         "data": {
          "bar": [
           {
            "error_x": {
             "color": "#2a3f5f"
            },
            "error_y": {
             "color": "#2a3f5f"
            },
            "marker": {
             "line": {
              "color": "#E5ECF6",
              "width": 0.5
             },
             "pattern": {
              "fillmode": "overlay",
              "size": 10,
              "solidity": 0.2
             }
            },
            "type": "bar"
           }
          ],
          "barpolar": [
           {
            "marker": {
             "line": {
              "color": "#E5ECF6",
              "width": 0.5
             },
             "pattern": {
              "fillmode": "overlay",
              "size": 10,
              "solidity": 0.2
             }
            },
            "type": "barpolar"
           }
          ],
          "carpet": [
           {
            "aaxis": {
             "endlinecolor": "#2a3f5f",
             "gridcolor": "white",
             "linecolor": "white",
             "minorgridcolor": "white",
             "startlinecolor": "#2a3f5f"
            },
            "baxis": {
             "endlinecolor": "#2a3f5f",
             "gridcolor": "white",
             "linecolor": "white",
             "minorgridcolor": "white",
             "startlinecolor": "#2a3f5f"
            },
            "type": "carpet"
           }
          ],
          "choropleth": [
           {
            "colorbar": {
             "outlinewidth": 0,
             "ticks": ""
            },
            "type": "choropleth"
           }
          ],
          "contour": [
           {
            "colorbar": {
             "outlinewidth": 0,
             "ticks": ""
            },
            "colorscale": [
             [
              0,
              "#0d0887"
             ],
             [
              0.1111111111111111,
              "#46039f"
             ],
             [
              0.2222222222222222,
              "#7201a8"
             ],
             [
              0.3333333333333333,
              "#9c179e"
             ],
             [
              0.4444444444444444,
              "#bd3786"
             ],
             [
              0.5555555555555556,
              "#d8576b"
             ],
             [
              0.6666666666666666,
              "#ed7953"
             ],
             [
              0.7777777777777778,
              "#fb9f3a"
             ],
             [
              0.8888888888888888,
              "#fdca26"
             ],
             [
              1,
              "#f0f921"
             ]
            ],
            "type": "contour"
           }
          ],
          "contourcarpet": [
           {
            "colorbar": {
             "outlinewidth": 0,
             "ticks": ""
            },
            "type": "contourcarpet"
           }
          ],
          "heatmap": [
           {
            "colorbar": {
             "outlinewidth": 0,
             "ticks": ""
            },
            "colorscale": [
             [
              0,
              "#0d0887"
             ],
             [
              0.1111111111111111,
              "#46039f"
             ],
             [
              0.2222222222222222,
              "#7201a8"
             ],
             [
              0.3333333333333333,
              "#9c179e"
             ],
             [
              0.4444444444444444,
              "#bd3786"
             ],
             [
              0.5555555555555556,
              "#d8576b"
             ],
             [
              0.6666666666666666,
              "#ed7953"
             ],
             [
              0.7777777777777778,
              "#fb9f3a"
             ],
             [
              0.8888888888888888,
              "#fdca26"
             ],
             [
              1,
              "#f0f921"
             ]
            ],
            "type": "heatmap"
           }
          ],
          "heatmapgl": [
           {
            "colorbar": {
             "outlinewidth": 0,
             "ticks": ""
            },
            "colorscale": [
             [
              0,
              "#0d0887"
             ],
             [
              0.1111111111111111,
              "#46039f"
             ],
             [
              0.2222222222222222,
              "#7201a8"
             ],
             [
              0.3333333333333333,
              "#9c179e"
             ],
             [
              0.4444444444444444,
              "#bd3786"
             ],
             [
              0.5555555555555556,
              "#d8576b"
             ],
             [
              0.6666666666666666,
              "#ed7953"
             ],
             [
              0.7777777777777778,
              "#fb9f3a"
             ],
             [
              0.8888888888888888,
              "#fdca26"
             ],
             [
              1,
              "#f0f921"
             ]
            ],
            "type": "heatmapgl"
           }
          ],
          "histogram": [
           {
            "marker": {
             "pattern": {
              "fillmode": "overlay",
              "size": 10,
              "solidity": 0.2
             }
            },
            "type": "histogram"
           }
          ],
          "histogram2d": [
           {
            "colorbar": {
             "outlinewidth": 0,
             "ticks": ""
            },
            "colorscale": [
             [
              0,
              "#0d0887"
             ],
             [
              0.1111111111111111,
              "#46039f"
             ],
             [
              0.2222222222222222,
              "#7201a8"
             ],
             [
              0.3333333333333333,
              "#9c179e"
             ],
             [
              0.4444444444444444,
              "#bd3786"
             ],
             [
              0.5555555555555556,
              "#d8576b"
             ],
             [
              0.6666666666666666,
              "#ed7953"
             ],
             [
              0.7777777777777778,
              "#fb9f3a"
             ],
             [
              0.8888888888888888,
              "#fdca26"
             ],
             [
              1,
              "#f0f921"
             ]
            ],
            "type": "histogram2d"
           }
          ],
          "histogram2dcontour": [
           {
            "colorbar": {
             "outlinewidth": 0,
             "ticks": ""
            },
            "colorscale": [
             [
              0,
              "#0d0887"
             ],
             [
              0.1111111111111111,
              "#46039f"
             ],
             [
              0.2222222222222222,
              "#7201a8"
             ],
             [
              0.3333333333333333,
              "#9c179e"
             ],
             [
              0.4444444444444444,
              "#bd3786"
             ],
             [
              0.5555555555555556,
              "#d8576b"
             ],
             [
              0.6666666666666666,
              "#ed7953"
             ],
             [
              0.7777777777777778,
              "#fb9f3a"
             ],
             [
              0.8888888888888888,
              "#fdca26"
             ],
             [
              1,
              "#f0f921"
             ]
            ],
            "type": "histogram2dcontour"
           }
          ],
          "mesh3d": [
           {
            "colorbar": {
             "outlinewidth": 0,
             "ticks": ""
            },
            "type": "mesh3d"
           }
          ],
          "parcoords": [
           {
            "line": {
             "colorbar": {
              "outlinewidth": 0,
              "ticks": ""
             }
            },
            "type": "parcoords"
           }
          ],
          "pie": [
           {
            "automargin": true,
            "type": "pie"
           }
          ],
          "scatter": [
           {
            "fillpattern": {
             "fillmode": "overlay",
             "size": 10,
             "solidity": 0.2
            },
            "type": "scatter"
           }
          ],
          "scatter3d": [
           {
            "line": {
             "colorbar": {
              "outlinewidth": 0,
              "ticks": ""
             }
            },
            "marker": {
             "colorbar": {
              "outlinewidth": 0,
              "ticks": ""
             }
            },
            "type": "scatter3d"
           }
          ],
          "scattercarpet": [
           {
            "marker": {
             "colorbar": {
              "outlinewidth": 0,
              "ticks": ""
             }
            },
            "type": "scattercarpet"
           }
          ],
          "scattergeo": [
           {
            "marker": {
             "colorbar": {
              "outlinewidth": 0,
              "ticks": ""
             }
            },
            "type": "scattergeo"
           }
          ],
          "scattergl": [
           {
            "marker": {
             "colorbar": {
              "outlinewidth": 0,
              "ticks": ""
             }
            },
            "type": "scattergl"
           }
          ],
          "scattermapbox": [
           {
            "marker": {
             "colorbar": {
              "outlinewidth": 0,
              "ticks": ""
             }
            },
            "type": "scattermapbox"
           }
          ],
          "scatterpolar": [
           {
            "marker": {
             "colorbar": {
              "outlinewidth": 0,
              "ticks": ""
             }
            },
            "type": "scatterpolar"
           }
          ],
          "scatterpolargl": [
           {
            "marker": {
             "colorbar": {
              "outlinewidth": 0,
              "ticks": ""
             }
            },
            "type": "scatterpolargl"
           }
          ],
          "scatterternary": [
           {
            "marker": {
             "colorbar": {
              "outlinewidth": 0,
              "ticks": ""
             }
            },
            "type": "scatterternary"
           }
          ],
          "surface": [
           {
            "colorbar": {
             "outlinewidth": 0,
             "ticks": ""
            },
            "colorscale": [
             [
              0,
              "#0d0887"
             ],
             [
              0.1111111111111111,
              "#46039f"
             ],
             [
              0.2222222222222222,
              "#7201a8"
             ],
             [
              0.3333333333333333,
              "#9c179e"
             ],
             [
              0.4444444444444444,
              "#bd3786"
             ],
             [
              0.5555555555555556,
              "#d8576b"
             ],
             [
              0.6666666666666666,
              "#ed7953"
             ],
             [
              0.7777777777777778,
              "#fb9f3a"
             ],
             [
              0.8888888888888888,
              "#fdca26"
             ],
             [
              1,
              "#f0f921"
             ]
            ],
            "type": "surface"
           }
          ],
          "table": [
           {
            "cells": {
             "fill": {
              "color": "#EBF0F8"
             },
             "line": {
              "color": "white"
             }
            },
            "header": {
             "fill": {
              "color": "#C8D4E3"
             },
             "line": {
              "color": "white"
             }
            },
            "type": "table"
           }
          ]
         },
         "layout": {
          "annotationdefaults": {
           "arrowcolor": "#2a3f5f",
           "arrowhead": 0,
           "arrowwidth": 1
          },
          "autotypenumbers": "strict",
          "coloraxis": {
           "colorbar": {
            "outlinewidth": 0,
            "ticks": ""
           }
          },
          "colorscale": {
           "diverging": [
            [
             0,
             "#8e0152"
            ],
            [
             0.1,
             "#c51b7d"
            ],
            [
             0.2,
             "#de77ae"
            ],
            [
             0.3,
             "#f1b6da"
            ],
            [
             0.4,
             "#fde0ef"
            ],
            [
             0.5,
             "#f7f7f7"
            ],
            [
             0.6,
             "#e6f5d0"
            ],
            [
             0.7,
             "#b8e186"
            ],
            [
             0.8,
             "#7fbc41"
            ],
            [
             0.9,
             "#4d9221"
            ],
            [
             1,
             "#276419"
            ]
           ],
           "sequential": [
            [
             0,
             "#0d0887"
            ],
            [
             0.1111111111111111,
             "#46039f"
            ],
            [
             0.2222222222222222,
             "#7201a8"
            ],
            [
             0.3333333333333333,
             "#9c179e"
            ],
            [
             0.4444444444444444,
             "#bd3786"
            ],
            [
             0.5555555555555556,
             "#d8576b"
            ],
            [
             0.6666666666666666,
             "#ed7953"
            ],
            [
             0.7777777777777778,
             "#fb9f3a"
            ],
            [
             0.8888888888888888,
             "#fdca26"
            ],
            [
             1,
             "#f0f921"
            ]
           ],
           "sequentialminus": [
            [
             0,
             "#0d0887"
            ],
            [
             0.1111111111111111,
             "#46039f"
            ],
            [
             0.2222222222222222,
             "#7201a8"
            ],
            [
             0.3333333333333333,
             "#9c179e"
            ],
            [
             0.4444444444444444,
             "#bd3786"
            ],
            [
             0.5555555555555556,
             "#d8576b"
            ],
            [
             0.6666666666666666,
             "#ed7953"
            ],
            [
             0.7777777777777778,
             "#fb9f3a"
            ],
            [
             0.8888888888888888,
             "#fdca26"
            ],
            [
             1,
             "#f0f921"
            ]
           ]
          },
          "colorway": [
           "#636efa",
           "#EF553B",
           "#00cc96",
           "#ab63fa",
           "#FFA15A",
           "#19d3f3",
           "#FF6692",
           "#B6E880",
           "#FF97FF",
           "#FECB52"
          ],
          "font": {
           "color": "#2a3f5f"
          },
          "geo": {
           "bgcolor": "white",
           "lakecolor": "white",
           "landcolor": "#E5ECF6",
           "showlakes": true,
           "showland": true,
           "subunitcolor": "white"
          },
          "hoverlabel": {
           "align": "left"
          },
          "hovermode": "closest",
          "mapbox": {
           "style": "light"
          },
          "paper_bgcolor": "white",
          "plot_bgcolor": "#E5ECF6",
          "polar": {
           "angularaxis": {
            "gridcolor": "white",
            "linecolor": "white",
            "ticks": ""
           },
           "bgcolor": "#E5ECF6",
           "radialaxis": {
            "gridcolor": "white",
            "linecolor": "white",
            "ticks": ""
           }
          },
          "scene": {
           "xaxis": {
            "backgroundcolor": "#E5ECF6",
            "gridcolor": "white",
            "gridwidth": 2,
            "linecolor": "white",
            "showbackground": true,
            "ticks": "",
            "zerolinecolor": "white"
           },
           "yaxis": {
            "backgroundcolor": "#E5ECF6",
            "gridcolor": "white",
            "gridwidth": 2,
            "linecolor": "white",
            "showbackground": true,
            "ticks": "",
            "zerolinecolor": "white"
           },
           "zaxis": {
            "backgroundcolor": "#E5ECF6",
            "gridcolor": "white",
            "gridwidth": 2,
            "linecolor": "white",
            "showbackground": true,
            "ticks": "",
            "zerolinecolor": "white"
           }
          },
          "shapedefaults": {
           "line": {
            "color": "#2a3f5f"
           }
          },
          "ternary": {
           "aaxis": {
            "gridcolor": "white",
            "linecolor": "white",
            "ticks": ""
           },
           "baxis": {
            "gridcolor": "white",
            "linecolor": "white",
            "ticks": ""
           },
           "bgcolor": "#E5ECF6",
           "caxis": {
            "gridcolor": "white",
            "linecolor": "white",
            "ticks": ""
           }
          },
          "title": {
           "x": 0.05
          },
          "xaxis": {
           "automargin": true,
           "gridcolor": "white",
           "linecolor": "white",
           "ticks": "",
           "title": {
            "standoff": 15
           },
           "zerolinecolor": "white",
           "zerolinewidth": 2
          },
          "yaxis": {
           "automargin": true,
           "gridcolor": "white",
           "linecolor": "white",
           "ticks": "",
           "title": {
            "standoff": 15
           },
           "zerolinecolor": "white",
           "zerolinewidth": 2
          }
         }
        },
        "xaxis": {
         "anchor": "y",
         "domain": [
          0,
          1
         ],
         "title": {
          "text": "인구"
         }
        },
        "yaxis": {
         "anchor": "x",
         "domain": [
          0,
          1
         ],
         "title": {
          "text": "해법수학_지점수"
         }
        }
       }
      }
     },
     "metadata": {},
     "output_type": "display_data"
    }
   ],
   "source": [
    "fig = px.scatter(pop_2022, x = '인구', y = '해법수학_지점수', trendline = 'ols')\n",
    "\n",
    "fig.show()"
   ]
  },
  {
   "cell_type": "code",
   "execution_count": null,
   "metadata": {},
   "outputs": [],
   "source": [
    "# fig = sns.lmplot(data = pop_2022, x = '인구', y = '해법수학_지점수')\n",
    "# fig.show()"
   ]
  },
  {
   "cell_type": "code",
   "execution_count": null,
   "metadata": {},
   "outputs": [
    {
     "data": {
      "text/plain": [
       "PearsonRResult(statistic=0.8599797252129884, pvalue=2.9522098292060247e-68)"
      ]
     },
     "metadata": {},
     "output_type": "display_data"
    }
   ],
   "source": [
    "import scipy.stats as stats\n",
    "stats.pearsonr(pop_2022['인구'],pop_2022['해법수학_지점수'])"
   ]
  },
  {
   "cell_type": "code",
   "execution_count": null,
   "metadata": {},
   "outputs": [],
   "source": [
    "r1 = stats.pearsonr(pop_2022['인구'],pop_2022['해법수학_지점수'])[0]"
   ]
  },
  {
   "cell_type": "code",
   "execution_count": null,
   "metadata": {},
   "outputs": [
    {
     "data": {
      "application/vnd.plotly.v1+json": {
       "config": {
        "plotlyServerURL": "https://plot.ly"
       },
       "data": [
        {
         "hovertemplate": "인구=%{x}<br>웅진_지점수=%{y}<extra></extra>",
         "legendgroup": "",
         "marker": {
          "color": "#636efa",
          "symbol": "circle"
         },
         "mode": "markers",
         "name": "",
         "orientation": "v",
         "showlegend": false,
         "type": "scatter",
         "x": [
          140477,
          119206,
          215891,
          280685,
          335712,
          334024,
          383496,
          426764,
          293602,
          312180,
          504265,
          465728,
          302244,
          362720,
          440982,
          567898,
          393518,
          228374,
          372626,
          379738,
          482092,
          402936,
          522782,
          652994,
          457679,
          39734,
          104485,
          86265,
          108697,
          352436,
          268753,
          257800,
          280029,
          389108,
          302684,
          223598,
          142668,
          204390,
          173736,
          204934,
          177388,
          76684,
          338868,
          161058,
          141242,
          432522,
          412676,
          539138,
          262299,
          147138,
          59796,
          403480,
          385694,
          509400,
          484592,
          290546,
          569508,
          69430,
          20380,
          103780,
          288220,
          213383,
          424456,
          401428,
          219914,
          227508,
          469884,
          352588,
          173089,
          209778,
          310899,
          152418,
          218318,
          221188,
          376991,
          1181368,
          919911,
          460405,
          544560,
          793102,
          288700,
          568006,
          91671,
          642907,
          1070526,
          75160,
          189163,
          731726,
          229009,
          509794,
          266050,
          160902,
          321762,
          1070700,
          486840,
          222132,
          188317,
          483284,
          896463,
          387644,
          238671,
          147046,
          112243,
          42122,
          61879,
          121104,
          284382,
          357782,
          211365,
          89356,
          39892,
          82390,
          63242,
          67962,
          46308,
          37633,
          40850,
          35153,
          42672,
          23728,
          21516,
          32134,
          27177,
          27771,
          846245,
          208139,
          130843,
          31548,
          49679,
          45257,
          85414,
          37473,
          91701,
          27971,
          36734,
          655464,
          102482,
          97494,
          328357,
          176045,
          113202,
          43778,
          167154,
          50136,
          62872,
          50170,
          30276,
          98407,
          76830,
          61190,
          652438,
          262800,
          274636,
          105364,
          78485,
          80950,
          91540,
          24704,
          23570,
          21488,
          26527,
          26724,
          52692,
          50232,
          216968,
          275012,
          279395,
          116332,
          151054,
          45842,
          27194,
          24888,
          62118,
          38826,
          62106,
          35974,
          33354,
          66318,
          52470,
          90679,
          30925,
          51921,
          43125,
          47970,
          29712,
          37887,
          498464,
          249810,
          139392,
          155411,
          409004,
          101078,
          101226,
          94970,
          70399,
          266990,
          23076,
          50225,
          24374,
          16138,
          34823,
          41604,
          30405,
          42564,
          112699,
          55638,
          30274,
          47338,
          8842,
          344624,
          123573,
          109256,
          534782,
          102735,
          238017,
          353290,
          1022645,
          26134,
          61789,
          59047,
          50329,
          41800,
          42786,
          34064,
          37851,
          60550,
          42252,
          490397,
          183317
         ],
         "xaxis": "x",
         "y": [
          1,
          0,
          1,
          0,
          5,
          1,
          4,
          3,
          3,
          3,
          4,
          3,
          1,
          2,
          5,
          7,
          3,
          1,
          1,
          2,
          1,
          1,
          2,
          2,
          5,
          0,
          2,
          0,
          0,
          0,
          1,
          1,
          2,
          3,
          4,
          1,
          1,
          1,
          1,
          0,
          3,
          2,
          6,
          1,
          0,
          4,
          3,
          9,
          8,
          1,
          0,
          2,
          4,
          6,
          7,
          3,
          9,
          0,
          0,
          1,
          4,
          5,
          4,
          10,
          4,
          2,
          5,
          3,
          3,
          1,
          6,
          7,
          7,
          8,
          10,
          12,
          4,
          6,
          4,
          5,
          2,
          5,
          2,
          5,
          16,
          0,
          4,
          12,
          5,
          6,
          2,
          2,
          2,
          7,
          7,
          6,
          1,
          21,
          14,
          6,
          4,
          2,
          0,
          0,
          1,
          2,
          5,
          4,
          2,
          3,
          1,
          2,
          1,
          2,
          1,
          0,
          0,
          0,
          2,
          0,
          2,
          2,
          0,
          0,
          7,
          2,
          3,
          0,
          1,
          1,
          2,
          0,
          1,
          0,
          0,
          10,
          2,
          3,
          4,
          2,
          5,
          1,
          1,
          0,
          2,
          1,
          0,
          3,
          1,
          0,
          14,
          6,
          5,
          1,
          2,
          1,
          1,
          0,
          0,
          0,
          0,
          0,
          0,
          0,
          11,
          6,
          2,
          1,
          2,
          1,
          0,
          0,
          0,
          0,
          2,
          0,
          0,
          1,
          4,
          5,
          0,
          1,
          0,
          2,
          1,
          0,
          6,
          1,
          1,
          1,
          1,
          1,
          0,
          0,
          0,
          2,
          0,
          0,
          0,
          0,
          0,
          0,
          0,
          1,
          0,
          1,
          0,
          1,
          0,
          8,
          1,
          1,
          8,
          1,
          9,
          6,
          25,
          0,
          1,
          0,
          0,
          0,
          0,
          0,
          0,
          1,
          1,
          13,
          2
         ],
         "yaxis": "y"
        },
        {
         "hovertemplate": "<b>OLS trendline</b><br>웅진_지점수 = 1.1908e-05 * 인구 + 0.0943577<br>R<sup>2</sup>=0.534952<br><br>인구=%{x}<br>웅진_지점수=%{y} <b>(trend)</b><extra></extra>",
         "legendgroup": "",
         "marker": {
          "color": "#636efa",
          "symbol": "circle"
         },
         "mode": "lines",
         "name": "",
         "showlegend": false,
         "type": "scatter",
         "x": [
          8842,
          16138,
          20380,
          21488,
          21516,
          23076,
          23570,
          23728,
          24374,
          24704,
          24888,
          26134,
          26527,
          26724,
          27177,
          27194,
          27771,
          27971,
          29712,
          30274,
          30276,
          30405,
          30925,
          31548,
          32134,
          33354,
          34064,
          34823,
          35153,
          35974,
          36734,
          37473,
          37633,
          37851,
          37887,
          38826,
          39734,
          39892,
          40850,
          41604,
          41800,
          42122,
          42252,
          42564,
          42672,
          42786,
          43125,
          43778,
          45257,
          45842,
          46308,
          47338,
          47970,
          49679,
          50136,
          50170,
          50225,
          50232,
          50329,
          51921,
          52470,
          52692,
          55638,
          59047,
          59796,
          60550,
          61190,
          61789,
          61879,
          62106,
          62118,
          62872,
          63242,
          66318,
          67962,
          69430,
          70399,
          75160,
          76684,
          76830,
          78485,
          80950,
          82390,
          85414,
          86265,
          89356,
          90679,
          91540,
          91671,
          91701,
          94970,
          97494,
          98407,
          101078,
          101226,
          102482,
          102735,
          103780,
          104485,
          105364,
          108697,
          109256,
          112243,
          112699,
          113202,
          116332,
          119206,
          121104,
          123573,
          130843,
          139392,
          140477,
          141242,
          142668,
          147046,
          147138,
          151054,
          152418,
          155411,
          160902,
          161058,
          167154,
          173089,
          173736,
          176045,
          177388,
          183317,
          188317,
          189163,
          204390,
          204934,
          208139,
          209778,
          211365,
          213383,
          215891,
          216968,
          218318,
          219914,
          221188,
          222132,
          223598,
          227508,
          228374,
          229009,
          238017,
          238671,
          249810,
          257800,
          262299,
          262800,
          266050,
          266990,
          268753,
          274636,
          275012,
          279395,
          280029,
          280685,
          284382,
          288220,
          288700,
          290546,
          293602,
          302244,
          302684,
          310899,
          312180,
          321762,
          328357,
          334024,
          335712,
          338868,
          344624,
          352436,
          352588,
          353290,
          357782,
          362720,
          372626,
          376991,
          379738,
          383496,
          385694,
          387644,
          389108,
          393518,
          401428,
          402936,
          403480,
          409004,
          412676,
          424456,
          426764,
          432522,
          440982,
          457679,
          460405,
          465728,
          469884,
          482092,
          483284,
          484592,
          486840,
          490397,
          498464,
          504265,
          509400,
          509794,
          522782,
          534782,
          539138,
          544560,
          567898,
          568006,
          569508,
          642907,
          652438,
          652994,
          655464,
          731726,
          793102,
          846245,
          896463,
          919911,
          1022645,
          1070526,
          1070700,
          1181368
         ],
         "xaxis": "x",
         "y": [
          0.19964787324168748,
          0.28652836915725666,
          0.3370419469634305,
          0.35023596964359094,
          0.3505693925994072,
          0.3691458144234599,
          0.37502834800107654,
          0.37690980610889724,
          0.3846023500180883,
          0.38853197771163783,
          0.3907230428498594,
          0.4055603643836861,
          0.41024019372782244,
          0.41258606238124446,
          0.41798036948784434,
          0.4181828048538757,
          0.4250536993362336,
          0.42743529187777884,
          0.4481670549519299,
          0.4548593299936719,
          0.45488314591908735,
          0.456419273108384,
          0.4626114137164015,
          0.47003007448331485,
          0.4770081406300423,
          0.4915358551334681,
          0.49999050865595357,
          0.5090286523511176,
          0.5129582800446673,
          0.5227347174277103,
          0.5317847690855821,
          0.5405847535265916,
          0.5424900275598278,
          0.5450859634301121,
          0.5455146500875903,
          0.556696227070145,
          0.5675086572087602,
          0.5693901153165809,
          0.5807979435905825,
          0.5897765474722079,
          0.5921105081629222,
          0.59594487215481,
          0.5974929073068144,
          0.6012081916716249,
          0.6024942516440593,
          0.60385175939274,
          0.6078885587506592,
          0.6156644583988043,
          0.6332763352435311,
          0.6402424934275508,
          0.6457916040493512,
          0.658056805638309,
          0.6655826380695918,
          0.6859333463370957,
          0.6913752852945264,
          0.6917801560265892,
          0.6924350939755141,
          0.6925184497144682,
          0.6936735220971175,
          0.7126309987278174,
          0.719168470254359,
          0.7218120379754742,
          0.756892896112435,
          0.7974871409830732,
          0.80640620505116,
          0.8153848089327854,
          0.82300590506573,
          0.830138774727658,
          0.8312104913713533,
          0.8339135989060071,
          0.8340564944584998,
          0.8430350983401252,
          0.8474410445419839,
          0.8840699378309492,
          0.9036466285224508,
          0.9211275177773927,
          0.9326663336411791,
          0.9893601440926628,
          1.0075078792592373,
          1.0092464418145652,
          1.0289541200958519,
          1.0583072481703966,
          1.0754547144695221,
          1.1114643936976858,
          1.1215980699619605,
          1.1584055826915418,
          1.1741598173538632,
          1.1844125732452153,
          1.1859725163599275,
          1.1863297552411594,
          1.2252568853327157,
          1.2553125832070162,
          1.26618455315917,
          1.2979907215515063,
          1.2997531000322498,
          1.3147095011931538,
          1.3177222157582085,
          1.3301660367877821,
          1.338561150496729,
          1.3490282497168202,
          1.388717489421671,
          1.39537404057529,
          1.4309431251832676,
          1.4363731561779907,
          1.4423628614199768,
          1.4796347846951594,
          1.5138582695171638,
          1.536459582736428,
          1.5658603426618036,
          1.6524312315469718,
          1.7542324047353217,
          1.7671525442732046,
          1.776262135744615,
          1.7932428905658322,
          1.8453759513002568,
          1.8464714838693677,
          1.8931030658328227,
          1.909345526966161,
          1.9449860593503852,
          2.0103726825785087,
          2.012230324760914,
          2.084821265427212,
          2.155495024097566,
          2.163199475969465,
          2.1906949618616043,
          2.2066873557780804,
          2.277289666672188,
          2.336829480210818,
          2.3469036166615544,
          2.5282261648120987,
          2.5347040965251018,
          2.5728691170033637,
          2.5923862678813268,
          2.611284204698488,
          2.635314473442679,
          2.665179643913656,
          2.678004519749877,
          2.694080269405307,
          2.713085377886838,
          2.7282561223764805,
          2.7394972391725743,
          2.7569543125021005,
          2.8035144466893094,
          2.8138267423942,
          2.821388298713606,
          2.928655226784802,
          2.936443034395655,
          3.0690858309970155,
          3.164230453031746,
          3.2178043772538056,
          3.2237702665703765,
          3.262471145370486,
          3.2736646303157486,
          3.2946583685694697,
          3.364712913179022,
          3.369190307157127,
          3.42138290770509,
          3.4289325560617883,
          3.436744179598057,
          3.48076791772852,
          3.5264706786007722,
          3.532186500700481,
          3.554168599858943,
          3.590559333893754,
          3.6934679476139225,
          3.6987074512053217,
          3.796531364849291,
          3.811785465077888,
          3.925887563743319,
          4.004420577800772,
          4.071903002465455,
          4.092003643516097,
          4.129585173821681,
          4.198127407167352,
          4.291152411840107,
          4.292962422171682,
          4.301321811992506,
          4.354812380475611,
          4.413613900326363,
          4.531574178909096,
          4.58355243612832,
          4.616263609686444,
          4.661013733542078,
          4.6871874355736605,
          4.710407962853726,
          4.727841220257837,
          4.780355335798909,
          4.874547320817022,
          4.892504528580273,
          4.898982460293276,
          4.964762046290754,
          5.008488085353524,
          5.148763886050537,
          5.176247463979968,
          5.244813513251055,
          5.345554877758417,
          5.544382131089319,
          5.57684323743058,
          5.640229322923806,
          5.689718815937115,
          5.835091224673035,
          5.849285516220644,
          5.86486113144235,
          5.891630231609318,
          5.9339868549606996,
          6.030048390123925,
          6.099126481791444,
          6.160273870295617,
          6.164965607602461,
          6.319626227250407,
          6.46252177974312,
          6.514392865297975,
          6.578957839099265,
          6.856865872772175,
          6.85815193274461,
          6.876037692731614,
          7.750070247515997,
          7.863565040083334,
          7.87018586734883,
          7.899598535236914,
          8.807723587253516,
          9.53858670640291,
          10.171411568579595,
          10.769405639836181,
          11.04862354940694,
          12.271976190222468,
          12.842141352631097,
          12.844213338142243,
          14.162043755080868
         ],
         "yaxis": "y"
        }
       ],
       "layout": {
        "legend": {
         "tracegroupgap": 0
        },
        "margin": {
         "t": 60
        },
        "template": {
         "data": {
          "bar": [
           {
            "error_x": {
             "color": "#2a3f5f"
            },
            "error_y": {
             "color": "#2a3f5f"
            },
            "marker": {
             "line": {
              "color": "#E5ECF6",
              "width": 0.5
             },
             "pattern": {
              "fillmode": "overlay",
              "size": 10,
              "solidity": 0.2
             }
            },
            "type": "bar"
           }
          ],
          "barpolar": [
           {
            "marker": {
             "line": {
              "color": "#E5ECF6",
              "width": 0.5
             },
             "pattern": {
              "fillmode": "overlay",
              "size": 10,
              "solidity": 0.2
             }
            },
            "type": "barpolar"
           }
          ],
          "carpet": [
           {
            "aaxis": {
             "endlinecolor": "#2a3f5f",
             "gridcolor": "white",
             "linecolor": "white",
             "minorgridcolor": "white",
             "startlinecolor": "#2a3f5f"
            },
            "baxis": {
             "endlinecolor": "#2a3f5f",
             "gridcolor": "white",
             "linecolor": "white",
             "minorgridcolor": "white",
             "startlinecolor": "#2a3f5f"
            },
            "type": "carpet"
           }
          ],
          "choropleth": [
           {
            "colorbar": {
             "outlinewidth": 0,
             "ticks": ""
            },
            "type": "choropleth"
           }
          ],
          "contour": [
           {
            "colorbar": {
             "outlinewidth": 0,
             "ticks": ""
            },
            "colorscale": [
             [
              0,
              "#0d0887"
             ],
             [
              0.1111111111111111,
              "#46039f"
             ],
             [
              0.2222222222222222,
              "#7201a8"
             ],
             [
              0.3333333333333333,
              "#9c179e"
             ],
             [
              0.4444444444444444,
              "#bd3786"
             ],
             [
              0.5555555555555556,
              "#d8576b"
             ],
             [
              0.6666666666666666,
              "#ed7953"
             ],
             [
              0.7777777777777778,
              "#fb9f3a"
             ],
             [
              0.8888888888888888,
              "#fdca26"
             ],
             [
              1,
              "#f0f921"
             ]
            ],
            "type": "contour"
           }
          ],
          "contourcarpet": [
           {
            "colorbar": {
             "outlinewidth": 0,
             "ticks": ""
            },
            "type": "contourcarpet"
           }
          ],
          "heatmap": [
           {
            "colorbar": {
             "outlinewidth": 0,
             "ticks": ""
            },
            "colorscale": [
             [
              0,
              "#0d0887"
             ],
             [
              0.1111111111111111,
              "#46039f"
             ],
             [
              0.2222222222222222,
              "#7201a8"
             ],
             [
              0.3333333333333333,
              "#9c179e"
             ],
             [
              0.4444444444444444,
              "#bd3786"
             ],
             [
              0.5555555555555556,
              "#d8576b"
             ],
             [
              0.6666666666666666,
              "#ed7953"
             ],
             [
              0.7777777777777778,
              "#fb9f3a"
             ],
             [
              0.8888888888888888,
              "#fdca26"
             ],
             [
              1,
              "#f0f921"
             ]
            ],
            "type": "heatmap"
           }
          ],
          "heatmapgl": [
           {
            "colorbar": {
             "outlinewidth": 0,
             "ticks": ""
            },
            "colorscale": [
             [
              0,
              "#0d0887"
             ],
             [
              0.1111111111111111,
              "#46039f"
             ],
             [
              0.2222222222222222,
              "#7201a8"
             ],
             [
              0.3333333333333333,
              "#9c179e"
             ],
             [
              0.4444444444444444,
              "#bd3786"
             ],
             [
              0.5555555555555556,
              "#d8576b"
             ],
             [
              0.6666666666666666,
              "#ed7953"
             ],
             [
              0.7777777777777778,
              "#fb9f3a"
             ],
             [
              0.8888888888888888,
              "#fdca26"
             ],
             [
              1,
              "#f0f921"
             ]
            ],
            "type": "heatmapgl"
           }
          ],
          "histogram": [
           {
            "marker": {
             "pattern": {
              "fillmode": "overlay",
              "size": 10,
              "solidity": 0.2
             }
            },
            "type": "histogram"
           }
          ],
          "histogram2d": [
           {
            "colorbar": {
             "outlinewidth": 0,
             "ticks": ""
            },
            "colorscale": [
             [
              0,
              "#0d0887"
             ],
             [
              0.1111111111111111,
              "#46039f"
             ],
             [
              0.2222222222222222,
              "#7201a8"
             ],
             [
              0.3333333333333333,
              "#9c179e"
             ],
             [
              0.4444444444444444,
              "#bd3786"
             ],
             [
              0.5555555555555556,
              "#d8576b"
             ],
             [
              0.6666666666666666,
              "#ed7953"
             ],
             [
              0.7777777777777778,
              "#fb9f3a"
             ],
             [
              0.8888888888888888,
              "#fdca26"
             ],
             [
              1,
              "#f0f921"
             ]
            ],
            "type": "histogram2d"
           }
          ],
          "histogram2dcontour": [
           {
            "colorbar": {
             "outlinewidth": 0,
             "ticks": ""
            },
            "colorscale": [
             [
              0,
              "#0d0887"
             ],
             [
              0.1111111111111111,
              "#46039f"
             ],
             [
              0.2222222222222222,
              "#7201a8"
             ],
             [
              0.3333333333333333,
              "#9c179e"
             ],
             [
              0.4444444444444444,
              "#bd3786"
             ],
             [
              0.5555555555555556,
              "#d8576b"
             ],
             [
              0.6666666666666666,
              "#ed7953"
             ],
             [
              0.7777777777777778,
              "#fb9f3a"
             ],
             [
              0.8888888888888888,
              "#fdca26"
             ],
             [
              1,
              "#f0f921"
             ]
            ],
            "type": "histogram2dcontour"
           }
          ],
          "mesh3d": [
           {
            "colorbar": {
             "outlinewidth": 0,
             "ticks": ""
            },
            "type": "mesh3d"
           }
          ],
          "parcoords": [
           {
            "line": {
             "colorbar": {
              "outlinewidth": 0,
              "ticks": ""
             }
            },
            "type": "parcoords"
           }
          ],
          "pie": [
           {
            "automargin": true,
            "type": "pie"
           }
          ],
          "scatter": [
           {
            "fillpattern": {
             "fillmode": "overlay",
             "size": 10,
             "solidity": 0.2
            },
            "type": "scatter"
           }
          ],
          "scatter3d": [
           {
            "line": {
             "colorbar": {
              "outlinewidth": 0,
              "ticks": ""
             }
            },
            "marker": {
             "colorbar": {
              "outlinewidth": 0,
              "ticks": ""
             }
            },
            "type": "scatter3d"
           }
          ],
          "scattercarpet": [
           {
            "marker": {
             "colorbar": {
              "outlinewidth": 0,
              "ticks": ""
             }
            },
            "type": "scattercarpet"
           }
          ],
          "scattergeo": [
           {
            "marker": {
             "colorbar": {
              "outlinewidth": 0,
              "ticks": ""
             }
            },
            "type": "scattergeo"
           }
          ],
          "scattergl": [
           {
            "marker": {
             "colorbar": {
              "outlinewidth": 0,
              "ticks": ""
             }
            },
            "type": "scattergl"
           }
          ],
          "scattermapbox": [
           {
            "marker": {
             "colorbar": {
              "outlinewidth": 0,
              "ticks": ""
             }
            },
            "type": "scattermapbox"
           }
          ],
          "scatterpolar": [
           {
            "marker": {
             "colorbar": {
              "outlinewidth": 0,
              "ticks": ""
             }
            },
            "type": "scatterpolar"
           }
          ],
          "scatterpolargl": [
           {
            "marker": {
             "colorbar": {
              "outlinewidth": 0,
              "ticks": ""
             }
            },
            "type": "scatterpolargl"
           }
          ],
          "scatterternary": [
           {
            "marker": {
             "colorbar": {
              "outlinewidth": 0,
              "ticks": ""
             }
            },
            "type": "scatterternary"
           }
          ],
          "surface": [
           {
            "colorbar": {
             "outlinewidth": 0,
             "ticks": ""
            },
            "colorscale": [
             [
              0,
              "#0d0887"
             ],
             [
              0.1111111111111111,
              "#46039f"
             ],
             [
              0.2222222222222222,
              "#7201a8"
             ],
             [
              0.3333333333333333,
              "#9c179e"
             ],
             [
              0.4444444444444444,
              "#bd3786"
             ],
             [
              0.5555555555555556,
              "#d8576b"
             ],
             [
              0.6666666666666666,
              "#ed7953"
             ],
             [
              0.7777777777777778,
              "#fb9f3a"
             ],
             [
              0.8888888888888888,
              "#fdca26"
             ],
             [
              1,
              "#f0f921"
             ]
            ],
            "type": "surface"
           }
          ],
          "table": [
           {
            "cells": {
             "fill": {
              "color": "#EBF0F8"
             },
             "line": {
              "color": "white"
             }
            },
            "header": {
             "fill": {
              "color": "#C8D4E3"
             },
             "line": {
              "color": "white"
             }
            },
            "type": "table"
           }
          ]
         },
         "layout": {
          "annotationdefaults": {
           "arrowcolor": "#2a3f5f",
           "arrowhead": 0,
           "arrowwidth": 1
          },
          "autotypenumbers": "strict",
          "coloraxis": {
           "colorbar": {
            "outlinewidth": 0,
            "ticks": ""
           }
          },
          "colorscale": {
           "diverging": [
            [
             0,
             "#8e0152"
            ],
            [
             0.1,
             "#c51b7d"
            ],
            [
             0.2,
             "#de77ae"
            ],
            [
             0.3,
             "#f1b6da"
            ],
            [
             0.4,
             "#fde0ef"
            ],
            [
             0.5,
             "#f7f7f7"
            ],
            [
             0.6,
             "#e6f5d0"
            ],
            [
             0.7,
             "#b8e186"
            ],
            [
             0.8,
             "#7fbc41"
            ],
            [
             0.9,
             "#4d9221"
            ],
            [
             1,
             "#276419"
            ]
           ],
           "sequential": [
            [
             0,
             "#0d0887"
            ],
            [
             0.1111111111111111,
             "#46039f"
            ],
            [
             0.2222222222222222,
             "#7201a8"
            ],
            [
             0.3333333333333333,
             "#9c179e"
            ],
            [
             0.4444444444444444,
             "#bd3786"
            ],
            [
             0.5555555555555556,
             "#d8576b"
            ],
            [
             0.6666666666666666,
             "#ed7953"
            ],
            [
             0.7777777777777778,
             "#fb9f3a"
            ],
            [
             0.8888888888888888,
             "#fdca26"
            ],
            [
             1,
             "#f0f921"
            ]
           ],
           "sequentialminus": [
            [
             0,
             "#0d0887"
            ],
            [
             0.1111111111111111,
             "#46039f"
            ],
            [
             0.2222222222222222,
             "#7201a8"
            ],
            [
             0.3333333333333333,
             "#9c179e"
            ],
            [
             0.4444444444444444,
             "#bd3786"
            ],
            [
             0.5555555555555556,
             "#d8576b"
            ],
            [
             0.6666666666666666,
             "#ed7953"
            ],
            [
             0.7777777777777778,
             "#fb9f3a"
            ],
            [
             0.8888888888888888,
             "#fdca26"
            ],
            [
             1,
             "#f0f921"
            ]
           ]
          },
          "colorway": [
           "#636efa",
           "#EF553B",
           "#00cc96",
           "#ab63fa",
           "#FFA15A",
           "#19d3f3",
           "#FF6692",
           "#B6E880",
           "#FF97FF",
           "#FECB52"
          ],
          "font": {
           "color": "#2a3f5f"
          },
          "geo": {
           "bgcolor": "white",
           "lakecolor": "white",
           "landcolor": "#E5ECF6",
           "showlakes": true,
           "showland": true,
           "subunitcolor": "white"
          },
          "hoverlabel": {
           "align": "left"
          },
          "hovermode": "closest",
          "mapbox": {
           "style": "light"
          },
          "paper_bgcolor": "white",
          "plot_bgcolor": "#E5ECF6",
          "polar": {
           "angularaxis": {
            "gridcolor": "white",
            "linecolor": "white",
            "ticks": ""
           },
           "bgcolor": "#E5ECF6",
           "radialaxis": {
            "gridcolor": "white",
            "linecolor": "white",
            "ticks": ""
           }
          },
          "scene": {
           "xaxis": {
            "backgroundcolor": "#E5ECF6",
            "gridcolor": "white",
            "gridwidth": 2,
            "linecolor": "white",
            "showbackground": true,
            "ticks": "",
            "zerolinecolor": "white"
           },
           "yaxis": {
            "backgroundcolor": "#E5ECF6",
            "gridcolor": "white",
            "gridwidth": 2,
            "linecolor": "white",
            "showbackground": true,
            "ticks": "",
            "zerolinecolor": "white"
           },
           "zaxis": {
            "backgroundcolor": "#E5ECF6",
            "gridcolor": "white",
            "gridwidth": 2,
            "linecolor": "white",
            "showbackground": true,
            "ticks": "",
            "zerolinecolor": "white"
           }
          },
          "shapedefaults": {
           "line": {
            "color": "#2a3f5f"
           }
          },
          "ternary": {
           "aaxis": {
            "gridcolor": "white",
            "linecolor": "white",
            "ticks": ""
           },
           "baxis": {
            "gridcolor": "white",
            "linecolor": "white",
            "ticks": ""
           },
           "bgcolor": "#E5ECF6",
           "caxis": {
            "gridcolor": "white",
            "linecolor": "white",
            "ticks": ""
           }
          },
          "title": {
           "x": 0.05
          },
          "xaxis": {
           "automargin": true,
           "gridcolor": "white",
           "linecolor": "white",
           "ticks": "",
           "title": {
            "standoff": 15
           },
           "zerolinecolor": "white",
           "zerolinewidth": 2
          },
          "yaxis": {
           "automargin": true,
           "gridcolor": "white",
           "linecolor": "white",
           "ticks": "",
           "title": {
            "standoff": 15
           },
           "zerolinecolor": "white",
           "zerolinewidth": 2
          }
         }
        },
        "xaxis": {
         "anchor": "y",
         "domain": [
          0,
          1
         ],
         "title": {
          "text": "인구"
         }
        },
        "yaxis": {
         "anchor": "x",
         "domain": [
          0,
          1
         ],
         "title": {
          "text": "웅진_지점수"
         }
        }
       }
      }
     },
     "metadata": {},
     "output_type": "display_data"
    }
   ],
   "source": [
    "fig = px.scatter(pop_2022, x = '인구', y = '웅진_지점수', trendline = 'ols')\n",
    "\n",
    "fig.show()"
   ]
  },
  {
   "cell_type": "code",
   "execution_count": null,
   "metadata": {},
   "outputs": [
    {
     "data": {
      "text/plain": [
       "PearsonRResult(statistic=0.7314040762920714, pvalue=1.3142086621347002e-39)"
      ]
     },
     "metadata": {},
     "output_type": "display_data"
    }
   ],
   "source": [
    "import scipy.stats as stats\n",
    "stats.pearsonr(pop_2022['인구'],pop_2022['웅진_지점수'])"
   ]
  },
  {
   "cell_type": "code",
   "execution_count": null,
   "metadata": {},
   "outputs": [],
   "source": [
    "r2 = stats.pearsonr(pop_2022['인구'],pop_2022['웅진_지점수'])[0]"
   ]
  },
  {
   "cell_type": "markdown",
   "metadata": {},
   "source": [
    "#### 상관계수 차이 검정"
   ]
  },
  {
   "cell_type": "code",
   "execution_count": null,
   "metadata": {},
   "outputs": [],
   "source": [
    "def fishertransform(r):\n",
    "    return 0.5 * np.log((1 + r) / (1 - r))"
   ]
  },
  {
   "cell_type": "code",
   "execution_count": null,
   "metadata": {},
   "outputs": [],
   "source": [
    "r1f = fishertransform(r1)\n",
    "r2f = fishertransform(r2)"
   ]
  },
  {
   "cell_type": "code",
   "execution_count": null,
   "metadata": {},
   "outputs": [
    {
     "data": {
      "text/plain": [
       "(1.2606203232189654, 0.9031976438254858)"
      ]
     },
     "metadata": {},
     "output_type": "display_data"
    }
   ],
   "source": [
    "r1f, r2f"
   ]
  },
  {
   "cell_type": "code",
   "execution_count": null,
   "metadata": {},
   "outputs": [],
   "source": [
    "n1 = len(gungu2019)\n",
    "n2 = len(gungu2019)"
   ]
  },
  {
   "cell_type": "code",
   "execution_count": null,
   "metadata": {},
   "outputs": [
    {
     "data": {
      "text/plain": [
       "228"
      ]
     },
     "metadata": {},
     "output_type": "display_data"
    }
   ],
   "source": [
    "n2"
   ]
  },
  {
   "cell_type": "code",
   "execution_count": null,
   "metadata": {},
   "outputs": [],
   "source": [
    "def z_test(r1f, r2f, n1, n2):\n",
    "    return (r1f - r2f) / np.sqrt((1 / (n1 - 3)) + (1 / (n2 - 3)))"
   ]
  },
  {
   "cell_type": "code",
   "execution_count": null,
   "metadata": {},
   "outputs": [],
   "source": [
    "z = z_test(r1f, r2f, n1, n2)"
   ]
  },
  {
   "cell_type": "code",
   "execution_count": null,
   "metadata": {},
   "outputs": [
    {
     "data": {
      "text/plain": [
       "3.7910400052349207"
      ]
     },
     "metadata": {},
     "output_type": "display_data"
    }
   ],
   "source": [
    "z"
   ]
  },
  {
   "cell_type": "code",
   "execution_count": null,
   "metadata": {},
   "outputs": [
    {
     "name": "stdout",
     "output_type": "stream",
     "text": [
      "p value is : 7.500889277026627e-05\n"
     ]
    }
   ],
   "source": [
    "# importing packages\n",
    "import scipy.stats\n",
    "  \n",
    "# finding p-value\n",
    "p_value = scipy.stats.norm.sf(abs(z))\n",
    "print('p value is : ' + str(p_value))"
   ]
  },
  {
   "cell_type": "markdown",
   "metadata": {},
   "source": [
    "---\n",
    "#### 시도별 인구 linear regression"
   ]
  },
  {
   "cell_type": "code",
   "execution_count": 186,
   "metadata": {},
   "outputs": [],
   "source": [
    "pop_seoul = pd.read_csv('./data/세종_인구수_월별.csv', encoding = 'cp949')"
   ]
  },
  {
   "cell_type": "code",
   "execution_count": 187,
   "metadata": {},
   "outputs": [],
   "source": [
    "pop_seoul = pop_seoul.drop(index = [0,1]).reset_index(drop=True)"
   ]
  },
  {
   "cell_type": "code",
   "execution_count": 188,
   "metadata": {},
   "outputs": [
    {
     "data": {
      "text/html": [
       "<div>\n",
       "<style scoped>\n",
       "    .dataframe tbody tr th:only-of-type {\n",
       "        vertical-align: middle;\n",
       "    }\n",
       "\n",
       "    .dataframe tbody tr th {\n",
       "        vertical-align: top;\n",
       "    }\n",
       "\n",
       "    .dataframe thead th {\n",
       "        text-align: right;\n",
       "    }\n",
       "</style>\n",
       "<table border=\"1\" class=\"dataframe\">\n",
       "  <thead>\n",
       "    <tr style=\"text-align: right;\">\n",
       "      <th></th>\n",
       "      <th>시점</th>\n",
       "      <th>세종특별자치시</th>\n",
       "    </tr>\n",
       "  </thead>\n",
       "  <tbody>\n",
       "    <tr>\n",
       "      <th>0</th>\n",
       "      <td>2012.08</td>\n",
       "      <td>106625</td>\n",
       "    </tr>\n",
       "    <tr>\n",
       "      <th>1</th>\n",
       "      <td>2012.09</td>\n",
       "      <td>108027</td>\n",
       "    </tr>\n",
       "    <tr>\n",
       "      <th>2</th>\n",
       "      <td>2012.10</td>\n",
       "      <td>109823</td>\n",
       "    </tr>\n",
       "    <tr>\n",
       "      <th>3</th>\n",
       "      <td>2012.11</td>\n",
       "      <td>111191</td>\n",
       "    </tr>\n",
       "    <tr>\n",
       "      <th>4</th>\n",
       "      <td>2012.12</td>\n",
       "      <td>113117</td>\n",
       "    </tr>\n",
       "    <tr>\n",
       "      <th>...</th>\n",
       "      <td>...</td>\n",
       "      <td>...</td>\n",
       "    </tr>\n",
       "    <tr>\n",
       "      <th>127</th>\n",
       "      <td>2023.03</td>\n",
       "      <td>385609</td>\n",
       "    </tr>\n",
       "    <tr>\n",
       "      <th>128</th>\n",
       "      <td>2023.04</td>\n",
       "      <td>385825</td>\n",
       "    </tr>\n",
       "    <tr>\n",
       "      <th>129</th>\n",
       "      <td>2023.05</td>\n",
       "      <td>386050</td>\n",
       "    </tr>\n",
       "    <tr>\n",
       "      <th>130</th>\n",
       "      <td>2023.06</td>\n",
       "      <td>386126</td>\n",
       "    </tr>\n",
       "    <tr>\n",
       "      <th>131</th>\n",
       "      <td>2023.07</td>\n",
       "      <td>386192</td>\n",
       "    </tr>\n",
       "  </tbody>\n",
       "</table>\n",
       "<p>132 rows × 2 columns</p>\n",
       "</div>"
      ],
      "text/plain": [
       "          시점 세종특별자치시\n",
       "0    2012.08  106625\n",
       "1    2012.09  108027\n",
       "2    2012.10  109823\n",
       "3    2012.11  111191\n",
       "4    2012.12  113117\n",
       "..       ...     ...\n",
       "127  2023.03  385609\n",
       "128  2023.04  385825\n",
       "129  2023.05  386050\n",
       "130  2023.06  386126\n",
       "131  2023.07  386192\n",
       "\n",
       "[132 rows x 2 columns]"
      ]
     },
     "execution_count": 188,
     "metadata": {},
     "output_type": "execute_result"
    }
   ],
   "source": [
    "pop_seoul"
   ]
  },
  {
   "cell_type": "code",
   "execution_count": 189,
   "metadata": {},
   "outputs": [],
   "source": [
    "pop_seoul = pop_seoul.rename(columns = {'세종특별자치시':'인구'})\n",
    "pop_seoul['인구'] = pop_seoul['인구'].apply(lambda x: float(x))"
   ]
  },
  {
   "cell_type": "code",
   "execution_count": 190,
   "metadata": {},
   "outputs": [
    {
     "data": {
      "text/html": [
       "<div>\n",
       "<style scoped>\n",
       "    .dataframe tbody tr th:only-of-type {\n",
       "        vertical-align: middle;\n",
       "    }\n",
       "\n",
       "    .dataframe tbody tr th {\n",
       "        vertical-align: top;\n",
       "    }\n",
       "\n",
       "    .dataframe thead th {\n",
       "        text-align: right;\n",
       "    }\n",
       "</style>\n",
       "<table border=\"1\" class=\"dataframe\">\n",
       "  <thead>\n",
       "    <tr style=\"text-align: right;\">\n",
       "      <th></th>\n",
       "      <th>시점</th>\n",
       "      <th>인구</th>\n",
       "    </tr>\n",
       "  </thead>\n",
       "  <tbody>\n",
       "    <tr>\n",
       "      <th>0</th>\n",
       "      <td>2012.08</td>\n",
       "      <td>106625.0</td>\n",
       "    </tr>\n",
       "    <tr>\n",
       "      <th>1</th>\n",
       "      <td>2012.09</td>\n",
       "      <td>108027.0</td>\n",
       "    </tr>\n",
       "    <tr>\n",
       "      <th>2</th>\n",
       "      <td>2012.10</td>\n",
       "      <td>109823.0</td>\n",
       "    </tr>\n",
       "    <tr>\n",
       "      <th>3</th>\n",
       "      <td>2012.11</td>\n",
       "      <td>111191.0</td>\n",
       "    </tr>\n",
       "    <tr>\n",
       "      <th>4</th>\n",
       "      <td>2012.12</td>\n",
       "      <td>113117.0</td>\n",
       "    </tr>\n",
       "    <tr>\n",
       "      <th>...</th>\n",
       "      <td>...</td>\n",
       "      <td>...</td>\n",
       "    </tr>\n",
       "    <tr>\n",
       "      <th>127</th>\n",
       "      <td>2023.03</td>\n",
       "      <td>385609.0</td>\n",
       "    </tr>\n",
       "    <tr>\n",
       "      <th>128</th>\n",
       "      <td>2023.04</td>\n",
       "      <td>385825.0</td>\n",
       "    </tr>\n",
       "    <tr>\n",
       "      <th>129</th>\n",
       "      <td>2023.05</td>\n",
       "      <td>386050.0</td>\n",
       "    </tr>\n",
       "    <tr>\n",
       "      <th>130</th>\n",
       "      <td>2023.06</td>\n",
       "      <td>386126.0</td>\n",
       "    </tr>\n",
       "    <tr>\n",
       "      <th>131</th>\n",
       "      <td>2023.07</td>\n",
       "      <td>386192.0</td>\n",
       "    </tr>\n",
       "  </tbody>\n",
       "</table>\n",
       "<p>132 rows × 2 columns</p>\n",
       "</div>"
      ],
      "text/plain": [
       "          시점        인구\n",
       "0    2012.08  106625.0\n",
       "1    2012.09  108027.0\n",
       "2    2012.10  109823.0\n",
       "3    2012.11  111191.0\n",
       "4    2012.12  113117.0\n",
       "..       ...       ...\n",
       "127  2023.03  385609.0\n",
       "128  2023.04  385825.0\n",
       "129  2023.05  386050.0\n",
       "130  2023.06  386126.0\n",
       "131  2023.07  386192.0\n",
       "\n",
       "[132 rows x 2 columns]"
      ]
     },
     "execution_count": 190,
     "metadata": {},
     "output_type": "execute_result"
    }
   ],
   "source": [
    "pop_seoul"
   ]
  },
  {
   "cell_type": "code",
   "execution_count": 191,
   "metadata": {},
   "outputs": [],
   "source": [
    "from sklearn.linear_model import LinearRegression"
   ]
  },
  {
   "cell_type": "code",
   "execution_count": 192,
   "metadata": {},
   "outputs": [],
   "source": [
    "X = pop_seoul['시점']\n",
    "y = pop_seoul['인구']"
   ]
  },
  {
   "cell_type": "code",
   "execution_count": 193,
   "metadata": {},
   "outputs": [
    {
     "data": {
      "text/html": [
       "<style>#sk-container-id-1 {color: black;background-color: white;}#sk-container-id-1 pre{padding: 0;}#sk-container-id-1 div.sk-toggleable {background-color: white;}#sk-container-id-1 label.sk-toggleable__label {cursor: pointer;display: block;width: 100%;margin-bottom: 0;padding: 0.3em;box-sizing: border-box;text-align: center;}#sk-container-id-1 label.sk-toggleable__label-arrow:before {content: \"▸\";float: left;margin-right: 0.25em;color: #696969;}#sk-container-id-1 label.sk-toggleable__label-arrow:hover:before {color: black;}#sk-container-id-1 div.sk-estimator:hover label.sk-toggleable__label-arrow:before {color: black;}#sk-container-id-1 div.sk-toggleable__content {max-height: 0;max-width: 0;overflow: hidden;text-align: left;background-color: #f0f8ff;}#sk-container-id-1 div.sk-toggleable__content pre {margin: 0.2em;color: black;border-radius: 0.25em;background-color: #f0f8ff;}#sk-container-id-1 input.sk-toggleable__control:checked~div.sk-toggleable__content {max-height: 200px;max-width: 100%;overflow: auto;}#sk-container-id-1 input.sk-toggleable__control:checked~label.sk-toggleable__label-arrow:before {content: \"▾\";}#sk-container-id-1 div.sk-estimator input.sk-toggleable__control:checked~label.sk-toggleable__label {background-color: #d4ebff;}#sk-container-id-1 div.sk-label input.sk-toggleable__control:checked~label.sk-toggleable__label {background-color: #d4ebff;}#sk-container-id-1 input.sk-hidden--visually {border: 0;clip: rect(1px 1px 1px 1px);clip: rect(1px, 1px, 1px, 1px);height: 1px;margin: -1px;overflow: hidden;padding: 0;position: absolute;width: 1px;}#sk-container-id-1 div.sk-estimator {font-family: monospace;background-color: #f0f8ff;border: 1px dotted black;border-radius: 0.25em;box-sizing: border-box;margin-bottom: 0.5em;}#sk-container-id-1 div.sk-estimator:hover {background-color: #d4ebff;}#sk-container-id-1 div.sk-parallel-item::after {content: \"\";width: 100%;border-bottom: 1px solid gray;flex-grow: 1;}#sk-container-id-1 div.sk-label:hover label.sk-toggleable__label {background-color: #d4ebff;}#sk-container-id-1 div.sk-serial::before {content: \"\";position: absolute;border-left: 1px solid gray;box-sizing: border-box;top: 0;bottom: 0;left: 50%;z-index: 0;}#sk-container-id-1 div.sk-serial {display: flex;flex-direction: column;align-items: center;background-color: white;padding-right: 0.2em;padding-left: 0.2em;position: relative;}#sk-container-id-1 div.sk-item {position: relative;z-index: 1;}#sk-container-id-1 div.sk-parallel {display: flex;align-items: stretch;justify-content: center;background-color: white;position: relative;}#sk-container-id-1 div.sk-item::before, #sk-container-id-1 div.sk-parallel-item::before {content: \"\";position: absolute;border-left: 1px solid gray;box-sizing: border-box;top: 0;bottom: 0;left: 50%;z-index: -1;}#sk-container-id-1 div.sk-parallel-item {display: flex;flex-direction: column;z-index: 1;position: relative;background-color: white;}#sk-container-id-1 div.sk-parallel-item:first-child::after {align-self: flex-end;width: 50%;}#sk-container-id-1 div.sk-parallel-item:last-child::after {align-self: flex-start;width: 50%;}#sk-container-id-1 div.sk-parallel-item:only-child::after {width: 0;}#sk-container-id-1 div.sk-dashed-wrapped {border: 1px dashed gray;margin: 0 0.4em 0.5em 0.4em;box-sizing: border-box;padding-bottom: 0.4em;background-color: white;}#sk-container-id-1 div.sk-label label {font-family: monospace;font-weight: bold;display: inline-block;line-height: 1.2em;}#sk-container-id-1 div.sk-label-container {text-align: center;}#sk-container-id-1 div.sk-container {/* jupyter's `normalize.less` sets `[hidden] { display: none; }` but bootstrap.min.css set `[hidden] { display: none !important; }` so we also need the `!important` here to be able to override the default hidden behavior on the sphinx rendered scikit-learn.org. See: https://github.com/scikit-learn/scikit-learn/issues/21755 */display: inline-block !important;position: relative;}#sk-container-id-1 div.sk-text-repr-fallback {display: none;}</style><div id=\"sk-container-id-1\" class=\"sk-top-container\"><div class=\"sk-text-repr-fallback\"><pre>LinearRegression()</pre><b>In a Jupyter environment, please rerun this cell to show the HTML representation or trust the notebook. <br />On GitHub, the HTML representation is unable to render, please try loading this page with nbviewer.org.</b></div><div class=\"sk-container\" hidden><div class=\"sk-item\"><div class=\"sk-estimator sk-toggleable\"><input class=\"sk-toggleable__control sk-hidden--visually\" id=\"sk-estimator-id-1\" type=\"checkbox\" checked><label for=\"sk-estimator-id-1\" class=\"sk-toggleable__label sk-toggleable__label-arrow\">LinearRegression</label><div class=\"sk-toggleable__content\"><pre>LinearRegression()</pre></div></div></div></div></div>"
      ],
      "text/plain": [
       "LinearRegression()"
      ]
     },
     "execution_count": 193,
     "metadata": {},
     "output_type": "execute_result"
    }
   ],
   "source": [
    "line_fitter = LinearRegression()\n",
    "line_fitter.fit(X.values.reshape(-1,1), y)"
   ]
  },
  {
   "cell_type": "code",
   "execution_count": 194,
   "metadata": {},
   "outputs": [
    {
     "data": {
      "text/plain": [
       "array([627633.9902796])"
      ]
     },
     "execution_count": 194,
     "metadata": {},
     "output_type": "execute_result"
    }
   ],
   "source": [
    "line_fitter.predict([[2030]])"
   ]
  },
  {
   "cell_type": "code",
   "execution_count": 195,
   "metadata": {},
   "outputs": [
    {
     "data": {
      "text/plain": [
       "array([29280.49012948])"
      ]
     },
     "execution_count": 195,
     "metadata": {},
     "output_type": "execute_result"
    }
   ],
   "source": [
    "line_fitter.coef_"
   ]
  },
  {
   "cell_type": "code",
   "execution_count": 196,
   "metadata": {},
   "outputs": [
    {
     "data": {
      "image/png": "[encoded data removed]",
      "text/plain": [
       "<Figure size 640x480 with 1 Axes>"
      ]
     },
     "metadata": {},
     "output_type": "display_data"
    }
   ],
   "source": [
    "plt.plot(X, y, 'o')\n",
    "plt.plot(X,line_fitter.predict(X.values.reshape(-1,1)))\n",
    "plt.show()"
   ]
  },
  {
   "cell_type": "markdown",
   "metadata": {},
   "source": [
    "#### linear regression 전국"
   ]
  },
  {
   "cell_type": "code",
   "execution_count": 197,
   "metadata": {},
   "outputs": [],
   "source": [
    "pre_pop = pd.read_csv('./data/시도_인구수_월별.csv', encoding = 'cp949').drop(index = 0).reset_index(drop=True)"
   ]
  },
  {
   "cell_type": "code",
   "execution_count": 198,
   "metadata": {},
   "outputs": [
    {
     "data": {
      "text/html": [
       "<div>\n",
       "<style scoped>\n",
       "    .dataframe tbody tr th:only-of-type {\n",
       "        vertical-align: middle;\n",
       "    }\n",
       "\n",
       "    .dataframe tbody tr th {\n",
       "        vertical-align: top;\n",
       "    }\n",
       "\n",
       "    .dataframe thead th {\n",
       "        text-align: right;\n",
       "    }\n",
       "</style>\n",
       "<table border=\"1\" class=\"dataframe\">\n",
       "  <thead>\n",
       "    <tr style=\"text-align: right;\">\n",
       "      <th></th>\n",
       "      <th>시점</th>\n",
       "      <th>서울특별시</th>\n",
       "      <th>부산광역시</th>\n",
       "      <th>대구광역시</th>\n",
       "      <th>인천광역시</th>\n",
       "      <th>광주광역시</th>\n",
       "      <th>대전광역시</th>\n",
       "      <th>울산광역시</th>\n",
       "      <th>세종특별자치시</th>\n",
       "      <th>경기도</th>\n",
       "      <th>강원특별자치도</th>\n",
       "      <th>충청북도</th>\n",
       "      <th>충청남도</th>\n",
       "      <th>전라북도</th>\n",
       "      <th>전라남도</th>\n",
       "      <th>경상북도</th>\n",
       "      <th>경상남도</th>\n",
       "      <th>제주특별자치도</th>\n",
       "    </tr>\n",
       "  </thead>\n",
       "  <tbody>\n",
       "    <tr>\n",
       "      <th>0</th>\n",
       "      <td>2011.01</td>\n",
       "      <td>10312835</td>\n",
       "      <td>3566560</td>\n",
       "      <td>2512071</td>\n",
       "      <td>2761122</td>\n",
       "      <td>1456308</td>\n",
       "      <td>1504617</td>\n",
       "      <td>1127337</td>\n",
       "      <td>NaN</td>\n",
       "      <td>11801232</td>\n",
       "      <td>1528790</td>\n",
       "      <td>1550474</td>\n",
       "      <td>2076239</td>\n",
       "      <td>1868745</td>\n",
       "      <td>1916912</td>\n",
       "      <td>2688586</td>\n",
       "      <td>3291435</td>\n",
       "      <td>571468</td>\n",
       "    </tr>\n",
       "    <tr>\n",
       "      <th>1</th>\n",
       "      <td>2011.02</td>\n",
       "      <td>10314245</td>\n",
       "      <td>3566480</td>\n",
       "      <td>2512321</td>\n",
       "      <td>2765025</td>\n",
       "      <td>1458195</td>\n",
       "      <td>1506136</td>\n",
       "      <td>1127647</td>\n",
       "      <td>NaN</td>\n",
       "      <td>11815120</td>\n",
       "      <td>1527843</td>\n",
       "      <td>1551621</td>\n",
       "      <td>2077703</td>\n",
       "      <td>1868363</td>\n",
       "      <td>1914191</td>\n",
       "      <td>2687178</td>\n",
       "      <td>3291281</td>\n",
       "      <td>571913</td>\n",
       "    </tr>\n",
       "    <tr>\n",
       "      <th>2</th>\n",
       "      <td>2011.03</td>\n",
       "      <td>10307783</td>\n",
       "      <td>3564873</td>\n",
       "      <td>2511231</td>\n",
       "      <td>2768648</td>\n",
       "      <td>1458326</td>\n",
       "      <td>1506995</td>\n",
       "      <td>1128324</td>\n",
       "      <td>NaN</td>\n",
       "      <td>11829316</td>\n",
       "      <td>1529915</td>\n",
       "      <td>1552707</td>\n",
       "      <td>2081390</td>\n",
       "      <td>1868476</td>\n",
       "      <td>1914176</td>\n",
       "      <td>2687521</td>\n",
       "      <td>3293002</td>\n",
       "      <td>572447</td>\n",
       "    </tr>\n",
       "    <tr>\n",
       "      <th>3</th>\n",
       "      <td>2011.04</td>\n",
       "      <td>10301829</td>\n",
       "      <td>3563042</td>\n",
       "      <td>2510773</td>\n",
       "      <td>2772131</td>\n",
       "      <td>1458814</td>\n",
       "      <td>1507751</td>\n",
       "      <td>1129038</td>\n",
       "      <td>NaN</td>\n",
       "      <td>11841400</td>\n",
       "      <td>1531721</td>\n",
       "      <td>1554195</td>\n",
       "      <td>2083893</td>\n",
       "      <td>1868846</td>\n",
       "      <td>1913918</td>\n",
       "      <td>2688469</td>\n",
       "      <td>3295686</td>\n",
       "      <td>572918</td>\n",
       "    </tr>\n",
       "    <tr>\n",
       "      <th>4</th>\n",
       "      <td>2011.05</td>\n",
       "      <td>10295643</td>\n",
       "      <td>3562985</td>\n",
       "      <td>2510644</td>\n",
       "      <td>2775394</td>\n",
       "      <td>1459615</td>\n",
       "      <td>1509032</td>\n",
       "      <td>1129612</td>\n",
       "      <td>NaN</td>\n",
       "      <td>11854092</td>\n",
       "      <td>1531996</td>\n",
       "      <td>1555169</td>\n",
       "      <td>2086490</td>\n",
       "      <td>1869418</td>\n",
       "      <td>1913641</td>\n",
       "      <td>2689130</td>\n",
       "      <td>3296893</td>\n",
       "      <td>573459</td>\n",
       "    </tr>\n",
       "    <tr>\n",
       "      <th>...</th>\n",
       "      <td>...</td>\n",
       "      <td>...</td>\n",
       "      <td>...</td>\n",
       "      <td>...</td>\n",
       "      <td>...</td>\n",
       "      <td>...</td>\n",
       "      <td>...</td>\n",
       "      <td>...</td>\n",
       "      <td>...</td>\n",
       "      <td>...</td>\n",
       "      <td>...</td>\n",
       "      <td>...</td>\n",
       "      <td>...</td>\n",
       "      <td>...</td>\n",
       "      <td>...</td>\n",
       "      <td>...</td>\n",
       "      <td>...</td>\n",
       "      <td>...</td>\n",
       "    </tr>\n",
       "    <tr>\n",
       "      <th>146</th>\n",
       "      <td>2023.03</td>\n",
       "      <td>9426404</td>\n",
       "      <td>3313539</td>\n",
       "      <td>2358988</td>\n",
       "      <td>2974481</td>\n",
       "      <td>1427508</td>\n",
       "      <td>1445519</td>\n",
       "      <td>1107746</td>\n",
       "      <td>385609</td>\n",
       "      <td>13603546</td>\n",
       "      <td>1533719</td>\n",
       "      <td>1594056</td>\n",
       "      <td>2124650</td>\n",
       "      <td>1765175</td>\n",
       "      <td>1813872</td>\n",
       "      <td>2593210</td>\n",
       "      <td>3269228</td>\n",
       "      <td>677031</td>\n",
       "    </tr>\n",
       "    <tr>\n",
       "      <th>147</th>\n",
       "      <td>2023.04</td>\n",
       "      <td>9422710</td>\n",
       "      <td>3311402</td>\n",
       "      <td>2357881</td>\n",
       "      <td>2976338</td>\n",
       "      <td>1426625</td>\n",
       "      <td>1445214</td>\n",
       "      <td>1107134</td>\n",
       "      <td>385825</td>\n",
       "      <td>13607919</td>\n",
       "      <td>1533356</td>\n",
       "      <td>1594109</td>\n",
       "      <td>2125333</td>\n",
       "      <td>1764181</td>\n",
       "      <td>1813439</td>\n",
       "      <td>2592205</td>\n",
       "      <td>3267369</td>\n",
       "      <td>677115</td>\n",
       "    </tr>\n",
       "    <tr>\n",
       "      <th>148</th>\n",
       "      <td>2023.05</td>\n",
       "      <td>9418885</td>\n",
       "      <td>3309261</td>\n",
       "      <td>2357032</td>\n",
       "      <td>2978089</td>\n",
       "      <td>1425739</td>\n",
       "      <td>1445221</td>\n",
       "      <td>1106446</td>\n",
       "      <td>386050</td>\n",
       "      <td>13612597</td>\n",
       "      <td>1533081</td>\n",
       "      <td>1594007</td>\n",
       "      <td>2125833</td>\n",
       "      <td>1763004</td>\n",
       "      <td>1812475</td>\n",
       "      <td>2590726</td>\n",
       "      <td>3265018</td>\n",
       "      <td>677057</td>\n",
       "    </tr>\n",
       "    <tr>\n",
       "      <th>149</th>\n",
       "      <td>2023.06</td>\n",
       "      <td>9414093</td>\n",
       "      <td>3306993</td>\n",
       "      <td>2356416</td>\n",
       "      <td>2978749</td>\n",
       "      <td>1424818</td>\n",
       "      <td>1445126</td>\n",
       "      <td>1106015</td>\n",
       "      <td>386126</td>\n",
       "      <td>13618969</td>\n",
       "      <td>1532617</td>\n",
       "      <td>1593931</td>\n",
       "      <td>2126374</td>\n",
       "      <td>1762021</td>\n",
       "      <td>1811554</td>\n",
       "      <td>2588860</td>\n",
       "      <td>3263251</td>\n",
       "      <td>676832</td>\n",
       "    </tr>\n",
       "    <tr>\n",
       "      <th>150</th>\n",
       "      <td>2023.07</td>\n",
       "      <td>9411260</td>\n",
       "      <td>3305052</td>\n",
       "      <td>2379086</td>\n",
       "      <td>2981553</td>\n",
       "      <td>1424305</td>\n",
       "      <td>1444898</td>\n",
       "      <td>1105326</td>\n",
       "      <td>386192</td>\n",
       "      <td>13623055</td>\n",
       "      <td>1532050</td>\n",
       "      <td>1594240</td>\n",
       "      <td>2126640</td>\n",
       "      <td>1761169</td>\n",
       "      <td>1810071</td>\n",
       "      <td>2564065</td>\n",
       "      <td>3261361</td>\n",
       "      <td>676810</td>\n",
       "    </tr>\n",
       "  </tbody>\n",
       "</table>\n",
       "<p>151 rows × 18 columns</p>\n",
       "</div>"
      ],
      "text/plain": [
       "          시점     서울특별시    부산광역시    대구광역시    인천광역시    광주광역시    대전광역시    울산광역시  \\\n",
       "0    2011.01  10312835  3566560  2512071  2761122  1456308  1504617  1127337   \n",
       "1    2011.02  10314245  3566480  2512321  2765025  1458195  1506136  1127647   \n",
       "2    2011.03  10307783  3564873  2511231  2768648  1458326  1506995  1128324   \n",
       "3    2011.04  10301829  3563042  2510773  2772131  1458814  1507751  1129038   \n",
       "4    2011.05  10295643  3562985  2510644  2775394  1459615  1509032  1129612   \n",
       "..       ...       ...      ...      ...      ...      ...      ...      ...   \n",
       "146  2023.03   9426404  3313539  2358988  2974481  1427508  1445519  1107746   \n",
       "147  2023.04   9422710  3311402  2357881  2976338  1426625  1445214  1107134   \n",
       "148  2023.05   9418885  3309261  2357032  2978089  1425739  1445221  1106446   \n",
       "149  2023.06   9414093  3306993  2356416  2978749  1424818  1445126  1106015   \n",
       "150  2023.07   9411260  3305052  2379086  2981553  1424305  1444898  1105326   \n",
       "\n",
       "    세종특별자치시       경기도  강원특별자치도     충청북도     충청남도     전라북도     전라남도     경상북도  \\\n",
       "0       NaN  11801232  1528790  1550474  2076239  1868745  1916912  2688586   \n",
       "1       NaN  11815120  1527843  1551621  2077703  1868363  1914191  2687178   \n",
       "2       NaN  11829316  1529915  1552707  2081390  1868476  1914176  2687521   \n",
       "3       NaN  11841400  1531721  1554195  2083893  1868846  1913918  2688469   \n",
       "4       NaN  11854092  1531996  1555169  2086490  1869418  1913641  2689130   \n",
       "..      ...       ...      ...      ...      ...      ...      ...      ...   \n",
       "146  385609  13603546  1533719  1594056  2124650  1765175  1813872  2593210   \n",
       "147  385825  13607919  1533356  1594109  2125333  1764181  1813439  2592205   \n",
       "148  386050  13612597  1533081  1594007  2125833  1763004  1812475  2590726   \n",
       "149  386126  13618969  1532617  1593931  2126374  1762021  1811554  2588860   \n",
       "150  386192  13623055  1532050  1594240  2126640  1761169  1810071  2564065   \n",
       "\n",
       "        경상남도 제주특별자치도  \n",
       "0    3291435  571468  \n",
       "1    3291281  571913  \n",
       "2    3293002  572447  \n",
       "3    3295686  572918  \n",
       "4    3296893  573459  \n",
       "..       ...     ...  \n",
       "146  3269228  677031  \n",
       "147  3267369  677115  \n",
       "148  3265018  677057  \n",
       "149  3263251  676832  \n",
       "150  3261361  676810  \n",
       "\n",
       "[151 rows x 18 columns]"
      ]
     },
     "execution_count": 198,
     "metadata": {},
     "output_type": "execute_result"
    }
   ],
   "source": [
    "pre_pop"
   ]
  },
  {
   "cell_type": "code",
   "execution_count": 229,
   "metadata": {},
   "outputs": [],
   "source": [
    "list_pop = pre_pop.columns"
   ]
  },
  {
   "cell_type": "code",
   "execution_count": 230,
   "metadata": {},
   "outputs": [
    {
     "data": {
      "text/plain": [
       "Index(['시점', '서울특별시', '부산광역시', '대구광역시', '인천광역시', '광주광역시', '대전광역시', '울산광역시',\n",
       "       '세종특별자치시', '경기도', '강원특별자치도', '충청북도', '충청남도', '전라북도', '전라남도', '경상북도',\n",
       "       '경상남도', '제주특별자치도'],\n",
       "      dtype='object')"
      ]
     },
     "execution_count": 230,
     "metadata": {},
     "output_type": "execute_result"
    }
   ],
   "source": [
    "list_pop"
   ]
  },
  {
   "cell_type": "code",
   "execution_count": 231,
   "metadata": {},
   "outputs": [],
   "source": [
    "pop_predict = pre_pop[[list_pop[0],list_pop[1]]]"
   ]
  },
  {
   "cell_type": "code",
   "execution_count": 232,
   "metadata": {},
   "outputs": [
    {
     "name": "stderr",
     "output_type": "stream",
     "text": [
      "C:\\Users\\jjun\\AppData\\Local\\Temp\\ipykernel_21708\\2644076931.py:1: SettingWithCopyWarning:\n",
      "\n",
      "\n",
      "A value is trying to be set on a copy of a slice from a DataFrame.\n",
      "Try using .loc[row_indexer,col_indexer] = value instead\n",
      "\n",
      "See the caveats in the documentation: https://pandas.pydata.org/pandas-docs/stable/user_guide/indexing.html#returning-a-view-versus-a-copy\n",
      "\n"
     ]
    }
   ],
   "source": [
    "pop_predict['지역'] = '서울특별시'"
   ]
  },
  {
   "cell_type": "code",
   "execution_count": 233,
   "metadata": {},
   "outputs": [
    {
     "data": {
      "text/plain": [
       "array(['서울특별시'], dtype=object)"
      ]
     },
     "execution_count": 233,
     "metadata": {},
     "output_type": "execute_result"
    }
   ],
   "source": [
    "pop_predict['지역'].unique()"
   ]
  },
  {
   "cell_type": "code",
   "execution_count": 234,
   "metadata": {},
   "outputs": [],
   "source": [
    "for i in range(2, len(list_pop)):\n",
    "    q = pre_pop[[list_pop[0],list_pop[i]]].rename(columns = {list_pop[i]:'서울특별시'})\n",
    "    q['지역'] = list_pop[i]\n",
    "    pop_predict = pd.concat([pop_predict, q])"
   ]
  },
  {
   "cell_type": "code",
   "execution_count": 235,
   "metadata": {},
   "outputs": [],
   "source": [
    "pop_predict = pop_predict.rename(columns = {'서울특별시':'인구'}).reset_index(drop=True)"
   ]
  },
  {
   "cell_type": "code",
   "execution_count": 236,
   "metadata": {},
   "outputs": [],
   "source": [
    "pop_predict['인구'] = pop_predict['인구'].apply(lambda x: float(x))"
   ]
  },
  {
   "cell_type": "code",
   "execution_count": 237,
   "metadata": {},
   "outputs": [],
   "source": [
    "pop_predict = pop_predict.fillna(0)"
   ]
  },
  {
   "cell_type": "code",
   "execution_count": 239,
   "metadata": {},
   "outputs": [],
   "source": [
    "pop_predict['연도'] = pd.to_datetime(pop_predict['시점'])"
   ]
  },
  {
   "cell_type": "code",
   "execution_count": 365,
   "metadata": {},
   "outputs": [],
   "source": [
    "pop_predict['연도'] = pop_predict.index + 1"
   ]
  },
  {
   "cell_type": "code",
   "execution_count": 241,
   "metadata": {},
   "outputs": [],
   "source": [
    "pop_predict.to_csv('./data/2011_202307.csv', index = False)"
   ]
  },
  {
   "cell_type": "code",
   "execution_count": 390,
   "metadata": {},
   "outputs": [
    {
     "data": {
      "text/html": [
       "<div>\n",
       "<style scoped>\n",
       "    .dataframe tbody tr th:only-of-type {\n",
       "        vertical-align: middle;\n",
       "    }\n",
       "\n",
       "    .dataframe tbody tr th {\n",
       "        vertical-align: top;\n",
       "    }\n",
       "\n",
       "    .dataframe thead th {\n",
       "        text-align: right;\n",
       "    }\n",
       "</style>\n",
       "<table border=\"1\" class=\"dataframe\">\n",
       "  <thead>\n",
       "    <tr style=\"text-align: right;\">\n",
       "      <th></th>\n",
       "      <th>시점</th>\n",
       "      <th>인구</th>\n",
       "      <th>지역</th>\n",
       "      <th>연도</th>\n",
       "    </tr>\n",
       "  </thead>\n",
       "  <tbody>\n",
       "    <tr>\n",
       "      <th>0</th>\n",
       "      <td>2011.01</td>\n",
       "      <td>10312835.0</td>\n",
       "      <td>서울특별시</td>\n",
       "      <td>1</td>\n",
       "    </tr>\n",
       "    <tr>\n",
       "      <th>1</th>\n",
       "      <td>2011.02</td>\n",
       "      <td>10314245.0</td>\n",
       "      <td>서울특별시</td>\n",
       "      <td>2</td>\n",
       "    </tr>\n",
       "    <tr>\n",
       "      <th>2</th>\n",
       "      <td>2011.03</td>\n",
       "      <td>10307783.0</td>\n",
       "      <td>서울특별시</td>\n",
       "      <td>3</td>\n",
       "    </tr>\n",
       "    <tr>\n",
       "      <th>3</th>\n",
       "      <td>2011.04</td>\n",
       "      <td>10301829.0</td>\n",
       "      <td>서울특별시</td>\n",
       "      <td>4</td>\n",
       "    </tr>\n",
       "    <tr>\n",
       "      <th>4</th>\n",
       "      <td>2011.05</td>\n",
       "      <td>10295643.0</td>\n",
       "      <td>서울특별시</td>\n",
       "      <td>5</td>\n",
       "    </tr>\n",
       "    <tr>\n",
       "      <th>...</th>\n",
       "      <td>...</td>\n",
       "      <td>...</td>\n",
       "      <td>...</td>\n",
       "      <td>...</td>\n",
       "    </tr>\n",
       "    <tr>\n",
       "      <th>2562</th>\n",
       "      <td>2023.03</td>\n",
       "      <td>677031.0</td>\n",
       "      <td>제주특별자치도</td>\n",
       "      <td>2563</td>\n",
       "    </tr>\n",
       "    <tr>\n",
       "      <th>2563</th>\n",
       "      <td>2023.04</td>\n",
       "      <td>677115.0</td>\n",
       "      <td>제주특별자치도</td>\n",
       "      <td>2564</td>\n",
       "    </tr>\n",
       "    <tr>\n",
       "      <th>2564</th>\n",
       "      <td>2023.05</td>\n",
       "      <td>677057.0</td>\n",
       "      <td>제주특별자치도</td>\n",
       "      <td>2565</td>\n",
       "    </tr>\n",
       "    <tr>\n",
       "      <th>2565</th>\n",
       "      <td>2023.06</td>\n",
       "      <td>676832.0</td>\n",
       "      <td>제주특별자치도</td>\n",
       "      <td>2566</td>\n",
       "    </tr>\n",
       "    <tr>\n",
       "      <th>2566</th>\n",
       "      <td>2023.07</td>\n",
       "      <td>676810.0</td>\n",
       "      <td>제주특별자치도</td>\n",
       "      <td>2567</td>\n",
       "    </tr>\n",
       "  </tbody>\n",
       "</table>\n",
       "<p>2567 rows × 4 columns</p>\n",
       "</div>"
      ],
      "text/plain": [
       "           시점          인구       지역    연도\n",
       "0     2011.01  10312835.0    서울특별시     1\n",
       "1     2011.02  10314245.0    서울특별시     2\n",
       "2     2011.03  10307783.0    서울특별시     3\n",
       "3     2011.04  10301829.0    서울특별시     4\n",
       "4     2011.05  10295643.0    서울특별시     5\n",
       "...       ...         ...      ...   ...\n",
       "2562  2023.03    677031.0  제주특별자치도  2563\n",
       "2563  2023.04    677115.0  제주특별자치도  2564\n",
       "2564  2023.05    677057.0  제주특별자치도  2565\n",
       "2565  2023.06    676832.0  제주특별자치도  2566\n",
       "2566  2023.07    676810.0  제주특별자치도  2567\n",
       "\n",
       "[2567 rows x 4 columns]"
      ]
     },
     "execution_count": 390,
     "metadata": {},
     "output_type": "execute_result"
    }
   ],
   "source": [
    "pop_predict"
   ]
  },
  {
   "cell_type": "code",
   "execution_count": null,
   "metadata": {},
   "outputs": [],
   "source": [
    "pop_predict"
   ]
  },
  {
   "cell_type": "code",
   "execution_count": 367,
   "metadata": {},
   "outputs": [],
   "source": [
    "from sklearn.linear_model import LinearRegression"
   ]
  },
  {
   "cell_type": "code",
   "execution_count": 371,
   "metadata": {},
   "outputs": [],
   "source": [
    "X = pop_predict[pop_predict['지역'] == '서울특별시']['연도']\n",
    "y = pop_predict[pop_predict['지역'] == '서울특별시']['인구']"
   ]
  },
  {
   "cell_type": "code",
   "execution_count": 372,
   "metadata": {},
   "outputs": [
    {
     "data": {
      "text/plain": [
       "0        1\n",
       "1        2\n",
       "2        3\n",
       "3        4\n",
       "4        5\n",
       "      ... \n",
       "146    147\n",
       "147    148\n",
       "148    149\n",
       "149    150\n",
       "150    151\n",
       "Name: 연도, Length: 151, dtype: int64"
      ]
     },
     "execution_count": 372,
     "metadata": {},
     "output_type": "execute_result"
    }
   ],
   "source": [
    "X"
   ]
  },
  {
   "cell_type": "code",
   "execution_count": 373,
   "metadata": {},
   "outputs": [
    {
     "data": {
      "text/html": [
       "<style>#sk-container-id-9 {color: black;background-color: white;}#sk-container-id-9 pre{padding: 0;}#sk-container-id-9 div.sk-toggleable {background-color: white;}#sk-container-id-9 label.sk-toggleable__label {cursor: pointer;display: block;width: 100%;margin-bottom: 0;padding: 0.3em;box-sizing: border-box;text-align: center;}#sk-container-id-9 label.sk-toggleable__label-arrow:before {content: \"▸\";float: left;margin-right: 0.25em;color: #696969;}#sk-container-id-9 label.sk-toggleable__label-arrow:hover:before {color: black;}#sk-container-id-9 div.sk-estimator:hover label.sk-toggleable__label-arrow:before {color: black;}#sk-container-id-9 div.sk-toggleable__content {max-height: 0;max-width: 0;overflow: hidden;text-align: left;background-color: #f0f8ff;}#sk-container-id-9 div.sk-toggleable__content pre {margin: 0.2em;color: black;border-radius: 0.25em;background-color: #f0f8ff;}#sk-container-id-9 input.sk-toggleable__control:checked~div.sk-toggleable__content {max-height: 200px;max-width: 100%;overflow: auto;}#sk-container-id-9 input.sk-toggleable__control:checked~label.sk-toggleable__label-arrow:before {content: \"▾\";}#sk-container-id-9 div.sk-estimator input.sk-toggleable__control:checked~label.sk-toggleable__label {background-color: #d4ebff;}#sk-container-id-9 div.sk-label input.sk-toggleable__control:checked~label.sk-toggleable__label {background-color: #d4ebff;}#sk-container-id-9 input.sk-hidden--visually {border: 0;clip: rect(1px 1px 1px 1px);clip: rect(1px, 1px, 1px, 1px);height: 1px;margin: -1px;overflow: hidden;padding: 0;position: absolute;width: 1px;}#sk-container-id-9 div.sk-estimator {font-family: monospace;background-color: #f0f8ff;border: 1px dotted black;border-radius: 0.25em;box-sizing: border-box;margin-bottom: 0.5em;}#sk-container-id-9 div.sk-estimator:hover {background-color: #d4ebff;}#sk-container-id-9 div.sk-parallel-item::after {content: \"\";width: 100%;border-bottom: 1px solid gray;flex-grow: 1;}#sk-container-id-9 div.sk-label:hover label.sk-toggleable__label {background-color: #d4ebff;}#sk-container-id-9 div.sk-serial::before {content: \"\";position: absolute;border-left: 1px solid gray;box-sizing: border-box;top: 0;bottom: 0;left: 50%;z-index: 0;}#sk-container-id-9 div.sk-serial {display: flex;flex-direction: column;align-items: center;background-color: white;padding-right: 0.2em;padding-left: 0.2em;position: relative;}#sk-container-id-9 div.sk-item {position: relative;z-index: 1;}#sk-container-id-9 div.sk-parallel {display: flex;align-items: stretch;justify-content: center;background-color: white;position: relative;}#sk-container-id-9 div.sk-item::before, #sk-container-id-9 div.sk-parallel-item::before {content: \"\";position: absolute;border-left: 1px solid gray;box-sizing: border-box;top: 0;bottom: 0;left: 50%;z-index: -1;}#sk-container-id-9 div.sk-parallel-item {display: flex;flex-direction: column;z-index: 1;position: relative;background-color: white;}#sk-container-id-9 div.sk-parallel-item:first-child::after {align-self: flex-end;width: 50%;}#sk-container-id-9 div.sk-parallel-item:last-child::after {align-self: flex-start;width: 50%;}#sk-container-id-9 div.sk-parallel-item:only-child::after {width: 0;}#sk-container-id-9 div.sk-dashed-wrapped {border: 1px dashed gray;margin: 0 0.4em 0.5em 0.4em;box-sizing: border-box;padding-bottom: 0.4em;background-color: white;}#sk-container-id-9 div.sk-label label {font-family: monospace;font-weight: bold;display: inline-block;line-height: 1.2em;}#sk-container-id-9 div.sk-label-container {text-align: center;}#sk-container-id-9 div.sk-container {/* jupyter's `normalize.less` sets `[hidden] { display: none; }` but bootstrap.min.css set `[hidden] { display: none !important; }` so we also need the `!important` here to be able to override the default hidden behavior on the sphinx rendered scikit-learn.org. See: https://github.com/scikit-learn/scikit-learn/issues/21755 */display: inline-block !important;position: relative;}#sk-container-id-9 div.sk-text-repr-fallback {display: none;}</style><div id=\"sk-container-id-9\" class=\"sk-top-container\"><div class=\"sk-text-repr-fallback\"><pre>LinearRegression()</pre><b>In a Jupyter environment, please rerun this cell to show the HTML representation or trust the notebook. <br />On GitHub, the HTML representation is unable to render, please try loading this page with nbviewer.org.</b></div><div class=\"sk-container\" hidden><div class=\"sk-item\"><div class=\"sk-estimator sk-toggleable\"><input class=\"sk-toggleable__control sk-hidden--visually\" id=\"sk-estimator-id-9\" type=\"checkbox\" checked><label for=\"sk-estimator-id-9\" class=\"sk-toggleable__label sk-toggleable__label-arrow\">LinearRegression</label><div class=\"sk-toggleable__content\"><pre>LinearRegression()</pre></div></div></div></div></div>"
      ],
      "text/plain": [
       "LinearRegression()"
      ]
     },
     "execution_count": 373,
     "metadata": {},
     "output_type": "execute_result"
    }
   ],
   "source": [
    "line_fitter = LinearRegression()\n",
    "line_fitter.fit(X.values.reshape(-1,1), y)"
   ]
  },
  {
   "cell_type": "code",
   "execution_count": 374,
   "metadata": {},
   "outputs": [
    {
     "data": {
      "text/plain": [
       "array([-8043946.87092366])"
      ]
     },
     "execution_count": 374,
     "metadata": {},
     "output_type": "execute_result"
    }
   ],
   "source": [
    "line_fitter.predict([[3000]])"
   ]
  },
  {
   "cell_type": "code",
   "execution_count": 375,
   "metadata": {},
   "outputs": [
    {
     "data": {
      "text/plain": [
       "array([-6137.31546532])"
      ]
     },
     "execution_count": 375,
     "metadata": {},
     "output_type": "execute_result"
    }
   ],
   "source": [
    "line_fitter.coef_"
   ]
  },
  {
   "cell_type": "code",
   "execution_count": 376,
   "metadata": {},
   "outputs": [
    {
     "data": {
      "image/png": "[encoded data removed]",
      "text/plain": [
       "<Figure size 640x480 with 1 Axes>"
      ]
     },
     "metadata": {},
     "output_type": "display_data"
    }
   ],
   "source": [
    "plt.plot(X, y, 'o')\n",
    "plt.plot(X,line_fitter.predict(X.values.reshape(-1,1)))\n",
    "plt.show()"
   ]
  },
  {
   "cell_type": "markdown",
   "metadata": {},
   "source": [
    "#### polynomial"
   ]
  },
  {
   "cell_type": "code",
   "execution_count": 377,
   "metadata": {},
   "outputs": [],
   "source": [
    "from sklearn.preprocessing import PolynomialFeatures"
   ]
  },
  {
   "cell_type": "code",
   "execution_count": 378,
   "metadata": {},
   "outputs": [],
   "source": [
    "X = X.values.reshape(-1,1)"
   ]
  },
  {
   "cell_type": "code",
   "execution_count": 379,
   "metadata": {},
   "outputs": [],
   "source": [
    "poly_features = PolynomialFeatures(degree=2, include_bias=False)\n",
    "X_poly = poly_features.fit_transform(X)"
   ]
  },
  {
   "cell_type": "code",
   "execution_count": 380,
   "metadata": {},
   "outputs": [
    {
     "data": {
      "text/plain": [
       "(10312775.423170807, array([-3971.6644119,   -14.2477043]))"
      ]
     },
     "execution_count": 380,
     "metadata": {},
     "output_type": "execute_result"
    }
   ],
   "source": [
    "from sklearn.linear_model import LinearRegression\n",
    "\n",
    "lin_reg = LinearRegression()\n",
    "lin_reg.fit(X_poly, y)\n",
    "lin_reg.intercept_ , lin_reg.coef_"
   ]
  },
  {
   "cell_type": "code",
   "execution_count": 387,
   "metadata": {},
   "outputs": [
    {
     "data": {
      "image/png": "[encoded data removed]",
      "text/plain": [
       "<Figure size 640x480 with 1 Axes>"
      ]
     },
     "metadata": {},
     "output_type": "display_data"
    }
   ],
   "source": [
    "X_new=np.linspace(0, 150, 150).reshape(150, 1)\n",
    "X_new_poly = poly_features.transform(X_new)\n",
    "y_new = lin_reg.predict(X_new_poly)\n",
    "plt.plot(X, y, \"b.\")\n",
    "plt.plot(X_new, y_new, \"r-\", linewidth=2, label=\"Predictions\")\n",
    "plt.xlabel(\"2011년 1월부터 개월수\", fontsize=10)\n",
    "plt.ylabel(\"인구수\", rotation=0, fontsize=10)\n",
    "plt.legend(loc=\"upper left\", fontsize=14)\n",
    "# plt.axis([-3, 3, 0, 10])\n",
    "plt.show()"
   ]
  },
  {
   "cell_type": "code",
   "execution_count": null,
   "metadata": {},
   "outputs": [],
   "source": []
  }
 ],
 "metadata": {
  "kernelspec": {
   "display_name": "base",
   "language": "python",
   "name": "python3"
  },
  "language_info": {
   "codemirror_mode": {
    "name": "ipython",
    "version": 3
   },
   "file_extension": ".py",
   "mimetype": "text/x-python",
   "name": "python",
   "nbconvert_exporter": "python",
   "pygments_lexer": "ipython3",
   "version": "3.10.9"
  },
  "orig_nbformat": 4
 },
 "nbformat": 4,
 "nbformat_minor": 2
}
